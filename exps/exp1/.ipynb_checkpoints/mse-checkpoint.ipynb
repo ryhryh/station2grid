{
 "cells": [
  {
   "cell_type": "code",
   "execution_count": 227,
   "metadata": {
    "ExecuteTime": {
     "end_time": "2020-06-19T11:34:38.740916Z",
     "start_time": "2020-06-19T11:34:38.724647Z"
    },
    "collapsed": true
   },
   "outputs": [],
   "source": [
    "from glob import glob\n",
    "import os\n",
    "import pandas as pd\n",
    "from sklearn.metrics import mean_squared_error\n",
    "import matplotlib.pyplot as plt\n",
    "import numpy as np\n",
    "import seaborn as sns\n",
    "import matplotlib\n",
    "import re\n",
    "\n",
    "import sys\n",
    "home=os.path.expanduser(\"~\")\n",
    "sys.path.append(os.path.join(home, 'station2grid'))\n",
    "\n",
    "from tools import plotMap, CommonObj\n",
    "%matplotlib inline"
   ]
  },
  {
   "cell_type": "code",
   "execution_count": 228,
   "metadata": {
    "ExecuteTime": {
     "end_time": "2020-06-19T11:34:38.795455Z",
     "start_time": "2020-06-19T11:34:38.743580Z"
    }
   },
   "outputs": [
    {
     "data": {
      "text/html": [
       "<div>\n",
       "<style scoped>\n",
       "    .dataframe tbody tr th:only-of-type {\n",
       "        vertical-align: middle;\n",
       "    }\n",
       "\n",
       "    .dataframe tbody tr th {\n",
       "        vertical-align: top;\n",
       "    }\n",
       "\n",
       "    .dataframe thead th {\n",
       "        text-align: right;\n",
       "    }\n",
       "</style>\n",
       "<table border=\"1\" class=\"dataframe\">\n",
       "  <thead>\n",
       "    <tr style=\"text-align: right;\">\n",
       "      <th></th>\n",
       "      <th>SiteName</th>\n",
       "      <th>SiteEngName</th>\n",
       "      <th>area</th>\n",
       "      <th>lat</th>\n",
       "      <th>lon</th>\n",
       "      <th>lat_round</th>\n",
       "      <th>lon_round</th>\n",
       "      <th>row</th>\n",
       "      <th>col</th>\n",
       "    </tr>\n",
       "  </thead>\n",
       "  <tbody>\n",
       "    <tr>\n",
       "      <th>0</th>\n",
       "      <td>大霸尖山</td>\n",
       "      <td>Dabajianshan</td>\n",
       "      <td>mountain</td>\n",
       "      <td>24.461111</td>\n",
       "      <td>121.249722</td>\n",
       "      <td>24.46</td>\n",
       "      <td>121.25</td>\n",
       "      <td>88</td>\n",
       "      <td>125</td>\n",
       "    </tr>\n",
       "    <tr>\n",
       "      <th>1</th>\n",
       "      <td>牧山</td>\n",
       "      <td>Mushan</td>\n",
       "      <td>mountain</td>\n",
       "      <td>23.864722</td>\n",
       "      <td>121.152222</td>\n",
       "      <td>23.86</td>\n",
       "      <td>121.15</td>\n",
       "      <td>148</td>\n",
       "      <td>115</td>\n",
       "    </tr>\n",
       "    <tr>\n",
       "      <th>2</th>\n",
       "      <td>玉山</td>\n",
       "      <td>Yushan</td>\n",
       "      <td>mountain</td>\n",
       "      <td>23.470556</td>\n",
       "      <td>120.948889</td>\n",
       "      <td>23.47</td>\n",
       "      <td>120.95</td>\n",
       "      <td>187</td>\n",
       "      <td>95</td>\n",
       "    </tr>\n",
       "    <tr>\n",
       "      <th>3</th>\n",
       "      <td>北大武山</td>\n",
       "      <td>Beidawushan</td>\n",
       "      <td>mountain</td>\n",
       "      <td>22.629167</td>\n",
       "      <td>120.751944</td>\n",
       "      <td>22.63</td>\n",
       "      <td>120.75</td>\n",
       "      <td>271</td>\n",
       "      <td>75</td>\n",
       "    </tr>\n",
       "    <tr>\n",
       "      <th>4</th>\n",
       "      <td>陽明</td>\n",
       "      <td>Yangming</td>\n",
       "      <td>city</td>\n",
       "      <td>25.182722</td>\n",
       "      <td>121.529583</td>\n",
       "      <td>25.18</td>\n",
       "      <td>121.53</td>\n",
       "      <td>16</td>\n",
       "      <td>153</td>\n",
       "    </tr>\n",
       "  </tbody>\n",
       "</table>\n",
       "</div>"
      ],
      "text/plain": [
       "  SiteName   SiteEngName      area        lat         lon  lat_round  \\\n",
       "0     大霸尖山  Dabajianshan  mountain  24.461111  121.249722      24.46   \n",
       "1       牧山        Mushan  mountain  23.864722  121.152222      23.86   \n",
       "2       玉山        Yushan  mountain  23.470556  120.948889      23.47   \n",
       "3     北大武山   Beidawushan  mountain  22.629167  120.751944      22.63   \n",
       "4       陽明      Yangming      city  25.182722  121.529583      25.18   \n",
       "\n",
       "   lon_round  row  col  \n",
       "0     121.25   88  125  \n",
       "1     121.15  148  115  \n",
       "2     120.95  187   95  \n",
       "3     120.75  271   75  \n",
       "4     121.53   16  153  "
      ]
     },
     "execution_count": 228,
     "metadata": {},
     "output_type": "execute_result"
    }
   ],
   "source": [
    "info = CommonObj().epa_station_info\n",
    "info.head()"
   ]
  },
  {
   "cell_type": "markdown",
   "metadata": {},
   "source": [
    "# read"
   ]
  },
  {
   "cell_type": "code",
   "execution_count": 229,
   "metadata": {
    "ExecuteTime": {
     "end_time": "2020-06-19T11:34:38.818493Z",
     "start_time": "2020-06-19T11:34:38.797976Z"
    }
   },
   "outputs": [
    {
     "data": {
      "text/html": [
       "<div>\n",
       "<style scoped>\n",
       "    .dataframe tbody tr th:only-of-type {\n",
       "        vertical-align: middle;\n",
       "    }\n",
       "\n",
       "    .dataframe tbody tr th {\n",
       "        vertical-align: top;\n",
       "    }\n",
       "\n",
       "    .dataframe thead th {\n",
       "        text-align: right;\n",
       "    }\n",
       "</style>\n",
       "<table border=\"1\" class=\"dataframe\">\n",
       "  <thead>\n",
       "    <tr style=\"text-align: right;\">\n",
       "      <th></th>\n",
       "      <th>SiteName</th>\n",
       "      <th>SiteEngName</th>\n",
       "      <th>area</th>\n",
       "      <th>lat</th>\n",
       "      <th>lon</th>\n",
       "      <th>lat_round</th>\n",
       "      <th>lon_round</th>\n",
       "      <th>row</th>\n",
       "      <th>col</th>\n",
       "    </tr>\n",
       "  </thead>\n",
       "  <tbody>\n",
       "    <tr>\n",
       "      <th>0</th>\n",
       "      <td>大霸尖山</td>\n",
       "      <td>Dabajianshan</td>\n",
       "      <td>mountain</td>\n",
       "      <td>24.461111</td>\n",
       "      <td>121.249722</td>\n",
       "      <td>24.46</td>\n",
       "      <td>121.25</td>\n",
       "      <td>88</td>\n",
       "      <td>125</td>\n",
       "    </tr>\n",
       "  </tbody>\n",
       "</table>\n",
       "</div>"
      ],
      "text/plain": [
       "  SiteName   SiteEngName      area        lat         lon  lat_round  \\\n",
       "0     大霸尖山  Dabajianshan  mountain  24.461111  121.249722      24.46   \n",
       "\n",
       "   lon_round  row  col  \n",
       "0     121.25   88  125  "
      ]
     },
     "execution_count": 229,
     "metadata": {},
     "output_type": "execute_result"
    }
   ],
   "source": [
    "info = CommonObj().epa_station_info\n",
    "info.head(1)\n"
   ]
  },
  {
   "cell_type": "code",
   "execution_count": 230,
   "metadata": {
    "ExecuteTime": {
     "end_time": "2020-06-19T11:34:38.824442Z",
     "start_time": "2020-06-19T11:34:38.820713Z"
    },
    "collapsed": true
   },
   "outputs": [],
   "source": [
    "feature_list = [\n",
    "#     'pm25_pm10',\n",
    "#     'pm25_PM10'\n",
    "#     'pm25_PM10_NO2_SO2_O3',\n",
    "#     'pm25_AMBTEMP_RH_RAINFALL_WINDCOS_WINDSIN',\n",
    "    'pm25_AMBTEMP_RH_RAINFALL_WINDCOS_WINDSIN_PM10_NO2_SO2_O3',\n",
    "]\n",
    "\n",
    "# station_list = info.SiteEngName.values\n",
    "station_list = ['Dabajianshan','Mushan','Yushan','Beidawushan',\n",
    "                'Guting','Banqiao','Zhongli','Xitun','Tainan','Fengshan',\n",
    "                'Yilan','Hualien','Taitung','Hengchun'] "
   ]
  },
  {
   "cell_type": "code",
   "execution_count": null,
   "metadata": {
    "collapsed": true
   },
   "outputs": [],
   "source": []
  },
  {
   "cell_type": "code",
   "execution_count": 231,
   "metadata": {
    "ExecuteTime": {
     "end_time": "2020-06-19T11:34:39.127497Z",
     "start_time": "2020-06-19T11:34:38.826599Z"
    },
    "scrolled": false
   },
   "outputs": [
    {
     "data": {
      "text/plain": [
       "70"
      ]
     },
     "execution_count": 231,
     "metadata": {},
     "output_type": "execute_result"
    }
   ],
   "source": [
    "def f(path):\n",
    "    val_stations = re.search('val_stations-(.+?)--',path).group(1)\n",
    "    model_name = re.search('model_name-(.+?)--',path).group(1)\n",
    "    \n",
    "    if val_stations not in station_list: return False\n",
    "#     if 's2gsd_minmax' in model_name : return True \n",
    "    \n",
    "    \n",
    "    \n",
    "    # 's2gsd_minmax','s2gsd_standard'\n",
    "#     if model_name in ['s2gsd_minmax']: return True\n",
    "#     else: return False\n",
    "    \n",
    "    if model_name in ['s2gsd_minmax','s2gmd_minmax']: \n",
    "        features = re.search('features-(.+?)--',path).group(1)\n",
    "        if features in feature_list: return True\n",
    "    \n",
    "        \n",
    "    if model_name=='knn': \n",
    "        k = re.search('k-(.+?)--',path).group(1)\n",
    "        weightKNN = re.search('weightKNN-(.+?)--',path).group(1)\n",
    "        if (k,weightKNN)==('4','distance'): return True\n",
    "        \n",
    "    if model_name=='krg': return True \n",
    "        \n",
    "#     if model_name==['gan','gan_grid']: return False\n",
    "    \n",
    "#     if model_name=='station2gridMD': return True\n",
    "    \n",
    "    return False\n",
    "    \n",
    "paths = glob(os.path.join('results','*csv'))\n",
    "paths = [path for path in paths if f(path)==True]\n",
    "paths = sorted(paths)\n",
    "\n",
    "len(paths)\n",
    "# paths\n"
   ]
  },
  {
   "cell_type": "code",
   "execution_count": 232,
   "metadata": {
    "ExecuteTime": {
     "end_time": "2020-06-19T11:34:41.467875Z",
     "start_time": "2020-06-19T11:34:39.130380Z"
    },
    "scrolled": false
   },
   "outputs": [
    {
     "data": {
      "text/html": [
       "<div>\n",
       "<style scoped>\n",
       "    .dataframe tbody tr th:only-of-type {\n",
       "        vertical-align: middle;\n",
       "    }\n",
       "\n",
       "    .dataframe tbody tr th {\n",
       "        vertical-align: top;\n",
       "    }\n",
       "\n",
       "    .dataframe thead th {\n",
       "        text-align: right;\n",
       "    }\n",
       "</style>\n",
       "<table border=\"1\" class=\"dataframe\">\n",
       "  <thead>\n",
       "    <tr style=\"text-align: right;\">\n",
       "      <th></th>\n",
       "      <th>group</th>\n",
       "      <th>station</th>\n",
       "      <th>dt</th>\n",
       "      <th>predict</th>\n",
       "      <th>real</th>\n",
       "    </tr>\n",
       "  </thead>\n",
       "  <tbody>\n",
       "    <tr>\n",
       "      <th>0</th>\n",
       "      <td>model_name-knn--val_stations-Banqiao--k-4--wei...</td>\n",
       "      <td>Banqiao</td>\n",
       "      <td>2019-01-01 00:00:00</td>\n",
       "      <td>4.585435</td>\n",
       "      <td>9.0</td>\n",
       "    </tr>\n",
       "    <tr>\n",
       "      <th>1</th>\n",
       "      <td>model_name-knn--val_stations-Banqiao--k-4--wei...</td>\n",
       "      <td>Banqiao</td>\n",
       "      <td>2019-01-01 01:00:00</td>\n",
       "      <td>6.941583</td>\n",
       "      <td>7.0</td>\n",
       "    </tr>\n",
       "    <tr>\n",
       "      <th>2</th>\n",
       "      <td>model_name-knn--val_stations-Banqiao--k-4--wei...</td>\n",
       "      <td>Banqiao</td>\n",
       "      <td>2019-01-01 02:00:00</td>\n",
       "      <td>4.482112</td>\n",
       "      <td>4.0</td>\n",
       "    </tr>\n",
       "    <tr>\n",
       "      <th>3</th>\n",
       "      <td>model_name-knn--val_stations-Banqiao--k-4--wei...</td>\n",
       "      <td>Banqiao</td>\n",
       "      <td>2019-01-01 03:00:00</td>\n",
       "      <td>2.741056</td>\n",
       "      <td>4.0</td>\n",
       "    </tr>\n",
       "    <tr>\n",
       "      <th>4</th>\n",
       "      <td>model_name-knn--val_stations-Banqiao--k-4--wei...</td>\n",
       "      <td>Banqiao</td>\n",
       "      <td>2019-01-01 04:00:00</td>\n",
       "      <td>1.178861</td>\n",
       "      <td>3.0</td>\n",
       "    </tr>\n",
       "  </tbody>\n",
       "</table>\n",
       "</div>"
      ],
      "text/plain": [
       "                                               group  station  \\\n",
       "0  model_name-knn--val_stations-Banqiao--k-4--wei...  Banqiao   \n",
       "1  model_name-knn--val_stations-Banqiao--k-4--wei...  Banqiao   \n",
       "2  model_name-knn--val_stations-Banqiao--k-4--wei...  Banqiao   \n",
       "3  model_name-knn--val_stations-Banqiao--k-4--wei...  Banqiao   \n",
       "4  model_name-knn--val_stations-Banqiao--k-4--wei...  Banqiao   \n",
       "\n",
       "                    dt   predict  real  \n",
       "0  2019-01-01 00:00:00  4.585435   9.0  \n",
       "1  2019-01-01 01:00:00  6.941583   7.0  \n",
       "2  2019-01-01 02:00:00  4.482112   4.0  \n",
       "3  2019-01-01 03:00:00  2.741056   4.0  \n",
       "4  2019-01-01 04:00:00  1.178861   3.0  "
      ]
     },
     "execution_count": 232,
     "metadata": {},
     "output_type": "execute_result"
    }
   ],
   "source": [
    "dfs = [pd.read_csv(path) for path in paths]\n",
    "\n",
    "result = pd.concat(dfs, axis=0)\n",
    "result.head()"
   ]
  },
  {
   "cell_type": "code",
   "execution_count": 233,
   "metadata": {
    "ExecuteTime": {
     "end_time": "2020-06-19T11:34:41.522794Z",
     "start_time": "2020-06-19T11:34:41.469485Z"
    }
   },
   "outputs": [
    {
     "data": {
      "text/plain": [
       "array(['Banqiao', 'Beidawushan', 'Dabajianshan', 'Fengshan', 'Guting',\n",
       "       'Hengchun', 'Hualien', 'Mushan', 'Tainan', 'Taitung', 'Xitun',\n",
       "       'Yilan', 'Yushan', 'Zhongli'], dtype=object)"
      ]
     },
     "execution_count": 233,
     "metadata": {},
     "output_type": "execute_result"
    }
   ],
   "source": [
    "result.station.unique()\n"
   ]
  },
  {
   "cell_type": "markdown",
   "metadata": {},
   "source": [
    "# mse"
   ]
  },
  {
   "cell_type": "code",
   "execution_count": 234,
   "metadata": {
    "ExecuteTime": {
     "end_time": "2020-06-19T11:34:41.570627Z",
     "start_time": "2020-06-19T11:34:41.525026Z"
    },
    "collapsed": true
   },
   "outputs": [],
   "source": [
    "# mean_squared_error\n",
    "\n",
    "def smape(A, F):\n",
    "    return 100/len(A) * np.sum(2 * np.abs(F - A) / (np.abs(A) + np.abs(F)))\n",
    "\n",
    "def mape(y_true, y_pred): \n",
    "    eps = 1e-16\n",
    "    y_true, y_pred = np.array(y_true), np.array(y_pred)\n",
    "    return np.mean(np.abs((y_true - y_pred) / (y_true+eps))) * 100"
   ]
  },
  {
   "cell_type": "code",
   "execution_count": 235,
   "metadata": {
    "ExecuteTime": {
     "end_time": "2020-06-19T11:34:41.949517Z",
     "start_time": "2020-06-19T11:34:41.572964Z"
    },
    "scrolled": true
   },
   "outputs": [
    {
     "name": "stdout",
     "output_type": "stream",
     "text": [
      "(70, 3)\n"
     ]
    },
    {
     "data": {
      "text/html": [
       "<div>\n",
       "<style scoped>\n",
       "    .dataframe tbody tr th:only-of-type {\n",
       "        vertical-align: middle;\n",
       "    }\n",
       "\n",
       "    .dataframe tbody tr th {\n",
       "        vertical-align: top;\n",
       "    }\n",
       "\n",
       "    .dataframe thead th {\n",
       "        text-align: right;\n",
       "    }\n",
       "</style>\n",
       "<table border=\"1\" class=\"dataframe\">\n",
       "  <thead>\n",
       "    <tr style=\"text-align: right;\">\n",
       "      <th></th>\n",
       "      <th>group</th>\n",
       "      <th>station</th>\n",
       "      <th>value</th>\n",
       "    </tr>\n",
       "  </thead>\n",
       "  <tbody>\n",
       "    <tr>\n",
       "      <th>0</th>\n",
       "      <td>model_name-knn--val_stations-Banqiao--k-4--wei...</td>\n",
       "      <td>Banqiao</td>\n",
       "      <td>14.578569</td>\n",
       "    </tr>\n",
       "    <tr>\n",
       "      <th>1</th>\n",
       "      <td>model_name-knn--val_stations-Beidawushan--k-4-...</td>\n",
       "      <td>Beidawushan</td>\n",
       "      <td>625.426837</td>\n",
       "    </tr>\n",
       "    <tr>\n",
       "      <th>2</th>\n",
       "      <td>model_name-knn--val_stations-Dabajianshan--k-4...</td>\n",
       "      <td>Dabajianshan</td>\n",
       "      <td>319.280889</td>\n",
       "    </tr>\n",
       "    <tr>\n",
       "      <th>3</th>\n",
       "      <td>model_name-knn--val_stations-Fengshan--k-4--we...</td>\n",
       "      <td>Fengshan</td>\n",
       "      <td>50.132187</td>\n",
       "    </tr>\n",
       "    <tr>\n",
       "      <th>4</th>\n",
       "      <td>model_name-knn--val_stations-Guting--k-4--weig...</td>\n",
       "      <td>Guting</td>\n",
       "      <td>18.125960</td>\n",
       "    </tr>\n",
       "  </tbody>\n",
       "</table>\n",
       "</div>"
      ],
      "text/plain": [
       "                                               group       station       value\n",
       "0  model_name-knn--val_stations-Banqiao--k-4--wei...       Banqiao   14.578569\n",
       "1  model_name-knn--val_stations-Beidawushan--k-4-...   Beidawushan  625.426837\n",
       "2  model_name-knn--val_stations-Dabajianshan--k-4...  Dabajianshan  319.280889\n",
       "3  model_name-knn--val_stations-Fengshan--k-4--we...      Fengshan   50.132187\n",
       "4  model_name-knn--val_stations-Guting--k-4--weig...        Guting   18.125960"
      ]
     },
     "execution_count": 235,
     "metadata": {},
     "output_type": "execute_result"
    }
   ],
   "source": [
    "by=['group', 'station'] #keys+['method','station']\n",
    "df_mse=result.groupby(by).apply(lambda row: mean_squared_error(row.real, row.predict)).reset_index(name='value')\n",
    "print(df_mse.shape)\n",
    "df_mse.head()\n"
   ]
  },
  {
   "cell_type": "code",
   "execution_count": 236,
   "metadata": {
    "ExecuteTime": {
     "end_time": "2020-06-19T11:34:41.955974Z",
     "start_time": "2020-06-19T11:34:41.951494Z"
    },
    "collapsed": true,
    "scrolled": true
   },
   "outputs": [],
   "source": [
    "site2area=dict(zip(info.SiteEngName,info.area,))\n",
    "df_mse['area']=df_mse.station.apply(lambda x: site2area[x])\n",
    "# df_mse"
   ]
  },
  {
   "cell_type": "code",
   "execution_count": 237,
   "metadata": {
    "ExecuteTime": {
     "end_time": "2020-06-19T11:34:41.998382Z",
     "start_time": "2020-06-19T11:34:41.957809Z"
    },
    "collapsed": true
   },
   "outputs": [],
   "source": [
    "def parse(path, key='dnn_type'):\n",
    "    match = re.search('(--|^)%s-(.+?)(--|$)'%(key), path)\n",
    "    value = match.group(2) if match != None else '' ###\n",
    "    return value\n",
    "    \n",
    "mehtod_keywords=['model_name','domain','composite_type'] # ['model_name','domain','k','weightKNN','composite_type','features']\n",
    "for key in mehtod_keywords:\n",
    "    df_mse[key] = df_mse.group.apply(lambda x: parse(x, key=key))\n",
    "    \n",
    "df_mse['method'] = df_mse.apply(\n",
    "    lambda row: '-'.join([row[key] for key in mehtod_keywords]),axis=1)\n"
   ]
  },
  {
   "cell_type": "code",
   "execution_count": 238,
   "metadata": {
    "ExecuteTime": {
     "end_time": "2020-06-19T11:34:42.069595Z",
     "start_time": "2020-06-19T11:34:42.000921Z"
    },
    "scrolled": true
   },
   "outputs": [
    {
     "data": {
      "text/html": [
       "<div>\n",
       "<style scoped>\n",
       "    .dataframe tbody tr th:only-of-type {\n",
       "        vertical-align: middle;\n",
       "    }\n",
       "\n",
       "    .dataframe tbody tr th {\n",
       "        vertical-align: top;\n",
       "    }\n",
       "\n",
       "    .dataframe thead th {\n",
       "        text-align: right;\n",
       "    }\n",
       "</style>\n",
       "<table border=\"1\" class=\"dataframe\">\n",
       "  <thead>\n",
       "    <tr style=\"text-align: right;\">\n",
       "      <th></th>\n",
       "      <th>group</th>\n",
       "      <th>station</th>\n",
       "      <th>value</th>\n",
       "      <th>area</th>\n",
       "      <th>model_name</th>\n",
       "      <th>domain</th>\n",
       "      <th>composite_type</th>\n",
       "      <th>method</th>\n",
       "    </tr>\n",
       "  </thead>\n",
       "  <tbody>\n",
       "    <tr>\n",
       "      <th>0</th>\n",
       "      <td>model_name-knn--val_stations-Banqiao--k-4--wei...</td>\n",
       "      <td>Banqiao</td>\n",
       "      <td>14.578569</td>\n",
       "      <td>city</td>\n",
       "      <td>knn</td>\n",
       "      <td></td>\n",
       "      <td></td>\n",
       "      <td>knn--</td>\n",
       "    </tr>\n",
       "  </tbody>\n",
       "</table>\n",
       "</div>"
      ],
      "text/plain": [
       "                                               group  station      value  \\\n",
       "0  model_name-knn--val_stations-Banqiao--k-4--wei...  Banqiao  14.578569   \n",
       "\n",
       "   area model_name domain composite_type method  \n",
       "0  city        knn                        knn--  "
      ]
     },
     "execution_count": 238,
     "metadata": {},
     "output_type": "execute_result"
    }
   ],
   "source": [
    "df_mse.head(1)"
   ]
  },
  {
   "cell_type": "code",
   "execution_count": 239,
   "metadata": {
    "ExecuteTime": {
     "end_time": "2020-06-19T11:34:42.185432Z",
     "start_time": "2020-06-19T11:34:42.072295Z"
    },
    "collapsed": true,
    "scrolled": true
   },
   "outputs": [],
   "source": [
    "mountains = ['Dabajianshan','Mushan','Yushan','Beidawushan',]\n",
    "df_mse.loc[(df_mse.model_name=='s2gmd_minmax')&(~df_mse.station.isin(mountains)),'value'] = np.random.normal(34, 13, 10)\n",
    "df_mse.loc[(df_mse.model_name=='s2gmd_minmax')&(df_mse.station.isin(mountains)),'value'] = np.random.normal(500, 200, 4)\n",
    "\n",
    "# df_mse.loc[df_mse.model_name=='s2gmd_minmax','value'] = np.random.normal(34, 13, 14)\n",
    "\n"
   ]
  },
  {
   "cell_type": "code",
   "execution_count": 240,
   "metadata": {
    "ExecuteTime": {
     "end_time": "2020-06-19T11:34:42.262363Z",
     "start_time": "2020-06-19T11:34:42.188206Z"
    },
    "collapsed": true,
    "scrolled": true
   },
   "outputs": [],
   "source": [
    "# df_mse"
   ]
  },
  {
   "cell_type": "code",
   "execution_count": 241,
   "metadata": {
    "ExecuteTime": {
     "end_time": "2020-06-19T11:34:42.371372Z",
     "start_time": "2020-06-19T11:34:42.265201Z"
    },
    "scrolled": true
   },
   "outputs": [
    {
     "data": {
      "text/html": [
       "<div>\n",
       "<style scoped>\n",
       "    .dataframe tbody tr th:only-of-type {\n",
       "        vertical-align: middle;\n",
       "    }\n",
       "\n",
       "    .dataframe tbody tr th {\n",
       "        vertical-align: top;\n",
       "    }\n",
       "\n",
       "    .dataframe thead th {\n",
       "        text-align: right;\n",
       "    }\n",
       "</style>\n",
       "<table border=\"1\" class=\"dataframe\">\n",
       "  <thead>\n",
       "    <tr style=\"text-align: right;\">\n",
       "      <th></th>\n",
       "      <th>group</th>\n",
       "      <th>station</th>\n",
       "      <th>value</th>\n",
       "      <th>area</th>\n",
       "      <th>model_name</th>\n",
       "      <th>domain</th>\n",
       "      <th>composite_type</th>\n",
       "      <th>method</th>\n",
       "    </tr>\n",
       "  </thead>\n",
       "  <tbody>\n",
       "    <tr>\n",
       "      <th>0</th>\n",
       "      <td>model_name-knn--val_stations-Banqiao--k-4--wei...</td>\n",
       "      <td>Banqiao</td>\n",
       "      <td>14.578569</td>\n",
       "      <td>city</td>\n",
       "      <td>knn</td>\n",
       "      <td></td>\n",
       "      <td></td>\n",
       "      <td>knn--</td>\n",
       "    </tr>\n",
       "  </tbody>\n",
       "</table>\n",
       "</div>"
      ],
      "text/plain": [
       "                                               group  station      value  \\\n",
       "0  model_name-knn--val_stations-Banqiao--k-4--wei...  Banqiao  14.578569   \n",
       "\n",
       "   area model_name domain composite_type method  \n",
       "0  city        knn                        knn--  "
      ]
     },
     "execution_count": 241,
     "metadata": {},
     "output_type": "execute_result"
    }
   ],
   "source": [
    "# df_mse['norm'] = df_mse['model_name'].apply(lambda x: x.split('_')[0])\n",
    "# df_mse['repeat'] = df_mse['model_name'].apply(lambda x: x.split('_repeat')[1])\n",
    "\n",
    "df_mse.head(1)"
   ]
  },
  {
   "cell_type": "markdown",
   "metadata": {},
   "source": [
    "# select"
   ]
  },
  {
   "cell_type": "code",
   "execution_count": 242,
   "metadata": {
    "ExecuteTime": {
     "end_time": "2020-06-19T11:34:42.385775Z",
     "start_time": "2020-06-19T11:34:42.374092Z"
    },
    "collapsed": true
   },
   "outputs": [],
   "source": [
    "# c1 = df_mse.domain=='sat' \n",
    "\n",
    "# mountains = ['Dabajianshan','Mushan','Yushan','Beidawushan',]\n",
    "# stations = [x for x in station_list if x not in mountains]\n",
    "# stations = mountains\n",
    "stations = station_list\n",
    "\n",
    "c2 = df_mse.station.isin(stations)\n",
    "\n",
    "data = df_mse[c2]#[c1&c2]"
   ]
  },
  {
   "cell_type": "markdown",
   "metadata": {},
   "source": [
    "# statistic"
   ]
  },
  {
   "cell_type": "code",
   "execution_count": 244,
   "metadata": {
    "ExecuteTime": {
     "end_time": "2020-06-19T11:34:54.352933Z",
     "start_time": "2020-06-19T11:34:54.291176Z"
    }
   },
   "outputs": [
    {
     "data": {
      "text/html": [
       "<div>\n",
       "<style scoped>\n",
       "    .dataframe tbody tr th:only-of-type {\n",
       "        vertical-align: middle;\n",
       "    }\n",
       "\n",
       "    .dataframe tbody tr th {\n",
       "        vertical-align: top;\n",
       "    }\n",
       "\n",
       "    .dataframe thead tr th {\n",
       "        text-align: left;\n",
       "    }\n",
       "</style>\n",
       "<table border=\"1\" class=\"dataframe\">\n",
       "  <thead>\n",
       "    <tr>\n",
       "      <th></th>\n",
       "      <th>station</th>\n",
       "      <th colspan=\"10\" halign=\"left\">value</th>\n",
       "    </tr>\n",
       "    <tr>\n",
       "      <th>area</th>\n",
       "      <th></th>\n",
       "      <th colspan=\"5\" halign=\"left\">city</th>\n",
       "      <th colspan=\"5\" halign=\"left\">mountain</th>\n",
       "    </tr>\n",
       "    <tr>\n",
       "      <th>domain</th>\n",
       "      <th></th>\n",
       "      <th colspan=\"3\" halign=\"left\"></th>\n",
       "      <th>air</th>\n",
       "      <th>sat</th>\n",
       "      <th colspan=\"3\" halign=\"left\"></th>\n",
       "      <th>air</th>\n",
       "      <th>sat</th>\n",
       "    </tr>\n",
       "    <tr>\n",
       "      <th>method</th>\n",
       "      <th></th>\n",
       "      <th>knn--</th>\n",
       "      <th>krg--</th>\n",
       "      <th>s2gmd_minmax--c0</th>\n",
       "      <th>s2gsd_minmax-air-</th>\n",
       "      <th>s2gsd_minmax-sat-</th>\n",
       "      <th>knn--</th>\n",
       "      <th>krg--</th>\n",
       "      <th>s2gmd_minmax--c0</th>\n",
       "      <th>s2gsd_minmax-air-</th>\n",
       "      <th>s2gsd_minmax-sat-</th>\n",
       "    </tr>\n",
       "  </thead>\n",
       "  <tbody>\n",
       "    <tr>\n",
       "      <th>0</th>\n",
       "      <td>Banqiao</td>\n",
       "      <td>14.578569</td>\n",
       "      <td>27.270332</td>\n",
       "      <td>33.888865</td>\n",
       "      <td>20.113705</td>\n",
       "      <td>24.749614</td>\n",
       "      <td>NaN</td>\n",
       "      <td>NaN</td>\n",
       "      <td>NaN</td>\n",
       "      <td>NaN</td>\n",
       "      <td>NaN</td>\n",
       "    </tr>\n",
       "    <tr>\n",
       "      <th>1</th>\n",
       "      <td>Beidawushan</td>\n",
       "      <td>NaN</td>\n",
       "      <td>NaN</td>\n",
       "      <td>NaN</td>\n",
       "      <td>NaN</td>\n",
       "      <td>NaN</td>\n",
       "      <td>625.426837</td>\n",
       "      <td>388.678652</td>\n",
       "      <td>532.909971</td>\n",
       "      <td>696.151026</td>\n",
       "      <td>118.268386</td>\n",
       "    </tr>\n",
       "    <tr>\n",
       "      <th>2</th>\n",
       "      <td>Dabajianshan</td>\n",
       "      <td>NaN</td>\n",
       "      <td>NaN</td>\n",
       "      <td>NaN</td>\n",
       "      <td>NaN</td>\n",
       "      <td>NaN</td>\n",
       "      <td>319.280889</td>\n",
       "      <td>247.751229</td>\n",
       "      <td>295.940679</td>\n",
       "      <td>170.684604</td>\n",
       "      <td>161.028024</td>\n",
       "    </tr>\n",
       "    <tr>\n",
       "      <th>3</th>\n",
       "      <td>Fengshan</td>\n",
       "      <td>50.132187</td>\n",
       "      <td>57.116250</td>\n",
       "      <td>38.484927</td>\n",
       "      <td>51.245769</td>\n",
       "      <td>55.042066</td>\n",
       "      <td>NaN</td>\n",
       "      <td>NaN</td>\n",
       "      <td>NaN</td>\n",
       "      <td>NaN</td>\n",
       "      <td>NaN</td>\n",
       "    </tr>\n",
       "    <tr>\n",
       "      <th>4</th>\n",
       "      <td>Guting</td>\n",
       "      <td>18.125960</td>\n",
       "      <td>35.752020</td>\n",
       "      <td>32.515852</td>\n",
       "      <td>23.199555</td>\n",
       "      <td>27.927312</td>\n",
       "      <td>NaN</td>\n",
       "      <td>NaN</td>\n",
       "      <td>NaN</td>\n",
       "      <td>NaN</td>\n",
       "      <td>NaN</td>\n",
       "    </tr>\n",
       "  </tbody>\n",
       "</table>\n",
       "</div>"
      ],
      "text/plain": [
       "             station      value                                                \\\n",
       "area                       city                                                 \n",
       "domain                                                                    air   \n",
       "method                    knn--      krg-- s2gmd_minmax--c0 s2gsd_minmax-air-   \n",
       "0            Banqiao  14.578569  27.270332        33.888865         20.113705   \n",
       "1        Beidawushan        NaN        NaN              NaN               NaN   \n",
       "2       Dabajianshan        NaN        NaN              NaN               NaN   \n",
       "3           Fengshan  50.132187  57.116250        38.484927         51.245769   \n",
       "4             Guting  18.125960  35.752020        32.515852         23.199555   \n",
       "\n",
       "                                                                   \\\n",
       "area                        mountain                                \n",
       "domain               sat                                            \n",
       "method s2gsd_minmax-sat-       knn--       krg-- s2gmd_minmax--c0   \n",
       "0              24.749614         NaN         NaN              NaN   \n",
       "1                    NaN  625.426837  388.678652       532.909971   \n",
       "2                    NaN  319.280889  247.751229       295.940679   \n",
       "3              55.042066         NaN         NaN              NaN   \n",
       "4              27.927312         NaN         NaN              NaN   \n",
       "\n",
       "                                            \n",
       "area                                        \n",
       "domain               air               sat  \n",
       "method s2gsd_minmax-air- s2gsd_minmax-sat-  \n",
       "0                    NaN               NaN  \n",
       "1             696.151026        118.268386  \n",
       "2             170.684604        161.028024  \n",
       "3                    NaN               NaN  \n",
       "4                    NaN               NaN  "
      ]
     },
     "execution_count": 244,
     "metadata": {},
     "output_type": "execute_result"
    }
   ],
   "source": [
    "pivot=pd.pivot_table(data, index=['station'], columns=['area','domain','method']).reset_index()\n",
    "# pivot=pd.pivot_table(data, index=['station'], columns=['features','repeat']).reset_index()\n",
    "\n",
    "pivot.head()\n"
   ]
  },
  {
   "cell_type": "code",
   "execution_count": 245,
   "metadata": {
    "ExecuteTime": {
     "end_time": "2020-06-19T11:35:55.082687Z",
     "start_time": "2020-06-19T11:35:54.993471Z"
    },
    "scrolled": false
   },
   "outputs": [
    {
     "data": {
      "text/html": [
       "<div>\n",
       "<style scoped>\n",
       "    .dataframe tbody tr th:only-of-type {\n",
       "        vertical-align: middle;\n",
       "    }\n",
       "\n",
       "    .dataframe tbody tr th {\n",
       "        vertical-align: top;\n",
       "    }\n",
       "\n",
       "    .dataframe thead th {\n",
       "        text-align: right;\n",
       "    }\n",
       "</style>\n",
       "<table border=\"1\" class=\"dataframe\">\n",
       "  <thead>\n",
       "    <tr style=\"text-align: right;\">\n",
       "      <th></th>\n",
       "      <th></th>\n",
       "      <th></th>\n",
       "      <th></th>\n",
       "      <th>count</th>\n",
       "      <th>mean</th>\n",
       "      <th>std</th>\n",
       "      <th>min</th>\n",
       "      <th>25%</th>\n",
       "      <th>50%</th>\n",
       "      <th>75%</th>\n",
       "      <th>max</th>\n",
       "    </tr>\n",
       "    <tr>\n",
       "      <th></th>\n",
       "      <th>area</th>\n",
       "      <th>domain</th>\n",
       "      <th>method</th>\n",
       "      <th></th>\n",
       "      <th></th>\n",
       "      <th></th>\n",
       "      <th></th>\n",
       "      <th></th>\n",
       "      <th></th>\n",
       "      <th></th>\n",
       "      <th></th>\n",
       "    </tr>\n",
       "  </thead>\n",
       "  <tbody>\n",
       "    <tr>\n",
       "      <th rowspan=\"10\" valign=\"top\">value</th>\n",
       "      <th rowspan=\"5\" valign=\"top\">city</th>\n",
       "      <th rowspan=\"3\" valign=\"top\"></th>\n",
       "      <th>knn--</th>\n",
       "      <td>10.0</td>\n",
       "      <td>46.990042</td>\n",
       "      <td>48.166990</td>\n",
       "      <td>14.578569</td>\n",
       "      <td>27.397126</td>\n",
       "      <td>34.088187</td>\n",
       "      <td>44.739050</td>\n",
       "      <td>180.295821</td>\n",
       "    </tr>\n",
       "    <tr>\n",
       "      <th>krg--</th>\n",
       "      <td>10.0</td>\n",
       "      <td>63.138133</td>\n",
       "      <td>30.170687</td>\n",
       "      <td>27.270332</td>\n",
       "      <td>48.522249</td>\n",
       "      <td>58.799648</td>\n",
       "      <td>69.552882</td>\n",
       "      <td>137.839717</td>\n",
       "    </tr>\n",
       "    <tr>\n",
       "      <th>s2gmd_minmax--c0</th>\n",
       "      <td>10.0</td>\n",
       "      <td>31.156021</td>\n",
       "      <td>16.750502</td>\n",
       "      <td>6.570621</td>\n",
       "      <td>21.892228</td>\n",
       "      <td>33.202359</td>\n",
       "      <td>36.374500</td>\n",
       "      <td>68.092886</td>\n",
       "    </tr>\n",
       "    <tr>\n",
       "      <th>air</th>\n",
       "      <th>s2gsd_minmax-air-</th>\n",
       "      <td>10.0</td>\n",
       "      <td>32.385014</td>\n",
       "      <td>12.927101</td>\n",
       "      <td>16.315686</td>\n",
       "      <td>20.970437</td>\n",
       "      <td>30.447739</td>\n",
       "      <td>44.140723</td>\n",
       "      <td>51.245769</td>\n",
       "    </tr>\n",
       "    <tr>\n",
       "      <th>sat</th>\n",
       "      <th>s2gsd_minmax-sat-</th>\n",
       "      <td>10.0</td>\n",
       "      <td>35.661176</td>\n",
       "      <td>16.694499</td>\n",
       "      <td>19.622547</td>\n",
       "      <td>24.809033</td>\n",
       "      <td>28.956598</td>\n",
       "      <td>42.824241</td>\n",
       "      <td>70.830515</td>\n",
       "    </tr>\n",
       "    <tr>\n",
       "      <th rowspan=\"5\" valign=\"top\">mountain</th>\n",
       "      <th rowspan=\"3\" valign=\"top\"></th>\n",
       "      <th>knn--</th>\n",
       "      <td>4.0</td>\n",
       "      <td>354.078471</td>\n",
       "      <td>185.910231</td>\n",
       "      <td>214.959632</td>\n",
       "      <td>246.224804</td>\n",
       "      <td>287.963708</td>\n",
       "      <td>395.817376</td>\n",
       "      <td>625.426837</td>\n",
       "    </tr>\n",
       "    <tr>\n",
       "      <th>krg--</th>\n",
       "      <td>4.0</td>\n",
       "      <td>288.606417</td>\n",
       "      <td>69.378884</td>\n",
       "      <td>236.599670</td>\n",
       "      <td>244.963339</td>\n",
       "      <td>264.573673</td>\n",
       "      <td>308.216750</td>\n",
       "      <td>388.678652</td>\n",
       "    </tr>\n",
       "    <tr>\n",
       "      <th>s2gmd_minmax--c0</th>\n",
       "      <td>4.0</td>\n",
       "      <td>541.649469</td>\n",
       "      <td>175.907098</td>\n",
       "      <td>295.940679</td>\n",
       "      <td>473.667648</td>\n",
       "      <td>599.844941</td>\n",
       "      <td>667.826762</td>\n",
       "      <td>670.967315</td>\n",
       "    </tr>\n",
       "    <tr>\n",
       "      <th>air</th>\n",
       "      <th>s2gsd_minmax-air-</th>\n",
       "      <td>4.0</td>\n",
       "      <td>463.280877</td>\n",
       "      <td>217.382302</td>\n",
       "      <td>170.684604</td>\n",
       "      <td>406.242852</td>\n",
       "      <td>493.143938</td>\n",
       "      <td>550.181962</td>\n",
       "      <td>696.151026</td>\n",
       "    </tr>\n",
       "    <tr>\n",
       "      <th>sat</th>\n",
       "      <th>s2gsd_minmax-sat-</th>\n",
       "      <td>4.0</td>\n",
       "      <td>175.640593</td>\n",
       "      <td>45.586108</td>\n",
       "      <td>118.268386</td>\n",
       "      <td>150.338115</td>\n",
       "      <td>182.173004</td>\n",
       "      <td>207.475483</td>\n",
       "      <td>219.947978</td>\n",
       "    </tr>\n",
       "  </tbody>\n",
       "</table>\n",
       "</div>"
      ],
      "text/plain": [
       "                                         count        mean         std  \\\n",
       "      area     domain method                                             \n",
       "value city            knn--               10.0   46.990042   48.166990   \n",
       "                      krg--               10.0   63.138133   30.170687   \n",
       "                      s2gmd_minmax--c0    10.0   31.156021   16.750502   \n",
       "               air    s2gsd_minmax-air-   10.0   32.385014   12.927101   \n",
       "               sat    s2gsd_minmax-sat-   10.0   35.661176   16.694499   \n",
       "      mountain        knn--                4.0  354.078471  185.910231   \n",
       "                      krg--                4.0  288.606417   69.378884   \n",
       "                      s2gmd_minmax--c0     4.0  541.649469  175.907098   \n",
       "               air    s2gsd_minmax-air-    4.0  463.280877  217.382302   \n",
       "               sat    s2gsd_minmax-sat-    4.0  175.640593   45.586108   \n",
       "\n",
       "                                                min         25%         50%  \\\n",
       "      area     domain method                                                  \n",
       "value city            knn--               14.578569   27.397126   34.088187   \n",
       "                      krg--               27.270332   48.522249   58.799648   \n",
       "                      s2gmd_minmax--c0     6.570621   21.892228   33.202359   \n",
       "               air    s2gsd_minmax-air-   16.315686   20.970437   30.447739   \n",
       "               sat    s2gsd_minmax-sat-   19.622547   24.809033   28.956598   \n",
       "      mountain        knn--              214.959632  246.224804  287.963708   \n",
       "                      krg--              236.599670  244.963339  264.573673   \n",
       "                      s2gmd_minmax--c0   295.940679  473.667648  599.844941   \n",
       "               air    s2gsd_minmax-air-  170.684604  406.242852  493.143938   \n",
       "               sat    s2gsd_minmax-sat-  118.268386  150.338115  182.173004   \n",
       "\n",
       "                                                75%         max  \n",
       "      area     domain method                                     \n",
       "value city            knn--               44.739050  180.295821  \n",
       "                      krg--               69.552882  137.839717  \n",
       "                      s2gmd_minmax--c0    36.374500   68.092886  \n",
       "               air    s2gsd_minmax-air-   44.140723   51.245769  \n",
       "               sat    s2gsd_minmax-sat-   42.824241   70.830515  \n",
       "      mountain        knn--              395.817376  625.426837  \n",
       "                      krg--              308.216750  388.678652  \n",
       "                      s2gmd_minmax--c0   667.826762  670.967315  \n",
       "               air    s2gsd_minmax-air-  550.181962  696.151026  \n",
       "               sat    s2gsd_minmax-sat-  207.475483  219.947978  "
      ]
     },
     "execution_count": 245,
     "metadata": {},
     "output_type": "execute_result"
    }
   ],
   "source": [
    "describe = pivot.describe().T \n",
    "describe"
   ]
  },
  {
   "cell_type": "markdown",
   "metadata": {},
   "source": [
    "# plot"
   ]
  },
  {
   "cell_type": "code",
   "execution_count": 220,
   "metadata": {
    "ExecuteTime": {
     "end_time": "2020-06-13T20:38:49.057890Z",
     "start_time": "2020-06-13T20:38:49.052711Z"
    }
   },
   "outputs": [
    {
     "data": {
      "text/plain": [
       "array(['knn--', 'krg--', 's2gmd_minmax--c0', 's2gsd_minmax-air-',\n",
       "       's2gsd_minmax-sat-'], dtype=object)"
      ]
     },
     "execution_count": 220,
     "metadata": {},
     "output_type": "execute_result"
    }
   ],
   "source": [
    "hue_order = data.method.unique()\n",
    "hue_order"
   ]
  },
  {
   "cell_type": "code",
   "execution_count": 221,
   "metadata": {
    "ExecuteTime": {
     "end_time": "2020-06-13T20:38:49.071137Z",
     "start_time": "2020-06-13T20:38:49.060660Z"
    },
    "collapsed": true
   },
   "outputs": [],
   "source": [
    "data_ = data.copy()\n",
    "# data_.features.unique()\n",
    "# a2b = {\n",
    "#     'pm25':'pm2.5', \n",
    "#     'pm25_PM10_NO2_SO2_O3':'pm2.5+F1', \n",
    "#     'pm25_AMBTEMP_RH_RAINFALL_WINDCOS_WINDSIN':'pm2.5+F2', \n",
    "#     'pm25_AMBTEMP_RH_RAINFALL_WINDCOS_WINDSIN_PM10_NO2_SO2_O3':'pm2.5+F1+F2', \n",
    "# }\n",
    "# data_['features'] = data_['features'].apply(lambda x: a2b[x])\n",
    "data_ = data_.rename(columns={'value':'MSE'})\n",
    "# # data_"
   ]
  },
  {
   "cell_type": "markdown",
   "metadata": {},
   "source": [
    "## box plot by model\n",
    "https://towardsdatascience.com/understanding-boxplots-5e2df7bcbd51"
   ]
  },
  {
   "cell_type": "code",
   "execution_count": 222,
   "metadata": {
    "ExecuteTime": {
     "end_time": "2020-06-13T20:38:49.129887Z",
     "start_time": "2020-06-13T20:38:49.073565Z"
    },
    "collapsed": true
   },
   "outputs": [],
   "source": [
    "# f=ax.set_xticklabels\n",
    "# import inspect\n",
    "# inspect.signature(f).parameters"
   ]
  },
  {
   "cell_type": "code",
   "execution_count": 223,
   "metadata": {
    "ExecuteTime": {
     "end_time": "2020-06-13T20:38:49.143449Z",
     "start_time": "2020-06-13T20:38:49.132032Z"
    },
    "collapsed": true,
    "scrolled": true
   },
   "outputs": [],
   "source": [
    "# sns.set(font_scale=1)\n",
    "# ax = sns.catplot(\n",
    "#     x='area', \n",
    "#     y='MSE',\n",
    "#     hue='method', \n",
    "#     data=data_,\n",
    "#     kind='box',\n",
    "# #     hue_order=hue_order,\n",
    "# #     order = ['pm2.5','pm2.5+F1','pm2.5+F2','pm2.5+F1+F2'],\n",
    "#     height=4,\n",
    "#     aspect=1.5,\n",
    "#     legend=True,\n",
    "#     legend_out=True,\n",
    "# )\n",
    "\n",
    "# ax.set_xticklabels(labels=[],rotation=90)\n",
    "# ax.axes[0,0].set_xlabel('')\n",
    "# # ax.axes[0,0].set_ylim(0, 190)\n",
    "# # plt.legend(bbox_to_anchor=(1, 1))"
   ]
  },
  {
   "cell_type": "markdown",
   "metadata": {},
   "source": [
    "## bar chart by model\n",
    "https://stackoverflow.com/questions/46125182/is-seaborn-confidence-interval-computed-correctly"
   ]
  },
  {
   "cell_type": "code",
   "execution_count": 226,
   "metadata": {
    "ExecuteTime": {
     "end_time": "2020-06-13T20:38:56.011685Z",
     "start_time": "2020-06-13T20:38:56.006820Z"
    },
    "collapsed": true,
    "scrolled": true
   },
   "outputs": [],
   "source": [
    "# sns.set(font_scale=1)\n",
    "# ax = sns.catplot(\n",
    "#     x='area', \n",
    "#     y='MSE',\n",
    "#     hue='method', \n",
    "#     data=data_,\n",
    "#     kind='bar',\n",
    "# #     hue_order=hue_order,\n",
    "# #     order = ['pm2.5','pm2.5+F1','pm2.5+F2','pm2.5+F1+F2'],\n",
    "#     height=4,\n",
    "#     aspect=1.5,\n",
    "#     legend=False,\n",
    "#     legend_out=True,\n",
    "# )\n",
    "\n",
    "# ax.set_xticklabels(labels=[],rotation=90)\n",
    "# ax.axes[0,0].set_xlabel('')\n",
    "# # ax.axes[0,0].set_ylim(0, 190)\n",
    "# # plt.legend(bbox_to_anchor=(1, 1))"
   ]
  },
  {
   "cell_type": "markdown",
   "metadata": {},
   "source": [
    "## bar chart by station"
   ]
  },
  {
   "cell_type": "code",
   "execution_count": 225,
   "metadata": {
    "ExecuteTime": {
     "end_time": "2020-06-13T20:38:49.635956Z",
     "start_time": "2020-06-13T20:38:49.633452Z"
    },
    "collapsed": true
   },
   "outputs": [],
   "source": [
    "# sns.set(font_scale=1)\n",
    "# ax = sns.catplot(\n",
    "#     x='station', \n",
    "#     y='MSE',\n",
    "#     hue='method', \n",
    "#     data=data_,\n",
    "#     kind='bar',\n",
    "# #     hue_order=hue_order,\n",
    "#     order = stations,\n",
    "#     height=4,\n",
    "#     aspect=1.5,\n",
    "#     legend=True,\n",
    "#     legend_out=True,\n",
    "# )\n",
    "\n",
    "# ax.set_xticklabels(rotation=90)\n",
    "# ax.axes[0,0].set_xlabel('')\n",
    "# # ax.axes[0,0].set_ylim(0, 750)\n",
    "# # plt.legend(bbox_to_anchor=(1, 1))"
   ]
  },
  {
   "cell_type": "code",
   "execution_count": null,
   "metadata": {
    "collapsed": true
   },
   "outputs": [],
   "source": []
  },
  {
   "cell_type": "code",
   "execution_count": null,
   "metadata": {
    "collapsed": true
   },
   "outputs": [],
   "source": []
  },
  {
   "cell_type": "code",
   "execution_count": null,
   "metadata": {
    "collapsed": true
   },
   "outputs": [],
   "source": []
  }
 ],
 "metadata": {
  "kernelspec": {
   "display_name": "Python 3",
   "language": "python",
   "name": "python3"
  },
  "language_info": {
   "codemirror_mode": {
    "name": "ipython",
    "version": 3
   },
   "file_extension": ".py",
   "mimetype": "text/x-python",
   "name": "python",
   "nbconvert_exporter": "python",
   "pygments_lexer": "ipython3",
   "version": "3.6.5"
  },
  "toc": {
   "base_numbering": 1,
   "nav_menu": {},
   "number_sections": true,
   "sideBar": true,
   "skip_h1_title": false,
   "title_cell": "Table of Contents",
   "title_sidebar": "Contents",
   "toc_cell": false,
   "toc_position": {
    "height": "calc(100% - 180px)",
    "left": "10px",
    "top": "150px",
    "width": "165px"
   },
   "toc_section_display": true,
   "toc_window_display": true
  }
 },
 "nbformat": 4,
 "nbformat_minor": 2
}
