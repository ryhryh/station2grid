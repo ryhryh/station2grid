{
 "cells": [
  {
   "cell_type": "code",
   "execution_count": 1,
   "metadata": {
    "ExecuteTime": {
     "end_time": "2020-05-23T14:18:35.244363Z",
     "start_time": "2020-05-23T14:18:33.957102Z"
    },
    "collapsed": true
   },
   "outputs": [],
   "source": [
    "from glob import glob\n",
    "import os\n",
    "import pandas as pd\n",
    "from sklearn.metrics import mean_squared_error\n",
    "import matplotlib.pyplot as plt\n",
    "import numpy as np\n",
    "import seaborn as sns\n",
    "import matplotlib\n",
    "import re\n",
    "\n",
    "import sys\n",
    "home=os.path.expanduser(\"~\")\n",
    "sys.path.append(os.path.join(home, 'station2grid'))\n",
    "\n",
    "from tools import plotMap, CommonObj\n",
    "%matplotlib inline"
   ]
  },
  {
   "cell_type": "code",
   "execution_count": null,
   "metadata": {
    "collapsed": true
   },
   "outputs": [],
   "source": []
  },
  {
   "cell_type": "markdown",
   "metadata": {},
   "source": [
    "# read"
   ]
  },
  {
   "cell_type": "code",
   "execution_count": 2,
   "metadata": {
    "ExecuteTime": {
     "end_time": "2020-05-23T14:18:35.277965Z",
     "start_time": "2020-05-23T14:18:35.248207Z"
    }
   },
   "outputs": [
    {
     "data": {
      "text/html": [
       "<div>\n",
       "<style scoped>\n",
       "    .dataframe tbody tr th:only-of-type {\n",
       "        vertical-align: middle;\n",
       "    }\n",
       "\n",
       "    .dataframe tbody tr th {\n",
       "        vertical-align: top;\n",
       "    }\n",
       "\n",
       "    .dataframe thead th {\n",
       "        text-align: right;\n",
       "    }\n",
       "</style>\n",
       "<table border=\"1\" class=\"dataframe\">\n",
       "  <thead>\n",
       "    <tr style=\"text-align: right;\">\n",
       "      <th></th>\n",
       "      <th>SiteName</th>\n",
       "      <th>SiteEngName</th>\n",
       "      <th>area</th>\n",
       "      <th>lat</th>\n",
       "      <th>lon</th>\n",
       "      <th>lat_round</th>\n",
       "      <th>lon_round</th>\n",
       "      <th>row</th>\n",
       "      <th>col</th>\n",
       "    </tr>\n",
       "  </thead>\n",
       "  <tbody>\n",
       "    <tr>\n",
       "      <th>0</th>\n",
       "      <td>大霸尖山</td>\n",
       "      <td>Dabajianshan</td>\n",
       "      <td>mountain</td>\n",
       "      <td>24.461111</td>\n",
       "      <td>121.249722</td>\n",
       "      <td>24.46</td>\n",
       "      <td>121.25</td>\n",
       "      <td>88</td>\n",
       "      <td>125</td>\n",
       "    </tr>\n",
       "  </tbody>\n",
       "</table>\n",
       "</div>"
      ],
      "text/plain": [
       "  SiteName   SiteEngName      area        lat         lon  lat_round  \\\n",
       "0     大霸尖山  Dabajianshan  mountain  24.461111  121.249722      24.46   \n",
       "\n",
       "   lon_round  row  col  \n",
       "0     121.25   88  125  "
      ]
     },
     "execution_count": 2,
     "metadata": {},
     "output_type": "execute_result"
    }
   ],
   "source": [
    "info = CommonObj().epa_station_info\n",
    "info.head(1)\n"
   ]
  },
  {
   "cell_type": "code",
   "execution_count": 3,
   "metadata": {
    "ExecuteTime": {
     "end_time": "2020-05-23T14:18:35.317948Z",
     "start_time": "2020-05-23T14:18:35.279609Z"
    },
    "scrolled": true
   },
   "outputs": [
    {
     "data": {
      "text/plain": [
       "1097"
      ]
     },
     "execution_count": 3,
     "metadata": {},
     "output_type": "execute_result"
    }
   ],
   "source": [
    "# paths = glob(os.path.join('results','*csv')) ###\n",
    "\n",
    "stations = info.SiteEngName.values[:] #info.SiteEngName.values[:61]\n",
    "path_keywords = ['domain-sat--k-3--weightKNN-distance',\n",
    "            'domain-air--k-3--weightKNN-distance',\n",
    "            'k-4--weightKNN-distance']\n",
    "\n",
    "paths = glob(os.path.join('results','*csv'))\n",
    "# paths = [ path for path in paths if any([d in path for d in path_keywords])==True] ###\n",
    "paths = sorted(paths)\n",
    "\n",
    "len(paths)\n",
    "# paths"
   ]
  },
  {
   "cell_type": "code",
   "execution_count": null,
   "metadata": {
    "ExecuteTime": {
     "start_time": "2020-05-23T14:18:49.868Z"
    },
    "scrolled": true
   },
   "outputs": [],
   "source": [
    "dfs = [pd.read_csv(path) for path in paths \n",
    "       if re.search('--val_stations-(.+?)--' ,path).group(1) in stations]\n",
    "\n",
    "result = pd.concat(dfs, axis=0)\n",
    "result.head()"
   ]
  },
  {
   "cell_type": "code",
   "execution_count": null,
   "metadata": {
    "ExecuteTime": {
     "end_time": "2020-05-20T07:32:41.638464Z",
     "start_time": "2020-05-20T07:32:41.633518Z"
    },
    "collapsed": true
   },
   "outputs": [],
   "source": [
    "# result.station.unique()"
   ]
  },
  {
   "cell_type": "code",
   "execution_count": null,
   "metadata": {
    "ExecuteTime": {
     "end_time": "2020-05-20T07:35:17.627824Z",
     "start_time": "2020-05-20T07:32:41.641822Z"
    },
    "collapsed": true,
    "scrolled": true
   },
   "outputs": [],
   "source": [
    "def parse(path, key='dnn_type'):\n",
    "    match = re.search('(--|^)%s-(.+?)(--|$)'%(key), path)\n",
    "    value = match.group(2) if match != None else '' ###\n",
    "    return value\n",
    "    \n",
    "keys=['model_name','domain','k','weightKNN','composite_type']\n",
    "for key in keys:\n",
    "    result[key] = result.group.apply(lambda x: parse(x, key=key))\n",
    "    \n",
    "result['method'] = result.apply(\n",
    "    lambda row: '-'.join([row[key] for key in keys]),axis=1)\n"
   ]
  },
  {
   "cell_type": "code",
   "execution_count": null,
   "metadata": {
    "ExecuteTime": {
     "end_time": "2020-05-20T07:35:17.638126Z",
     "start_time": "2020-05-20T07:35:17.632289Z"
    },
    "collapsed": true,
    "scrolled": true
   },
   "outputs": [],
   "source": [
    "# result[(result.station=='Dali')&(result.domain=='sat')][2000:3000].plot(y=['real','predict'])"
   ]
  },
  {
   "cell_type": "markdown",
   "metadata": {},
   "source": [
    "# mse"
   ]
  },
  {
   "cell_type": "code",
   "execution_count": null,
   "metadata": {
    "ExecuteTime": {
     "end_time": "2020-05-20T07:35:19.587748Z",
     "start_time": "2020-05-20T07:35:17.641712Z"
    },
    "scrolled": true
   },
   "outputs": [],
   "source": [
    "by=keys+['method','station']\n",
    "df_mse=result.groupby(by).apply(lambda row: mean_squared_error(row.real,row.predict)).reset_index(name='mse')\n",
    "df_mse.head()"
   ]
  },
  {
   "cell_type": "code",
   "execution_count": null,
   "metadata": {
    "ExecuteTime": {
     "end_time": "2020-05-20T07:35:19.593267Z",
     "start_time": "2020-05-20T07:35:19.590345Z"
    },
    "collapsed": true,
    "scrolled": true
   },
   "outputs": [],
   "source": [
    "# site2lat=dict(zip(info.SiteEngName,info.lat,))\n",
    "# df_mse['lat']=df_mse.station.apply(lambda x: site2lat[x])\n",
    "# df_mse.head()"
   ]
  },
  {
   "cell_type": "code",
   "execution_count": null,
   "metadata": {
    "ExecuteTime": {
     "end_time": "2020-05-20T07:35:19.698717Z",
     "start_time": "2020-05-20T07:35:19.595174Z"
    },
    "scrolled": true
   },
   "outputs": [],
   "source": [
    "pivot=pd.pivot_table(df_mse, index=['station'], columns='method').reset_index()\n",
    "pivot.head()"
   ]
  },
  {
   "cell_type": "code",
   "execution_count": null,
   "metadata": {
    "ExecuteTime": {
     "end_time": "2020-05-20T07:35:19.755945Z",
     "start_time": "2020-05-20T07:35:19.702032Z"
    },
    "scrolled": false
   },
   "outputs": [],
   "source": [
    "describe = pivot.describe().T.sort_values(by=['method'], ascending=True)\n",
    "describe"
   ]
  },
  {
   "cell_type": "code",
   "execution_count": null,
   "metadata": {
    "ExecuteTime": {
     "end_time": "2020-05-20T07:35:19.840016Z",
     "start_time": "2020-05-20T07:35:19.760636Z"
    }
   },
   "outputs": [],
   "source": [
    "features_list = ['pm25']\n",
    "# features_list"
   ]
  },
  {
   "cell_type": "code",
   "execution_count": null,
   "metadata": {
    "ExecuteTime": {
     "end_time": "2020-05-20T07:35:20.388101Z",
     "start_time": "2020-05-20T07:35:19.841884Z"
    },
    "scrolled": true
   },
   "outputs": [],
   "source": [
    "sns.set(font_scale=1)\n",
    "ax = sns.catplot(\n",
    "    x='model_name', \n",
    "#     col='dnn_type', \n",
    "    y='mse', \n",
    "    hue='method', \n",
    "    data=df_mse,\n",
    "    kind='box',\n",
    "#     order=order,\n",
    "    height=4,\n",
    "    aspect=2\n",
    ")\n",
    "ax.set_xticklabels(rotation=0)\n",
    "# plt.ylim(0, 120)"
   ]
  },
  {
   "cell_type": "code",
   "execution_count": null,
   "metadata": {
    "ExecuteTime": {
     "end_time": "2020-05-20T07:37:16.601679Z",
     "start_time": "2020-05-20T07:37:16.082554Z"
    }
   },
   "outputs": [],
   "source": [
    "methods = [\n",
    "#     'station2gridMD----composite-conv~filter-3x3',\n",
    "    'knn--4-distance-',\n",
    "    'station2gridSD-air-3-distance-',\n",
    "    'station2gridSD-sat-3-distance-',\n",
    "#     'krg----'\n",
    "]\n",
    "sns.set(font_scale=1)\n",
    "ax = sns.catplot(\n",
    "    x='station', \n",
    "#     col='dnn_type', \n",
    "    y='mse', \n",
    "    hue='method', \n",
    "    data=df_mse[df_mse.method.isin(methods)],\n",
    "    kind='point',\n",
    "    order=info.SiteEngName[:10],\n",
    "    height=4,\n",
    "    aspect=2.3,\n",
    "    legend=False\n",
    ")\n",
    "ax.set_xticklabels(rotation=90, size=10)\n",
    "# plt.ylim(0, 120)\n",
    "plt.legend(bbox_to_anchor=(0.5, 1.2))\n",
    "plt.grid(axis='x')"
   ]
  },
  {
   "cell_type": "code",
   "execution_count": null,
   "metadata": {
    "collapsed": true
   },
   "outputs": [],
   "source": []
  },
  {
   "cell_type": "markdown",
   "metadata": {
    "heading_collapsed": true
   },
   "source": [
    "# history"
   ]
  },
  {
   "cell_type": "raw",
   "metadata": {
    "ExecuteTime": {
     "end_time": "2020-05-12T18:45:47.197919Z",
     "start_time": "2020-05-12T18:45:47.185492Z"
    },
    "hidden": true,
    "scrolled": true
   },
   "source": [
    "path=(os.path.join(home,'station2grid','weights','*history.csv'))\n",
    "\n",
    "paths=sorted(glob(path))\n",
    "paths\n",
    "\n",
    "# paths=[path for path in paths if parse(path, key='features') in features_list]\n",
    "# paths=[path for path in paths if parse(path, key='val_stations') in stations]\n",
    "len(paths)"
   ]
  },
  {
   "cell_type": "raw",
   "metadata": {
    "ExecuteTime": {
     "start_time": "2020-05-12T18:38:04.979Z"
    },
    "hidden": true
   },
   "source": [
    "import re\n",
    "re.search('^(.+)---', paths[10]).group(1)"
   ]
  },
  {
   "cell_type": "raw",
   "metadata": {
    "ExecuteTime": {
     "start_time": "2020-05-12T18:38:04.981Z"
    },
    "hidden": true,
    "scrolled": true
   },
   "source": [
    "def parse(path, key='dnn_type'):\n",
    "    match = re.search('%s-(.+?)--'%(key), path)\n",
    "    return match.group(1) if match!=None else None\n",
    "\n",
    "def get_history(path):\n",
    "    df = pd.DataFrame()\n",
    "    df['path'] = [path]\n",
    "    df['epochs'] = [len(pd.read_csv(path))]\n",
    "    df['group'] = [re.search('^(.+)---', path).group(1)]\n",
    "    df['domain'] = [parse(path, 'domain')]\n",
    "    df['model'] = [parse(path, 'model_name')]\n",
    "    df['station'] = [parse(path, 'val_stations')]\n",
    "    df['features'] = [parse(path, 'features')]\n",
    "    df['dnn_type'] = [parse(path, 'dnn_type')]\n",
    "    df['method'] = df.apply(lambda row: '---'.join([row.model,str(row.domain)]) , axis=1)\n",
    "\n",
    "    \n",
    "    return df\n",
    "\n",
    "df_history = pd.concat([get_history(path) for path in paths[:]], axis=0, sort=False)\n",
    "# df_history"
   ]
  },
  {
   "cell_type": "raw",
   "metadata": {
    "collapsed": true,
    "hidden": true
   },
   "source": []
  },
  {
   "cell_type": "raw",
   "metadata": {
    "ExecuteTime": {
     "start_time": "2020-05-12T18:38:04.983Z"
    },
    "collapsed": true,
    "hidden": true
   },
   "source": [
    "# df_history[df_history.model=='station2code']"
   ]
  },
  {
   "cell_type": "raw",
   "metadata": {
    "ExecuteTime": {
     "start_time": "2020-05-12T18:38:04.985Z"
    },
    "hidden": true,
    "scrolled": true
   },
   "source": [
    "sns.catplot(\n",
    "    x='model', \n",
    "    y='epochs', \n",
    "    hue='method', \n",
    "    data=df_history, \n",
    "    row=None, col='dnn_type', \n",
    "    kind='box', \n",
    "#     height=4,\n",
    "#     aspect=0.5\n",
    ")\n"
   ]
  },
  {
   "cell_type": "code",
   "execution_count": null,
   "metadata": {
    "collapsed": true,
    "hidden": true
   },
   "outputs": [],
   "source": []
  },
  {
   "cell_type": "markdown",
   "metadata": {},
   "source": [
    "# test"
   ]
  },
  {
   "cell_type": "code",
   "execution_count": null,
   "metadata": {
    "ExecuteTime": {
     "end_time": "2020-05-20T07:35:21.681989Z",
     "start_time": "2020-05-20T07:35:21.677022Z"
    },
    "collapsed": true
   },
   "outputs": [],
   "source": [
    "# from keras.layers import Input, Flatten, Dense, Conv2D, MaxPooling2D, UpSampling2D, \\\n",
    "# BatchNormalization, Activation, Lambda, Concatenate, Reshape\n",
    "\n",
    "# from keras.models import Model, load_model\n",
    "# from keras import backend as K\n",
    "\n",
    "# input_ = Input(shape=(73, 4))\n",
    "# x = BatchNormalization()(input_)  \n",
    "# x = Flatten()(x)\n",
    "# x = BatchNormalization()(x)  \n",
    "# x = Dense(300, activation='relu')(x) \n",
    "# x = BatchNormalization()(x)  \n",
    "\n",
    "# output_ = Dense(4576, activation='linear')(x)\n",
    "\n",
    "# model = Model(input_, output_)\n",
    "# model.summary() ###"
   ]
  },
  {
   "cell_type": "code",
   "execution_count": null,
   "metadata": {
    "ExecuteTime": {
     "end_time": "2020-05-20T07:35:21.707755Z",
     "start_time": "2020-05-20T07:35:21.683939Z"
    },
    "collapsed": true,
    "scrolled": true
   },
   "outputs": [],
   "source": [
    "# from keras.layers import Input, Flatten, Dense, Conv2D, MaxPooling2D, UpSampling2D, \\\n",
    "# BatchNormalization, Activation, Lambda, Concatenate, Reshape\n",
    "\n",
    "# from keras.models import Model, load_model\n",
    "# from keras import backend as K\n",
    "\n",
    "# input_shape = (348,204,2)\n",
    "# input_ = Input(shape=input_shape)\n",
    "# x = BatchNormalization(name='bn')(input_)\n",
    "# x = Conv2D(filters=4, kernel_size=(3,3), activation='relu', padding='same')(x)\n",
    "# output_ = Conv2D(filters=1, kernel_size=(3,3), activation='relu', padding='same')(x)\n",
    "\n",
    "# model = Model(input_, output_)\n",
    "# model.summary()"
   ]
  }
 ],
 "metadata": {
  "kernelspec": {
   "display_name": "Python 3",
   "language": "python",
   "name": "python3"
  },
  "language_info": {
   "codemirror_mode": {
    "name": "ipython",
    "version": 3
   },
   "file_extension": ".py",
   "mimetype": "text/x-python",
   "name": "python",
   "nbconvert_exporter": "python",
   "pygments_lexer": "ipython3",
   "version": "3.6.5"
  },
  "toc": {
   "base_numbering": 1,
   "nav_menu": {},
   "number_sections": true,
   "sideBar": true,
   "skip_h1_title": false,
   "title_cell": "Table of Contents",
   "title_sidebar": "Contents",
   "toc_cell": false,
   "toc_position": {},
   "toc_section_display": true,
   "toc_window_display": false
  }
 },
 "nbformat": 4,
 "nbformat_minor": 2
}
