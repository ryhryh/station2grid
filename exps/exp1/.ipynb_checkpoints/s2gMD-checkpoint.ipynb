{
 "cells": [
  {
   "cell_type": "code",
   "execution_count": 1,
   "metadata": {},
   "outputs": [
    {
     "name": "stderr",
     "output_type": "stream",
     "text": [
      "Using TensorFlow backend.\n"
     ]
    }
   ],
   "source": [
    "import os\n",
    "import pandas as pd\n",
    "import matplotlib.pyplot as plt\n",
    "import numpy as np\n",
    "\n",
    "import sys\n",
    "home=os.path.expanduser(\"~\")\n",
    "sys.path.append(os.path.join(os.path.expanduser(\"~\"), 'station2grid'))\n",
    "\n",
    "from tools import plotMap, CommonObj\n",
    "from tools.options import OptionMD\n",
    "from models import station2gridMD_model\n",
    "\n",
    "os.environ[\"CUDA_VISIBLE_DEVICES\"]=\"0\""
   ]
  },
  {
   "cell_type": "code",
   "execution_count": null,
   "metadata": {
    "collapsed": true
   },
   "outputs": [],
   "source": []
  },
  {
   "cell_type": "code",
   "execution_count": null,
   "metadata": {
    "collapsed": true
   },
   "outputs": [],
   "source": []
  },
  {
   "cell_type": "code",
   "execution_count": null,
   "metadata": {
    "collapsed": true
   },
   "outputs": [],
   "source": [
    "optMD = OptionMD(\n",
    "    features='pm25', \n",
    "    val_stations='Chaozhou', \n",
    "    domains='air_3_distance-sat_3_distance', \n",
    "    model_name='station2gridMD', \n",
    "    composite_type = 'conv-filter_10x10', ###\n",
    "    batch_size=200, ###\n",
    "    epochs=15\n",
    ")"
   ]
  },
  {
   "cell_type": "code",
   "execution_count": null,
   "metadata": {
    "collapsed": true
   },
   "outputs": [],
   "source": [
    "station2GridMD = station2gridMD_model.Station2GridMD(optMD)"
   ]
  },
  {
   "cell_type": "code",
   "execution_count": null,
   "metadata": {
    "collapsed": true,
    "scrolled": true
   },
   "outputs": [],
   "source": [
    "station2GridMD.train()"
   ]
  },
  {
   "cell_type": "code",
   "execution_count": null,
   "metadata": {
    "collapsed": true
   },
   "outputs": [],
   "source": [
    "grids = station2GridMD.test()"
   ]
  },
  {
   "cell_type": "code",
   "execution_count": null,
   "metadata": {
    "collapsed": true
   },
   "outputs": [],
   "source": [
    "def get_oneStation(optMD, stations, grids):\n",
    "    epa_station_info = CommonObj().epa_station_info\n",
    "    val_station = optMD.val_stations \n",
    "    \n",
    "    df = epa_station_info[epa_station_info.SiteEngName==val_station]\n",
    "    indexs = df.index.values\n",
    "    rows = df.row.values\n",
    "    cols = df.col.values\n",
    "\n",
    "    dummy = pd.DataFrame()\n",
    "    dummy['real'] = stations[:,indexs,2].reshape(-1)\n",
    "    dummy['predict'] = grids[:,rows,cols,0].reshape(-1)\n",
    "    dummy['station'] = val_station\n",
    "    dummy['kernel_size'] = optMD.composite_type.split('_')[-1]\n",
    "    year='2019'\n",
    "    dts=pd.date_range(start=year, end=str(int(year)+1), periods=None, freq='H', closed='left')\n",
    "    dummy['dt'] = dts\n",
    "\n",
    "    return dummy"
   ]
  },
  {
   "cell_type": "code",
   "execution_count": null,
   "metadata": {
    "collapsed": true
   },
   "outputs": [],
   "source": [
    "# plt.plot(station2GridMD.history.history['loss'])\n",
    "# plt.plot(station2GridMD.history.history['val_loss'])\n",
    "# plt.title('air + sate', fontsize=30)\n",
    "# plt.ylabel('MSE', fontsize=20)\n",
    "# plt.xlabel('epoch', fontsize=20)\n",
    "# plt.legend(['train', 'val'], loc='upper right')\n",
    "# plt.show()"
   ]
  },
  {
   "cell_type": "code",
   "execution_count": null,
   "metadata": {
    "collapsed": true
   },
   "outputs": [],
   "source": [
    "epa_station_info = CommonObj().epa_station_info"
   ]
  },
  {
   "cell_type": "code",
   "execution_count": null,
   "metadata": {
    "collapsed": true,
    "scrolled": true
   },
   "outputs": [],
   "source": [
    "stations = station2GridMD.dataGeneratorMD.x_raw\n",
    "dummy = get_oneStation(optMD, stations, grids)"
   ]
  },
  {
   "cell_type": "code",
   "execution_count": null,
   "metadata": {
    "collapsed": true,
    "scrolled": true
   },
   "outputs": [],
   "source": [
    "\n",
    "from sklearn.metrics import mean_squared_error\n",
    "mean_squared_error(dummy.real, dummy.predict)"
   ]
  },
  {
   "cell_type": "code",
   "execution_count": null,
   "metadata": {
    "collapsed": true
   },
   "outputs": [],
   "source": []
  },
  {
   "cell_type": "code",
   "execution_count": null,
   "metadata": {
    "collapsed": true,
    "scrolled": true
   },
   "outputs": [],
   "source": [
    "# from tools.knn_model import KnnModel\n",
    "\n",
    "# model_knn = KnnModel()\n",
    "# info = CommonObj().epa_station_info\n",
    "\n",
    "# i = 200\n",
    "# for i in range(0,9000,1000):\n",
    "#     fig_num = 2\n",
    "#     plt.figure(figsize=(fig_num*3,fig_num*2),dpi=100)\n",
    "\n",
    "#     ###########################################################################\n",
    "#     ax=plt.subplot(1, fig_num, 1)\n",
    "#     lats = info.lat.values\n",
    "#     lons = info.lon.values\n",
    "#     vals = stations[i,:,2].reshape(-1)\n",
    "#     title = 'stations_epa'\n",
    "#     plotMap(ax,lats,lons,vals,title,fig_num)\n",
    "#     ###########################################################################\n",
    "#     ax=plt.subplot(1, fig_num, 2)\n",
    "#     lats = model_knn.coordinates[:,0]\n",
    "#     lons = model_knn.coordinates[:,1]\n",
    "#     vals = grids[i,...].reshape(-1)\n",
    "#     title = 'grids'\n",
    "#     plotMap(ax,lats,lons,vals,title,fig_num)\n",
    "    \n",
    "#     plt.show()"
   ]
  },
  {
   "cell_type": "code",
   "execution_count": null,
   "metadata": {
    "collapsed": true
   },
   "outputs": [],
   "source": [
    "optMD = OptionMD(\n",
    "    features='pm25', \n",
    "    val_stations='Chaozhou',###\n",
    "    domains='air_3_distance-sat_3_distance', \n",
    "    model_name='station2gridMD', \n",
    "    composite_type = 'conv-filter_10x10', ###\n",
    "    batch_size=200, ###\n",
    "    epochs=2 ###\n",
    ")\n"
   ]
  },
  {
   "cell_type": "code",
   "execution_count": null,
   "metadata": {
    "collapsed": true
   },
   "outputs": [],
   "source": [
    "info = CommonObj().epa_station_info\n",
    "info.head(1)"
   ]
  },
  {
   "cell_type": "code",
   "execution_count": null,
   "metadata": {
    "collapsed": true,
    "scrolled": true
   },
   "outputs": [],
   "source": [
    "import gc\n",
    "from keras import backend as K\n",
    "\n",
    "\n",
    "for size in [range(10,30+1,10)[:2]]:\n",
    "    filter_size = 'filter_%sx%s'%(size, size)\n",
    "    composite_type = 'conv-' + filter_size\n",
    "    optMD.composite_type = composite_type\n",
    "    \n",
    "    result = pd.DataFrame()\n",
    "    ######################################################\n",
    "    for val_station in info.SiteEngName[:2]:\n",
    "        optMD.val_stations = val_station\n",
    "        \n",
    "        print(optMD.composite_type, optMD.val_stations)\n",
    "        \n",
    "        station2GridMD = station2gridMD_model.Station2GridMD(optMD)\n",
    "        station2GridMD.train()\n",
    "        grids = station2GridMD.test()\n",
    "        stations = station2GridMD.dataGeneratorMD.x_raw\n",
    "        oneStation = get_oneStation(optMD, stations, grids)\n",
    "        result = result.append(oneStation)\n",
    "        \n",
    "        del station2GridMD ###\n",
    "        K.clear_session() ###\n",
    "        gc.collect() ###\n",
    "    ######################################################\n",
    "    result.to_csv('results/%s.csv'%(optMD.composite_type), index=False)"
   ]
  },
  {
   "cell_type": "code",
   "execution_count": null,
   "metadata": {
    "collapsed": true
   },
   "outputs": [],
   "source": []
  }
 ],
 "metadata": {
  "kernelspec": {
   "display_name": "Python 3",
   "language": "python",
   "name": "python3"
  },
  "language_info": {
   "codemirror_mode": {
    "name": "ipython",
    "version": 3
   },
   "file_extension": ".py",
   "mimetype": "text/x-python",
   "name": "python",
   "nbconvert_exporter": "python",
   "pygments_lexer": "ipython3",
   "version": "3.6.5"
  },
  "toc": {
   "base_numbering": 1,
   "nav_menu": {},
   "number_sections": true,
   "sideBar": true,
   "skip_h1_title": false,
   "title_cell": "Table of Contents",
   "title_sidebar": "Contents",
   "toc_cell": false,
   "toc_position": {},
   "toc_section_display": true,
   "toc_window_display": false
  }
 },
 "nbformat": 4,
 "nbformat_minor": 2
}
