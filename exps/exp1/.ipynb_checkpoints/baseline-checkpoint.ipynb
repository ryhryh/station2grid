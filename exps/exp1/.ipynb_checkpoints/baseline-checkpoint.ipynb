{
 "cells": [
  {
   "cell_type": "markdown",
   "metadata": {},
   "source": [
    "http://www.imm.dtu.dk/~alan/krexample.pdf\n",
    "\n",
    "https://github.com/GeoStat-Framework/PyKrige"
   ]
  },
  {
   "cell_type": "markdown",
   "metadata": {
    "heading_collapsed": true
   },
   "source": [
    "# draft"
   ]
  },
  {
   "cell_type": "code",
   "execution_count": null,
   "metadata": {
    "collapsed": true,
    "hidden": true
   },
   "outputs": [],
   "source": [
    "from pykrige.ok import OrdinaryKriging\n",
    "import numpy as np\n"
   ]
  },
  {
   "cell_type": "code",
   "execution_count": null,
   "metadata": {
    "collapsed": true,
    "hidden": true
   },
   "outputs": [],
   "source": [
    "x_train=np.array([[0,0],\n",
    "                  [2,0],\n",
    "                  [4,0]])\n",
    "\n",
    "y_train=np.array([10,20,1000])\n",
    "\n",
    "x_test=np.array([[1.,0.],\n",
    "                 [3.,0.]])"
   ]
  },
  {
   "cell_type": "code",
   "execution_count": null,
   "metadata": {
    "collapsed": true,
    "hidden": true
   },
   "outputs": [],
   "source": [
    "OK = OrdinaryKriging(\n",
    "    x_train[:,0], \n",
    "    x_train[:,1], \n",
    "    y_train, \n",
    "    variogram_model='linear',\n",
    "    verbose=0, \n",
    "    enable_plotting=0\n",
    ")\n",
    "\n"
   ]
  },
  {
   "cell_type": "code",
   "execution_count": null,
   "metadata": {
    "collapsed": true,
    "hidden": true
   },
   "outputs": [],
   "source": [
    "z, ss = OK.execute('points', x_test[:,0],x_test[:,1])"
   ]
  },
  {
   "cell_type": "code",
   "execution_count": null,
   "metadata": {
    "collapsed": true,
    "hidden": true
   },
   "outputs": [],
   "source": [
    "z.shape"
   ]
  },
  {
   "cell_type": "code",
   "execution_count": null,
   "metadata": {
    "collapsed": true,
    "hidden": true
   },
   "outputs": [],
   "source": []
  },
  {
   "cell_type": "markdown",
   "metadata": {},
   "source": [
    "# refactor"
   ]
  },
  {
   "cell_type": "code",
   "execution_count": null,
   "metadata": {
    "collapsed": true
   },
   "outputs": [],
   "source": [
    "import numpy as np\n",
    "import matplotlib.pyplot as plt\n",
    "\n",
    "import os\n",
    "import sys\n",
    "home=os.path.expanduser(\"~\")\n",
    "sys.path.append(os.path.join(home, 'station2grid'))\n",
    "from tools import CommonObj, plotMap\n",
    "from tools.knn_model import KnnModel\n",
    "from tools.krg_model import KrgModel"
   ]
  },
  {
   "cell_type": "code",
   "execution_count": null,
   "metadata": {
    "collapsed": true,
    "scrolled": true
   },
   "outputs": [],
   "source": [
    "epa_station_path = '/media/disk3/feynman52/station2grid/datasets/npy/epa/epa2019.npy'\n",
    "val_stations = ['Hengchun']\n"
   ]
  },
  {
   "cell_type": "code",
   "execution_count": null,
   "metadata": {},
   "outputs": [],
   "source": [
    "knnModel = KnnModel(epa_station_path, val_stations)\n",
    "grids_knn = knnModel.get_grids(3,'distance')\n",
    "stations_knn = knnModel.stations\n",
    "stations_knn.shape, grids_knn.shape"
   ]
  },
  {
   "cell_type": "code",
   "execution_count": null,
   "metadata": {
    "scrolled": true
   },
   "outputs": [],
   "source": [
    "krgModel = KrgModel(epa_station_path, val_stations)\n",
    "grids_krg = krgModel.get_grids()\n",
    "stations_krg = krgModel.stations\n",
    "stations_krg.shape, grids_krg.shape"
   ]
  },
  {
   "cell_type": "code",
   "execution_count": null,
   "metadata": {
    "collapsed": true
   },
   "outputs": [],
   "source": []
  },
  {
   "cell_type": "code",
   "execution_count": 9,
   "metadata": {},
   "outputs": [],
   "source": [
    "from tools.knn_model import KnnModel\n",
    "\n",
    "def plot_i(i, all_stations, grids, title):\n",
    "    knnModel = KnnModel()\n",
    "    fig = plt.gcf()\n",
    "    fig.suptitle(title, fontsize=30)\n",
    "    \n",
    "    epa_station_info = CommonObj().epa_station_info\n",
    "    ax=plt.subplot(1, 2, 1)\n",
    "    lats = epa_station_info.lat.values\n",
    "    lons = epa_station_info.lon.values\n",
    "    vals = all_stations[i,:,2].reshape(-1)\n",
    "    title = 'station'\n",
    "    fig_num = 2\n",
    "    plotMap(ax,lats,lons,vals,title,fig_num)\n",
    "\n",
    "    ax=plt.subplot(1, 2, 2)\n",
    "    lats = knnModel.coordinates[:,0]\n",
    "    lons = knnModel.coordinates[:,1]\n",
    "    vals = grids[i,...].reshape(-1)\n",
    "    title = 'grid'\n",
    "    fig_num = 2\n",
    "    plotMap(ax,lats,lons,vals,title,fig_num)\n",
    "    \n",
    "    plt.tight_layout(w_pad=4)\n",
    "    plt.show()\n",
    "    \n",
    "# plot_i(1, stations_knn, grids_knn, 'knn')\n",
    "# plot_i(1, stations_krg, grids_krg, 'krg')"
   ]
  },
  {
   "cell_type": "code",
   "execution_count": null,
   "metadata": {
    "collapsed": true
   },
   "outputs": [],
   "source": []
  },
  {
   "cell_type": "code",
   "execution_count": null,
   "metadata": {
    "collapsed": true
   },
   "outputs": [],
   "source": []
  },
  {
   "cell_type": "markdown",
   "metadata": {},
   "source": [
    "# exp"
   ]
  },
  {
   "cell_type": "markdown",
   "metadata": {
    "collapsed": true
   },
   "source": [
    "## knn"
   ]
  },
  {
   "cell_type": "code",
   "execution_count": 11,
   "metadata": {
    "collapsed": true
   },
   "outputs": [],
   "source": [
    "import pandas as pd\n",
    "import numpy as np\n",
    "import matplotlib.pyplot as plt\n",
    "\n",
    "import os\n",
    "import sys\n",
    "home=os.path.expanduser(\"~\")\n",
    "sys.path.append(os.path.join(home, 'station2grid'))\n",
    "from tools import CommonObj, plotMap\n",
    "from tools.knn_model import KnnModel\n",
    "\n"
   ]
  },
  {
   "cell_type": "code",
   "execution_count": 13,
   "metadata": {},
   "outputs": [
    {
     "name": "stdout",
     "output_type": "stream",
     "text": [
      "0\n"
     ]
    }
   ],
   "source": [
    "\n",
    "epa_station_info = CommonObj().epa_station_info\n",
    "epa_station_path = '/media/disk3/feynman52/station2grid/datasets/npy/epa/epa2019.npy'\n",
    "\n",
    "result = pd.DataFrame()\n",
    "for i,val_station in enumerate(epa_station_info.SiteEngName[-1:]): ###\n",
    "    print(i)\n",
    "    \n",
    "    val_stations = [val_station]\n",
    "    model = KnnModel(epa_station_path, val_stations)\n",
    "    stations_real = model.stations_real\n",
    "\n",
    "    for k in [7]:\n",
    "        for weightKNN in ['uniform']:                \n",
    "            source = 'knn-k_%s-weightKNN_%s'%(k, weightKNN)\n",
    "            values = model.get_values(k, weightKNN)\n",
    "            \n",
    "            grids = model.get_grids(k, weightKNN)\n",
    "            stations = model.stations\n",
    "\n",
    "            dummy = pd.DataFrame()\n",
    "            dummy['real'] = stations_real.reshape(-1)\n",
    "            dummy['predict'] = values.reshape(-1)\n",
    "            dummy['station'] = val_station\n",
    "            dummy['source'] = source\n",
    "#             dts=pd.date_range(start='2019', end='2020', freq='H', closed='left') ### periods=3 end='2020'\n",
    "            dts=pd.date_range(start='2019', periods=3, freq='H', closed='left')\n",
    "            dummy['dt'] = dts\n",
    "            result = result.append(dummy)\n",
    "\n",
    "# result.to_csv('knn.csv', index=False)\n"
   ]
  },
  {
   "cell_type": "code",
   "execution_count": 14,
   "metadata": {},
   "outputs": [
    {
     "data": {
      "text/html": [
       "<div>\n",
       "<style scoped>\n",
       "    .dataframe tbody tr th:only-of-type {\n",
       "        vertical-align: middle;\n",
       "    }\n",
       "\n",
       "    .dataframe tbody tr th {\n",
       "        vertical-align: top;\n",
       "    }\n",
       "\n",
       "    .dataframe thead th {\n",
       "        text-align: right;\n",
       "    }\n",
       "</style>\n",
       "<table border=\"1\" class=\"dataframe\">\n",
       "  <thead>\n",
       "    <tr style=\"text-align: right;\">\n",
       "      <th></th>\n",
       "      <th>real</th>\n",
       "      <th>predict</th>\n",
       "      <th>station</th>\n",
       "      <th>source</th>\n",
       "      <th>dt</th>\n",
       "    </tr>\n",
       "  </thead>\n",
       "  <tbody>\n",
       "    <tr>\n",
       "      <th>0</th>\n",
       "      <td>9.0</td>\n",
       "      <td>36.285714</td>\n",
       "      <td>Hengchun</td>\n",
       "      <td>knn-k_7-weightKNN_uniform</td>\n",
       "      <td>2019-01-01 00:00:00</td>\n",
       "    </tr>\n",
       "    <tr>\n",
       "      <th>1</th>\n",
       "      <td>7.0</td>\n",
       "      <td>33.285714</td>\n",
       "      <td>Hengchun</td>\n",
       "      <td>knn-k_7-weightKNN_uniform</td>\n",
       "      <td>2019-01-01 01:00:00</td>\n",
       "    </tr>\n",
       "    <tr>\n",
       "      <th>2</th>\n",
       "      <td>11.0</td>\n",
       "      <td>33.285714</td>\n",
       "      <td>Hengchun</td>\n",
       "      <td>knn-k_7-weightKNN_uniform</td>\n",
       "      <td>2019-01-01 02:00:00</td>\n",
       "    </tr>\n",
       "  </tbody>\n",
       "</table>\n",
       "</div>"
      ],
      "text/plain": [
       "   real    predict   station                     source                  dt\n",
       "0   9.0  36.285714  Hengchun  knn-k_7-weightKNN_uniform 2019-01-01 00:00:00\n",
       "1   7.0  33.285714  Hengchun  knn-k_7-weightKNN_uniform 2019-01-01 01:00:00\n",
       "2  11.0  33.285714  Hengchun  knn-k_7-weightKNN_uniform 2019-01-01 02:00:00"
      ]
     },
     "execution_count": 14,
     "metadata": {},
     "output_type": "execute_result"
    }
   ],
   "source": [
    "result"
   ]
  },
  {
   "cell_type": "code",
   "execution_count": 16,
   "metadata": {},
   "outputs": [
    {
     "data": {
      "image/png": "[encoded data removed]",
      "text/plain": [
       "<matplotlib.figure.Figure at 0x7fd54f6d1780>"
      ]
     },
     "metadata": {},
     "output_type": "display_data"
    }
   ],
   "source": [
    "plot_i(1, stations, grids, 'knn')"
   ]
  },
  {
   "cell_type": "code",
   "execution_count": null,
   "metadata": {
    "collapsed": true
   },
   "outputs": [],
   "source": []
  },
  {
   "cell_type": "markdown",
   "metadata": {
    "collapsed": true
   },
   "source": [
    "## kriging"
   ]
  },
  {
   "cell_type": "code",
   "execution_count": 1,
   "metadata": {},
   "outputs": [],
   "source": [
    "import pandas as pd\n",
    "import numpy as np\n",
    "import matplotlib.pyplot as plt\n",
    "\n",
    "import os\n",
    "import sys\n",
    "home=os.path.expanduser(\"~\")\n",
    "sys.path.append(os.path.join(home, 'station2grid'))\n",
    "from tools import CommonObj, plotMap\n",
    "from tools.krg_model import KrgModel\n",
    "\n"
   ]
  },
  {
   "cell_type": "code",
   "execution_count": 19,
   "metadata": {},
   "outputs": [
    {
     "name": "stdout",
     "output_type": "stream",
     "text": [
      "0\n"
     ]
    }
   ],
   "source": [
    "epa_station_info = CommonObj().epa_station_info\n",
    "epa_station_path = '/media/disk3/feynman52/station2grid/datasets/npy/epa/epa2019.npy'\n",
    "\n",
    "result = pd.DataFrame()\n",
    "for i,val_station in enumerate(epa_station_info.SiteEngName[:1]): ###\n",
    "    print(i)\n",
    "    \n",
    "    val_stations = [val_station]\n",
    "    model = KrgModel(epa_station_path, val_stations)\n",
    "    stations_real = model.stations_real\n",
    "\n",
    "    k, weightKNN = 1, 'uniform'\n",
    "    source = 'knn-k_%s-weightKNN_%s'%(k,weightKNN)\n",
    "    values = model.get_values()\n",
    "    \n",
    "    grids = model.get_grids()\n",
    "    stations = model.stations\n",
    "\n",
    "    dummy = pd.DataFrame()\n",
    "    dummy['real'] = stations_real.reshape(-1)\n",
    "    dummy['predict'] = values.reshape(-1)\n",
    "    dummy['station'] = val_station\n",
    "    dummy['source'] = source\n",
    "#             dts=pd.date_range(start='2019', end='2020', freq='H', closed='left') ### periods=3 end='2020'\n",
    "    dts=pd.date_range(start='2019', periods=3, freq='H', closed='left')\n",
    "    dummy['dt'] = dts\n",
    "    result = result.append(dummy)\n",
    "\n",
    "# result.to_csv('knn.csv', index=False)\n"
   ]
  },
  {
   "cell_type": "code",
   "execution_count": 20,
   "metadata": {},
   "outputs": [
    {
     "data": {
      "text/html": [
       "<div>\n",
       "<style scoped>\n",
       "    .dataframe tbody tr th:only-of-type {\n",
       "        vertical-align: middle;\n",
       "    }\n",
       "\n",
       "    .dataframe tbody tr th {\n",
       "        vertical-align: top;\n",
       "    }\n",
       "\n",
       "    .dataframe thead th {\n",
       "        text-align: right;\n",
       "    }\n",
       "</style>\n",
       "<table border=\"1\" class=\"dataframe\">\n",
       "  <thead>\n",
       "    <tr style=\"text-align: right;\">\n",
       "      <th></th>\n",
       "      <th>real</th>\n",
       "      <th>predict</th>\n",
       "      <th>station</th>\n",
       "      <th>source</th>\n",
       "      <th>dt</th>\n",
       "    </tr>\n",
       "  </thead>\n",
       "  <tbody>\n",
       "    <tr>\n",
       "      <th>0</th>\n",
       "      <td>1.0</td>\n",
       "      <td>30.977877</td>\n",
       "      <td>Yangming</td>\n",
       "      <td>knn-k_1-weightKNN_uniform</td>\n",
       "      <td>2019-01-01 00:00:00</td>\n",
       "    </tr>\n",
       "    <tr>\n",
       "      <th>1</th>\n",
       "      <td>1.0</td>\n",
       "      <td>26.006142</td>\n",
       "      <td>Yangming</td>\n",
       "      <td>knn-k_1-weightKNN_uniform</td>\n",
       "      <td>2019-01-01 01:00:00</td>\n",
       "    </tr>\n",
       "    <tr>\n",
       "      <th>2</th>\n",
       "      <td>2.0</td>\n",
       "      <td>24.065630</td>\n",
       "      <td>Yangming</td>\n",
       "      <td>knn-k_1-weightKNN_uniform</td>\n",
       "      <td>2019-01-01 02:00:00</td>\n",
       "    </tr>\n",
       "  </tbody>\n",
       "</table>\n",
       "</div>"
      ],
      "text/plain": [
       "   real    predict   station                     source                  dt\n",
       "0   1.0  30.977877  Yangming  knn-k_1-weightKNN_uniform 2019-01-01 00:00:00\n",
       "1   1.0  26.006142  Yangming  knn-k_1-weightKNN_uniform 2019-01-01 01:00:00\n",
       "2   2.0  24.065630  Yangming  knn-k_1-weightKNN_uniform 2019-01-01 02:00:00"
      ]
     },
     "execution_count": 20,
     "metadata": {},
     "output_type": "execute_result"
    }
   ],
   "source": [
    "result"
   ]
  },
  {
   "cell_type": "code",
   "execution_count": 10,
   "metadata": {},
   "outputs": [
    {
     "data": {
      "image/png": "[encoded data removed]",
      "text/plain": [
       "<matplotlib.figure.Figure at 0x7fd581abdc88>"
      ]
     },
     "metadata": {},
     "output_type": "display_data"
    }
   ],
   "source": [
    "plot_i(1, stations, grids, 'krg')"
   ]
  },
  {
   "cell_type": "markdown",
   "metadata": {},
   "source": [
    "## svm"
   ]
  },
  {
   "cell_type": "code",
   "execution_count": null,
   "metadata": {
    "collapsed": true
   },
   "outputs": [],
   "source": []
  },
  {
   "cell_type": "code",
   "execution_count": null,
   "metadata": {
    "collapsed": true
   },
   "outputs": [],
   "source": []
  },
  {
   "cell_type": "code",
   "execution_count": null,
   "metadata": {
    "collapsed": true
   },
   "outputs": [],
   "source": []
  }
 ],
 "metadata": {
  "kernelspec": {
   "display_name": "Python 3",
   "language": "python",
   "name": "python3"
  },
  "language_info": {
   "codemirror_mode": {
    "name": "ipython",
    "version": 3
   },
   "file_extension": ".py",
   "mimetype": "text/x-python",
   "name": "python",
   "nbconvert_exporter": "python",
   "pygments_lexer": "ipython3",
   "version": "3.6.5"
  },
  "toc": {
   "base_numbering": 1,
   "nav_menu": {},
   "number_sections": true,
   "sideBar": true,
   "skip_h1_title": false,
   "title_cell": "Table of Contents",
   "title_sidebar": "Contents",
   "toc_cell": false,
   "toc_position": {},
   "toc_section_display": true,
   "toc_window_display": false
  }
 },
 "nbformat": 4,
 "nbformat_minor": 2
}
