{
 "cells": [
  {
   "cell_type": "code",
   "execution_count": 138,
   "metadata": {
    "ExecuteTime": {
     "end_time": "2020-06-13T10:13:03.526308Z",
     "start_time": "2020-06-13T10:13:03.509301Z"
    },
    "collapsed": true
   },
   "outputs": [],
   "source": [
    "from glob import glob\n",
    "import os\n",
    "import pandas as pd\n",
    "from sklearn.metrics import mean_squared_error\n",
    "import matplotlib.pyplot as plt\n",
    "import numpy as np\n",
    "import seaborn as sns\n",
    "import matplotlib\n",
    "import re\n",
    "\n",
    "import sys\n",
    "home=os.path.expanduser(\"~\")\n",
    "sys.path.append(os.path.join(home, 'station2grid'))\n",
    "\n",
    "from tools import plotMap, CommonObj\n",
    "%matplotlib inline\n",
    "\n",
    "from scipy.stats import entropy\n"
   ]
  },
  {
   "cell_type": "code",
   "execution_count": 139,
   "metadata": {
    "ExecuteTime": {
     "end_time": "2020-06-13T10:13:03.587909Z",
     "start_time": "2020-06-13T10:13:03.529157Z"
    }
   },
   "outputs": [
    {
     "data": {
      "text/html": [
       "<div>\n",
       "<style scoped>\n",
       "    .dataframe tbody tr th:only-of-type {\n",
       "        vertical-align: middle;\n",
       "    }\n",
       "\n",
       "    .dataframe tbody tr th {\n",
       "        vertical-align: top;\n",
       "    }\n",
       "\n",
       "    .dataframe thead th {\n",
       "        text-align: right;\n",
       "    }\n",
       "</style>\n",
       "<table border=\"1\" class=\"dataframe\">\n",
       "  <thead>\n",
       "    <tr style=\"text-align: right;\">\n",
       "      <th></th>\n",
       "      <th>SiteName</th>\n",
       "      <th>SiteEngName</th>\n",
       "      <th>area</th>\n",
       "      <th>lat</th>\n",
       "      <th>lon</th>\n",
       "      <th>lat_round</th>\n",
       "      <th>lon_round</th>\n",
       "      <th>row</th>\n",
       "      <th>col</th>\n",
       "    </tr>\n",
       "  </thead>\n",
       "  <tbody>\n",
       "    <tr>\n",
       "      <th>0</th>\n",
       "      <td>大霸尖山</td>\n",
       "      <td>Dabajianshan</td>\n",
       "      <td>mountain</td>\n",
       "      <td>24.461111</td>\n",
       "      <td>121.249722</td>\n",
       "      <td>24.46</td>\n",
       "      <td>121.25</td>\n",
       "      <td>88</td>\n",
       "      <td>125</td>\n",
       "    </tr>\n",
       "    <tr>\n",
       "      <th>1</th>\n",
       "      <td>牧山</td>\n",
       "      <td>Mushan</td>\n",
       "      <td>mountain</td>\n",
       "      <td>23.864722</td>\n",
       "      <td>121.152222</td>\n",
       "      <td>23.86</td>\n",
       "      <td>121.15</td>\n",
       "      <td>148</td>\n",
       "      <td>115</td>\n",
       "    </tr>\n",
       "    <tr>\n",
       "      <th>2</th>\n",
       "      <td>玉山</td>\n",
       "      <td>Yushan</td>\n",
       "      <td>mountain</td>\n",
       "      <td>23.470556</td>\n",
       "      <td>120.948889</td>\n",
       "      <td>23.47</td>\n",
       "      <td>120.95</td>\n",
       "      <td>187</td>\n",
       "      <td>95</td>\n",
       "    </tr>\n",
       "    <tr>\n",
       "      <th>3</th>\n",
       "      <td>北大武山</td>\n",
       "      <td>Beidawushan</td>\n",
       "      <td>mountain</td>\n",
       "      <td>22.629167</td>\n",
       "      <td>120.751944</td>\n",
       "      <td>22.63</td>\n",
       "      <td>120.75</td>\n",
       "      <td>271</td>\n",
       "      <td>75</td>\n",
       "    </tr>\n",
       "    <tr>\n",
       "      <th>4</th>\n",
       "      <td>陽明</td>\n",
       "      <td>Yangming</td>\n",
       "      <td>city</td>\n",
       "      <td>25.182722</td>\n",
       "      <td>121.529583</td>\n",
       "      <td>25.18</td>\n",
       "      <td>121.53</td>\n",
       "      <td>16</td>\n",
       "      <td>153</td>\n",
       "    </tr>\n",
       "  </tbody>\n",
       "</table>\n",
       "</div>"
      ],
      "text/plain": [
       "  SiteName   SiteEngName      area        lat         lon  lat_round  \\\n",
       "0     大霸尖山  Dabajianshan  mountain  24.461111  121.249722      24.46   \n",
       "1       牧山        Mushan  mountain  23.864722  121.152222      23.86   \n",
       "2       玉山        Yushan  mountain  23.470556  120.948889      23.47   \n",
       "3     北大武山   Beidawushan  mountain  22.629167  120.751944      22.63   \n",
       "4       陽明      Yangming      city  25.182722  121.529583      25.18   \n",
       "\n",
       "   lon_round  row  col  \n",
       "0     121.25   88  125  \n",
       "1     121.15  148  115  \n",
       "2     120.95  187   95  \n",
       "3     120.75  271   75  \n",
       "4     121.53   16  153  "
      ]
     },
     "execution_count": 139,
     "metadata": {},
     "output_type": "execute_result"
    }
   ],
   "source": [
    "info = CommonObj().epa_station_info\n",
    "info.head()"
   ]
  },
  {
   "cell_type": "code",
   "execution_count": 140,
   "metadata": {
    "ExecuteTime": {
     "end_time": "2020-06-13T10:13:03.606047Z",
     "start_time": "2020-06-13T10:13:03.590306Z"
    }
   },
   "outputs": [
    {
     "data": {
      "text/plain": [
       "(19, 22, 22)"
      ]
     },
     "execution_count": 140,
     "metadata": {},
     "output_type": "execute_result"
    }
   ],
   "source": [
    "epa_features = pd.read_csv('/media/disk3/feynman52/station2grid/datasets/info/epa-features')\n",
    "air_features = pd.read_csv('/media/disk3/feynman52/station2grid/datasets/info/air-features')\n",
    "sat_features = pd.read_csv('/media/disk3/feynman52/station2grid/datasets/info/sat-features')\n",
    "\n",
    "len(epa_features), len(air_features), len(sat_features), "
   ]
  },
  {
   "cell_type": "markdown",
   "metadata": {},
   "source": [
    "# fix station, pm2.5, (air,sat,epa) distribution"
   ]
  },
  {
   "cell_type": "code",
   "execution_count": 141,
   "metadata": {
    "ExecuteTime": {
     "end_time": "2020-06-13T10:13:13.465444Z",
     "start_time": "2020-06-13T10:13:03.608984Z"
    }
   },
   "outputs": [
    {
     "data": {
      "text/plain": [
       "(30005, 77, 22)"
      ]
     },
     "execution_count": 141,
     "metadata": {},
     "output_type": "execute_result"
    }
   ],
   "source": [
    "path = '/media/disk3/feynman52/station2grid/datasets/npy/air/domain_air-k_3-weightKNN_distance/station'\n",
    "station_paths = sorted(glob(os.path.join(path,'*_station_addmou_addfea.npy')))  \n",
    "air_stations = np.concatenate([np.load(x) for x in station_paths[:]], axis=0)\n",
    "air_stations.shape\n"
   ]
  },
  {
   "cell_type": "code",
   "execution_count": 142,
   "metadata": {
    "ExecuteTime": {
     "end_time": "2020-06-13T10:13:15.014762Z",
     "start_time": "2020-06-13T10:13:13.467249Z"
    }
   },
   "outputs": [
    {
     "data": {
      "text/plain": [
       "(4383, 77, 22)"
      ]
     },
     "execution_count": 142,
     "metadata": {},
     "output_type": "execute_result"
    }
   ],
   "source": [
    "path = '/media/disk3/feynman52/station2grid/datasets/npy/sat/domain_sat-k_3-weightKNN_distance/station'\n",
    "station_paths = sorted(glob(os.path.join(path,'*_station_addmou_addfea.npy')))  \n",
    "sat_stations = np.concatenate([np.load(x) for x in station_paths[:]], axis=0)\n",
    "\n",
    "\n",
    "sat_stations.shape"
   ]
  },
  {
   "cell_type": "code",
   "execution_count": 143,
   "metadata": {
    "ExecuteTime": {
     "end_time": "2020-06-13T10:13:15.278972Z",
     "start_time": "2020-06-13T10:13:15.017002Z"
    }
   },
   "outputs": [
    {
     "data": {
      "text/plain": [
       "(43824, 77, 19)"
      ]
     },
     "execution_count": 143,
     "metadata": {},
     "output_type": "execute_result"
    }
   ],
   "source": [
    "path='/media/disk3/feynman52/station2grid/datasets/npy/epa/train_epa_addmou.npy'\n",
    "epa_stations = np.load(path)\n",
    "epa_stations.shape\n"
   ]
  },
  {
   "cell_type": "code",
   "execution_count": 144,
   "metadata": {
    "ExecuteTime": {
     "end_time": "2020-06-13T10:13:15.342767Z",
     "start_time": "2020-06-13T10:13:15.280612Z"
    }
   },
   "outputs": [
    {
     "data": {
      "text/plain": [
       "(8760, 77, 19)"
      ]
     },
     "execution_count": 144,
     "metadata": {},
     "output_type": "execute_result"
    }
   ],
   "source": [
    "path='/media/disk3/feynman52/station2grid/datasets/npy/epa/test_epa_addmou.npy'\n",
    "test_epa_stations = np.load(path)\n",
    "\n",
    "\n",
    "test_epa_stations.shape"
   ]
  },
  {
   "cell_type": "code",
   "execution_count": 145,
   "metadata": {
    "ExecuteTime": {
     "end_time": "2020-06-13T10:13:15.445590Z",
     "start_time": "2020-06-13T10:13:15.344686Z"
    }
   },
   "outputs": [
    {
     "data": {
      "text/plain": [
       "(0, 0, 0)"
      ]
     },
     "execution_count": 145,
     "metadata": {},
     "output_type": "execute_result"
    }
   ],
   "source": [
    "feature = 'PM25'\n",
    "i_fea_epa = epa_features.feature.tolist().index('PM25')\n",
    "i_fea_air = air_features.feature.tolist().index('pm25')\n",
    "i_fea_sat = sat_features.feature.tolist().index('pm25')\n",
    "\n",
    "i_fea_epa, i_fea_air, i_fea_sat,"
   ]
  },
  {
   "cell_type": "code",
   "execution_count": 146,
   "metadata": {
    "ExecuteTime": {
     "end_time": "2020-06-13T10:13:15.534036Z",
     "start_time": "2020-06-13T10:13:15.448300Z"
    }
   },
   "outputs": [
    {
     "data": {
      "text/plain": [
       "43"
      ]
     },
     "execution_count": 146,
     "metadata": {},
     "output_type": "execute_result"
    }
   ],
   "source": [
    "station = 'Changhua'\n",
    "i_sta = info.SiteEngName.tolist().index(station)\n",
    "i_sta"
   ]
  },
  {
   "cell_type": "code",
   "execution_count": 147,
   "metadata": {
    "ExecuteTime": {
     "end_time": "2020-06-13T10:13:15.553719Z",
     "start_time": "2020-06-13T10:13:15.537074Z"
    }
   },
   "outputs": [
    {
     "data": {
      "text/plain": [
       "((17544,), (30005,), (2193,))"
      ]
     },
     "execution_count": 147,
     "metadata": {},
     "output_type": "execute_result"
    }
   ],
   "source": [
    "# 2017~2018\n",
    "epa_station = epa_stations[365*24*3:, i_sta, i_fea_epa]\n",
    "air_station = air_stations[:, i_sta, i_fea_air]\n",
    "sat_station = sat_stations[365*3*2:, i_sta, i_fea_sat]\n",
    "\n",
    "epa_station.shape, air_station.shape, sat_station.shape"
   ]
  },
  {
   "cell_type": "code",
   "execution_count": 148,
   "metadata": {
    "ExecuteTime": {
     "end_time": "2020-06-13T10:13:16.078948Z",
     "start_time": "2020-06-13T10:13:15.556428Z"
    },
    "scrolled": true
   },
   "outputs": [
    {
     "data": {
      "text/plain": [
       "Text(0.5,1,'Changhua')"
      ]
     },
     "execution_count": 148,
     "metadata": {},
     "output_type": "execute_result"
    },
    {
     "data": {
      "image/png": "[encoded data removed]",
      "text/plain": [
       "<matplotlib.figure.Figure at 0x7fe1d708d4e0>"
      ]
     },
     "metadata": {},
     "output_type": "display_data"
    }
   ],
   "source": [
    "fig, ax = plt.subplots()\n",
    "fig.set_size_inches(16/2, 9/2)\n",
    "sns.set(font_scale=1.5)\n",
    "for data, label in [[epa_station,'EPA'],[air_station,'MS'],[sat_station,'SAT']]:\n",
    "    sns.distplot(\n",
    "        data, \n",
    "        bins=5, \n",
    "        hist=False, \n",
    "        kde=True, \n",
    "        label=label, \n",
    "        ax=ax\n",
    "    )\n",
    "ax.set_yticks([])\n",
    "ax.set_xlabel('PM2.5')\n",
    "ax.set_title(station)"
   ]
  },
  {
   "cell_type": "code",
   "execution_count": 149,
   "metadata": {
    "ExecuteTime": {
     "end_time": "2020-06-13T10:13:16.083190Z",
     "start_time": "2020-06-13T10:13:16.080346Z"
    },
    "collapsed": true
   },
   "outputs": [],
   "source": [
    "def get_prob_dist(arr, arr_range=(0,150), bins=10):\n",
    "    count, division = np.histogram(\n",
    "        arr,\n",
    "        bins=bins,\n",
    "        range=arr_range,\n",
    "    )    \n",
    "    prob_dist = count/sum(count)\n",
    "    return prob_dist\n"
   ]
  },
  {
   "cell_type": "code",
   "execution_count": 150,
   "metadata": {
    "ExecuteTime": {
     "end_time": "2020-06-13T10:13:16.159824Z",
     "start_time": "2020-06-13T10:13:16.084967Z"
    }
   },
   "outputs": [
    {
     "data": {
      "text/plain": [
       "(0.01, 0.32)"
      ]
     },
     "execution_count": 150,
     "metadata": {},
     "output_type": "execute_result"
    }
   ],
   "source": [
    "epa_prob_dist = get_prob_dist(epa_station, arr_range=(0,150), bins=10)\n",
    "air_prob_dist = get_prob_dist(air_station, arr_range=(0,150), bins=10)\n",
    "sat_prob_dist = get_prob_dist(sat_station, arr_range=(0,150), bins=10)\n",
    "\n",
    "kld_epa_air = entropy(pk=epa_prob_dist, qk=air_prob_dist)\n",
    "kld_epa_sat = entropy(pk=epa_prob_dist, qk=sat_prob_dist)\n",
    "\n",
    "round(kld_epa_air,2), round(kld_epa_sat,2)"
   ]
  },
  {
   "cell_type": "code",
   "execution_count": 151,
   "metadata": {
    "ExecuteTime": {
     "end_time": "2020-06-13T10:13:16.258145Z",
     "start_time": "2020-06-13T10:13:16.162527Z"
    },
    "scrolled": true
   },
   "outputs": [],
   "source": [
    "# for i_sta in range(4,77):\n",
    "#     epa_station = epa_stations[365*24*3:, i_sta, i_fea_epa]\n",
    "#     air_station = air_stations[:, i_sta, i_fea_air]\n",
    "#     sat_station = sat_stations[365*3*2:, i_sta, i_fea_sat]\n",
    "#     fig, ax = plt.subplots()\n",
    "#     sns.set(font_scale=1.5)\n",
    "#     for data, label in [[epa_station,'EPA'],[air_station,'MS'],[sat_station,'SAT']]:\n",
    "#         sns.distplot(\n",
    "#             data, \n",
    "#             bins=5, \n",
    "#             hist=False, \n",
    "#             kde=True, \n",
    "#             label=label, \n",
    "#             ax=ax\n",
    "#         )    \n",
    "#     plt.title('%s'%(i_sta))\n",
    "#     plt.show()"
   ]
  },
  {
   "cell_type": "markdown",
   "metadata": {},
   "source": [
    "# (train_sat_pm25_minmax, test_epa_pm25_minmax), (train_sat_pm25_standard, test_epa_pm25_standard), "
   ]
  },
  {
   "cell_type": "code",
   "execution_count": 156,
   "metadata": {
    "ExecuteTime": {
     "end_time": "2020-06-13T10:22:10.867286Z",
     "start_time": "2020-06-13T10:22:07.919393Z"
    }
   },
   "outputs": [
    {
     "data": {
      "text/plain": [
       "((4383, 77, 22), (4383, 77, 22))"
      ]
     },
     "execution_count": 156,
     "metadata": {},
     "output_type": "execute_result"
    }
   ],
   "source": [
    "path = '/media/disk3/feynman52/station2grid/datasets/npy/sat/domain_sat-k_3-weightKNN_distance/station'\n",
    "station_paths = sorted(glob(os.path.join(path,'*_station_addmou_addfea_minmax_norm.npy')))  \n",
    "train_sat_minmax = np.concatenate([np.load(x) for x in station_paths[:]], axis=0)\n",
    "\n",
    "path = '/media/disk3/feynman52/station2grid/datasets/npy/sat/domain_sat-k_3-weightKNN_distance/station'\n",
    "station_paths = sorted(glob(os.path.join(path,'*_station_addmou_addfea_standard_norm.npy')))  \n",
    "train_sat_standard = np.concatenate([np.load(x) for x in station_paths[:]], axis=0)\n",
    "\n",
    "\n",
    "train_sat_minmax.shape, train_sat_standard.shape"
   ]
  },
  {
   "cell_type": "code",
   "execution_count": 157,
   "metadata": {
    "ExecuteTime": {
     "end_time": "2020-06-13T10:22:24.966584Z",
     "start_time": "2020-06-13T10:22:24.818760Z"
    }
   },
   "outputs": [
    {
     "data": {
      "text/plain": [
       "((8760, 77, 19), (8760, 77, 19))"
      ]
     },
     "execution_count": 157,
     "metadata": {},
     "output_type": "execute_result"
    }
   ],
   "source": [
    "path='/media/disk3/feynman52/station2grid/datasets/npy/epa/test_epa_addmou_minmax_norm.npy'\n",
    "test_epa_minmax = np.load(path)\n",
    "\n",
    "path='/media/disk3/feynman52/station2grid/datasets/npy/epa/test_epa_addmou_standard_norm.npy'\n",
    "test_epa_standard = np.load(path)\n",
    "\n",
    "test_epa_minmax.shape, test_epa_standard.shape"
   ]
  },
  {
   "cell_type": "code",
   "execution_count": 154,
   "metadata": {
    "ExecuteTime": {
     "end_time": "2020-06-13T10:20:31.949323Z",
     "start_time": "2020-06-13T10:20:31.938794Z"
    }
   },
   "outputs": [
    {
     "name": "stdout",
     "output_type": "stream",
     "text": [
      "0 0 0\n",
      "43\n"
     ]
    }
   ],
   "source": [
    "i_fea_epa = epa_features.feature.tolist().index('PM25')\n",
    "i_fea_air = air_features.feature.tolist().index('pm25')\n",
    "i_fea_sat = sat_features.feature.tolist().index('pm25')\n",
    "\n",
    "print(i_fea_epa, i_fea_air, i_fea_sat,)\n",
    "\n",
    "station = 'Changhua'\n",
    "i_sta = info.SiteEngName.tolist().index(station)\n",
    "print(i_sta)\n"
   ]
  },
  {
   "cell_type": "code",
   "execution_count": 155,
   "metadata": {
    "ExecuteTime": {
     "end_time": "2020-06-13T10:21:36.987840Z",
     "start_time": "2020-06-13T10:21:36.978928Z"
    }
   },
   "outputs": [
    {
     "data": {
      "text/plain": [
       "((4383,), (8760,))"
      ]
     },
     "execution_count": 155,
     "metadata": {},
     "output_type": "execute_result"
    }
   ],
   "source": [
    "train_sat_minmax_sta_pm25 = train_sat_minmax[:, i_sta, i_fea_sat]\n",
    "test_epa_minmax_sta_pm25 = test_epa_minmax[:, i_sta, i_fea_epa]\n",
    "\n",
    "train_sat_minmax_sta_pm25.shape, test_epa_minmax_sta_pm25.shape"
   ]
  },
  {
   "cell_type": "code",
   "execution_count": 158,
   "metadata": {
    "ExecuteTime": {
     "end_time": "2020-06-13T10:23:01.876881Z",
     "start_time": "2020-06-13T10:23:01.868654Z"
    }
   },
   "outputs": [
    {
     "data": {
      "text/plain": [
       "((4383,), (8760,))"
      ]
     },
     "execution_count": 158,
     "metadata": {},
     "output_type": "execute_result"
    }
   ],
   "source": [
    "train_sat_standard_sta_pm25 = train_sat_standard[:, i_sta, i_fea_sat]\n",
    "test_epa_standard_sta_pm25 = test_epa_standard[:, i_sta, i_fea_epa]\n",
    "\n",
    "train_sat_standard_sta_pm25.shape, test_epa_standard_sta_pm25.shape"
   ]
  },
  {
   "cell_type": "code",
   "execution_count": 159,
   "metadata": {
    "ExecuteTime": {
     "end_time": "2020-06-13T10:24:43.770605Z",
     "start_time": "2020-06-13T10:24:43.508698Z"
    }
   },
   "outputs": [
    {
     "data": {
      "text/plain": [
       "Text(0.5,1,'Changhua')"
      ]
     },
     "execution_count": 159,
     "metadata": {},
     "output_type": "execute_result"
    },
    {
     "data": {
      "image/png": "[encoded data removed]",
      "text/plain": [
       "<matplotlib.figure.Figure at 0x7fe1d68ff748>"
      ]
     },
     "metadata": {},
     "output_type": "display_data"
    }
   ],
   "source": [
    "fig, ax = plt.subplots()\n",
    "fig.set_size_inches(16/2, 9/2)\n",
    "sns.set(font_scale=1.5)\n",
    "for data, label in [[train_sat_minmax_sta_pm25,'train_sat_minmax'],[test_epa_minmax_sta_pm25,'test_epa_minmax']]:\n",
    "    sns.distplot(\n",
    "        data, \n",
    "        bins=5, \n",
    "        hist=False, \n",
    "        kde=True, \n",
    "        label=label, \n",
    "        ax=ax\n",
    "    )\n",
    "    \n",
    "ax.set_yticks([])\n",
    "ax.set_xlabel('normalized PM2.5')\n",
    "ax.set_title(station)"
   ]
  },
  {
   "cell_type": "code",
   "execution_count": 170,
   "metadata": {
    "ExecuteTime": {
     "end_time": "2020-06-13T10:30:34.772803Z",
     "start_time": "2020-06-13T10:30:34.759350Z"
    }
   },
   "outputs": [
    {
     "data": {
      "text/plain": [
       "0.09"
      ]
     },
     "execution_count": 170,
     "metadata": {},
     "output_type": "execute_result"
    }
   ],
   "source": [
    "epa_prob_dist = get_prob_dist(test_epa_minmax_sta_pm25, arr_range=(0,1), bins=10)\n",
    "sat_prob_dist = get_prob_dist(train_sat_minmax_sta_pm25, arr_range=(0,1), bins=10)\n",
    "\n",
    "kld_epa_sat = entropy(pk=epa_prob_dist, qk=sat_prob_dist)\n",
    "\n",
    "round(kld_epa_sat,2)"
   ]
  },
  {
   "cell_type": "code",
   "execution_count": 160,
   "metadata": {
    "ExecuteTime": {
     "end_time": "2020-06-13T10:25:19.319584Z",
     "start_time": "2020-06-13T10:25:18.988667Z"
    }
   },
   "outputs": [
    {
     "data": {
      "text/plain": [
       "Text(0.5,1,'Changhua')"
      ]
     },
     "execution_count": 160,
     "metadata": {},
     "output_type": "execute_result"
    },
    {
     "data": {
      "image/png": "[encoded data removed]",
      "text/plain": [
       "<matplotlib.figure.Figure at 0x7fe1d74c3978>"
      ]
     },
     "metadata": {},
     "output_type": "display_data"
    }
   ],
   "source": [
    "fig, ax = plt.subplots()\n",
    "fig.set_size_inches(16/2, 9/2)\n",
    "sns.set(font_scale=1.5)\n",
    "for data, label in [[train_sat_standard_sta_pm25,'train_sat_standard'],[test_epa_standard_sta_pm25,'test_epa_standard']]:\n",
    "    sns.distplot(\n",
    "        data, \n",
    "        bins=5, \n",
    "        hist=False, \n",
    "        kde=True, \n",
    "        label=label, \n",
    "        ax=ax\n",
    "    )\n",
    "    \n",
    "ax.set_yticks([])\n",
    "ax.set_xlabel('normalized PM2.5')\n",
    "ax.set_title(station)"
   ]
  },
  {
   "cell_type": "code",
   "execution_count": 169,
   "metadata": {
    "ExecuteTime": {
     "end_time": "2020-06-13T10:30:27.738973Z",
     "start_time": "2020-06-13T10:30:27.727974Z"
    }
   },
   "outputs": [
    {
     "data": {
      "text/plain": [
       "0.12"
      ]
     },
     "execution_count": 169,
     "metadata": {},
     "output_type": "execute_result"
    }
   ],
   "source": [
    "epa_prob_dist = get_prob_dist(test_epa_standard_sta_pm25, arr_range=(-2,8), bins=10)\n",
    "sat_prob_dist = get_prob_dist(train_sat_standard_sta_pm25, arr_range=(-2,8), bins=10)\n",
    "\n",
    "kld_epa_sat = entropy(pk=epa_prob_dist, qk=sat_prob_dist)\n",
    "\n",
    "round(kld_epa_sat,2)"
   ]
  },
  {
   "cell_type": "markdown",
   "metadata": {},
   "source": [
    "# (train_sat_pm10 vs test_epa_pm10), (train_epa_pm10 vs test_epa_pm10)"
   ]
  },
  {
   "cell_type": "code",
   "execution_count": 171,
   "metadata": {
    "ExecuteTime": {
     "end_time": "2020-06-13T14:32:46.237537Z",
     "start_time": "2020-06-13T14:32:44.700892Z"
    }
   },
   "outputs": [
    {
     "data": {
      "text/plain": [
       "(4383, 77, 22)"
      ]
     },
     "execution_count": 171,
     "metadata": {},
     "output_type": "execute_result"
    }
   ],
   "source": [
    "path = '/media/disk3/feynman52/station2grid/datasets/npy/sat/domain_sat-k_3-weightKNN_distance/station'\n",
    "station_paths = sorted(glob(os.path.join(path,'*_station_addmou_addfea.npy')))  \n",
    "train_sat = np.concatenate([np.load(x) for x in station_paths[:]], axis=0)\n",
    "\n",
    "train_sat.shape"
   ]
  },
  {
   "cell_type": "code",
   "execution_count": 172,
   "metadata": {
    "ExecuteTime": {
     "end_time": "2020-06-13T14:33:25.074567Z",
     "start_time": "2020-06-13T14:33:24.729130Z"
    }
   },
   "outputs": [
    {
     "data": {
      "text/plain": [
       "((8760, 77, 19), (43824, 77, 19))"
      ]
     },
     "execution_count": 172,
     "metadata": {},
     "output_type": "execute_result"
    }
   ],
   "source": [
    "path='/media/disk3/feynman52/station2grid/datasets/npy/epa/test_epa_addmou.npy'\n",
    "test_epa = np.load(path)\n",
    "\n",
    "path='/media/disk3/feynman52/station2grid/datasets/npy/epa/train_epa_addmou.npy'\n",
    "train_epa = np.load(path)\n",
    "\n",
    "test_epa.shape, train_epa.shape"
   ]
  },
  {
   "cell_type": "code",
   "execution_count": 323,
   "metadata": {
    "ExecuteTime": {
     "end_time": "2020-06-13T15:45:30.391177Z",
     "start_time": "2020-06-13T15:45:30.382144Z"
    }
   },
   "outputs": [
    {
     "name": "stdout",
     "output_type": "stream",
     "text": [
      "1 1\n",
      "7\n"
     ]
    }
   ],
   "source": [
    "i_fea_epa = epa_features.feature.tolist().index('PM10')\n",
    "i_fea_sat = sat_features.feature.tolist().index('pm10')\n",
    "\n",
    "print(i_fea_epa, i_fea_sat,)\n",
    "\n",
    "station = 'Keelung'\n",
    "i_sta = info.SiteEngName.tolist().index(station)\n",
    "print(i_sta)\n"
   ]
  },
  {
   "cell_type": "code",
   "execution_count": 324,
   "metadata": {
    "ExecuteTime": {
     "end_time": "2020-06-13T15:45:30.436433Z",
     "start_time": "2020-06-13T15:45:30.401625Z"
    }
   },
   "outputs": [
    {
     "data": {
      "text/plain": [
       "(4383,)"
      ]
     },
     "execution_count": 324,
     "metadata": {},
     "output_type": "execute_result"
    }
   ],
   "source": [
    "train_sat_sta_pm10 = train_sat[:, i_sta, i_fea_sat]\n",
    "\n",
    "train_sat_sta_pm10.shape"
   ]
  },
  {
   "cell_type": "code",
   "execution_count": 325,
   "metadata": {
    "ExecuteTime": {
     "end_time": "2020-06-13T15:45:30.464320Z",
     "start_time": "2020-06-13T15:45:30.439634Z"
    }
   },
   "outputs": [
    {
     "data": {
      "text/plain": [
       "(17544,)"
      ]
     },
     "execution_count": 325,
     "metadata": {},
     "output_type": "execute_result"
    }
   ],
   "source": [
    "# 2017~2018\n",
    "train_epa_sta_pm10 = train_epa[365*24*3:, i_sta, i_fea_epa]\n",
    "\n",
    "train_epa_sta_pm10.shape"
   ]
  },
  {
   "cell_type": "code",
   "execution_count": 326,
   "metadata": {
    "ExecuteTime": {
     "end_time": "2020-06-13T15:45:30.504875Z",
     "start_time": "2020-06-13T15:45:30.467022Z"
    }
   },
   "outputs": [
    {
     "data": {
      "text/plain": [
       "(8760,)"
      ]
     },
     "execution_count": 326,
     "metadata": {},
     "output_type": "execute_result"
    }
   ],
   "source": [
    "test_epa_sta_pm10 = test_epa[:, i_sta, i_fea_epa]\n",
    "\n",
    "test_epa_sta_pm10.shape"
   ]
  },
  {
   "cell_type": "code",
   "execution_count": 327,
   "metadata": {
    "ExecuteTime": {
     "end_time": "2020-06-13T15:45:30.766464Z",
     "start_time": "2020-06-13T15:45:30.507655Z"
    }
   },
   "outputs": [
    {
     "data": {
      "text/plain": [
       "(-10, 300)"
      ]
     },
     "execution_count": 327,
     "metadata": {},
     "output_type": "execute_result"
    },
    {
     "data": {
      "image/png": "[encoded data removed]",
      "text/plain": [
       "<matplotlib.figure.Figure at 0x7fe1d6a94048>"
      ]
     },
     "metadata": {},
     "output_type": "display_data"
    }
   ],
   "source": [
    "fig, ax = plt.subplots()\n",
    "fig.set_size_inches(16/2, 9/2)\n",
    "sns.set(font_scale=1.5)\n",
    "for data, label in [[train_sat_sta_pm10,'train_sat'],[test_epa_sta_pm10,'test_epa']]:\n",
    "    sns.distplot(\n",
    "        data, \n",
    "        bins=5, \n",
    "        hist=False, \n",
    "        kde=True, \n",
    "        label=label, \n",
    "        ax=ax\n",
    "    )\n",
    "    \n",
    "ax.set_yticks([])\n",
    "ax.set_xlabel('PM10')\n",
    "ax.set_title(station)\n",
    "ax.set_xlim(-10, 300)"
   ]
  },
  {
   "cell_type": "code",
   "execution_count": 328,
   "metadata": {
    "ExecuteTime": {
     "end_time": "2020-06-13T15:45:30.774557Z",
     "start_time": "2020-06-13T15:45:30.768412Z"
    }
   },
   "outputs": [
    {
     "data": {
      "text/plain": [
       "0.09"
      ]
     },
     "execution_count": 328,
     "metadata": {},
     "output_type": "execute_result"
    }
   ],
   "source": [
    "p = get_prob_dist(train_sat_sta_pm10, arr_range=(0,100), bins=10)\n",
    "q = get_prob_dist(test_epa_sta_pm10, arr_range=(0,100), bins=10)\n",
    "\n",
    "kld = entropy(pk=p, qk=q)\n",
    "\n",
    "round(kld,2)"
   ]
  },
  {
   "cell_type": "code",
   "execution_count": 329,
   "metadata": {
    "ExecuteTime": {
     "end_time": "2020-06-13T15:45:31.143585Z",
     "start_time": "2020-06-13T15:45:30.776484Z"
    }
   },
   "outputs": [
    {
     "data": {
      "text/plain": [
       "(-10, 300)"
      ]
     },
     "execution_count": 329,
     "metadata": {},
     "output_type": "execute_result"
    },
    {
     "data": {
      "image/png": "[encoded data removed]",
      "text/plain": [
       "<matplotlib.figure.Figure at 0x7fe1c707b7f0>"
      ]
     },
     "metadata": {},
     "output_type": "display_data"
    }
   ],
   "source": [
    "fig, ax = plt.subplots()\n",
    "fig.set_size_inches(16/2, 9/2)\n",
    "sns.set(font_scale=1.5)\n",
    "for data, label in [[train_epa_sta_pm10,'train_epa'],[test_epa_sta_pm10,'test_epa']]:\n",
    "    sns.distplot(\n",
    "        data, \n",
    "        bins=5, \n",
    "        hist=False, \n",
    "        kde=True, \n",
    "        label=label, \n",
    "        ax=ax\n",
    "    )\n",
    "    \n",
    "ax.set_yticks([])\n",
    "ax.set_xlabel('PM10')\n",
    "ax.set_title(station)\n",
    "ax.set_xlim(-10, 300)"
   ]
  },
  {
   "cell_type": "code",
   "execution_count": 330,
   "metadata": {
    "ExecuteTime": {
     "end_time": "2020-06-13T15:45:31.151801Z",
     "start_time": "2020-06-13T15:45:31.145350Z"
    }
   },
   "outputs": [
    {
     "data": {
      "text/plain": [
       "0.05"
      ]
     },
     "execution_count": 330,
     "metadata": {},
     "output_type": "execute_result"
    }
   ],
   "source": [
    "p = get_prob_dist(train_epa_sta_pm10, arr_range=(0,100), bins=10)\n",
    "q = get_prob_dist(test_epa_sta_pm10, arr_range=(0,100), bins=10)\n",
    "\n",
    "kld = entropy(pk=p, qk=q)\n",
    "\n",
    "round(kld,2)"
   ]
  }
 ],
 "metadata": {
  "kernelspec": {
   "display_name": "Python 3",
   "language": "python",
   "name": "python3"
  },
  "language_info": {
   "codemirror_mode": {
    "name": "ipython",
    "version": 3
   },
   "file_extension": ".py",
   "mimetype": "text/x-python",
   "name": "python",
   "nbconvert_exporter": "python",
   "pygments_lexer": "ipython3",
   "version": "3.6.5"
  },
  "toc": {
   "base_numbering": 1,
   "nav_menu": {},
   "number_sections": true,
   "sideBar": true,
   "skip_h1_title": false,
   "title_cell": "Table of Contents",
   "title_sidebar": "Contents",
   "toc_cell": false,
   "toc_position": {
    "height": "calc(100% - 180px)",
    "left": "10px",
    "top": "150px",
    "width": "165px"
   },
   "toc_section_display": true,
   "toc_window_display": true
  }
 },
 "nbformat": 4,
 "nbformat_minor": 2
}
