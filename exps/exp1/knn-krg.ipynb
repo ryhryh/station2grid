{
 "cells": [
  {
   "cell_type": "code",
   "execution_count": null,
   "metadata": {
    "ExecuteTime": {
     "end_time": "2020-05-12T16:58:00.994606Z",
     "start_time": "2020-05-12T16:57:59.774411Z"
    }
   },
   "outputs": [],
   "source": [
    "import pandas as pd\n",
    "import numpy as np\n",
    "import matplotlib.pyplot as plt\n",
    "\n",
    "import os\n",
    "import sys\n",
    "home=os.path.expanduser(\"~\")\n",
    "sys.path.append(os.path.join(home, 'station2grid'))\n",
    "from tools import CommonObj, plotMap\n",
    "\n",
    "from tools.knn_model import KnnModel\n",
    "from tools.krg_model import KrgModel\n",
    "from tools.options import *\n",
    "from tools import datasets, get_predict_result2\n"
   ]
  },
  {
   "cell_type": "code",
   "execution_count": null,
   "metadata": {
    "collapsed": true
   },
   "outputs": [],
   "source": []
  },
  {
   "cell_type": "code",
   "execution_count": null,
   "metadata": {
    "ExecuteTime": {
     "end_time": "2020-05-12T17:13:27.417732Z",
     "start_time": "2020-05-12T17:13:27.405169Z"
    },
    "collapsed": true
   },
   "outputs": [],
   "source": [
    "info = CommonObj().epa_station_info    \n",
    "stations = info.SiteEngName[32:33]"
   ]
  },
  {
   "cell_type": "markdown",
   "metadata": {},
   "source": [
    "# knn"
   ]
  },
  {
   "cell_type": "code",
   "execution_count": null,
   "metadata": {
    "ExecuteTime": {
     "end_time": "2020-05-12T17:21:23.036182Z",
     "start_time": "2020-05-12T17:21:08.518709Z"
    },
    "collapsed": true
   },
   "outputs": [],
   "source": [
    "for k in [7]:\n",
    "    for weightKNN in ['uniform']:\n",
    "        for val_stations in stations:\n",
    "            optionS2GSD = OptionS2GSD(features='pm25', val_stations=val_stations)\n",
    "            dataS2G = datasets.DataS2G(optionS2GSD)\n",
    "            dataS2G.setup_test()\n",
    "\n",
    "            model = KnnModel(dataS2G)\n",
    "            predict = model.get_values(k, weightKNN).reshape(-1)\n",
    "\n",
    "            group = 'model_name-knn--val_stations-%s--k-%s--weightKNN-%s'%(val_stations,k,weightKNN)\n",
    "            result = get_predict_result2(predict, dataS2G, group)\n",
    "\n",
    "            file_name = '---'.join([group, 'exp1.csv']) ###\n",
    "            path = os.path.join('results', file_name) \n",
    "#             result.to_csv(path, index=False)"
   ]
  },
  {
   "cell_type": "code",
   "execution_count": null,
   "metadata": {
    "ExecuteTime": {
     "end_time": "2020-05-12T17:21:23.060494Z",
     "start_time": "2020-05-12T17:21:23.038177Z"
    },
    "scrolled": true
   },
   "outputs": [],
   "source": [
    "result.head()"
   ]
  },
  {
   "cell_type": "code",
   "execution_count": null,
   "metadata": {
    "ExecuteTime": {
     "end_time": "2020-05-12T16:49:50.142911Z",
     "start_time": "2020-05-12T16:49:50.127689Z"
    },
    "collapsed": true
   },
   "outputs": [],
   "source": [
    "path"
   ]
  },
  {
   "cell_type": "markdown",
   "metadata": {},
   "source": [
    "# krg"
   ]
  },
  {
   "cell_type": "code",
   "execution_count": null,
   "metadata": {
    "ExecuteTime": {
     "end_time": "2020-05-12T17:20:31.606502Z",
     "start_time": "2020-05-12T17:18:10.479130Z"
    },
    "scrolled": true
   },
   "outputs": [],
   "source": [
    "for val_stations in stations:\n",
    "    optionS2GSD = OptionS2GSD(features='pm25', val_stations=val_stations)\n",
    "    dataS2G = datasets.DataS2G(optionS2GSD)\n",
    "    dataS2G.setup_test()\n",
    "    \n",
    "    model = KrgModel(dataS2G)\n",
    "    predict = model.get_values().reshape(-1)\n",
    "    \n",
    "    group = 'model_name-krg--val_stations-%s'%(val_stations)\n",
    "    result = get_predict_result2(predict, dataS2G, group)\n",
    "    \n",
    "    file_name = '---'.join([group, 'exp1.csv']) ###\n",
    "    path = os.path.join('results', file_name) \n",
    "#     result.to_csv(path, index=False)"
   ]
  },
  {
   "cell_type": "code",
   "execution_count": null,
   "metadata": {
    "ExecuteTime": {
     "end_time": "2020-05-12T17:20:31.648350Z",
     "start_time": "2020-05-12T17:20:31.610673Z"
    },
    "scrolled": true
   },
   "outputs": [],
   "source": [
    "result.head()"
   ]
  },
  {
   "cell_type": "code",
   "execution_count": null,
   "metadata": {
    "ExecuteTime": {
     "end_time": "2020-05-12T17:00:22.649465Z",
     "start_time": "2020-05-12T17:00:22.573221Z"
    }
   },
   "outputs": [],
   "source": [
    "path"
   ]
  }
 ],
 "metadata": {
  "kernelspec": {
   "display_name": "Python 3",
   "language": "python",
   "name": "python3"
  },
  "language_info": {
   "codemirror_mode": {
    "name": "ipython",
    "version": 3
   },
   "file_extension": ".py",
   "mimetype": "text/x-python",
   "name": "python",
   "nbconvert_exporter": "python",
   "pygments_lexer": "ipython3",
   "version": "3.6.5"
  },
  "toc": {
   "base_numbering": 1,
   "nav_menu": {},
   "number_sections": true,
   "sideBar": true,
   "skip_h1_title": false,
   "title_cell": "Table of Contents",
   "title_sidebar": "Contents",
   "toc_cell": false,
   "toc_position": {},
   "toc_section_display": true,
   "toc_window_display": false
  }
 },
 "nbformat": 4,
 "nbformat_minor": 2
}
