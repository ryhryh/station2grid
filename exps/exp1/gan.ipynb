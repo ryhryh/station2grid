{
 "cells": [
  {
   "cell_type": "markdown",
   "metadata": {},
   "source": [
    "# import "
   ]
  },
  {
   "cell_type": "code",
   "execution_count": 1,
   "metadata": {
    "ExecuteTime": {
     "end_time": "2020-06-22T09:09:53.602210Z",
     "start_time": "2020-06-22T09:09:51.315969Z"
    }
   },
   "outputs": [
    {
     "name": "stderr",
     "output_type": "stream",
     "text": [
      "Using TensorFlow backend.\n"
     ]
    }
   ],
   "source": [
    "from keras.layers import Input, Dense, Reshape, Flatten, Dropout, multiply, Concatenate, \\\n",
    "BatchNormalization, Activation, Embedding, ZeroPadding2D, Lambda\n",
    "\n",
    "from keras.layers.advanced_activations import LeakyReLU\n",
    "from keras.layers.convolutional import UpSampling2D, Conv2D\n",
    "from keras.models import Sequential, Model\n",
    "from keras.optimizers import Adam\n",
    "from keras.models import Model, load_model\n",
    "from keras import backend as K\n",
    "import gc\n",
    "\n",
    "import matplotlib.pyplot as plt\n",
    "import pandas as pd\n",
    "import numpy as np\n",
    "from glob import glob\n",
    "from sklearn.metrics import mean_squared_error\n",
    "\n",
    "import os\n",
    "import sys\n",
    "home=os.path.expanduser(\"~\")\n",
    "sys.path.append(os.path.join(home, 'station2grid'))\n",
    "\n",
    "from tools.options import *\n",
    "from models.station2code_model import ModelS2C\n",
    "from models.station2gridSD_model import ModelS2GSD\n",
    "from models.station2gridMD_model import ModelS2GMD\n",
    "from tools import CommonObj, get_predict_result, plotMap\n",
    "from tools.knn_model import KnnModel\n",
    "\n",
    "os.environ[\"CUDA_VISIBLE_DEVICES\"]='2' "
   ]
  },
  {
   "cell_type": "markdown",
   "metadata": {},
   "source": [
    "# model"
   ]
  },
  {
   "cell_type": "code",
   "execution_count": 2,
   "metadata": {
    "ExecuteTime": {
     "end_time": "2020-06-22T09:09:53.606833Z",
     "start_time": "2020-06-22T09:09:53.604181Z"
    },
    "collapsed": true
   },
   "outputs": [],
   "source": [
    "isCode = 1\n",
    "isConcat = 1\n",
    "fea_num = 3\n",
    "model_name='gan_test'\n",
    "domain = 'sat'"
   ]
  },
  {
   "cell_type": "code",
   "execution_count": 3,
   "metadata": {
    "ExecuteTime": {
     "end_time": "2020-06-22T09:09:53.750371Z",
     "start_time": "2020-06-22T09:09:53.608808Z"
    },
    "collapsed": true
   },
   "outputs": [],
   "source": [
    "\n",
    "class CGAN():\n",
    "    def __init__(self, opt):\n",
    "        # Input shape\n",
    "        self.opt = opt\n",
    "        \n",
    "        if isCode==1:\n",
    "            self.img_rows = 44\n",
    "            self.img_cols = 26\n",
    "            self.channels = 4\n",
    "        else:\n",
    "            self.img_rows = 348\n",
    "            self.img_cols = 204\n",
    "            self.channels = 1\n",
    "        \n",
    "        self.img_shape = (self.img_rows, self.img_cols, self.channels)\n",
    "        self.latent_dim = 100\n",
    "        self.setup()\n",
    "        self.build_discriminator()\n",
    "        self.build_generator()\n",
    "        \n",
    "        \n",
    "    def setup(self):\n",
    "        self.n_val_stations = len(self.opt.val_stations.split('_'))\n",
    "        self.select_station_num = (77-self.n_val_stations)*fea_num\n",
    "        \n",
    "        dic = vars(self.opt)\n",
    "        dic_join = [key+'-'+str(dic[key]) for key in dic]\n",
    "        self.group = '--'.join(dic_join)\n",
    "        self.weight_path = os.path.join(home,'station2grid','weights',self.group+'best-weight.hdf5')\n",
    "\n",
    "        \n",
    "    def build_generator(self):\n",
    "        model = Sequential()\n",
    "        model.add(Dense(256, input_dim=self.latent_dim))\n",
    "        model.add(LeakyReLU(alpha=0.2))\n",
    "        model.add(BatchNormalization(momentum=0.8))\n",
    "        model.add(Dense(512))\n",
    "        model.add(LeakyReLU(alpha=0.2))\n",
    "        model.add(BatchNormalization(momentum=0.8))\n",
    "        model.add(Dense(1024))\n",
    "        model.add(LeakyReLU(alpha=0.2))\n",
    "        model.add(BatchNormalization(momentum=0.8))\n",
    "        model.add(Dense(np.prod(self.img_shape), activation='tanh'))\n",
    "        model.add(Reshape(self.img_shape))\n",
    "\n",
    "        #model.summary()\n",
    "\n",
    "        ############################################################\n",
    "        if isConcat==1:\n",
    "            noise = Input(shape=(self.latent_dim,)) # 100\n",
    "            label = Input(shape=(self.select_station_num,)) # 76 \n",
    "            label_embedding = Dense(self.latent_dim, activation='relu')(label) # 100\n",
    "            x = Concatenate()([noise,  label_embedding]) # 100+100\n",
    "            model_input = Dense(self.latent_dim, activation='relu')(x) # 100\n",
    "        else:\n",
    "            noise = Input(shape=(self.latent_dim,)) # 100\n",
    "            label = Input(shape=(self.select_station_num,)) # 76\n",
    "            label_embedding = Dense(self.latent_dim, activation='relu')(label) # 100\n",
    "            model_input = multiply([noise, label_embedding]) # 100\n",
    "        \n",
    "        \n",
    "        \n",
    "        ############################################################\n",
    "        img = model(model_input)\n",
    "        \n",
    "        g_input = [noise, label]\n",
    "        g_output = img\n",
    "        g = Model(g_input, g_output)\n",
    "        return g\n",
    "\n",
    "    def build_discriminator(self):\n",
    "        model = Sequential(name='D') ###\n",
    "        model.add(Dense(512, input_dim=np.prod(self.img_shape)))\n",
    "        model.add(LeakyReLU(alpha=0.2))\n",
    "        model.add(Dense(512))\n",
    "        model.add(LeakyReLU(alpha=0.2))\n",
    "        model.add(Dropout(0.4))\n",
    "        model.add(Dense(512))\n",
    "        model.add(LeakyReLU(alpha=0.2))\n",
    "        model.add(Dropout(0.4))\n",
    "        model.add(Dense(1, activation='sigmoid'))\n",
    "        #model.summary()\n",
    "\n",
    "        ############################################################\n",
    "        \n",
    "        if isConcat==1:\n",
    "            img = Input(shape=self.img_shape)\n",
    "            flat_img = Flatten()(img) # 4576\n",
    "            label = Input(shape=(self.select_station_num,)) # 76\n",
    "            label_embedding = Dense(np.prod(self.img_shape), activation='relu')(label)  # 4576\n",
    "            x = Concatenate()([flat_img, label_embedding]) # 4576+4576\n",
    "            model_input = Dense(np.prod(self.img_shape), activation='relu')(x) # 4576\n",
    "        else: \n",
    "            img = Input(shape=self.img_shape) # (44,26,4)\n",
    "            flat_img = Flatten()(img) # 4576\n",
    "            label = Input(shape=(self.select_station_num,)) # 76\n",
    "            label_embedding = Dense(np.prod(self.img_shape), activation='relu')(label)  # 4576\n",
    "            model_input = multiply([flat_img, label_embedding]) # 4576\n",
    "\n",
    "        ############################################################\n",
    "        validity = model(model_input)\n",
    "        \n",
    "        d_input = [img, label]\n",
    "        d_output = validity\n",
    "        d = Model(d_input, d_output)\n",
    "        return d\n",
    "    \n",
    "    def select_from_grid(self, input_arr, lats_lons):\n",
    "        epas=[input_arr[:, lat, lon, :] for lat,lon in lats_lons]\n",
    "        output_arr=K.concatenate(epas)\n",
    "        return output_arr\n",
    "    \n",
    "    def train(self, X_train, Y_train, epochs, batch_size=128, sample_interval=50):\n",
    "    #def train(self, lats_lons, X_train, Y_train, epochs, batch_size=128, sample_interval=50):\n",
    "        \n",
    "        # Configure input\n",
    "        print('X_train.shape, y_train.shape', X_train.shape, Y_train.shape)\n",
    "\n",
    "        # Adversarial ground truths\n",
    "        valid = np.ones((batch_size, 1))\n",
    "        fake = np.zeros((batch_size, 1))\n",
    "        print('valid.shape, fake.shape', valid.shape, fake.shape)\n",
    "        \n",
    "        \n",
    "        optimizer = Adam(0.0002, 0.5)\n",
    "        \n",
    "        # Build and compile the discriminator\n",
    "        self.discriminator = self.build_discriminator()\n",
    "        self.discriminator.compile(loss=['binary_crossentropy'], optimizer=optimizer, metrics=['accuracy'])\n",
    "        self.discriminator.summary() ###\n",
    "        \n",
    "        # Build the generator\n",
    "        self.generator = self.build_generator()\n",
    "\n",
    "        noise = Input(shape=(self.latent_dim,), name='noise_input')\n",
    "        label = Input(shape=(self.select_station_num,), name='label_input')\n",
    "        img_hat = self.generator([noise, label])\n",
    "        self.generator.name = 'G' ###\n",
    "        \n",
    "        self.discriminator.trainable = False ###\n",
    "        \n",
    "        fake_ = self.discriminator([img_hat, label])\n",
    "        self.discriminator.name = 'D_output' ###\n",
    "        \n",
    "        \n",
    "        ###\n",
    "        self.combined = Model(inputs=[noise, label], outputs=fake_)\n",
    "        self.combined.compile(loss=['binary_crossentropy'], optimizer=optimizer)\n",
    "                \n",
    "#         label_hat = Lambda(\n",
    "#             self.select_from_grid, \n",
    "#             arguments={'lats_lons': lats_lons},\n",
    "#             name='label_output'\n",
    "#         )(img_hat)\n",
    "\n",
    "#         self.combined = Model(inputs=[noise, label], outputs=[fake_, label_hat])\n",
    "#         self.combined.compile(\n",
    "#             loss={'D_output': 'binary_crossentropy', 'label_output': 'mean_squared_error'},\n",
    "#             loss_weights={'D_output': 1., 'label_output': 0.2},\n",
    "#             optimizer=optimizer\n",
    "#         )\n",
    "        self.combined.summary()\n",
    "        ###\n",
    "\n",
    "        \n",
    "        \n",
    "        df_history = pd.DataFrame()\n",
    "        group = 'concat_%s-code_%s_feanum_%s'%(isConcat,isCode,fea_num)\n",
    "        for epoch in range(epochs):\n",
    "\n",
    "            # ---------------------------------------------------------------\n",
    "            #  Train Discriminator\n",
    "            # ---------------------------------------------------------------\n",
    "\n",
    "            # Select a random half batch of images\n",
    "            idxs = np.random.randint(0, len(X_train), batch_size)\n",
    "            imgs, labels = X_train[idxs], Y_train[idxs]\n",
    "\n",
    "            # Sample noise as generator input\n",
    "            noise = np.random.normal(loc=0, scale=1, size=(batch_size, self.latent_dim))\n",
    "\n",
    "            # Generate a half batch of new images\n",
    "            gen_imgs = self.generator.predict([noise, labels])\n",
    "\n",
    "            # Train the discriminator\n",
    "            # discriminator here is trainable\n",
    "            d_loss_real = self.discriminator.train_on_batch([imgs, labels], valid) # [cross_entropy,acc]\n",
    "            d_loss_fake = self.discriminator.train_on_batch([gen_imgs, labels], fake) # [cross_entropy,acc]\n",
    "            \n",
    "            # calculate loss\n",
    "            d_loss = 0.5 * np.add(d_loss_real, d_loss_fake)  \n",
    "            \n",
    "            \n",
    "            \n",
    "            # ---------------------------------------------------------------\n",
    "            #  Train Generator\n",
    "            # ---------------------------------------------------------------\n",
    "\n",
    "            # Condition on labels\n",
    "            idxs = np.random.randint(0, len(Y_train), batch_size)\n",
    "            sampled_labels = Y_train[idxs]\n",
    "\n",
    "            # Train the generator\n",
    "            # discriminator in self.combined is not trainable\n",
    "            \n",
    "            g_loss = self.combined.train_on_batch([noise, sampled_labels], valid)\n",
    "#             ce_mse = self.combined.train_on_batch(\n",
    "#                 x={'noise_input': noise, 'label_input': sampled_labels},\n",
    "#                 y={'D_output': valid, 'label_output': sampled_labels}\n",
    "#             )\n",
    "#             g_loss, label_mse = ce_mse[0], ce_mse[1]\n",
    "\n",
    "            \n",
    "            \n",
    "            \n",
    "            # ---------------------------------------------------------------\n",
    "            #  sample img\n",
    "            # ---------------------------------------------------------------\n",
    "            \n",
    "            # Plot the progress\n",
    "            if epoch % sample_interval == 0:\n",
    "                self.generator.save(self.weight_path) \n",
    "                print('epoch = %d \\t d_loss = %.3f \\t acc = %.2f \\t g_loss = %.3f'%(epoch, d_loss[0], d_loss[1], g_loss))\n",
    "                #print('epoch = %d \\t d_loss = %.3f \\t acc = %.1f \\t g_loss = %.3f \\t mse = %.1f'%(epoch, d_loss[0], 100*d_loss[1], g_loss, label_mse))\n",
    "                \n",
    "                row = pd.DataFrame()\n",
    "                row['group'] = [group]\n",
    "                row['epoch'] = [epoch]\n",
    "                row['d_loss'] = [d_loss[0]]\n",
    "                row['d_acc'] = [d_loss[1]]\n",
    "                row['g_loss'] = [g_loss]\n",
    "                df_history = df_history.append(row)\n",
    "                \n",
    "                grid_test_norm = self.test(select_station_test)\n",
    "                np.save('./temp/%s-epoch_%05d.npy'%(self.opt.model_name, epoch), grid_test_norm)\n",
    "        df_history.to_csv('df_history.csv')\n",
    "        \n",
    "    def test(self, select_station_test):\n",
    "        #print(self.weight_path)\n",
    "        model_s2c = load_model(self.weight_path)\n",
    "        noise = np.random.normal(loc=0, scale=1, size=(len(select_station_test), self.latent_dim))        \n",
    "        code_test_norm = model_s2c.predict([noise, select_station_test])\n",
    "        code_test_denorm = denormalize(code_test_norm, min_, max_)\n",
    "        \n",
    "        if isCode==1:\n",
    "            grids_hat = modelS2GSD.c2g_model.predict(code_test_denorm)\n",
    "            grids_hat = modelS2GSD.data.denormalize(grids_hat) \n",
    "        else:\n",
    "            grids_hat = code_test_denorm\n",
    "            \n",
    "        return grids_hat #grids_hat\n",
    "        "
   ]
  },
  {
   "cell_type": "markdown",
   "metadata": {},
   "source": [
    "# option"
   ]
  },
  {
   "cell_type": "code",
   "execution_count": 4,
   "metadata": {
    "ExecuteTime": {
     "end_time": "2020-06-22T09:09:53.853133Z",
     "start_time": "2020-06-22T09:09:53.753535Z"
    },
    "collapsed": true
   },
   "outputs": [],
   "source": [
    "class OptionGAN():\n",
    "    def __init__(self, model_name='gan_concat_grid', features='pm25', val_stations='Chaozhou', \n",
    "                 domain='sat', k=3, weightKNN='distance', \n",
    "                 ae_type='code_length-4576'):\n",
    "        \n",
    "        self.model_name = model_name\n",
    "        self.features = features\n",
    "        self.val_stations = val_stations\n",
    "        self.domain = domain\n",
    "        self.k = k\n",
    "        self.weightKNN = weightKNN\n",
    "        self.ae_type = ae_type\n",
    "        "
   ]
  },
  {
   "cell_type": "code",
   "execution_count": 5,
   "metadata": {
    "ExecuteTime": {
     "end_time": "2020-06-22T09:09:53.866451Z",
     "start_time": "2020-06-22T09:09:53.855747Z"
    },
    "collapsed": true
   },
   "outputs": [],
   "source": [
    "val_stations='Tainan'\n",
    "\n",
    "optionGAN = OptionGAN(\n",
    "    model_name=model_name, \n",
    "    domain=domain, k=3, weightKNN='distance', \n",
    "    val_stations=val_stations, \n",
    ")\n"
   ]
  },
  {
   "cell_type": "code",
   "execution_count": null,
   "metadata": {
    "collapsed": true
   },
   "outputs": [],
   "source": []
  },
  {
   "cell_type": "code",
   "execution_count": null,
   "metadata": {
    "collapsed": true
   },
   "outputs": [],
   "source": []
  },
  {
   "cell_type": "markdown",
   "metadata": {},
   "source": [
    "# data"
   ]
  },
  {
   "cell_type": "code",
   "execution_count": 6,
   "metadata": {
    "ExecuteTime": {
     "end_time": "2020-06-22T09:09:56.037584Z",
     "start_time": "2020-06-22T09:09:53.869049Z"
    },
    "collapsed": true
   },
   "outputs": [],
   "source": [
    "if isCode==1:\n",
    "    path = '/media/disk3/feynman52/station2grid/datasets/npy/%s/domain_%s-k_3-weightKNN_distance/code/code_length-4576/*code.npy'%(domain,domain)\n",
    "    code_train_paths = sorted(glob(path))\n",
    "    code_train = [np.load(path) for path in code_train_paths]\n",
    "    code_train = np.concatenate(code_train, axis=0)\n",
    "else:\n",
    "    path = '/media/disk3/feynman52/station2grid/datasets/npy/%s/domain_%s-k_3-weightKNN_distance/grid/*grid.npy'%(domain,domain)\n",
    "    code_train_paths = sorted(glob(path))\n",
    "    code_train = [np.load(path) for path in code_train_paths]\n",
    "    code_train = np.concatenate(code_train, axis=0)\n"
   ]
  },
  {
   "cell_type": "code",
   "execution_count": 7,
   "metadata": {
    "ExecuteTime": {
     "end_time": "2020-06-22T09:09:58.194263Z",
     "start_time": "2020-06-22T09:09:56.040765Z"
    }
   },
   "outputs": [
    {
     "data": {
      "text/plain": [
       "(4383, 77, 22)"
      ]
     },
     "execution_count": 7,
     "metadata": {},
     "output_type": "execute_result"
    }
   ],
   "source": [
    "path = '/media/disk3/feynman52/station2grid/datasets/npy/%s/domain_%s-k_3-weightKNN_distance/station/*_addmou_addfea.npy'%(domain,domain)\n",
    "station_train_paths = sorted(glob(path))\n",
    "station_train = [np.load(path)[:,:,] for path in station_train_paths]\n",
    "station_train = np.concatenate(station_train, axis=0)\n",
    "station_train.shape\n",
    "\n"
   ]
  },
  {
   "cell_type": "code",
   "execution_count": 8,
   "metadata": {
    "ExecuteTime": {
     "end_time": "2020-06-22T09:09:58.275128Z",
     "start_time": "2020-06-22T09:09:58.197340Z"
    }
   },
   "outputs": [
    {
     "data": {
      "text/plain": [
       "(8760, 77, 19)"
      ]
     },
     "execution_count": 8,
     "metadata": {},
     "output_type": "execute_result"
    }
   ],
   "source": [
    "path = '/media/disk3/feynman52/station2grid/datasets/npy/epa/test_epa_addmou.npy'\n",
    "station_test = np.load(path)\n",
    "station_test.shape\n"
   ]
  },
  {
   "cell_type": "code",
   "execution_count": 9,
   "metadata": {
    "ExecuteTime": {
     "end_time": "2020-06-22T09:09:58.524981Z",
     "start_time": "2020-06-22T09:09:58.277542Z"
    }
   },
   "outputs": [
    {
     "data": {
      "text/plain": [
       "((4383, 228), (8760, 228))"
      ]
     },
     "execution_count": 9,
     "metadata": {},
     "output_type": "execute_result"
    }
   ],
   "source": [
    "info = CommonObj().epa_station_info\n",
    "valid_info = info[info.SiteEngName==optionGAN.val_stations]\n",
    "train_info = info[info.SiteEngName!=optionGAN.val_stations]\n",
    "\n",
    "\n",
    "select_station_train = station_train[:,train_info.index,:]\n",
    "select_station_test = station_test[:,train_info.index,:] #station_test[[2000,4000,6000,8000],...][...,train_info.index]\n",
    "\n",
    "select_station_train = select_station_train[:,:,[0,5,13]].reshape(4383,-1) #0,5,6,13,20,21\n",
    "select_station_test = select_station_test[:,:,[0,2,10]].reshape(8760,-1) #0,2,3,10,17,18\n",
    "\n",
    "select_station_train.shape, select_station_test.shape, "
   ]
  },
  {
   "cell_type": "code",
   "execution_count": 10,
   "metadata": {
    "ExecuteTime": {
     "end_time": "2020-06-22T09:09:58.532512Z",
     "start_time": "2020-06-22T09:09:58.527208Z"
    }
   },
   "outputs": [
    {
     "data": {
      "text/plain": [
       "((4383, 44, 26, 4), (4383, 228), (8760, 228))"
      ]
     },
     "execution_count": 10,
     "metadata": {},
     "output_type": "execute_result"
    }
   ],
   "source": [
    "code_train.shape, select_station_train.shape, select_station_test.shape, "
   ]
  },
  {
   "cell_type": "markdown",
   "metadata": {},
   "source": [
    "# normalize"
   ]
  },
  {
   "cell_type": "code",
   "execution_count": 11,
   "metadata": {
    "ExecuteTime": {
     "end_time": "2020-06-22T09:09:58.583213Z",
     "start_time": "2020-06-22T09:09:58.535199Z"
    },
    "collapsed": true
   },
   "outputs": [],
   "source": [
    "def normalize(A, min_, max_):\n",
    "    eps = 1e-16\n",
    "    B = (A-min_) / (max_-min_+eps) # 0~1\n",
    "    C = (B-0.5) / 0.5 # -1~1\n",
    "    return C\n",
    "\n",
    "def denormalize(C, min_, max_):\n",
    "    eps = 1e-16\n",
    "    B = 0.5*C+0.5 \n",
    "    A = B*(max_-min_+eps)+min_\n",
    "    return A\n",
    "\n"
   ]
  },
  {
   "cell_type": "code",
   "execution_count": 12,
   "metadata": {
    "ExecuteTime": {
     "end_time": "2020-06-22T09:09:58.935223Z",
     "start_time": "2020-06-22T09:09:58.586096Z"
    }
   },
   "outputs": [
    {
     "data": {
      "text/plain": [
       "((4383, 44, 26, 4), (44, 26, 4))"
      ]
     },
     "execution_count": 12,
     "metadata": {},
     "output_type": "execute_result"
    }
   ],
   "source": [
    "min_ = np.min(code_train, axis=0)\n",
    "max_ = np.max(code_train, axis=0)\n",
    "\n",
    "code_train_norm = normalize(code_train, min_, max_)\n",
    "code_train_norm.shape, min_.shape"
   ]
  },
  {
   "cell_type": "markdown",
   "metadata": {},
   "source": [
    "# train"
   ]
  },
  {
   "cell_type": "code",
   "execution_count": 13,
   "metadata": {
    "ExecuteTime": {
     "end_time": "2020-06-22T09:10:05.905744Z",
     "start_time": "2020-06-22T09:09:58.937295Z"
    },
    "collapsed": true
   },
   "outputs": [],
   "source": [
    "optionS2GSD = OptionS2GSD(\n",
    "    domain= domain, k= 3, weightKNN= 'distance',\n",
    "    features='pm25',\n",
    "    val_stations=val_stations,\n",
    "    dnn_type='a1'\n",
    ")\n",
    "\n",
    "modelS2GSD = ModelS2GSD(optionS2GSD)"
   ]
  },
  {
   "cell_type": "code",
   "execution_count": 14,
   "metadata": {
    "ExecuteTime": {
     "end_time": "2020-06-22T09:10:05.916066Z",
     "start_time": "2020-06-22T09:10:05.908642Z"
    }
   },
   "outputs": [
    {
     "data": {
      "text/plain": [
       "(76, 2)"
      ]
     },
     "execution_count": 14,
     "metadata": {},
     "output_type": "execute_result"
    }
   ],
   "source": [
    "lats_lons = train_info[['row','col']].values\n",
    "lats_lons.shape"
   ]
  },
  {
   "cell_type": "code",
   "execution_count": 20,
   "metadata": {
    "ExecuteTime": {
     "end_time": "2020-06-22T09:11:54.495402Z",
     "start_time": "2020-06-22T09:11:53.283755Z"
    },
    "scrolled": true
   },
   "outputs": [],
   "source": [
    "cgan = CGAN(optionGAN)\n",
    "# cgan.train(code_train_norm, select_station_train, epochs=10000+1, batch_size=32, sample_interval=200)\n",
    "# # cgan.train(lats_lons, code_train_norm, select_station_train, epochs=1000, batch_size=32, sample_interval=200)\n"
   ]
  },
  {
   "cell_type": "markdown",
   "metadata": {},
   "source": [
    "# infer"
   ]
  },
  {
   "cell_type": "code",
   "execution_count": 24,
   "metadata": {
    "ExecuteTime": {
     "end_time": "2020-06-22T09:12:18.610475Z",
     "start_time": "2020-06-22T09:11:54.802987Z"
    },
    "scrolled": false
   },
   "outputs": [
    {
     "name": "stderr",
     "output_type": "stream",
     "text": [
      "/media/disk3/feynman52/.pyenv/versions/3.6.5/lib/python3.6/site-packages/keras/engine/saving.py:292: UserWarning: No training configuration found in save file: the model was *not* compiled. Compile it manually.\n",
      "  warnings.warn('No training configuration found in save file: '\n"
     ]
    }
   ],
   "source": [
    "grids_hat = cgan.test(select_station_test)"
   ]
  },
  {
   "cell_type": "code",
   "execution_count": 25,
   "metadata": {
    "ExecuteTime": {
     "end_time": "2020-06-22T09:12:18.622894Z",
     "start_time": "2020-06-22T09:12:18.614532Z"
    }
   },
   "outputs": [
    {
     "data": {
      "text/plain": [
       "(8760, 348, 204, 1)"
      ]
     },
     "execution_count": 25,
     "metadata": {},
     "output_type": "execute_result"
    }
   ],
   "source": [
    "grids_hat.shape"
   ]
  },
  {
   "cell_type": "code",
   "execution_count": 26,
   "metadata": {
    "ExecuteTime": {
     "end_time": "2020-06-22T09:12:18.821634Z",
     "start_time": "2020-06-22T09:12:18.625781Z"
    },
    "collapsed": true
   },
   "outputs": [],
   "source": [
    "y_true = station_test[:,valid_info.index,0].reshape(-1)\n",
    "y_hat = grids_hat[:, valid_info.row, valid_info.col, 0]\n",
    "df = get_predict_result(y_true, y_hat, cgan.group, val_station_names=valid_info.SiteEngName)"
   ]
  },
  {
   "cell_type": "code",
   "execution_count": 27,
   "metadata": {
    "ExecuteTime": {
     "end_time": "2020-06-22T09:12:18.831797Z",
     "start_time": "2020-06-22T09:12:18.824130Z"
    }
   },
   "outputs": [
    {
     "data": {
      "text/plain": [
       "120.0503175974528"
      ]
     },
     "execution_count": 27,
     "metadata": {},
     "output_type": "execute_result"
    }
   ],
   "source": [
    "mean_squared_error(df.predict, df.real)"
   ]
  },
  {
   "cell_type": "code",
   "execution_count": 28,
   "metadata": {
    "ExecuteTime": {
     "end_time": "2020-06-22T09:12:19.123551Z",
     "start_time": "2020-06-22T09:12:18.834699Z"
    }
   },
   "outputs": [
    {
     "data": {
      "text/plain": [
       "<matplotlib.axes._subplots.AxesSubplot at 0x7fae0c137160>"
      ]
     },
     "execution_count": 28,
     "metadata": {},
     "output_type": "execute_result"
    },
    {
     "data": {
      "image/png": "[encoded data removed]",
      "text/plain": [
       "<matplotlib.figure.Figure at 0x7fae2817eb00>"
      ]
     },
     "metadata": {},
     "output_type": "display_data"
    }
   ],
   "source": [
    "df.plot(y=['real','predict'])"
   ]
  },
  {
   "cell_type": "code",
   "execution_count": 29,
   "metadata": {
    "ExecuteTime": {
     "end_time": "2020-06-22T09:12:19.128018Z",
     "start_time": "2020-06-22T09:12:19.125607Z"
    },
    "collapsed": true
   },
   "outputs": [],
   "source": [
    "# K.clear_session() "
   ]
  },
  {
   "cell_type": "markdown",
   "metadata": {},
   "source": [
    "# statistic"
   ]
  },
  {
   "cell_type": "code",
   "execution_count": 30,
   "metadata": {
    "ExecuteTime": {
     "end_time": "2020-06-22T09:13:54.705867Z",
     "start_time": "2020-06-22T09:13:54.678561Z"
    },
    "scrolled": true
   },
   "outputs": [
    {
     "data": {
      "text/html": [
       "<div>\n",
       "<style scoped>\n",
       "    .dataframe tbody tr th:only-of-type {\n",
       "        vertical-align: middle;\n",
       "    }\n",
       "\n",
       "    .dataframe tbody tr th {\n",
       "        vertical-align: top;\n",
       "    }\n",
       "\n",
       "    .dataframe thead th {\n",
       "        text-align: right;\n",
       "    }\n",
       "</style>\n",
       "<table border=\"1\" class=\"dataframe\">\n",
       "  <thead>\n",
       "    <tr style=\"text-align: right;\">\n",
       "      <th></th>\n",
       "      <th>group</th>\n",
       "      <th>epoch</th>\n",
       "      <th>d_loss</th>\n",
       "      <th>d_acc</th>\n",
       "      <th>g_loss</th>\n",
       "    </tr>\n",
       "  </thead>\n",
       "  <tbody>\n",
       "    <tr>\n",
       "      <th>0</th>\n",
       "      <td>concat_1-code_1_feanum_3</td>\n",
       "      <td>0</td>\n",
       "      <td>8.864159</td>\n",
       "      <td>0.187500</td>\n",
       "      <td>1.378358e-07</td>\n",
       "    </tr>\n",
       "    <tr>\n",
       "      <th>1</th>\n",
       "      <td>concat_1-code_1_feanum_3</td>\n",
       "      <td>200</td>\n",
       "      <td>0.677745</td>\n",
       "      <td>0.484375</td>\n",
       "      <td>2.282747e+00</td>\n",
       "    </tr>\n",
       "    <tr>\n",
       "      <th>2</th>\n",
       "      <td>concat_1-code_1_feanum_3</td>\n",
       "      <td>400</td>\n",
       "      <td>0.684558</td>\n",
       "      <td>0.593750</td>\n",
       "      <td>2.214939e+00</td>\n",
       "    </tr>\n",
       "    <tr>\n",
       "      <th>3</th>\n",
       "      <td>concat_1-code_1_feanum_3</td>\n",
       "      <td>600</td>\n",
       "      <td>0.603262</td>\n",
       "      <td>0.703125</td>\n",
       "      <td>1.258425e+00</td>\n",
       "    </tr>\n",
       "    <tr>\n",
       "      <th>4</th>\n",
       "      <td>concat_1-code_1_feanum_3</td>\n",
       "      <td>800</td>\n",
       "      <td>0.659000</td>\n",
       "      <td>0.562500</td>\n",
       "      <td>1.206489e+00</td>\n",
       "    </tr>\n",
       "  </tbody>\n",
       "</table>\n",
       "</div>"
      ],
      "text/plain": [
       "                      group  epoch    d_loss     d_acc        g_loss\n",
       "0  concat_1-code_1_feanum_3      0  8.864159  0.187500  1.378358e-07\n",
       "1  concat_1-code_1_feanum_3    200  0.677745  0.484375  2.282747e+00\n",
       "2  concat_1-code_1_feanum_3    400  0.684558  0.593750  2.214939e+00\n",
       "3  concat_1-code_1_feanum_3    600  0.603262  0.703125  1.258425e+00\n",
       "4  concat_1-code_1_feanum_3    800  0.659000  0.562500  1.206489e+00"
      ]
     },
     "execution_count": 30,
     "metadata": {},
     "output_type": "execute_result"
    }
   ],
   "source": [
    "df_history = pd.read_csv('df_history.csv', index_col=0).reset_index(drop=True)\n",
    "df_history.head(5)"
   ]
  },
  {
   "cell_type": "code",
   "execution_count": 22,
   "metadata": {
    "ExecuteTime": {
     "end_time": "2020-06-22T09:11:54.552510Z",
     "start_time": "2020-06-22T09:11:54.513613Z"
    }
   },
   "outputs": [
    {
     "data": {
      "text/html": [
       "<div>\n",
       "<style scoped>\n",
       "    .dataframe tbody tr th:only-of-type {\n",
       "        vertical-align: middle;\n",
       "    }\n",
       "\n",
       "    .dataframe tbody tr th {\n",
       "        vertical-align: top;\n",
       "    }\n",
       "\n",
       "    .dataframe thead th {\n",
       "        text-align: right;\n",
       "    }\n",
       "</style>\n",
       "<table border=\"1\" class=\"dataframe\">\n",
       "  <thead>\n",
       "    <tr style=\"text-align: right;\">\n",
       "      <th></th>\n",
       "      <th>epoch</th>\n",
       "      <th>d_loss</th>\n",
       "      <th>d_acc</th>\n",
       "      <th>g_loss</th>\n",
       "    </tr>\n",
       "  </thead>\n",
       "  <tbody>\n",
       "    <tr>\n",
       "      <th>epoch</th>\n",
       "      <td>1.000000</td>\n",
       "      <td>-0.239179</td>\n",
       "      <td>0.189675</td>\n",
       "      <td>-0.162820</td>\n",
       "    </tr>\n",
       "    <tr>\n",
       "      <th>d_loss</th>\n",
       "      <td>-0.239179</td>\n",
       "      <td>1.000000</td>\n",
       "      <td>-0.668670</td>\n",
       "      <td>-0.419859</td>\n",
       "    </tr>\n",
       "    <tr>\n",
       "      <th>d_acc</th>\n",
       "      <td>0.189675</td>\n",
       "      <td>-0.668670</td>\n",
       "      <td>1.000000</td>\n",
       "      <td>0.169102</td>\n",
       "    </tr>\n",
       "    <tr>\n",
       "      <th>g_loss</th>\n",
       "      <td>-0.162820</td>\n",
       "      <td>-0.419859</td>\n",
       "      <td>0.169102</td>\n",
       "      <td>1.000000</td>\n",
       "    </tr>\n",
       "  </tbody>\n",
       "</table>\n",
       "</div>"
      ],
      "text/plain": [
       "           epoch    d_loss     d_acc    g_loss\n",
       "epoch   1.000000 -0.239179  0.189675 -0.162820\n",
       "d_loss -0.239179  1.000000 -0.668670 -0.419859\n",
       "d_acc   0.189675 -0.668670  1.000000  0.169102\n",
       "g_loss -0.162820 -0.419859  0.169102  1.000000"
      ]
     },
     "execution_count": 22,
     "metadata": {},
     "output_type": "execute_result"
    }
   ],
   "source": [
    "df_history.corr()"
   ]
  },
  {
   "cell_type": "code",
   "execution_count": 23,
   "metadata": {
    "ExecuteTime": {
     "end_time": "2020-06-22T09:11:54.800165Z",
     "start_time": "2020-06-22T09:11:54.554360Z"
    }
   },
   "outputs": [
    {
     "data": {
      "text/plain": [
       "(5, 50)"
      ]
     },
     "execution_count": 23,
     "metadata": {},
     "output_type": "execute_result"
    },
    {
     "data": {
      "image/png": "[encoded data removed]",
      "text/plain": [
       "<matplotlib.figure.Figure at 0x7faec5f157b8>"
      ]
     },
     "metadata": {},
     "output_type": "display_data"
    }
   ],
   "source": [
    "ax = df_history.plot(y=['d_loss','g_loss','d_acc'], )\n",
    "ax.set_ylim(0, 2)\n",
    "ax.set_xlim(5, 50)\n"
   ]
  },
  {
   "cell_type": "code",
   "execution_count": null,
   "metadata": {
    "ExecuteTime": {
     "start_time": "2020-06-22T09:21:48.067Z"
    },
    "scrolled": true
   },
   "outputs": [
    {
     "name": "stdout",
     "output_type": "stream",
     "text": [
      "0 224.19513169029813\n",
      "200 165.75548254862338\n",
      "400 79.46053838676136\n",
      "600 153.5925012262723\n",
      "800 86.41131821559188\n",
      "1000 115.73741630061507\n",
      "1200 75.02242724700247\n",
      "1400 85.85634878473772\n",
      "1600 130.01781834165507\n",
      "1800 72.12960370023568\n",
      "2000 153.2824352822862\n",
      "2200 62.45711869276688\n",
      "2400 89.77984597755591\n",
      "2600 118.65944404127933\n",
      "2800 209.0738703330114\n",
      "3000 109.7433545646524\n",
      "3200 114.52098430096711\n",
      "3400 70.88231420040897\n",
      "3600 126.72182827300624\n",
      "3800 104.67921189761181\n",
      "4000 90.21707245620313\n",
      "4200 141.03788143622398\n",
      "4400 98.93463060137933\n",
      "4600 84.3103682311954\n",
      "4800 165.1731774613298\n",
      "5000 122.2127377397755\n",
      "5200 105.53271076057268\n",
      "5400 128.47860651901783\n",
      "5600 207.390456220714\n",
      "5800 187.7756355835075\n",
      "6000 120.81279052834148\n",
      "6200 79.95854701426074\n"
     ]
    }
   ],
   "source": [
    "mse_list = []\n",
    "for epoch in range(0,10000,200):\n",
    "    path = './temp/gan_test-epoch_%05d.npy'%(epoch)\n",
    "    grids_hat = np.load(path)\n",
    "    \n",
    "    y_true = station_test[:,valid_info.index,0].reshape(-1)\n",
    "    y_hat = grids_hat[:, valid_info.row, valid_info.col, 0]\n",
    "    \n",
    "    df = get_predict_result(y_true, y_hat, cgan.group, val_station_names=valid_info.SiteEngName) \n",
    "    mse = mean_squared_error(df.predict, df.real)\n",
    "    mse_list.append(mse)\n",
    "    \n",
    "    print(epoch, mse)\n",
    "    "
   ]
  },
  {
   "cell_type": "code",
   "execution_count": null,
   "metadata": {
    "collapsed": true
   },
   "outputs": [],
   "source": []
  },
  {
   "cell_type": "code",
   "execution_count": null,
   "metadata": {
    "collapsed": true
   },
   "outputs": [],
   "source": []
  },
  {
   "cell_type": "code",
   "execution_count": null,
   "metadata": {
    "collapsed": true
   },
   "outputs": [],
   "source": []
  },
  {
   "cell_type": "code",
   "execution_count": null,
   "metadata": {
    "collapsed": true
   },
   "outputs": [],
   "source": []
  },
  {
   "cell_type": "code",
   "execution_count": null,
   "metadata": {
    "collapsed": true
   },
   "outputs": [],
   "source": []
  },
  {
   "cell_type": "markdown",
   "metadata": {},
   "source": [
    "# repeat infer"
   ]
  },
  {
   "cell_type": "raw",
   "metadata": {
    "ExecuteTime": {
     "end_time": "2020-06-08T09:16:13.622632Z",
     "start_time": "2020-06-08T09:16:13.546569Z"
    },
    "scrolled": true
   },
   "source": [
    "dataS2G = modelS2GSD.data\n",
    "model_knn = KnnModel(dataS2G)\n"
   ]
  },
  {
   "cell_type": "raw",
   "metadata": {
    "ExecuteTime": {
     "end_time": "2020-06-08T09:36:20.450001Z",
     "start_time": "2020-06-08T09:34:18.928527Z"
    },
    "scrolled": true
   },
   "source": [
    "mse_list = []\n",
    "for k in range(5):\n",
    "    grids_hat = cgan.test(select_station_test)\n",
    "    \n",
    "    y_true = station_test[...,valid_info.index]\n",
    "    y_hat = grids_hat[:, valid_info.row, valid_info.col, 0]\n",
    "    df = get_predict_result(y_true, y_hat, cgan.group, val_station_names=valid_info.SiteEngName)\n",
    "    mse = mean_squared_error(df.predict, df.real)\n",
    "    mse_list.append(mse)\n",
    "    \n",
    "#     nrows, ncols = 2, 3\n",
    "#     fig, axs = plt.subplots(nrows, ncols, figsize=(16, 9))\n",
    "#     for col, j in enumerate([300,600,900]):\n",
    "#         ax = axs[0][col]\n",
    "#         lats = train_info.lat.values\n",
    "#         lons = train_info.lon.values\n",
    "#         vals = select_station_test[j].reshape(-1)\n",
    "#         title = 'station'\n",
    "#         plotMap(ax, lats, lons, vals, title, title_size=20)\n",
    "\n",
    "#         ax = axs[1][col]\n",
    "#         lats = model_knn.coordinates[:,0]\n",
    "#         lons = model_knn.coordinates[:,1]\n",
    "#         vals = grids_hat[j].reshape(-1)\n",
    "#         title = 'grid-%s'%(k)\n",
    "#         plotMap(ax, lats, lons, vals, title, title_size=20)\n",
    "\n",
    "#     plt.tight_layout()\n",
    "#     plt.savefig('./temp/%s.png'%(k))\n",
    "    \n",
    "#     plt.show()\n",
    "    "
   ]
  },
  {
   "cell_type": "raw",
   "metadata": {
    "ExecuteTime": {
     "end_time": "2020-06-08T09:58:14.253781Z",
     "start_time": "2020-06-08T09:58:14.246589Z"
    }
   },
   "source": [
    "for x in mse_list:\n",
    "    print('%.2f'%(x))"
   ]
  }
 ],
 "metadata": {
  "kernelspec": {
   "display_name": "Python 3",
   "language": "python",
   "name": "python3"
  },
  "language_info": {
   "codemirror_mode": {
    "name": "ipython",
    "version": 3
   },
   "file_extension": ".py",
   "mimetype": "text/x-python",
   "name": "python",
   "nbconvert_exporter": "python",
   "pygments_lexer": "ipython3",
   "version": "3.6.5"
  },
  "toc": {
   "base_numbering": 1,
   "nav_menu": {},
   "number_sections": true,
   "sideBar": true,
   "skip_h1_title": false,
   "title_cell": "Table of Contents",
   "title_sidebar": "Contents",
   "toc_cell": false,
   "toc_position": {
    "height": "calc(100% - 180px)",
    "left": "10px",
    "top": "150px",
    "width": "165px"
   },
   "toc_section_display": true,
   "toc_window_display": true
  }
 },
 "nbformat": 4,
 "nbformat_minor": 2
}
