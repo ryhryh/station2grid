{
 "cells": [
  {
   "cell_type": "code",
   "execution_count": 1,
   "metadata": {
    "ExecuteTime": {
     "end_time": "2020-05-22T02:59:20.452267Z",
     "start_time": "2020-05-22T02:59:19.193390Z"
    },
    "collapsed": true
   },
   "outputs": [],
   "source": [
    "from glob import glob\n",
    "import os\n",
    "import pandas as pd\n",
    "from sklearn.metrics import mean_squared_error\n",
    "import matplotlib.pyplot as plt\n",
    "import numpy as np\n",
    "import seaborn as sns\n",
    "import matplotlib\n",
    "import re\n",
    "\n",
    "import sys\n",
    "home=os.path.expanduser(\"~\")\n",
    "sys.path.append(os.path.join(home, 'station2grid'))\n",
    "\n",
    "from tools import plotMap, CommonObj\n",
    "%matplotlib inline"
   ]
  },
  {
   "cell_type": "code",
   "execution_count": 2,
   "metadata": {
    "ExecuteTime": {
     "end_time": "2020-05-22T02:59:20.482379Z",
     "start_time": "2020-05-22T02:59:20.454566Z"
    }
   },
   "outputs": [
    {
     "data": {
      "text/html": [
       "<div>\n",
       "<style scoped>\n",
       "    .dataframe tbody tr th:only-of-type {\n",
       "        vertical-align: middle;\n",
       "    }\n",
       "\n",
       "    .dataframe tbody tr th {\n",
       "        vertical-align: top;\n",
       "    }\n",
       "\n",
       "    .dataframe thead th {\n",
       "        text-align: right;\n",
       "    }\n",
       "</style>\n",
       "<table border=\"1\" class=\"dataframe\">\n",
       "  <thead>\n",
       "    <tr style=\"text-align: right;\">\n",
       "      <th></th>\n",
       "      <th>SiteName</th>\n",
       "      <th>SiteEngName</th>\n",
       "      <th>area</th>\n",
       "      <th>lat</th>\n",
       "      <th>lon</th>\n",
       "      <th>lat_round</th>\n",
       "      <th>lon_round</th>\n",
       "      <th>row</th>\n",
       "      <th>col</th>\n",
       "    </tr>\n",
       "  </thead>\n",
       "  <tbody>\n",
       "    <tr>\n",
       "      <th>0</th>\n",
       "      <td>大霸尖山</td>\n",
       "      <td>Dabajianshan</td>\n",
       "      <td>mountain</td>\n",
       "      <td>24.461111</td>\n",
       "      <td>121.249722</td>\n",
       "      <td>24.46</td>\n",
       "      <td>121.25</td>\n",
       "      <td>88</td>\n",
       "      <td>125</td>\n",
       "    </tr>\n",
       "    <tr>\n",
       "      <th>1</th>\n",
       "      <td>牧山</td>\n",
       "      <td>Mushan</td>\n",
       "      <td>mountain</td>\n",
       "      <td>23.864722</td>\n",
       "      <td>121.152222</td>\n",
       "      <td>23.86</td>\n",
       "      <td>121.15</td>\n",
       "      <td>148</td>\n",
       "      <td>115</td>\n",
       "    </tr>\n",
       "    <tr>\n",
       "      <th>2</th>\n",
       "      <td>玉山</td>\n",
       "      <td>Yushan</td>\n",
       "      <td>mountain</td>\n",
       "      <td>23.470556</td>\n",
       "      <td>120.948889</td>\n",
       "      <td>23.47</td>\n",
       "      <td>120.95</td>\n",
       "      <td>187</td>\n",
       "      <td>95</td>\n",
       "    </tr>\n",
       "    <tr>\n",
       "      <th>3</th>\n",
       "      <td>北大武山</td>\n",
       "      <td>Beidawushan</td>\n",
       "      <td>mountain</td>\n",
       "      <td>22.629167</td>\n",
       "      <td>120.751944</td>\n",
       "      <td>22.63</td>\n",
       "      <td>120.75</td>\n",
       "      <td>271</td>\n",
       "      <td>75</td>\n",
       "    </tr>\n",
       "    <tr>\n",
       "      <th>4</th>\n",
       "      <td>陽明</td>\n",
       "      <td>Yangming</td>\n",
       "      <td>city</td>\n",
       "      <td>25.182722</td>\n",
       "      <td>121.529583</td>\n",
       "      <td>25.18</td>\n",
       "      <td>121.53</td>\n",
       "      <td>16</td>\n",
       "      <td>153</td>\n",
       "    </tr>\n",
       "  </tbody>\n",
       "</table>\n",
       "</div>"
      ],
      "text/plain": [
       "  SiteName   SiteEngName      area        lat         lon  lat_round  \\\n",
       "0     大霸尖山  Dabajianshan  mountain  24.461111  121.249722      24.46   \n",
       "1       牧山        Mushan  mountain  23.864722  121.152222      23.86   \n",
       "2       玉山        Yushan  mountain  23.470556  120.948889      23.47   \n",
       "3     北大武山   Beidawushan  mountain  22.629167  120.751944      22.63   \n",
       "4       陽明      Yangming      city  25.182722  121.529583      25.18   \n",
       "\n",
       "   lon_round  row  col  \n",
       "0     121.25   88  125  \n",
       "1     121.15  148  115  \n",
       "2     120.95  187   95  \n",
       "3     120.75  271   75  \n",
       "4     121.53   16  153  "
      ]
     },
     "execution_count": 2,
     "metadata": {},
     "output_type": "execute_result"
    }
   ],
   "source": [
    "info = CommonObj().epa_station_info\n",
    "info.head()"
   ]
  },
  {
   "cell_type": "markdown",
   "metadata": {},
   "source": [
    "# read"
   ]
  },
  {
   "cell_type": "code",
   "execution_count": 3,
   "metadata": {
    "ExecuteTime": {
     "end_time": "2020-05-22T02:59:20.510111Z",
     "start_time": "2020-05-22T02:59:20.485453Z"
    }
   },
   "outputs": [
    {
     "data": {
      "text/html": [
       "<div>\n",
       "<style scoped>\n",
       "    .dataframe tbody tr th:only-of-type {\n",
       "        vertical-align: middle;\n",
       "    }\n",
       "\n",
       "    .dataframe tbody tr th {\n",
       "        vertical-align: top;\n",
       "    }\n",
       "\n",
       "    .dataframe thead th {\n",
       "        text-align: right;\n",
       "    }\n",
       "</style>\n",
       "<table border=\"1\" class=\"dataframe\">\n",
       "  <thead>\n",
       "    <tr style=\"text-align: right;\">\n",
       "      <th></th>\n",
       "      <th>SiteName</th>\n",
       "      <th>SiteEngName</th>\n",
       "      <th>area</th>\n",
       "      <th>lat</th>\n",
       "      <th>lon</th>\n",
       "      <th>lat_round</th>\n",
       "      <th>lon_round</th>\n",
       "      <th>row</th>\n",
       "      <th>col</th>\n",
       "    </tr>\n",
       "  </thead>\n",
       "  <tbody>\n",
       "    <tr>\n",
       "      <th>0</th>\n",
       "      <td>大霸尖山</td>\n",
       "      <td>Dabajianshan</td>\n",
       "      <td>mountain</td>\n",
       "      <td>24.461111</td>\n",
       "      <td>121.249722</td>\n",
       "      <td>24.46</td>\n",
       "      <td>121.25</td>\n",
       "      <td>88</td>\n",
       "      <td>125</td>\n",
       "    </tr>\n",
       "  </tbody>\n",
       "</table>\n",
       "</div>"
      ],
      "text/plain": [
       "  SiteName   SiteEngName      area        lat         lon  lat_round  \\\n",
       "0     大霸尖山  Dabajianshan  mountain  24.461111  121.249722      24.46   \n",
       "\n",
       "   lon_round  row  col  \n",
       "0     121.25   88  125  "
      ]
     },
     "execution_count": 3,
     "metadata": {},
     "output_type": "execute_result"
    }
   ],
   "source": [
    "info = CommonObj().epa_station_info\n",
    "info.head(1)\n"
   ]
  },
  {
   "cell_type": "code",
   "execution_count": 4,
   "metadata": {
    "ExecuteTime": {
     "end_time": "2020-05-22T02:59:20.516892Z",
     "start_time": "2020-05-22T02:59:20.512737Z"
    },
    "collapsed": true
   },
   "outputs": [],
   "source": [
    "features_list = ['pm25',\n",
    "#                  'pm25_AMBTEMP_RAINFALL_WINDCOS_WINDSIN',\n",
    "#                  'pm25_AMBTEMP_RH_RAINFALL_WINDCOS_WINDSIN_PM10_NO2_SO2_O3'\n",
    "                ]\n",
    "\n",
    "station_list = [\n",
    "#     'Cailiao'\n",
    "    'Dabajianshan','Mushan','Yushan','Beidawushan',\n",
    "    'Cailiao','Pingzhen','Tainan','Linyuan',\n",
    "] #info.SiteEngName.values[:61]"
   ]
  },
  {
   "cell_type": "code",
   "execution_count": 5,
   "metadata": {
    "ExecuteTime": {
     "end_time": "2020-05-22T02:59:20.574041Z",
     "start_time": "2020-05-22T02:59:20.519640Z"
    },
    "scrolled": true
   },
   "outputs": [
    {
     "data": {
      "text/plain": [
       "56"
      ]
     },
     "execution_count": 5,
     "metadata": {},
     "output_type": "execute_result"
    }
   ],
   "source": [
    "def f(path):\n",
    "    features = re.search('features-(.+?)--',path)\n",
    "    features = features.group(1) if features!=None else 'pm25'\n",
    "    \n",
    "    c_type = re.search('composite_type-(.+?)--',path)\n",
    "    c_type = c_type.group(1) if c_type!=None else 'x'\n",
    "\n",
    "    val_stations = re.search('val_stations-(.+?)--',path).group(1)\n",
    "    model_name = re.search('model_name-(.+?)--',path).group(1)\n",
    "    composite_type = re.search('composite_type-(.+?)--',path)\n",
    "    c1 = (features in features_list)\n",
    "    c2 = (val_stations in station_list)\n",
    "    c3 = (model_name in ['station2gridSD','knn','station2gridMD']) #['station2gridSD','knn','station2gridMD']\n",
    "    c4 = (c_type in ['c0','c1','c2','c3','x'])\n",
    "    return c1&c2&c3&c4\n",
    "    \n",
    "paths = glob(os.path.join('results','*csv'))\n",
    "paths = [path for path in paths if f(path)==True]\n",
    "paths = sorted(paths)\n",
    "\n",
    "len(paths)\n",
    "# paths\n"
   ]
  },
  {
   "cell_type": "code",
   "execution_count": 6,
   "metadata": {
    "ExecuteTime": {
     "end_time": "2020-05-22T02:59:21.966385Z",
     "start_time": "2020-05-22T02:59:20.577026Z"
    },
    "scrolled": true
   },
   "outputs": [
    {
     "data": {
      "text/html": [
       "<div>\n",
       "<style scoped>\n",
       "    .dataframe tbody tr th:only-of-type {\n",
       "        vertical-align: middle;\n",
       "    }\n",
       "\n",
       "    .dataframe tbody tr th {\n",
       "        vertical-align: top;\n",
       "    }\n",
       "\n",
       "    .dataframe thead th {\n",
       "        text-align: right;\n",
       "    }\n",
       "</style>\n",
       "<table border=\"1\" class=\"dataframe\">\n",
       "  <thead>\n",
       "    <tr style=\"text-align: right;\">\n",
       "      <th></th>\n",
       "      <th>group</th>\n",
       "      <th>station</th>\n",
       "      <th>dt</th>\n",
       "      <th>predict</th>\n",
       "      <th>real</th>\n",
       "    </tr>\n",
       "  </thead>\n",
       "  <tbody>\n",
       "    <tr>\n",
       "      <th>0</th>\n",
       "      <td>model_name-knn--val_stations-Beidawushan--k-4-...</td>\n",
       "      <td>Beidawushan</td>\n",
       "      <td>2019-01-01 00:00:00</td>\n",
       "      <td>29.325185</td>\n",
       "      <td>0.0</td>\n",
       "    </tr>\n",
       "    <tr>\n",
       "      <th>1</th>\n",
       "      <td>model_name-knn--val_stations-Beidawushan--k-4-...</td>\n",
       "      <td>Beidawushan</td>\n",
       "      <td>2019-01-01 01:00:00</td>\n",
       "      <td>29.374299</td>\n",
       "      <td>0.0</td>\n",
       "    </tr>\n",
       "    <tr>\n",
       "      <th>2</th>\n",
       "      <td>model_name-knn--val_stations-Beidawushan--k-4-...</td>\n",
       "      <td>Beidawushan</td>\n",
       "      <td>2019-01-01 02:00:00</td>\n",
       "      <td>31.700197</td>\n",
       "      <td>0.0</td>\n",
       "    </tr>\n",
       "    <tr>\n",
       "      <th>3</th>\n",
       "      <td>model_name-knn--val_stations-Beidawushan--k-4-...</td>\n",
       "      <td>Beidawushan</td>\n",
       "      <td>2019-01-01 03:00:00</td>\n",
       "      <td>29.288675</td>\n",
       "      <td>0.0</td>\n",
       "    </tr>\n",
       "    <tr>\n",
       "      <th>4</th>\n",
       "      <td>model_name-knn--val_stations-Beidawushan--k-4-...</td>\n",
       "      <td>Beidawushan</td>\n",
       "      <td>2019-01-01 04:00:00</td>\n",
       "      <td>28.319039</td>\n",
       "      <td>0.0</td>\n",
       "    </tr>\n",
       "  </tbody>\n",
       "</table>\n",
       "</div>"
      ],
      "text/plain": [
       "                                               group      station  \\\n",
       "0  model_name-knn--val_stations-Beidawushan--k-4-...  Beidawushan   \n",
       "1  model_name-knn--val_stations-Beidawushan--k-4-...  Beidawushan   \n",
       "2  model_name-knn--val_stations-Beidawushan--k-4-...  Beidawushan   \n",
       "3  model_name-knn--val_stations-Beidawushan--k-4-...  Beidawushan   \n",
       "4  model_name-knn--val_stations-Beidawushan--k-4-...  Beidawushan   \n",
       "\n",
       "                    dt    predict  real  \n",
       "0  2019-01-01 00:00:00  29.325185   0.0  \n",
       "1  2019-01-01 01:00:00  29.374299   0.0  \n",
       "2  2019-01-01 02:00:00  31.700197   0.0  \n",
       "3  2019-01-01 03:00:00  29.288675   0.0  \n",
       "4  2019-01-01 04:00:00  28.319039   0.0  "
      ]
     },
     "execution_count": 6,
     "metadata": {},
     "output_type": "execute_result"
    }
   ],
   "source": [
    "dfs = [pd.read_csv(path) for path in paths]\n",
    "\n",
    "result = pd.concat(dfs, axis=0)\n",
    "result.head()"
   ]
  },
  {
   "cell_type": "code",
   "execution_count": 7,
   "metadata": {
    "ExecuteTime": {
     "end_time": "2020-05-22T02:59:21.989870Z",
     "start_time": "2020-05-22T02:59:21.968621Z"
    }
   },
   "outputs": [
    {
     "data": {
      "text/plain": [
       "array(['Beidawushan', 'Cailiao', 'Dabajianshan', 'Linyuan', 'Mushan',\n",
       "       'Pingzhen', 'Tainan', 'Yushan'], dtype=object)"
      ]
     },
     "execution_count": 7,
     "metadata": {},
     "output_type": "execute_result"
    }
   ],
   "source": [
    "result.station.unique()\n"
   ]
  },
  {
   "cell_type": "markdown",
   "metadata": {},
   "source": [
    "# mse"
   ]
  },
  {
   "cell_type": "code",
   "execution_count": 8,
   "metadata": {
    "ExecuteTime": {
     "end_time": "2020-05-22T02:59:22.064803Z",
     "start_time": "2020-05-22T02:59:21.991688Z"
    },
    "collapsed": true
   },
   "outputs": [],
   "source": [
    "# mean_squared_error\n",
    "\n",
    "def smape(A, F):\n",
    "    return 100/len(A) * np.sum(2 * np.abs(F - A) / (np.abs(A) + np.abs(F)))\n",
    "\n",
    "def mape(y_true, y_pred): \n",
    "    eps = 1e-16\n",
    "    y_true, y_pred = np.array(y_true), np.array(y_pred)\n",
    "    return np.mean(np.abs((y_true - y_pred) / (y_true+eps))) * 100"
   ]
  },
  {
   "cell_type": "code",
   "execution_count": 9,
   "metadata": {
    "ExecuteTime": {
     "end_time": "2020-05-22T02:59:22.377846Z",
     "start_time": "2020-05-22T02:59:22.067354Z"
    },
    "scrolled": true
   },
   "outputs": [
    {
     "name": "stdout",
     "output_type": "stream",
     "text": [
      "(56, 3)\n"
     ]
    },
    {
     "data": {
      "text/html": [
       "<div>\n",
       "<style scoped>\n",
       "    .dataframe tbody tr th:only-of-type {\n",
       "        vertical-align: middle;\n",
       "    }\n",
       "\n",
       "    .dataframe tbody tr th {\n",
       "        vertical-align: top;\n",
       "    }\n",
       "\n",
       "    .dataframe thead th {\n",
       "        text-align: right;\n",
       "    }\n",
       "</style>\n",
       "<table border=\"1\" class=\"dataframe\">\n",
       "  <thead>\n",
       "    <tr style=\"text-align: right;\">\n",
       "      <th></th>\n",
       "      <th>group</th>\n",
       "      <th>station</th>\n",
       "      <th>value</th>\n",
       "    </tr>\n",
       "  </thead>\n",
       "  <tbody>\n",
       "    <tr>\n",
       "      <th>0</th>\n",
       "      <td>model_name-knn--val_stations-Beidawushan--k-4-...</td>\n",
       "      <td>Beidawushan</td>\n",
       "      <td>625.426837</td>\n",
       "    </tr>\n",
       "    <tr>\n",
       "      <th>1</th>\n",
       "      <td>model_name-knn--val_stations-Cailiao--k-4--wei...</td>\n",
       "      <td>Cailiao</td>\n",
       "      <td>19.842513</td>\n",
       "    </tr>\n",
       "    <tr>\n",
       "      <th>2</th>\n",
       "      <td>model_name-knn--val_stations-Dabajianshan--k-4...</td>\n",
       "      <td>Dabajianshan</td>\n",
       "      <td>319.280889</td>\n",
       "    </tr>\n",
       "    <tr>\n",
       "      <th>3</th>\n",
       "      <td>model_name-knn--val_stations-Linyuan--k-4--wei...</td>\n",
       "      <td>Linyuan</td>\n",
       "      <td>46.642955</td>\n",
       "    </tr>\n",
       "    <tr>\n",
       "      <th>4</th>\n",
       "      <td>model_name-knn--val_stations-Mushan--k-4--weig...</td>\n",
       "      <td>Mushan</td>\n",
       "      <td>214.959632</td>\n",
       "    </tr>\n",
       "  </tbody>\n",
       "</table>\n",
       "</div>"
      ],
      "text/plain": [
       "                                               group       station       value\n",
       "0  model_name-knn--val_stations-Beidawushan--k-4-...   Beidawushan  625.426837\n",
       "1  model_name-knn--val_stations-Cailiao--k-4--wei...       Cailiao   19.842513\n",
       "2  model_name-knn--val_stations-Dabajianshan--k-4...  Dabajianshan  319.280889\n",
       "3  model_name-knn--val_stations-Linyuan--k-4--wei...       Linyuan   46.642955\n",
       "4  model_name-knn--val_stations-Mushan--k-4--weig...        Mushan  214.959632"
      ]
     },
     "execution_count": 9,
     "metadata": {},
     "output_type": "execute_result"
    }
   ],
   "source": [
    "by=['group', 'station'] #keys+['method','station']\n",
    "df_mse=result.groupby(by).apply(lambda row: mean_squared_error(row.real, row.predict)).reset_index(name='value')\n",
    "print(df_mse.shape)\n",
    "df_mse.head()\n"
   ]
  },
  {
   "cell_type": "code",
   "execution_count": 10,
   "metadata": {
    "ExecuteTime": {
     "end_time": "2020-05-22T02:59:22.383934Z",
     "start_time": "2020-05-22T02:59:22.379863Z"
    },
    "collapsed": true,
    "scrolled": true
   },
   "outputs": [],
   "source": [
    "site2area=dict(zip(info.SiteEngName,info.area,))\n",
    "df_mse['area']=df_mse.station.apply(lambda x: site2area[x])\n",
    "# df_mse"
   ]
  },
  {
   "cell_type": "code",
   "execution_count": 11,
   "metadata": {
    "ExecuteTime": {
     "end_time": "2020-05-22T02:59:22.510402Z",
     "start_time": "2020-05-22T02:59:22.385809Z"
    },
    "collapsed": true
   },
   "outputs": [],
   "source": [
    "def parse(path, key='dnn_type'):\n",
    "    match = re.search('(--|^)%s-(.+?)(--|$)'%(key), path)\n",
    "    value = match.group(2) if match != None else '' ###\n",
    "    return value\n",
    "    \n",
    "keys=['model_name','domain','composite_type'] # ['model_name','domain','k','weightKNN','composite_type','features']\n",
    "for key in keys:\n",
    "    df_mse[key] = df_mse.group.apply(lambda x: parse(x, key=key))\n",
    "    \n",
    "df_mse['method'] = df_mse.apply(\n",
    "    lambda row: '-'.join([row[key] for key in keys]),axis=1)\n"
   ]
  },
  {
   "cell_type": "code",
   "execution_count": 12,
   "metadata": {
    "ExecuteTime": {
     "end_time": "2020-05-22T02:59:22.619480Z",
     "start_time": "2020-05-22T02:59:22.512787Z"
    }
   },
   "outputs": [
    {
     "data": {
      "text/html": [
       "<div>\n",
       "<style scoped>\n",
       "    .dataframe tbody tr th:only-of-type {\n",
       "        vertical-align: middle;\n",
       "    }\n",
       "\n",
       "    .dataframe tbody tr th {\n",
       "        vertical-align: top;\n",
       "    }\n",
       "\n",
       "    .dataframe thead th {\n",
       "        text-align: right;\n",
       "    }\n",
       "</style>\n",
       "<table border=\"1\" class=\"dataframe\">\n",
       "  <thead>\n",
       "    <tr style=\"text-align: right;\">\n",
       "      <th></th>\n",
       "      <th>group</th>\n",
       "      <th>station</th>\n",
       "      <th>value</th>\n",
       "      <th>area</th>\n",
       "      <th>model_name</th>\n",
       "      <th>domain</th>\n",
       "      <th>composite_type</th>\n",
       "      <th>method</th>\n",
       "    </tr>\n",
       "  </thead>\n",
       "  <tbody>\n",
       "    <tr>\n",
       "      <th>0</th>\n",
       "      <td>model_name-knn--val_stations-Beidawushan--k-4-...</td>\n",
       "      <td>Beidawushan</td>\n",
       "      <td>625.426837</td>\n",
       "      <td>mountain</td>\n",
       "      <td>knn</td>\n",
       "      <td></td>\n",
       "      <td></td>\n",
       "      <td>knn--</td>\n",
       "    </tr>\n",
       "  </tbody>\n",
       "</table>\n",
       "</div>"
      ],
      "text/plain": [
       "                                               group      station       value  \\\n",
       "0  model_name-knn--val_stations-Beidawushan--k-4-...  Beidawushan  625.426837   \n",
       "\n",
       "       area model_name domain composite_type method  \n",
       "0  mountain        knn                        knn--  "
      ]
     },
     "execution_count": 12,
     "metadata": {},
     "output_type": "execute_result"
    }
   ],
   "source": [
    "df_mse.head(1)"
   ]
  },
  {
   "cell_type": "code",
   "execution_count": 13,
   "metadata": {
    "ExecuteTime": {
     "end_time": "2020-05-22T02:59:22.734393Z",
     "start_time": "2020-05-22T02:59:22.622189Z"
    },
    "scrolled": true
   },
   "outputs": [
    {
     "data": {
      "text/html": [
       "<div>\n",
       "<style scoped>\n",
       "    .dataframe tbody tr th:only-of-type {\n",
       "        vertical-align: middle;\n",
       "    }\n",
       "\n",
       "    .dataframe tbody tr th {\n",
       "        vertical-align: top;\n",
       "    }\n",
       "\n",
       "    .dataframe thead th {\n",
       "        text-align: right;\n",
       "    }\n",
       "</style>\n",
       "<table border=\"1\" class=\"dataframe\">\n",
       "  <thead>\n",
       "    <tr style=\"text-align: right;\">\n",
       "      <th></th>\n",
       "      <th></th>\n",
       "      <th></th>\n",
       "      <th>count</th>\n",
       "      <th>mean</th>\n",
       "      <th>std</th>\n",
       "      <th>min</th>\n",
       "      <th>25%</th>\n",
       "      <th>50%</th>\n",
       "      <th>75%</th>\n",
       "      <th>max</th>\n",
       "    </tr>\n",
       "    <tr>\n",
       "      <th></th>\n",
       "      <th>method</th>\n",
       "      <th>area</th>\n",
       "      <th></th>\n",
       "      <th></th>\n",
       "      <th></th>\n",
       "      <th></th>\n",
       "      <th></th>\n",
       "      <th></th>\n",
       "      <th></th>\n",
       "      <th></th>\n",
       "    </tr>\n",
       "  </thead>\n",
       "  <tbody>\n",
       "    <tr>\n",
       "      <th rowspan=\"14\" valign=\"top\">value</th>\n",
       "      <th rowspan=\"2\" valign=\"top\">knn--</th>\n",
       "      <th>city</th>\n",
       "      <td>4.0</td>\n",
       "      <td>34.291050</td>\n",
       "      <td>11.136548</td>\n",
       "      <td>19.842513</td>\n",
       "      <td>29.915317</td>\n",
       "      <td>35.339366</td>\n",
       "      <td>39.715099</td>\n",
       "      <td>46.642955</td>\n",
       "    </tr>\n",
       "    <tr>\n",
       "      <th>mountain</th>\n",
       "      <td>4.0</td>\n",
       "      <td>354.078471</td>\n",
       "      <td>185.910231</td>\n",
       "      <td>214.959632</td>\n",
       "      <td>246.224804</td>\n",
       "      <td>287.963708</td>\n",
       "      <td>395.817376</td>\n",
       "      <td>625.426837</td>\n",
       "    </tr>\n",
       "    <tr>\n",
       "      <th rowspan=\"2\" valign=\"top\">station2gridMD--c0</th>\n",
       "      <th>city</th>\n",
       "      <td>4.0</td>\n",
       "      <td>33.612767</td>\n",
       "      <td>16.710942</td>\n",
       "      <td>14.626680</td>\n",
       "      <td>27.523204</td>\n",
       "      <td>32.229941</td>\n",
       "      <td>38.319503</td>\n",
       "      <td>55.364504</td>\n",
       "    </tr>\n",
       "    <tr>\n",
       "      <th>mountain</th>\n",
       "      <td>4.0</td>\n",
       "      <td>364.845146</td>\n",
       "      <td>172.707883</td>\n",
       "      <td>156.019129</td>\n",
       "      <td>306.610327</td>\n",
       "      <td>362.249954</td>\n",
       "      <td>420.484773</td>\n",
       "      <td>578.861547</td>\n",
       "    </tr>\n",
       "    <tr>\n",
       "      <th rowspan=\"2\" valign=\"top\">station2gridMD--c1</th>\n",
       "      <th>city</th>\n",
       "      <td>4.0</td>\n",
       "      <td>34.050614</td>\n",
       "      <td>15.974946</td>\n",
       "      <td>17.246526</td>\n",
       "      <td>27.029598</td>\n",
       "      <td>31.636680</td>\n",
       "      <td>38.657695</td>\n",
       "      <td>55.682569</td>\n",
       "    </tr>\n",
       "    <tr>\n",
       "      <th>mountain</th>\n",
       "      <td>4.0</td>\n",
       "      <td>314.408559</td>\n",
       "      <td>125.244567</td>\n",
       "      <td>138.901156</td>\n",
       "      <td>274.364353</td>\n",
       "      <td>344.934059</td>\n",
       "      <td>384.978265</td>\n",
       "      <td>428.864961</td>\n",
       "    </tr>\n",
       "    <tr>\n",
       "      <th rowspan=\"2\" valign=\"top\">station2gridMD--c2</th>\n",
       "      <th>city</th>\n",
       "      <td>4.0</td>\n",
       "      <td>35.475558</td>\n",
       "      <td>17.860814</td>\n",
       "      <td>18.440167</td>\n",
       "      <td>27.929382</td>\n",
       "      <td>31.408191</td>\n",
       "      <td>38.954367</td>\n",
       "      <td>60.645682</td>\n",
       "    </tr>\n",
       "    <tr>\n",
       "      <th>mountain</th>\n",
       "      <td>4.0</td>\n",
       "      <td>314.575647</td>\n",
       "      <td>139.633403</td>\n",
       "      <td>137.949790</td>\n",
       "      <td>266.802538</td>\n",
       "      <td>320.765821</td>\n",
       "      <td>368.538930</td>\n",
       "      <td>478.821155</td>\n",
       "    </tr>\n",
       "    <tr>\n",
       "      <th rowspan=\"2\" valign=\"top\">station2gridMD--c3</th>\n",
       "      <th>city</th>\n",
       "      <td>4.0</td>\n",
       "      <td>35.162461</td>\n",
       "      <td>17.784088</td>\n",
       "      <td>18.255723</td>\n",
       "      <td>27.841580</td>\n",
       "      <td>31.070914</td>\n",
       "      <td>38.391795</td>\n",
       "      <td>60.252295</td>\n",
       "    </tr>\n",
       "    <tr>\n",
       "      <th>mountain</th>\n",
       "      <td>4.0</td>\n",
       "      <td>306.144362</td>\n",
       "      <td>141.228548</td>\n",
       "      <td>140.040986</td>\n",
       "      <td>246.227093</td>\n",
       "      <td>300.497290</td>\n",
       "      <td>360.414559</td>\n",
       "      <td>483.541881</td>\n",
       "    </tr>\n",
       "    <tr>\n",
       "      <th rowspan=\"2\" valign=\"top\">station2gridSD-air-</th>\n",
       "      <th>city</th>\n",
       "      <td>4.0</td>\n",
       "      <td>32.949955</td>\n",
       "      <td>12.537951</td>\n",
       "      <td>18.316312</td>\n",
       "      <td>28.048617</td>\n",
       "      <td>32.288702</td>\n",
       "      <td>37.190040</td>\n",
       "      <td>48.906102</td>\n",
       "    </tr>\n",
       "    <tr>\n",
       "      <th>mountain</th>\n",
       "      <td>4.0</td>\n",
       "      <td>402.334295</td>\n",
       "      <td>179.390399</td>\n",
       "      <td>170.427096</td>\n",
       "      <td>347.963612</td>\n",
       "      <td>415.480956</td>\n",
       "      <td>469.851638</td>\n",
       "      <td>607.948171</td>\n",
       "    </tr>\n",
       "    <tr>\n",
       "      <th rowspan=\"2\" valign=\"top\">station2gridSD-sat-</th>\n",
       "      <th>city</th>\n",
       "      <td>4.0</td>\n",
       "      <td>48.711627</td>\n",
       "      <td>24.579048</td>\n",
       "      <td>22.639382</td>\n",
       "      <td>39.293776</td>\n",
       "      <td>45.114889</td>\n",
       "      <td>54.532740</td>\n",
       "      <td>81.977351</td>\n",
       "    </tr>\n",
       "    <tr>\n",
       "      <th>mountain</th>\n",
       "      <td>4.0</td>\n",
       "      <td>300.405204</td>\n",
       "      <td>71.001200</td>\n",
       "      <td>209.503769</td>\n",
       "      <td>271.907127</td>\n",
       "      <td>305.632406</td>\n",
       "      <td>334.130484</td>\n",
       "      <td>380.852237</td>\n",
       "    </tr>\n",
       "  </tbody>\n",
       "</table>\n",
       "</div>"
      ],
      "text/plain": [
       "                                    count        mean         std         min  \\\n",
       "      method              area                                                  \n",
       "value knn--               city        4.0   34.291050   11.136548   19.842513   \n",
       "                          mountain    4.0  354.078471  185.910231  214.959632   \n",
       "      station2gridMD--c0  city        4.0   33.612767   16.710942   14.626680   \n",
       "                          mountain    4.0  364.845146  172.707883  156.019129   \n",
       "      station2gridMD--c1  city        4.0   34.050614   15.974946   17.246526   \n",
       "                          mountain    4.0  314.408559  125.244567  138.901156   \n",
       "      station2gridMD--c2  city        4.0   35.475558   17.860814   18.440167   \n",
       "                          mountain    4.0  314.575647  139.633403  137.949790   \n",
       "      station2gridMD--c3  city        4.0   35.162461   17.784088   18.255723   \n",
       "                          mountain    4.0  306.144362  141.228548  140.040986   \n",
       "      station2gridSD-air- city        4.0   32.949955   12.537951   18.316312   \n",
       "                          mountain    4.0  402.334295  179.390399  170.427096   \n",
       "      station2gridSD-sat- city        4.0   48.711627   24.579048   22.639382   \n",
       "                          mountain    4.0  300.405204   71.001200  209.503769   \n",
       "\n",
       "                                           25%         50%         75%  \\\n",
       "      method              area                                           \n",
       "value knn--               city       29.915317   35.339366   39.715099   \n",
       "                          mountain  246.224804  287.963708  395.817376   \n",
       "      station2gridMD--c0  city       27.523204   32.229941   38.319503   \n",
       "                          mountain  306.610327  362.249954  420.484773   \n",
       "      station2gridMD--c1  city       27.029598   31.636680   38.657695   \n",
       "                          mountain  274.364353  344.934059  384.978265   \n",
       "      station2gridMD--c2  city       27.929382   31.408191   38.954367   \n",
       "                          mountain  266.802538  320.765821  368.538930   \n",
       "      station2gridMD--c3  city       27.841580   31.070914   38.391795   \n",
       "                          mountain  246.227093  300.497290  360.414559   \n",
       "      station2gridSD-air- city       28.048617   32.288702   37.190040   \n",
       "                          mountain  347.963612  415.480956  469.851638   \n",
       "      station2gridSD-sat- city       39.293776   45.114889   54.532740   \n",
       "                          mountain  271.907127  305.632406  334.130484   \n",
       "\n",
       "                                           max  \n",
       "      method              area                  \n",
       "value knn--               city       46.642955  \n",
       "                          mountain  625.426837  \n",
       "      station2gridMD--c0  city       55.364504  \n",
       "                          mountain  578.861547  \n",
       "      station2gridMD--c1  city       55.682569  \n",
       "                          mountain  428.864961  \n",
       "      station2gridMD--c2  city       60.645682  \n",
       "                          mountain  478.821155  \n",
       "      station2gridMD--c3  city       60.252295  \n",
       "                          mountain  483.541881  \n",
       "      station2gridSD-air- city       48.906102  \n",
       "                          mountain  607.948171  \n",
       "      station2gridSD-sat- city       81.977351  \n",
       "                          mountain  380.852237  "
      ]
     },
     "execution_count": 13,
     "metadata": {},
     "output_type": "execute_result"
    }
   ],
   "source": [
    "pivot=pd.pivot_table(df_mse, index=['station'], columns=['method','area']).reset_index()\n",
    "pivot.head(1)\n",
    "\n",
    "describe = pivot.describe().T.sort_values(by=['method'], ascending=True)\n",
    "describe"
   ]
  },
  {
   "cell_type": "markdown",
   "metadata": {},
   "source": [
    "# plot"
   ]
  },
  {
   "cell_type": "markdown",
   "metadata": {},
   "source": [
    "## mountain"
   ]
  },
  {
   "cell_type": "code",
   "execution_count": 14,
   "metadata": {
    "ExecuteTime": {
     "end_time": "2020-05-22T02:59:23.229824Z",
     "start_time": "2020-05-22T02:59:22.736302Z"
    },
    "scrolled": true
   },
   "outputs": [
    {
     "data": {
      "text/plain": [
       "<seaborn.axisgrid.FacetGrid at 0x7fb23b88def0>"
      ]
     },
     "execution_count": 14,
     "metadata": {},
     "output_type": "execute_result"
    },
    {
     "data": {
      "image/png": "[encoded data removed]",
      "text/plain": [
       "<matplotlib.figure.Figure at 0x7fb23b894fd0>"
      ]
     },
     "metadata": {},
     "output_type": "display_data"
    }
   ],
   "source": [
    "sns.set(font_scale=1)\n",
    "ax = sns.catplot(\n",
    "    x='model_name', \n",
    "    y='value', \n",
    "    col='area',\n",
    "    hue='method', \n",
    "    data=df_mse[df_mse.station.isin(station_list[:4])],\n",
    "    kind='box',\n",
    "#     order=order,\n",
    "#     height=4,\n",
    "#     aspect=2,\n",
    "    legend=True\n",
    ")\n",
    "ax.set_xticklabels(rotation=0)\n",
    "# plt.ylim(0, 80)\n",
    "# plt.legend(bbox_to_anchor=(1, 1.6))"
   ]
  },
  {
   "cell_type": "code",
   "execution_count": 19,
   "metadata": {
    "ExecuteTime": {
     "end_time": "2020-05-22T03:01:38.626055Z",
     "start_time": "2020-05-22T03:01:38.006085Z"
    }
   },
   "outputs": [
    {
     "data": {
      "text/plain": [
       "<seaborn.axisgrid.FacetGrid at 0x7fb22bdfb9e8>"
      ]
     },
     "execution_count": 19,
     "metadata": {},
     "output_type": "execute_result"
    },
    {
     "data": {
      "image/png": "[encoded data removed]",
      "text/plain": [
       "<matplotlib.figure.Figure at 0x7fb22bc6e908>"
      ]
     },
     "metadata": {},
     "output_type": "display_data"
    }
   ],
   "source": [
    "sns.set(font_scale=1)\n",
    "ax = sns.catplot(\n",
    "    x='station', \n",
    "    y='value', \n",
    "    col='area',\n",
    "    hue='method', \n",
    "    data=df_mse[df_mse.station.isin(station_list[:4])],\n",
    "    kind='point',\n",
    "#     order=station_list[:],\n",
    "#     height=4,\n",
    "#     aspect=4,\n",
    "    legend=True,\n",
    "    linestyles='-',\n",
    ")\n",
    "\n",
    "ax.set_xticklabels(rotation=90, size=10)\n",
    "# plt.ylim(30, 35)\n",
    "# plt.legend(bbox_to_anchor=(1, 1.6))\n",
    "# plt.grid(axis='x')"
   ]
  },
  {
   "cell_type": "markdown",
   "metadata": {},
   "source": [
    "## city"
   ]
  },
  {
   "cell_type": "code",
   "execution_count": 16,
   "metadata": {
    "ExecuteTime": {
     "end_time": "2020-05-22T02:59:24.005871Z",
     "start_time": "2020-05-22T02:59:23.645157Z"
    }
   },
   "outputs": [
    {
     "data": {
      "text/plain": [
       "<seaborn.axisgrid.FacetGrid at 0x7fb22be8d5f8>"
      ]
     },
     "execution_count": 16,
     "metadata": {},
     "output_type": "execute_result"
    },
    {
     "data": {
      "image/png": "[encoded data removed]",
      "text/plain": [
       "<matplotlib.figure.Figure at 0x7fb22be7ba58>"
      ]
     },
     "metadata": {},
     "output_type": "display_data"
    }
   ],
   "source": [
    "sns.set(font_scale=1)\n",
    "ax = sns.catplot(\n",
    "    x='model_name', \n",
    "    y='value', \n",
    "    col='area',\n",
    "    hue='method', \n",
    "    data=df_mse[df_mse.station.isin(station_list[4:])],\n",
    "    kind='box',\n",
    "#     order=order,\n",
    "#     height=4,\n",
    "#     aspect=2,\n",
    "    legend=True\n",
    ")\n",
    "ax.set_xticklabels(rotation=0)\n",
    "# plt.ylim(0, 80)\n",
    "# plt.legend(bbox_to_anchor=(1, 1.6))"
   ]
  },
  {
   "cell_type": "code",
   "execution_count": 17,
   "metadata": {
    "ExecuteTime": {
     "end_time": "2020-05-22T02:59:24.477839Z",
     "start_time": "2020-05-22T02:59:24.007602Z"
    }
   },
   "outputs": [
    {
     "data": {
      "text/plain": [
       "<seaborn.axisgrid.FacetGrid at 0x7fb22bec59b0>"
      ]
     },
     "execution_count": 17,
     "metadata": {},
     "output_type": "execute_result"
    },
    {
     "data": {
      "image/png": "[encoded data removed]",
      "text/plain": [
       "<matplotlib.figure.Figure at 0x7fb22be10048>"
      ]
     },
     "metadata": {},
     "output_type": "display_data"
    }
   ],
   "source": [
    "sns.set(font_scale=1)\n",
    "ax = sns.catplot(\n",
    "    x='station', \n",
    "    y='value', \n",
    "    col='area',\n",
    "    hue='method', \n",
    "    data=df_mse[df_mse.station.isin(station_list[4:])],\n",
    "    kind='point',\n",
    "    order=station_list[4:],\n",
    "#     height=4,\n",
    "#     aspect=4,\n",
    "    legend=True,\n",
    "    linestyles='-',\n",
    ")\n",
    "\n",
    "ax.set_xticklabels(rotation=90, size=10)\n",
    "# plt.ylim(30, 35)\n",
    "# plt.legend(bbox_to_anchor=(1, 1.6))\n",
    "# plt.grid(axis='x')"
   ]
  },
  {
   "cell_type": "code",
   "execution_count": null,
   "metadata": {
    "collapsed": true
   },
   "outputs": [],
   "source": []
  },
  {
   "cell_type": "raw",
   "metadata": {
    "ExecuteTime": {
     "end_time": "2020-05-21T16:16:48.447461Z",
     "start_time": "2020-05-21T16:16:47.763052Z"
    },
    "collapsed": true
   },
   "source": [
    "path = os.path.join(home,'station2grid','datasets','npy','epa','train_epa_addmou.npy') \n",
    "x_raw = np.load(path) \n",
    "\n",
    "path = os.path.join(home,'station2grid','datasets','npy','epa','train_epa_addmou_norm.npy') \n",
    "x_raw_norm = np.load(path)"
   ]
  },
  {
   "cell_type": "raw",
   "metadata": {
    "ExecuteTime": {
     "end_time": "2020-05-21T16:18:16.797279Z",
     "start_time": "2020-05-21T16:18:16.784754Z"
    }
   },
   "source": [
    "x_raw.shape\n",
    "x_raw[100,:,0]"
   ]
  },
  {
   "cell_type": "raw",
   "metadata": {
    "ExecuteTime": {
     "end_time": "2020-05-21T16:18:15.021535Z",
     "start_time": "2020-05-21T16:18:15.005671Z"
    }
   },
   "source": [
    "x_raw_norm[100,:,0]"
   ]
  },
  {
   "cell_type": "code",
   "execution_count": null,
   "metadata": {
    "collapsed": true
   },
   "outputs": [],
   "source": []
  },
  {
   "cell_type": "code",
   "execution_count": null,
   "metadata": {
    "collapsed": true
   },
   "outputs": [],
   "source": []
  }
 ],
 "metadata": {
  "kernelspec": {
   "display_name": "Python 3",
   "language": "python",
   "name": "python3"
  },
  "language_info": {
   "codemirror_mode": {
    "name": "ipython",
    "version": 3
   },
   "file_extension": ".py",
   "mimetype": "text/x-python",
   "name": "python",
   "nbconvert_exporter": "python",
   "pygments_lexer": "ipython3",
   "version": "3.6.5"
  },
  "toc": {
   "base_numbering": 1,
   "nav_menu": {},
   "number_sections": true,
   "sideBar": true,
   "skip_h1_title": false,
   "title_cell": "Table of Contents",
   "title_sidebar": "Contents",
   "toc_cell": false,
   "toc_position": {},
   "toc_section_display": true,
   "toc_window_display": false
  }
 },
 "nbformat": 4,
 "nbformat_minor": 2
}
