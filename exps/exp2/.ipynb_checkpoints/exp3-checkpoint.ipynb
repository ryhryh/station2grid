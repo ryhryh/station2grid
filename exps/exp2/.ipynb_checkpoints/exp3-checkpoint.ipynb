{
 "cells": [
  {
   "cell_type": "code",
   "execution_count": 1,
   "metadata": {
    "ExecuteTime": {
     "end_time": "2020-04-28T14:55:13.937986Z",
     "start_time": "2020-04-28T14:55:13.932164Z"
    },
    "collapsed": true
   },
   "outputs": [],
   "source": [
    "import os\n",
    "import sys\n",
    "home=os.path.expanduser(\"~\")\n",
    "sys.path.append(os.path.join(home, 'station2grid'))"
   ]
  },
  {
   "cell_type": "markdown",
   "metadata": {
    "heading_collapsed": true
   },
   "source": [
    "# g2c"
   ]
  },
  {
   "cell_type": "code",
   "execution_count": 2,
   "metadata": {
    "ExecuteTime": {
     "end_time": "2020-04-28T14:55:13.951358Z",
     "start_time": "2020-04-28T14:55:13.947060Z"
    },
    "hidden": true
   },
   "outputs": [],
   "source": [
    "# from tools.options import *\n",
    "\n",
    "# optionG2C = OptionG2C(\n",
    "#     domain= 'air', k= 3, weightKNN= 'distance',\n",
    "#     batch_size=300, epochs=1\n",
    "# )\n",
    "\n",
    "# vars(optionG2C)"
   ]
  },
  {
   "cell_type": "code",
   "execution_count": 3,
   "metadata": {
    "ExecuteTime": {
     "end_time": "2020-04-28T14:55:14.019609Z",
     "start_time": "2020-04-28T14:55:13.954806Z"
    },
    "collapsed": true,
    "hidden": true
   },
   "outputs": [],
   "source": [
    "# from models.grid2code_model import ModelG2C\n",
    "\n",
    "# modelG2C = ModelG2C(optionG2C)\n",
    "# modelG2C.weight_path"
   ]
  },
  {
   "cell_type": "code",
   "execution_count": 4,
   "metadata": {
    "ExecuteTime": {
     "end_time": "2020-04-28T14:55:14.134865Z",
     "start_time": "2020-04-28T14:55:14.022569Z"
    },
    "collapsed": true,
    "hidden": true
   },
   "outputs": [],
   "source": [
    "# modelG2C.train()"
   ]
  },
  {
   "cell_type": "code",
   "execution_count": 5,
   "metadata": {
    "ExecuteTime": {
     "end_time": "2020-04-28T14:55:14.146313Z",
     "start_time": "2020-04-28T14:55:14.137765Z"
    },
    "collapsed": true,
    "hidden": true
   },
   "outputs": [],
   "source": [
    "# modelG2C.test()"
   ]
  },
  {
   "cell_type": "code",
   "execution_count": 6,
   "metadata": {
    "ExecuteTime": {
     "end_time": "2020-04-28T14:55:14.160766Z",
     "start_time": "2020-04-28T14:55:14.148961Z"
    },
    "collapsed": true,
    "hidden": true
   },
   "outputs": [],
   "source": [
    "# from keras import backend as K\n",
    "# import gc\n",
    "\n",
    "# K.clear_session() \n",
    "# gc.collect() \n",
    "# del modelG2C"
   ]
  },
  {
   "cell_type": "markdown",
   "metadata": {},
   "source": [
    "# s2c"
   ]
  },
  {
   "cell_type": "code",
   "execution_count": 7,
   "metadata": {
    "ExecuteTime": {
     "end_time": "2020-04-28T14:55:15.410614Z",
     "start_time": "2020-04-28T14:55:14.163398Z"
    }
   },
   "outputs": [
    {
     "data": {
      "text/html": [
       "<div>\n",
       "<style scoped>\n",
       "    .dataframe tbody tr th:only-of-type {\n",
       "        vertical-align: middle;\n",
       "    }\n",
       "\n",
       "    .dataframe tbody tr th {\n",
       "        vertical-align: top;\n",
       "    }\n",
       "\n",
       "    .dataframe thead th {\n",
       "        text-align: right;\n",
       "    }\n",
       "</style>\n",
       "<table border=\"1\" class=\"dataframe\">\n",
       "  <thead>\n",
       "    <tr style=\"text-align: right;\">\n",
       "      <th></th>\n",
       "      <th>SiteName</th>\n",
       "      <th>SiteEngName</th>\n",
       "      <th>AreaName</th>\n",
       "      <th>County</th>\n",
       "      <th>Township</th>\n",
       "      <th>SiteAddress</th>\n",
       "      <th>lon</th>\n",
       "      <th>lat</th>\n",
       "      <th>SiteType</th>\n",
       "      <th>lat_round</th>\n",
       "      <th>lon_round</th>\n",
       "      <th>row</th>\n",
       "      <th>col</th>\n",
       "    </tr>\n",
       "  </thead>\n",
       "  <tbody>\n",
       "    <tr>\n",
       "      <th>0</th>\n",
       "      <td>陽明</td>\n",
       "      <td>Yangming</td>\n",
       "      <td>北部空品區</td>\n",
       "      <td>臺北市</td>\n",
       "      <td>北投區</td>\n",
       "      <td>臺北市北投區竹子湖路111號</td>\n",
       "      <td>121.529583</td>\n",
       "      <td>25.182722</td>\n",
       "      <td>公園測站</td>\n",
       "      <td>25.18</td>\n",
       "      <td>121.53</td>\n",
       "      <td>16</td>\n",
       "      <td>153</td>\n",
       "    </tr>\n",
       "  </tbody>\n",
       "</table>\n",
       "</div>"
      ],
      "text/plain": [
       "  SiteName SiteEngName AreaName County Township     SiteAddress         lon  \\\n",
       "0       陽明    Yangming    北部空品區    臺北市      北投區  臺北市北投區竹子湖路111號  121.529583   \n",
       "\n",
       "         lat SiteType  lat_round  lon_round  row  col  \n",
       "0  25.182722     公園測站      25.18     121.53   16  153  "
      ]
     },
     "execution_count": 7,
     "metadata": {},
     "output_type": "execute_result"
    }
   ],
   "source": [
    "from tools import CommonObj\n",
    "info = CommonObj().epa_station_info\n",
    "info.head(1)"
   ]
  },
  {
   "cell_type": "code",
   "execution_count": 21,
   "metadata": {
    "ExecuteTime": {
     "end_time": "2020-04-28T17:03:09.135984Z",
     "start_time": "2020-04-28T17:03:09.131198Z"
    },
    "collapsed": true
   },
   "outputs": [],
   "source": [
    "features='pm25_RH'\n",
    "val_stations='Tainan'\n",
    "dnn_type='embedding-1~bn-1'"
   ]
  },
  {
   "cell_type": "code",
   "execution_count": 22,
   "metadata": {
    "ExecuteTime": {
     "end_time": "2020-04-28T17:03:11.237731Z",
     "start_time": "2020-04-28T17:03:11.228616Z"
    }
   },
   "outputs": [
    {
     "data": {
      "text/plain": [
       "{'model_name': 'station2code',\n",
       " 'features': 'pm25_RH',\n",
       " 'val_stations': 'Tainan',\n",
       " 'domain': 'air',\n",
       " 'k': 3,\n",
       " 'weightKNN': 'distance',\n",
       " 'batch_size': 300,\n",
       " 'epochs': 5,\n",
       " 'ae_type': 'code_length-4576',\n",
       " 'dnn_type': 'embedding-1~bn-1'}"
      ]
     },
     "execution_count": 22,
     "metadata": {},
     "output_type": "execute_result"
    }
   ],
   "source": [
    "from tools.options import *\n",
    "\n",
    "optionS2C = OptionS2C(\n",
    "    domain= 'air', k= 3, weightKNN= 'distance',\n",
    "    batch_size=300, epochs=5, ###\n",
    "    features=features,\n",
    "    val_stations=val_stations,\n",
    "    dnn_type=dnn_type\n",
    ")\n",
    "\n",
    "vars(optionS2C)"
   ]
  },
  {
   "cell_type": "code",
   "execution_count": 10,
   "metadata": {
    "ExecuteTime": {
     "end_time": "2020-04-28T14:55:15.451873Z",
     "start_time": "2020-04-28T14:55:15.441416Z"
    }
   },
   "outputs": [],
   "source": [
    "# import re\n",
    "# key = 'bn'\n",
    "# value = int(re.search('(~|^)%s-(.+?)(~|$)'%(key), optionS2C.dnn_type).group(2))\n",
    "# value"
   ]
  },
  {
   "cell_type": "code",
   "execution_count": 11,
   "metadata": {
    "ExecuteTime": {
     "end_time": "2020-04-28T14:55:17.839039Z",
     "start_time": "2020-04-28T14:55:15.453658Z"
    },
    "scrolled": true
   },
   "outputs": [
    {
     "name": "stderr",
     "output_type": "stream",
     "text": [
      "Using TensorFlow backend.\n"
     ]
    },
    {
     "name": "stdout",
     "output_type": "stream",
     "text": [
      "['pm25', 'pm10', 'temperature', 'humidity', 'PM25', 'PM10', 'AMBTEMP', 'RH', 'CO', 'NO', 'NO2', 'NOx', 'O3', 'PHRAIN', 'RAINFALL', 'RAINCOND', 'SO2', 'CH4', 'NMHC', 'THC', 'UVB', 'WINDCOS', 'WINDSIN'] ['pm25', 'RH'] [0, 7]\n",
      "_________________________________________________________________\n",
      "Layer (type)                 Output Shape              Param #   \n",
      "=================================================================\n",
      "input_1 (InputLayer)         (None, 72, 2)             0         \n",
      "_________________________________________________________________\n",
      "batch_normalization_1 (Batch (None, 72, 2)             8         \n",
      "_________________________________________________________________\n",
      "dense_1 (Dense)              (None, 72, 1)             3         \n",
      "_________________________________________________________________\n",
      "batch_normalization_2 (Batch (None, 72, 1)             4         \n",
      "_________________________________________________________________\n",
      "flatten_1 (Flatten)          (None, 72)                0         \n",
      "_________________________________________________________________\n",
      "batch_normalization_3 (Batch (None, 72)                288       \n",
      "_________________________________________________________________\n",
      "dense_2 (Dense)              (None, 300)               21900     \n",
      "_________________________________________________________________\n",
      "batch_normalization_4 (Batch (None, 300)               1200      \n",
      "_________________________________________________________________\n",
      "dense_3 (Dense)              (None, 4576)              1377376   \n",
      "=================================================================\n",
      "Total params: 1,400,779\n",
      "Trainable params: 1,400,029\n",
      "Non-trainable params: 750\n",
      "_________________________________________________________________\n"
     ]
    }
   ],
   "source": [
    "from models.station2code_model import ModelS2C\n",
    "\n",
    "modelS2C = ModelS2C(optionS2C)"
   ]
  },
  {
   "cell_type": "code",
   "execution_count": 12,
   "metadata": {
    "ExecuteTime": {
     "end_time": "2020-04-28T14:55:39.910587Z",
     "start_time": "2020-04-28T14:55:17.841564Z"
    },
    "scrolled": true
   },
   "outputs": [
    {
     "name": "stdout",
     "output_type": "stream",
     "text": [
      "training\n",
      "Epoch 1/5\n"
     ]
    },
    {
     "name": "stderr",
     "output_type": "stream",
     "text": [
      "/media/disk3/feynman52/.pyenv/versions/3.6.5/lib/python3.6/site-packages/keras/engine/training_generator.py:47: UserWarning: Using a generator with `use_multiprocessing=True` and multiple workers may duplicate your data. Please consider using the`keras.utils.Sequence class.\n",
      "  UserWarning('Using a generator with `use_multiprocessing=True`'\n"
     ]
    },
    {
     "name": "stdout",
     "output_type": "stream",
     "text": [
      "80/80 [==============================] - 8s 96ms/step - loss: 0.0492 - mean_absolute_error: 0.1613 - mean_squared_error: 0.0492 - val_loss: 0.0081 - val_mean_absolute_error: 0.0667 - val_mean_squared_error: 0.0081\n",
      "Epoch 2/5\n",
      "80/80 [==============================] - 3s 40ms/step - loss: 0.0048 - mean_absolute_error: 0.0488 - mean_squared_error: 0.0048 - val_loss: 0.0048 - val_mean_absolute_error: 0.0492 - val_mean_squared_error: 0.0048\n",
      "Epoch 3/5\n",
      "80/80 [==============================] - 3s 39ms/step - loss: 0.0038 - mean_absolute_error: 0.0422 - mean_squared_error: 0.0038 - val_loss: 0.0041 - val_mean_absolute_error: 0.0443 - val_mean_squared_error: 0.0041\n",
      "Epoch 4/5\n",
      "80/80 [==============================] - 3s 39ms/step - loss: 0.0033 - mean_absolute_error: 0.0391 - mean_squared_error: 0.0033 - val_loss: 0.0035 - val_mean_absolute_error: 0.0404 - val_mean_squared_error: 0.0035\n",
      "Epoch 5/5\n",
      "80/80 [==============================] - 3s 39ms/step - loss: 0.0030 - mean_absolute_error: 0.0369 - mean_squared_error: 0.0030 - val_loss: 0.0030 - val_mean_absolute_error: 0.0371 - val_mean_squared_error: 0.0030\n",
      "finish!\n"
     ]
    }
   ],
   "source": [
    "modelS2C.train()"
   ]
  },
  {
   "cell_type": "code",
   "execution_count": 13,
   "metadata": {
    "ExecuteTime": {
     "end_time": "2020-04-28T14:55:40.086638Z",
     "start_time": "2020-04-28T14:55:39.913443Z"
    },
    "collapsed": true
   },
   "outputs": [],
   "source": [
    "from keras import backend as K\n",
    "import gc\n",
    "\n",
    "K.clear_session() \n",
    "gc.collect() \n",
    "del modelS2C"
   ]
  },
  {
   "cell_type": "code",
   "execution_count": null,
   "metadata": {
    "collapsed": true
   },
   "outputs": [],
   "source": []
  },
  {
   "cell_type": "markdown",
   "metadata": {},
   "source": [
    "# s2gSD"
   ]
  },
  {
   "cell_type": "code",
   "execution_count": 14,
   "metadata": {
    "ExecuteTime": {
     "end_time": "2020-04-28T14:55:40.119530Z",
     "start_time": "2020-04-28T14:55:40.089614Z"
    }
   },
   "outputs": [
    {
     "data": {
      "text/plain": [
       "{'model_name': 'station2gridMD',\n",
       " 'features': 'pm25_RH',\n",
       " 'val_stations': 'Tainan',\n",
       " 'domain': 'air',\n",
       " 'k': 3,\n",
       " 'weightKNN': 'distance',\n",
       " 'ae_type': 'code_length-4576',\n",
       " 'dnn_type': 'embedding-1~bn-2'}"
      ]
     },
     "execution_count": 14,
     "metadata": {},
     "output_type": "execute_result"
    }
   ],
   "source": [
    "from tools.options import *\n",
    "\n",
    "optionS2GSD = OptionS2GSD(\n",
    "    domain= 'air', k= 3, weightKNN= 'distance',\n",
    "    features=features,\n",
    "    val_stations=val_stations,\n",
    "    dnn_type=dnn_type\n",
    ")\n",
    "vars(optionS2GSD)"
   ]
  },
  {
   "cell_type": "code",
   "execution_count": 15,
   "metadata": {
    "ExecuteTime": {
     "end_time": "2020-04-28T14:55:40.151107Z",
     "start_time": "2020-04-28T14:55:40.122128Z"
    },
    "scrolled": true
   },
   "outputs": [],
   "source": [
    "from models.station2gridSD_model import ModelS2GSD\n",
    "\n",
    "modelS2GSD = ModelS2GSD(optionS2GSD)\n"
   ]
  },
  {
   "cell_type": "code",
   "execution_count": 16,
   "metadata": {
    "ExecuteTime": {
     "end_time": "2020-04-28T14:55:54.049700Z",
     "start_time": "2020-04-28T14:55:40.153806Z"
    }
   },
   "outputs": [
    {
     "name": "stdout",
     "output_type": "stream",
     "text": [
      "testing\n",
      "finish\n"
     ]
    },
    {
     "data": {
      "text/plain": [
       "(8760, 348, 204, 1)"
      ]
     },
     "execution_count": 16,
     "metadata": {},
     "output_type": "execute_result"
    }
   ],
   "source": [
    "grids = modelS2GSD.test()\n",
    "grids.shape"
   ]
  },
  {
   "cell_type": "markdown",
   "metadata": {},
   "source": [
    "# mse"
   ]
  },
  {
   "cell_type": "code",
   "execution_count": 17,
   "metadata": {
    "ExecuteTime": {
     "end_time": "2020-04-28T14:55:54.067630Z",
     "start_time": "2020-04-28T14:55:54.053189Z"
    },
    "collapsed": true
   },
   "outputs": [],
   "source": [
    "def get_predict_result(grids, modelS2GSD):\n",
    "    stations = modelS2GSD.data.x_raw\n",
    "    valid_info = modelS2GSD.data.valid_info\n",
    "    val_indexs = valid_info.index.values\n",
    "    val_coors = valid_info[['row','col']].values\n",
    "    val_names = valid_info.SiteEngName.values\n",
    "    \n",
    "    real = grids[:, val_coors[:,0], val_coors[:,1], 0]\n",
    "    predict = stations[:, val_indexs, 0]\n",
    "    \n",
    "    dts=pd.date_range(start='2019', end='2020', periods=None, freq='H', closed='left')\n",
    "\n",
    "    a = pd.DataFrame(real)\n",
    "    a.columns = val_names\n",
    "    a['is_real'] = 'real'\n",
    "    a['dt'] = dts\n",
    "\n",
    "    b = pd.DataFrame(predict)\n",
    "    b.columns = val_names\n",
    "    b['is_real'] = 'predict'\n",
    "    b['dt'] = dts\n",
    "\n",
    "    c = pd.concat([a,b], axis=0)\n",
    "    c['group'] = modelS2GSD.group\n",
    "    \n",
    "    c_melt = pd.melt(c, id_vars=['group', 'dt', 'is_real'], var_name='station', value_vars=val_names)\n",
    "\n",
    "    c_pt = pd.pivot_table(c_melt, values='value', columns=['is_real'],index=['group', 'station', 'dt']).reset_index(drop=False)\n",
    "    return c_pt"
   ]
  },
  {
   "cell_type": "code",
   "execution_count": 18,
   "metadata": {
    "ExecuteTime": {
     "end_time": "2020-04-28T14:55:54.163842Z",
     "start_time": "2020-04-28T14:55:54.070311Z"
    },
    "scrolled": true
   },
   "outputs": [],
   "source": [
    "import pandas as pd\n",
    "result = get_predict_result(grids, modelS2GSD)"
   ]
  },
  {
   "cell_type": "code",
   "execution_count": 19,
   "metadata": {
    "ExecuteTime": {
     "end_time": "2020-04-28T14:55:54.271748Z",
     "start_time": "2020-04-28T14:55:54.166115Z"
    }
   },
   "outputs": [],
   "source": [
    "\n",
    "path = os.path.join('results',modelS2GSD.group+'.csv')\n",
    "result.to_csv(path, index=False)"
   ]
  },
  {
   "cell_type": "code",
   "execution_count": 20,
   "metadata": {
    "ExecuteTime": {
     "end_time": "2020-04-28T14:55:54.442858Z",
     "start_time": "2020-04-28T14:55:54.273893Z"
    },
    "collapsed": true
   },
   "outputs": [],
   "source": [
    "K.clear_session() \n",
    "gc.collect() \n",
    "del modelS2GSD"
   ]
  }
 ],
 "metadata": {
  "kernelspec": {
   "display_name": "Python 3",
   "language": "python",
   "name": "python3"
  },
  "language_info": {
   "codemirror_mode": {
    "name": "ipython",
    "version": 3
   },
   "file_extension": ".py",
   "mimetype": "text/x-python",
   "name": "python",
   "nbconvert_exporter": "python",
   "pygments_lexer": "ipython3",
   "version": "3.6.5"
  },
  "toc": {
   "base_numbering": 1,
   "nav_menu": {},
   "number_sections": true,
   "sideBar": true,
   "skip_h1_title": false,
   "title_cell": "Table of Contents",
   "title_sidebar": "Contents",
   "toc_cell": false,
   "toc_position": {},
   "toc_section_display": true,
   "toc_window_display": false
  }
 },
 "nbformat": 4,
 "nbformat_minor": 2
}
