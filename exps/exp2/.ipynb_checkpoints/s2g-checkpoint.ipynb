{
 "cells": [
  {
   "cell_type": "code",
   "execution_count": 1,
   "metadata": {},
   "outputs": [
    {
     "name": "stderr",
     "output_type": "stream",
     "text": [
      "Using TensorFlow backend.\n"
     ]
    },
    {
     "data": {
      "text/html": [
       "<div>\n",
       "<style scoped>\n",
       "    .dataframe tbody tr th:only-of-type {\n",
       "        vertical-align: middle;\n",
       "    }\n",
       "\n",
       "    .dataframe tbody tr th {\n",
       "        vertical-align: top;\n",
       "    }\n",
       "\n",
       "    .dataframe thead th {\n",
       "        text-align: right;\n",
       "    }\n",
       "</style>\n",
       "<table border=\"1\" class=\"dataframe\">\n",
       "  <thead>\n",
       "    <tr style=\"text-align: right;\">\n",
       "      <th></th>\n",
       "      <th>SiteName</th>\n",
       "      <th>SiteEngName</th>\n",
       "      <th>AreaName</th>\n",
       "      <th>County</th>\n",
       "      <th>Township</th>\n",
       "      <th>SiteAddress</th>\n",
       "      <th>lon</th>\n",
       "      <th>lat</th>\n",
       "      <th>SiteType</th>\n",
       "      <th>lat_round</th>\n",
       "      <th>lon_round</th>\n",
       "      <th>row</th>\n",
       "      <th>col</th>\n",
       "    </tr>\n",
       "  </thead>\n",
       "  <tbody>\n",
       "    <tr>\n",
       "      <th>0</th>\n",
       "      <td>陽明</td>\n",
       "      <td>Yangming</td>\n",
       "      <td>北部空品區</td>\n",
       "      <td>臺北市</td>\n",
       "      <td>北投區</td>\n",
       "      <td>臺北市北投區竹子湖路111號</td>\n",
       "      <td>121.529583</td>\n",
       "      <td>25.182722</td>\n",
       "      <td>公園測站</td>\n",
       "      <td>25.18</td>\n",
       "      <td>121.53</td>\n",
       "      <td>16</td>\n",
       "      <td>153</td>\n",
       "    </tr>\n",
       "  </tbody>\n",
       "</table>\n",
       "</div>"
      ],
      "text/plain": [
       "  SiteName SiteEngName AreaName County Township     SiteAddress         lon  \\\n",
       "0       陽明    Yangming    北部空品區    臺北市      北投區  臺北市北投區竹子湖路111號  121.529583   \n",
       "\n",
       "         lat SiteType  lat_round  lon_round  row  col  \n",
       "0  25.182722     公園測站      25.18     121.53   16  153  "
      ]
     },
     "execution_count": 1,
     "metadata": {},
     "output_type": "execute_result"
    }
   ],
   "source": [
    "import os\n",
    "import pandas as pd\n",
    "from sklearn.metrics import mean_squared_error\n",
    "import matplotlib.pyplot as plt\n",
    "import numpy as np\n",
    "\n",
    "import sys\n",
    "home=os.path.expanduser(\"~\")\n",
    "sys.path.append(os.path.join(home, 'station2grid'))\n",
    "\n",
    "from tools import plotMap, CommonObj\n",
    "from tools.options import Opt\n",
    "from models import grid2code_model, station2code_model, station2gridSD_model\n",
    "\n",
    "info = CommonObj().epa_station_info\n",
    "info.head(1)"
   ]
  },
  {
   "cell_type": "markdown",
   "metadata": {},
   "source": [
    "# draft"
   ]
  },
  {
   "cell_type": "markdown",
   "metadata": {
    "heading_collapsed": true
   },
   "source": [
    "## train"
   ]
  },
  {
   "cell_type": "code",
   "execution_count": null,
   "metadata": {
    "collapsed": true,
    "hidden": true
   },
   "outputs": [],
   "source": [
    "info.SiteEngName[10]"
   ]
  },
  {
   "cell_type": "code",
   "execution_count": null,
   "metadata": {
    "collapsed": true,
    "hidden": true,
    "scrolled": true
   },
   "outputs": [],
   "source": [
    "opt=Opt()\n",
    "opt.domain='sat'\n",
    "opt.n_epochs=10\n",
    "opt.batch_size=300\n",
    "opt.k=3\n",
    "opt.weightKNN='distance'\n",
    "\n",
    "opt.model_name='station2code'\n",
    "opt.features='pm25_pm10_temperature'\n",
    "\n",
    "\n",
    "opt.val_stations = info.SiteEngName[10]\n",
    "station2code = station2code_model.Station2Code(opt)\n",
    "station2code.train()\n"
   ]
  },
  {
   "cell_type": "code",
   "execution_count": null,
   "metadata": {
    "collapsed": true,
    "hidden": true
   },
   "outputs": [],
   "source": [
    "# path='/media/disk3/feynman52/station2grid/weights/single/domain_air-k_3-weightKNN_distance/station2code/A1/pm25_pm10/1/Zhongshan/history.csv'\n",
    "# history=pd.read_csv(path)\n",
    "# display(history)\n",
    "# history.plot(y=['mean_absolute_error','val_mean_absolute_error'])"
   ]
  },
  {
   "cell_type": "code",
   "execution_count": null,
   "metadata": {
    "collapsed": true,
    "hidden": true
   },
   "outputs": [],
   "source": []
  },
  {
   "cell_type": "markdown",
   "metadata": {
    "heading_collapsed": true
   },
   "source": [
    "## test"
   ]
  },
  {
   "cell_type": "code",
   "execution_count": null,
   "metadata": {
    "collapsed": true,
    "hidden": true
   },
   "outputs": [],
   "source": [
    "opt=Opt()\n",
    "opt.domain='air'\n",
    "opt.n_epochs=10\n",
    "opt.batch_size=300\n",
    "opt.k=3\n",
    "opt.weightKNN='distance'\n",
    "\n",
    "opt.model_name='station2gridSD'\n",
    "opt.features='pm25_pm10_temperature'\n"
   ]
  },
  {
   "cell_type": "code",
   "execution_count": null,
   "metadata": {
    "collapsed": true,
    "hidden": true,
    "scrolled": true
   },
   "outputs": [],
   "source": [
    "\n",
    "station = info.SiteEngName[10]\n",
    "opt.val_stations = station\n",
    "station2GridSD = station2gridSD_model.Station2GridSD(opt)\n",
    "grids = station2GridSD.test() \n",
    "\n",
    "# oneStation = get_oneStation(opt.epa_station_path, station, station2GridSD.source, grids)\n",
    "\n"
   ]
  },
  {
   "cell_type": "code",
   "execution_count": null,
   "metadata": {
    "collapsed": true,
    "hidden": true
   },
   "outputs": [],
   "source": [
    "stations = station2GridSD.dataGeneratorMD.x_raw"
   ]
  },
  {
   "cell_type": "code",
   "execution_count": null,
   "metadata": {
    "collapsed": true,
    "hidden": true
   },
   "outputs": [],
   "source": [
    "grids.shape, stations.shape, station2GridSD.dataGeneratorMD.x_test.shape"
   ]
  },
  {
   "cell_type": "code",
   "execution_count": null,
   "metadata": {
    "collapsed": true,
    "hidden": true
   },
   "outputs": [],
   "source": []
  },
  {
   "cell_type": "code",
   "execution_count": null,
   "metadata": {
    "collapsed": true,
    "hidden": true
   },
   "outputs": [],
   "source": []
  },
  {
   "cell_type": "code",
   "execution_count": null,
   "metadata": {
    "collapsed": true,
    "hidden": true,
    "scrolled": true
   },
   "outputs": [],
   "source": [
    "def get_oneStation(stations, grids, opt):\n",
    "    info = CommonObj().epa_station_info\n",
    "    df = info[info.SiteEngName==opt.val_stations]\n",
    "    indexs = df.index.values\n",
    "    rows = df.row.values\n",
    "    cols = df.col.values\n",
    "\n",
    "    dummy = pd.DataFrame()\n",
    "    dummy['real'] = stations[:,indexs,2].reshape(-1)\n",
    "    dummy['predict'] = grids[:,rows,cols,0].reshape(-1)\n",
    "    dummy['station'] = opt.val_stations\n",
    "    dummy['domain'] = opt.domain\n",
    "    dummy['feature'] = opt.features\n",
    "    dts=pd.date_range(start='2019', end='2020', periods=None, freq='H', closed='left')\n",
    "    dummy['dt'] = dts\n",
    "    return dummy\n",
    "\n",
    "oneStation = get_oneStation(stations, grids, opt)\n",
    "oneStation"
   ]
  },
  {
   "cell_type": "code",
   "execution_count": null,
   "metadata": {
    "collapsed": true,
    "hidden": true
   },
   "outputs": [],
   "source": [
    "from keras import backend as K\n",
    "import gc\n"
   ]
  },
  {
   "cell_type": "code",
   "execution_count": null,
   "metadata": {
    "collapsed": true,
    "hidden": true,
    "scrolled": true
   },
   "outputs": [],
   "source": [
    "opt=Opt()\n",
    "opt.n_epochs=3\n",
    "opt.batch_size=300\n",
    "opt.k=3\n",
    "opt.weightKNN='distance'\n",
    "\n",
    "for domain in ['air', 'sat']:\n",
    "    opt.domain=domain\n",
    "    \n",
    "    for features in ['pm25_pm10', 'pm25_pm10_temperature']:\n",
    "        opt.features=features\n",
    "        \n",
    "        for station in info.SiteEngName[:2]:\n",
    "            print(domain, features, station)\n",
    "            \n",
    "            opt.model_name='station2code'\n",
    "            opt.val_stations = station\n",
    "            station2code = station2code_model.Station2Code(opt)\n",
    "            station2code.train()\n",
    "            \n",
    "            del station2code\n",
    "            K.clear_session() \n",
    "            gc.collect() \n",
    "            \n",
    "        \n",
    "        result = pd.DataFrame()\n",
    "        ############################################################\n",
    "        for station in info.SiteEngName[:2]:\n",
    "            print(domain, features, station)\n",
    "            \n",
    "            opt.model_name='station2code'\n",
    "            opt.val_stations = station\n",
    "            station2GridSD = station2gridSD_model.Station2GridSD(opt)\n",
    "            grids = station2GridSD.test() \n",
    "            stations = station2GridSD.dataGeneratorMD.x_raw\n",
    "            \n",
    "            oneStation = get_oneStation(stations, grids, opt)\n",
    "            result = result.append(oneStation)\n",
    "            \n",
    "            del station2GridSD\n",
    "            K.clear_session() \n",
    "            gc.collect() \n",
    "        ############################################################ \n",
    "        result.to_csv('results/%s-%s.csv'%(domain, features), index=False)\n",
    "            "
   ]
  },
  {
   "cell_type": "code",
   "execution_count": null,
   "metadata": {
    "collapsed": true,
    "hidden": true
   },
   "outputs": [],
   "source": []
  },
  {
   "cell_type": "markdown",
   "metadata": {
    "collapsed": true
   },
   "source": [
    "# check index"
   ]
  },
  {
   "cell_type": "code",
   "execution_count": 21,
   "metadata": {
    "collapsed": true
   },
   "outputs": [],
   "source": [
    "def get_oneStation(stations, grids, opt):\n",
    "    info = CommonObj().epa_station_info\n",
    "    df = info[info.SiteEngName==opt.val_stations]\n",
    "    indexs = df.index.values\n",
    "    rows = df.row.values\n",
    "    cols = df.col.values\n",
    "\n",
    "    dummy = pd.DataFrame()\n",
    "    dummy['real'] = stations[:,indexs,0].reshape(-1) ######\n",
    "    dummy['predict'] = grids[:,rows,cols,0].reshape(-1)\n",
    "    dummy['station'] = opt.val_stations\n",
    "    dummy['domain'] = opt.domain\n",
    "    dummy['feature'] = opt.features\n",
    "    dts=pd.date_range(start='2019', end='2020', periods=None, freq='H', closed='left')\n",
    "    dummy['dt'] = dts\n",
    "    return dummy"
   ]
  },
  {
   "cell_type": "code",
   "execution_count": 26,
   "metadata": {
    "collapsed": true
   },
   "outputs": [],
   "source": [
    "opt=Opt()\n",
    "opt.n_epochs=50\n",
    "opt.batch_size=300\n",
    "opt.k=3\n",
    "opt.weightKNN='distance'\n",
    "opt.domain='air'\n",
    "opt.features='pm25_AMBTEMP'"
   ]
  },
  {
   "cell_type": "code",
   "execution_count": 27,
   "metadata": {
    "scrolled": true
   },
   "outputs": [
    {
     "name": "stdout",
     "output_type": "stream",
     "text": [
      "['pm25', 'pm10', 'temperature', 'humidity', 'PM25', 'PM10', 'AMBTEMP', 'RH', 'CO', 'NO', 'NO2', 'NOx', 'O3', 'PHRAIN', 'RAINFALL', 'RAINCOND', 'SO2', 'CH4', 'NMHC', 'THC', 'UVB', 'WINDCOS', 'WINDSIN'] ['pm25', 'AMBTEMP', 'RH'] [0, 6, 7]\n",
      "training...\n",
      "_________________________________________________________________\n",
      "Layer (type)                 Output Shape              Param #   \n",
      "=================================================================\n",
      "input_5 (InputLayer)         (None, 72, 3)             0         \n",
      "_________________________________________________________________\n",
      "batch_normalization_3 (Batch (None, 72, 3)             12        \n",
      "_________________________________________________________________\n",
      "flatten_3 (Flatten)          (None, 216)               0         \n",
      "_________________________________________________________________\n",
      "dense_5 (Dense)              (None, 300)               65100     \n",
      "_________________________________________________________________\n",
      "dense_6 (Dense)              (None, 4576)              1377376   \n",
      "=================================================================\n",
      "Total params: 1,442,488\n",
      "Trainable params: 1,442,482\n",
      "Non-trainable params: 6\n",
      "_________________________________________________________________\n",
      "finish!\n"
     ]
    }
   ],
   "source": [
    "opt.model_name='station2code'\n",
    "opt.val_stations = 'Linyuan'\n",
    "station2code = station2code_model.Station2Code(opt)\n",
    "station2code.train()"
   ]
  },
  {
   "cell_type": "code",
   "execution_count": 34,
   "metadata": {
    "collapsed": true,
    "scrolled": true
   },
   "outputs": [],
   "source": [
    "# h=pd.read_csv('/media/disk3/feynman52/station2grid/weights/single/domain_air-k_3-weightKNN_distance/station2code/A1/pm25_AMBTEMP_RH/1/Tainan/history.csv')\n",
    "# h[['mean_squared_error','val_mean_squared_error']].plot()"
   ]
  },
  {
   "cell_type": "code",
   "execution_count": 29,
   "metadata": {},
   "outputs": [
    {
     "name": "stdout",
     "output_type": "stream",
     "text": [
      "['PM25', 'PM10', 'AMBTEMP', 'RH', 'CO', 'NO', 'NO2', 'NOx', 'O3', 'PHRAIN', 'RAINFALL', 'RAINCOND', 'SO2', 'CH4', 'NMHC', 'THC', 'UVB', 'WINDCOS', 'WINDSIN'] ['PM25', 'AMBTEMP', 'RH'] [0, 2, 3]\n",
      "testing...\n",
      "finish!\n"
     ]
    }
   ],
   "source": [
    "opt.model_name='station2code'\n",
    "# opt.val_stations = 'Zhongshan'\n",
    "station2GridSD = station2gridSD_model.Station2GridSD(opt)\n",
    "grids = station2GridSD.test() "
   ]
  },
  {
   "cell_type": "code",
   "execution_count": 30,
   "metadata": {
    "collapsed": true
   },
   "outputs": [],
   "source": [
    "result = pd.DataFrame()\n",
    "\n",
    "stations = station2GridSD.dataGeneratorMD.x_raw            \n",
    "oneStation = get_oneStation(stations, grids, opt)\n",
    "result = result.append(oneStation)"
   ]
  },
  {
   "cell_type": "code",
   "execution_count": 35,
   "metadata": {
    "collapsed": true,
    "scrolled": true
   },
   "outputs": [],
   "source": [
    "# result"
   ]
  },
  {
   "cell_type": "code",
   "execution_count": 32,
   "metadata": {},
   "outputs": [
    {
     "data": {
      "text/plain": [
       "(8760, 73, 19)"
      ]
     },
     "execution_count": 32,
     "metadata": {},
     "output_type": "execute_result"
    }
   ],
   "source": [
    "stations.shape"
   ]
  },
  {
   "cell_type": "code",
   "execution_count": 33,
   "metadata": {
    "collapsed": true
   },
   "outputs": [],
   "source": [
    "result.to_csv('results/%s-%s.csv'%(opt.domain, opt.features), index=False)"
   ]
  },
  {
   "cell_type": "code",
   "execution_count": null,
   "metadata": {
    "collapsed": true
   },
   "outputs": [],
   "source": []
  },
  {
   "cell_type": "code",
   "execution_count": 38,
   "metadata": {},
   "outputs": [
    {
     "data": {
      "text/plain": [
       "'pm25_pm10_temperature_humidity_PM25_PM10_AMBTEMP_RH_CO_NO_NO2_NOx_O3_PHRAIN_RAINFALL_RAINCOND_SO2_CH4_NMHC_THC_UVB_WINDCOS_WINDSIN'"
      ]
     },
     "execution_count": 38,
     "metadata": {},
     "output_type": "execute_result"
    }
   ],
   "source": [
    "'_'.join(pd.read_csv('/media/disk3/feynman52/station2grid/datasets/info/air-features.csv').feature.tolist())"
   ]
  },
  {
   "cell_type": "markdown",
   "metadata": {
    "collapsed": true
   },
   "source": [
    "# embedding"
   ]
  },
  {
   "cell_type": "code",
   "execution_count": 6,
   "metadata": {
    "ExecuteTime": {
     "end_time": "2020-04-24T06:22:11.024227Z",
     "start_time": "2020-04-24T06:22:11.014265Z"
    }
   },
   "outputs": [],
   "source": [
    "import pandas as pd\n",
    "from keras.layers import Input, Flatten, Dense, Conv2D, MaxPooling2D, UpSampling2D, \\\n",
    "BatchNormalization, Activation, Lambda, Concatenate, Reshape, Embedding\n",
    "\n",
    "from keras.models import Model, load_model\n",
    "from keras import backend as K\n",
    "from keras.callbacks import EarlyStopping, ModelCheckpoint\n",
    "from keras.utils import Sequence\n",
    "\n",
    "import os\n",
    "import sys\n",
    "home = os.path.expanduser(\"~\")\n",
    "sys.path.append(os.path.join(os.path.expanduser(\"~\"), 'station2grid'))\n",
    "\n",
    "from tools.options import Opt ###\n",
    "from glob import glob\n"
   ]
  },
  {
   "cell_type": "code",
   "execution_count": null,
   "metadata": {
    "collapsed": true
   },
   "outputs": [],
   "source": [
    "model = Sequential()\n",
    "model.add(Embedding(1000, 64, input_length=10))\n",
    "# the model will take as input an integer matrix of size (batch, input_length).\n",
    "# the largest integer (i.e. word index) in the input should be\n",
    "# no larger than 999 (vocabulary size).\n",
    "# now model.output_shape == (None, 10, 64), where None is the batch dimension.\n",
    "input_array = np.random.randint(1000, size=(32, 10))\n",
    "model.compile('rmsprop', 'mse')"
   ]
  },
  {
   "cell_type": "code",
   "execution_count": 20,
   "metadata": {
    "ExecuteTime": {
     "end_time": "2020-04-24T06:43:12.148442Z",
     "start_time": "2020-04-24T06:43:11.598295Z"
    }
   },
   "outputs": [
    {
     "name": "stdout",
     "output_type": "stream",
     "text": [
      "_________________________________________________________________\n",
      "Layer (type)                 Output Shape              Param #   \n",
      "=================================================================\n",
      "input_16 (InputLayer)        (None, 73, 10)            0         \n",
      "_________________________________________________________________\n",
      "batch_normalization_20 (Batc (None, 73, 10)            40        \n",
      "_________________________________________________________________\n",
      "dense_32 (Dense)             (None, 73, 2)             22        \n",
      "_________________________________________________________________\n",
      "batch_normalization_21 (Batc (None, 73, 2)             8         \n",
      "_________________________________________________________________\n",
      "dense_33 (Dense)             (None, 73, 1)             3         \n",
      "_________________________________________________________________\n",
      "batch_normalization_22 (Batc (None, 73, 1)             4         \n",
      "_________________________________________________________________\n",
      "flatten_14 (Flatten)         (None, 73)                0         \n",
      "_________________________________________________________________\n",
      "dense_34 (Dense)             (None, 300)               22200     \n",
      "_________________________________________________________________\n",
      "dense_35 (Dense)             (None, 4576)              1377376   \n",
      "=================================================================\n",
      "Total params: 1,399,653\n",
      "Trainable params: 1,399,627\n",
      "Non-trainable params: 26\n",
      "_________________________________________________________________\n"
     ]
    }
   ],
   "source": [
    "\n",
    "input_ = Input(shape=(73, 10))\n",
    "x = BatchNormalization()(input_)     \n",
    "\n",
    "x = Dense(2, activation='relu')(x)  \n",
    "x = BatchNormalization()(x)     \n",
    "\n",
    "x = Dense(1, activation='relu')(x)   \n",
    "x = BatchNormalization()(x)     \n",
    "\n",
    "x = Flatten()(x)\n",
    "x = Dense(300, activation='relu')(x)        \n",
    "output_ = Dense(4576, activation='linear')(x)\n",
    "\n",
    "model = Model(input_, output_)\n",
    "model.compile(loss='mean_squared_error', optimizer='adam', metrics=['mae', 'mse'])\n",
    "model.summary()###\n"
   ]
  },
  {
   "cell_type": "code",
   "execution_count": null,
   "metadata": {
    "collapsed": true
   },
   "outputs": [],
   "source": []
  },
  {
   "cell_type": "code",
   "execution_count": null,
   "metadata": {
    "collapsed": true
   },
   "outputs": [],
   "source": []
  },
  {
   "cell_type": "code",
   "execution_count": null,
   "metadata": {
    "collapsed": true
   },
   "outputs": [],
   "source": []
  },
  {
   "cell_type": "code",
   "execution_count": null,
   "metadata": {
    "collapsed": true
   },
   "outputs": [],
   "source": []
  },
  {
   "cell_type": "code",
   "execution_count": null,
   "metadata": {
    "collapsed": true
   },
   "outputs": [],
   "source": []
  },
  {
   "cell_type": "code",
   "execution_count": null,
   "metadata": {
    "collapsed": true
   },
   "outputs": [],
   "source": []
  },
  {
   "cell_type": "code",
   "execution_count": null,
   "metadata": {
    "collapsed": true
   },
   "outputs": [],
   "source": []
  }
 ],
 "metadata": {
  "kernelspec": {
   "display_name": "Python 3",
   "language": "python",
   "name": "python3"
  },
  "language_info": {
   "codemirror_mode": {
    "name": "ipython",
    "version": 3
   },
   "file_extension": ".py",
   "mimetype": "text/x-python",
   "name": "python",
   "nbconvert_exporter": "python",
   "pygments_lexer": "ipython3",
   "version": "3.6.5"
  },
  "toc": {
   "base_numbering": 1,
   "nav_menu": {},
   "number_sections": true,
   "sideBar": true,
   "skip_h1_title": false,
   "title_cell": "Table of Contents",
   "title_sidebar": "Contents",
   "toc_cell": false,
   "toc_position": {},
   "toc_section_display": true,
   "toc_window_display": false
  }
 },
 "nbformat": 4,
 "nbformat_minor": 2
}
