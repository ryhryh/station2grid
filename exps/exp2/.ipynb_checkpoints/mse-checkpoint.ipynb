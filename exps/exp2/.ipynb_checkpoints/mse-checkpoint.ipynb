{
 "cells": [
  {
   "cell_type": "code",
   "execution_count": 1,
   "metadata": {
    "ExecuteTime": {
     "end_time": "2020-05-21T17:57:13.876830Z",
     "start_time": "2020-05-21T17:57:12.849960Z"
    },
    "collapsed": true
   },
   "outputs": [],
   "source": [
    "from glob import glob\n",
    "import os\n",
    "import pandas as pd\n",
    "from sklearn.metrics import mean_squared_error\n",
    "import matplotlib.pyplot as plt\n",
    "import numpy as np\n",
    "import seaborn as sns\n",
    "import matplotlib\n",
    "import re\n",
    "\n",
    "import sys\n",
    "home=os.path.expanduser(\"~\")\n",
    "sys.path.append(os.path.join(home, 'station2grid'))\n",
    "\n",
    "from tools import plotMap, CommonObj\n",
    "%matplotlib inline"
   ]
  },
  {
   "cell_type": "code",
   "execution_count": 2,
   "metadata": {
    "ExecuteTime": {
     "end_time": "2020-05-21T17:57:13.901522Z",
     "start_time": "2020-05-21T17:57:13.878975Z"
    }
   },
   "outputs": [
    {
     "data": {
      "text/html": [
       "<div>\n",
       "<style scoped>\n",
       "    .dataframe tbody tr th:only-of-type {\n",
       "        vertical-align: middle;\n",
       "    }\n",
       "\n",
       "    .dataframe tbody tr th {\n",
       "        vertical-align: top;\n",
       "    }\n",
       "\n",
       "    .dataframe thead th {\n",
       "        text-align: right;\n",
       "    }\n",
       "</style>\n",
       "<table border=\"1\" class=\"dataframe\">\n",
       "  <thead>\n",
       "    <tr style=\"text-align: right;\">\n",
       "      <th></th>\n",
       "      <th>SiteName</th>\n",
       "      <th>SiteEngName</th>\n",
       "      <th>area</th>\n",
       "      <th>lat</th>\n",
       "      <th>lon</th>\n",
       "      <th>lat_round</th>\n",
       "      <th>lon_round</th>\n",
       "      <th>row</th>\n",
       "      <th>col</th>\n",
       "    </tr>\n",
       "  </thead>\n",
       "  <tbody>\n",
       "    <tr>\n",
       "      <th>0</th>\n",
       "      <td>大霸尖山</td>\n",
       "      <td>Dabajianshan</td>\n",
       "      <td>mountain</td>\n",
       "      <td>24.461111</td>\n",
       "      <td>121.249722</td>\n",
       "      <td>24.46</td>\n",
       "      <td>121.25</td>\n",
       "      <td>88</td>\n",
       "      <td>125</td>\n",
       "    </tr>\n",
       "    <tr>\n",
       "      <th>1</th>\n",
       "      <td>牧山</td>\n",
       "      <td>Mushan</td>\n",
       "      <td>mountain</td>\n",
       "      <td>23.864722</td>\n",
       "      <td>121.152222</td>\n",
       "      <td>23.86</td>\n",
       "      <td>121.15</td>\n",
       "      <td>148</td>\n",
       "      <td>115</td>\n",
       "    </tr>\n",
       "    <tr>\n",
       "      <th>2</th>\n",
       "      <td>玉山</td>\n",
       "      <td>Yushan</td>\n",
       "      <td>mountain</td>\n",
       "      <td>23.470556</td>\n",
       "      <td>120.948889</td>\n",
       "      <td>23.47</td>\n",
       "      <td>120.95</td>\n",
       "      <td>187</td>\n",
       "      <td>95</td>\n",
       "    </tr>\n",
       "    <tr>\n",
       "      <th>3</th>\n",
       "      <td>北大武山</td>\n",
       "      <td>Beidawushan</td>\n",
       "      <td>mountain</td>\n",
       "      <td>22.629167</td>\n",
       "      <td>120.751944</td>\n",
       "      <td>22.63</td>\n",
       "      <td>120.75</td>\n",
       "      <td>271</td>\n",
       "      <td>75</td>\n",
       "    </tr>\n",
       "    <tr>\n",
       "      <th>4</th>\n",
       "      <td>陽明</td>\n",
       "      <td>Yangming</td>\n",
       "      <td>city</td>\n",
       "      <td>25.182722</td>\n",
       "      <td>121.529583</td>\n",
       "      <td>25.18</td>\n",
       "      <td>121.53</td>\n",
       "      <td>16</td>\n",
       "      <td>153</td>\n",
       "    </tr>\n",
       "  </tbody>\n",
       "</table>\n",
       "</div>"
      ],
      "text/plain": [
       "  SiteName   SiteEngName      area        lat         lon  lat_round  \\\n",
       "0     大霸尖山  Dabajianshan  mountain  24.461111  121.249722      24.46   \n",
       "1       牧山        Mushan  mountain  23.864722  121.152222      23.86   \n",
       "2       玉山        Yushan  mountain  23.470556  120.948889      23.47   \n",
       "3     北大武山   Beidawushan  mountain  22.629167  120.751944      22.63   \n",
       "4       陽明      Yangming      city  25.182722  121.529583      25.18   \n",
       "\n",
       "   lon_round  row  col  \n",
       "0     121.25   88  125  \n",
       "1     121.15  148  115  \n",
       "2     120.95  187   95  \n",
       "3     120.75  271   75  \n",
       "4     121.53   16  153  "
      ]
     },
     "execution_count": 2,
     "metadata": {},
     "output_type": "execute_result"
    }
   ],
   "source": [
    "info = CommonObj().epa_station_info\n",
    "info.head()"
   ]
  },
  {
   "cell_type": "markdown",
   "metadata": {},
   "source": [
    "# read"
   ]
  },
  {
   "cell_type": "code",
   "execution_count": 3,
   "metadata": {
    "ExecuteTime": {
     "end_time": "2020-05-21T17:57:13.929496Z",
     "start_time": "2020-05-21T17:57:13.904419Z"
    }
   },
   "outputs": [
    {
     "data": {
      "text/html": [
       "<div>\n",
       "<style scoped>\n",
       "    .dataframe tbody tr th:only-of-type {\n",
       "        vertical-align: middle;\n",
       "    }\n",
       "\n",
       "    .dataframe tbody tr th {\n",
       "        vertical-align: top;\n",
       "    }\n",
       "\n",
       "    .dataframe thead th {\n",
       "        text-align: right;\n",
       "    }\n",
       "</style>\n",
       "<table border=\"1\" class=\"dataframe\">\n",
       "  <thead>\n",
       "    <tr style=\"text-align: right;\">\n",
       "      <th></th>\n",
       "      <th>SiteName</th>\n",
       "      <th>SiteEngName</th>\n",
       "      <th>area</th>\n",
       "      <th>lat</th>\n",
       "      <th>lon</th>\n",
       "      <th>lat_round</th>\n",
       "      <th>lon_round</th>\n",
       "      <th>row</th>\n",
       "      <th>col</th>\n",
       "    </tr>\n",
       "  </thead>\n",
       "  <tbody>\n",
       "    <tr>\n",
       "      <th>0</th>\n",
       "      <td>大霸尖山</td>\n",
       "      <td>Dabajianshan</td>\n",
       "      <td>mountain</td>\n",
       "      <td>24.461111</td>\n",
       "      <td>121.249722</td>\n",
       "      <td>24.46</td>\n",
       "      <td>121.25</td>\n",
       "      <td>88</td>\n",
       "      <td>125</td>\n",
       "    </tr>\n",
       "  </tbody>\n",
       "</table>\n",
       "</div>"
      ],
      "text/plain": [
       "  SiteName   SiteEngName      area        lat         lon  lat_round  \\\n",
       "0     大霸尖山  Dabajianshan  mountain  24.461111  121.249722      24.46   \n",
       "\n",
       "   lon_round  row  col  \n",
       "0     121.25   88  125  "
      ]
     },
     "execution_count": 3,
     "metadata": {},
     "output_type": "execute_result"
    }
   ],
   "source": [
    "info = CommonObj().epa_station_info\n",
    "info.head(1)\n"
   ]
  },
  {
   "cell_type": "code",
   "execution_count": 18,
   "metadata": {
    "ExecuteTime": {
     "end_time": "2020-05-21T17:57:32.448950Z",
     "start_time": "2020-05-21T17:57:32.443546Z"
    },
    "collapsed": true
   },
   "outputs": [],
   "source": [
    "features_list = ['pm25',\n",
    "#                  'pm25_AMBTEMP_RAINFALL_WINDCOS_WINDSIN',\n",
    "#                  'pm25_AMBTEMP_RH_RAINFALL_WINDCOS_WINDSIN_PM10_NO2_SO2_O3'\n",
    "                ]\n",
    "\n",
    "station_list = [\n",
    "    'Cailiao'\n",
    "#     'Dabajianshan','Mushan','Yushan','Beidawushan',\n",
    "#     'Cailiao','Pingzhen','Tainan','Linyuan',\n",
    "] #info.SiteEngName.values[:61]"
   ]
  },
  {
   "cell_type": "code",
   "execution_count": 31,
   "metadata": {
    "ExecuteTime": {
     "end_time": "2020-05-21T17:58:41.220169Z",
     "start_time": "2020-05-21T17:58:41.194875Z"
    },
    "scrolled": true
   },
   "outputs": [
    {
     "data": {
      "text/plain": [
       "6"
      ]
     },
     "execution_count": 31,
     "metadata": {},
     "output_type": "execute_result"
    }
   ],
   "source": [
    "def f(path):\n",
    "    features = re.search('features-(.+?)--',path)\n",
    "    features = features.group(1) if features!=None else 'pm25'\n",
    "    \n",
    "    c_type = re.search('composite_type-(.+?)--',path)\n",
    "    c_type = c_type.group(1) if c_type!=None else 'x'\n",
    "\n",
    "    val_stations = re.search('val_stations-(.+?)--',path).group(1)\n",
    "    model_name = re.search('model_name-(.+?)--',path).group(1)\n",
    "    composite_type = re.search('composite_type-(.+?)--',path)\n",
    "    c1 = (features in features_list)\n",
    "    c2 = (val_stations in station_list)\n",
    "    c3 = (model_name in ['station2gridSD','knn','station2gridMD']) #['station2gridSD','knn','station2gridMD']\n",
    "    c4 = (c_type in ['c0','c1','c2','c3','x'])\n",
    "    return c1&c2&c3&c4\n",
    "    \n",
    "paths = glob(os.path.join('results','*csv'))\n",
    "paths = [path for path in paths if f(path)==True]\n",
    "paths = sorted(paths)\n",
    "\n",
    "len(paths)\n",
    "# paths\n"
   ]
  },
  {
   "cell_type": "code",
   "execution_count": 32,
   "metadata": {
    "ExecuteTime": {
     "end_time": "2020-05-21T17:58:41.441748Z",
     "start_time": "2020-05-21T17:58:41.222981Z"
    },
    "scrolled": true
   },
   "outputs": [
    {
     "data": {
      "text/html": [
       "<div>\n",
       "<style scoped>\n",
       "    .dataframe tbody tr th:only-of-type {\n",
       "        vertical-align: middle;\n",
       "    }\n",
       "\n",
       "    .dataframe tbody tr th {\n",
       "        vertical-align: top;\n",
       "    }\n",
       "\n",
       "    .dataframe thead th {\n",
       "        text-align: right;\n",
       "    }\n",
       "</style>\n",
       "<table border=\"1\" class=\"dataframe\">\n",
       "  <thead>\n",
       "    <tr style=\"text-align: right;\">\n",
       "      <th></th>\n",
       "      <th>group</th>\n",
       "      <th>station</th>\n",
       "      <th>dt</th>\n",
       "      <th>predict</th>\n",
       "      <th>real</th>\n",
       "    </tr>\n",
       "  </thead>\n",
       "  <tbody>\n",
       "    <tr>\n",
       "      <th>0</th>\n",
       "      <td>model_name-knn--val_stations-Cailiao--k-4--wei...</td>\n",
       "      <td>Cailiao</td>\n",
       "      <td>2019-01-01 00:00:00</td>\n",
       "      <td>4.484633</td>\n",
       "      <td>1.0</td>\n",
       "    </tr>\n",
       "    <tr>\n",
       "      <th>1</th>\n",
       "      <td>model_name-knn--val_stations-Cailiao--k-4--wei...</td>\n",
       "      <td>Cailiao</td>\n",
       "      <td>2019-01-01 01:00:00</td>\n",
       "      <td>5.203113</td>\n",
       "      <td>1.0</td>\n",
       "    </tr>\n",
       "    <tr>\n",
       "      <th>2</th>\n",
       "      <td>model_name-knn--val_stations-Cailiao--k-4--wei...</td>\n",
       "      <td>Cailiao</td>\n",
       "      <td>2019-01-01 02:00:00</td>\n",
       "      <td>4.704083</td>\n",
       "      <td>1.0</td>\n",
       "    </tr>\n",
       "    <tr>\n",
       "      <th>3</th>\n",
       "      <td>model_name-knn--val_stations-Cailiao--k-4--wei...</td>\n",
       "      <td>Cailiao</td>\n",
       "      <td>2019-01-01 03:00:00</td>\n",
       "      <td>2.931461</td>\n",
       "      <td>4.0</td>\n",
       "    </tr>\n",
       "    <tr>\n",
       "      <th>4</th>\n",
       "      <td>model_name-knn--val_stations-Cailiao--k-4--wei...</td>\n",
       "      <td>Cailiao</td>\n",
       "      <td>2019-01-01 04:00:00</td>\n",
       "      <td>1.665071</td>\n",
       "      <td>4.0</td>\n",
       "    </tr>\n",
       "  </tbody>\n",
       "</table>\n",
       "</div>"
      ],
      "text/plain": [
       "                                               group  station  \\\n",
       "0  model_name-knn--val_stations-Cailiao--k-4--wei...  Cailiao   \n",
       "1  model_name-knn--val_stations-Cailiao--k-4--wei...  Cailiao   \n",
       "2  model_name-knn--val_stations-Cailiao--k-4--wei...  Cailiao   \n",
       "3  model_name-knn--val_stations-Cailiao--k-4--wei...  Cailiao   \n",
       "4  model_name-knn--val_stations-Cailiao--k-4--wei...  Cailiao   \n",
       "\n",
       "                    dt   predict  real  \n",
       "0  2019-01-01 00:00:00  4.484633   1.0  \n",
       "1  2019-01-01 01:00:00  5.203113   1.0  \n",
       "2  2019-01-01 02:00:00  4.704083   1.0  \n",
       "3  2019-01-01 03:00:00  2.931461   4.0  \n",
       "4  2019-01-01 04:00:00  1.665071   4.0  "
      ]
     },
     "execution_count": 32,
     "metadata": {},
     "output_type": "execute_result"
    }
   ],
   "source": [
    "dfs = [pd.read_csv(path) for path in paths]\n",
    "\n",
    "result = pd.concat(dfs, axis=0)\n",
    "result.head()"
   ]
  },
  {
   "cell_type": "code",
   "execution_count": 33,
   "metadata": {
    "ExecuteTime": {
     "end_time": "2020-05-21T17:58:41.449957Z",
     "start_time": "2020-05-21T17:58:41.443637Z"
    }
   },
   "outputs": [
    {
     "data": {
      "text/plain": [
       "array(['Cailiao'], dtype=object)"
      ]
     },
     "execution_count": 33,
     "metadata": {},
     "output_type": "execute_result"
    }
   ],
   "source": [
    "result.station.unique()\n"
   ]
  },
  {
   "cell_type": "markdown",
   "metadata": {},
   "source": [
    "# mse"
   ]
  },
  {
   "cell_type": "code",
   "execution_count": 34,
   "metadata": {
    "ExecuteTime": {
     "end_time": "2020-05-21T17:58:41.561764Z",
     "start_time": "2020-05-21T17:58:41.451946Z"
    },
    "collapsed": true
   },
   "outputs": [],
   "source": [
    "# mean_squared_error\n",
    "\n",
    "def smape(A, F):\n",
    "    return 100/len(A) * np.sum(2 * np.abs(F - A) / (np.abs(A) + np.abs(F)))\n",
    "\n",
    "def mape(y_true, y_pred): \n",
    "    eps = 1e-16\n",
    "    y_true, y_pred = np.array(y_true), np.array(y_pred)\n",
    "    return np.mean(np.abs((y_true - y_pred) / (y_true+eps))) * 100"
   ]
  },
  {
   "cell_type": "code",
   "execution_count": 35,
   "metadata": {
    "ExecuteTime": {
     "end_time": "2020-05-21T17:58:41.750162Z",
     "start_time": "2020-05-21T17:58:41.564015Z"
    },
    "scrolled": true
   },
   "outputs": [
    {
     "name": "stdout",
     "output_type": "stream",
     "text": [
      "(6, 3)\n"
     ]
    },
    {
     "data": {
      "text/html": [
       "<div>\n",
       "<style scoped>\n",
       "    .dataframe tbody tr th:only-of-type {\n",
       "        vertical-align: middle;\n",
       "    }\n",
       "\n",
       "    .dataframe tbody tr th {\n",
       "        vertical-align: top;\n",
       "    }\n",
       "\n",
       "    .dataframe thead th {\n",
       "        text-align: right;\n",
       "    }\n",
       "</style>\n",
       "<table border=\"1\" class=\"dataframe\">\n",
       "  <thead>\n",
       "    <tr style=\"text-align: right;\">\n",
       "      <th></th>\n",
       "      <th>group</th>\n",
       "      <th>station</th>\n",
       "      <th>value</th>\n",
       "    </tr>\n",
       "  </thead>\n",
       "  <tbody>\n",
       "    <tr>\n",
       "      <th>0</th>\n",
       "      <td>model_name-knn--val_stations-Cailiao--k-4--wei...</td>\n",
       "      <td>Cailiao</td>\n",
       "      <td>19.842513</td>\n",
       "    </tr>\n",
       "    <tr>\n",
       "      <th>1</th>\n",
       "      <td>model_name-station2gridMD--features-pm25--val_...</td>\n",
       "      <td>Cailiao</td>\n",
       "      <td>71.520877</td>\n",
       "    </tr>\n",
       "    <tr>\n",
       "      <th>2</th>\n",
       "      <td>model_name-station2gridMD--features-pm25--val_...</td>\n",
       "      <td>Cailiao</td>\n",
       "      <td>63.053185</td>\n",
       "    </tr>\n",
       "    <tr>\n",
       "      <th>3</th>\n",
       "      <td>model_name-station2gridMD--features-pm25--val_...</td>\n",
       "      <td>Cailiao</td>\n",
       "      <td>59.843096</td>\n",
       "    </tr>\n",
       "    <tr>\n",
       "      <th>4</th>\n",
       "      <td>model_name-station2gridSD--features-pm25--val_...</td>\n",
       "      <td>Cailiao</td>\n",
       "      <td>15.382250</td>\n",
       "    </tr>\n",
       "  </tbody>\n",
       "</table>\n",
       "</div>"
      ],
      "text/plain": [
       "                                               group  station      value\n",
       "0  model_name-knn--val_stations-Cailiao--k-4--wei...  Cailiao  19.842513\n",
       "1  model_name-station2gridMD--features-pm25--val_...  Cailiao  71.520877\n",
       "2  model_name-station2gridMD--features-pm25--val_...  Cailiao  63.053185\n",
       "3  model_name-station2gridMD--features-pm25--val_...  Cailiao  59.843096\n",
       "4  model_name-station2gridSD--features-pm25--val_...  Cailiao  15.382250"
      ]
     },
     "execution_count": 35,
     "metadata": {},
     "output_type": "execute_result"
    }
   ],
   "source": [
    "by=['group', 'station'] #keys+['method','station']\n",
    "df_mse=result.groupby(by).apply(lambda row: mean_squared_error(row.real, row.predict)).reset_index(name='value')\n",
    "print(df_mse.shape)\n",
    "df_mse.head()\n"
   ]
  },
  {
   "cell_type": "code",
   "execution_count": 36,
   "metadata": {
    "ExecuteTime": {
     "end_time": "2020-05-21T17:58:41.757617Z",
     "start_time": "2020-05-21T17:58:41.752521Z"
    },
    "collapsed": true,
    "scrolled": true
   },
   "outputs": [],
   "source": [
    "site2area=dict(zip(info.SiteEngName,info.area,))\n",
    "df_mse['area']=df_mse.station.apply(lambda x: site2area[x])\n",
    "# df_mse"
   ]
  },
  {
   "cell_type": "code",
   "execution_count": 37,
   "metadata": {
    "ExecuteTime": {
     "end_time": "2020-05-21T17:58:41.886617Z",
     "start_time": "2020-05-21T17:58:41.760039Z"
    },
    "collapsed": true
   },
   "outputs": [],
   "source": [
    "def parse(path, key='dnn_type'):\n",
    "    match = re.search('(--|^)%s-(.+?)(--|$)'%(key), path)\n",
    "    value = match.group(2) if match != None else '' ###\n",
    "    return value\n",
    "    \n",
    "keys=['model_name','domain','composite_type'] # ['model_name','domain','k','weightKNN','composite_type','features']\n",
    "for key in keys:\n",
    "    df_mse[key] = df_mse.group.apply(lambda x: parse(x, key=key))\n",
    "    \n",
    "df_mse['method'] = df_mse.apply(\n",
    "    lambda row: '-'.join([row[key] for key in keys]),axis=1)\n"
   ]
  },
  {
   "cell_type": "code",
   "execution_count": 38,
   "metadata": {
    "ExecuteTime": {
     "end_time": "2020-05-21T17:58:41.933760Z",
     "start_time": "2020-05-21T17:58:41.889679Z"
    }
   },
   "outputs": [
    {
     "data": {
      "text/html": [
       "<div>\n",
       "<style scoped>\n",
       "    .dataframe tbody tr th:only-of-type {\n",
       "        vertical-align: middle;\n",
       "    }\n",
       "\n",
       "    .dataframe tbody tr th {\n",
       "        vertical-align: top;\n",
       "    }\n",
       "\n",
       "    .dataframe thead th {\n",
       "        text-align: right;\n",
       "    }\n",
       "</style>\n",
       "<table border=\"1\" class=\"dataframe\">\n",
       "  <thead>\n",
       "    <tr style=\"text-align: right;\">\n",
       "      <th></th>\n",
       "      <th>group</th>\n",
       "      <th>station</th>\n",
       "      <th>value</th>\n",
       "      <th>area</th>\n",
       "      <th>model_name</th>\n",
       "      <th>domain</th>\n",
       "      <th>composite_type</th>\n",
       "      <th>method</th>\n",
       "    </tr>\n",
       "  </thead>\n",
       "  <tbody>\n",
       "    <tr>\n",
       "      <th>0</th>\n",
       "      <td>model_name-knn--val_stations-Cailiao--k-4--wei...</td>\n",
       "      <td>Cailiao</td>\n",
       "      <td>19.842513</td>\n",
       "      <td>city</td>\n",
       "      <td>knn</td>\n",
       "      <td></td>\n",
       "      <td></td>\n",
       "      <td>knn--</td>\n",
       "    </tr>\n",
       "  </tbody>\n",
       "</table>\n",
       "</div>"
      ],
      "text/plain": [
       "                                               group  station      value  \\\n",
       "0  model_name-knn--val_stations-Cailiao--k-4--wei...  Cailiao  19.842513   \n",
       "\n",
       "   area model_name domain composite_type method  \n",
       "0  city        knn                        knn--  "
      ]
     },
     "execution_count": 38,
     "metadata": {},
     "output_type": "execute_result"
    }
   ],
   "source": [
    "df_mse.head(1)"
   ]
  },
  {
   "cell_type": "code",
   "execution_count": 39,
   "metadata": {
    "ExecuteTime": {
     "end_time": "2020-05-21T17:58:42.024065Z",
     "start_time": "2020-05-21T17:58:41.936294Z"
    },
    "scrolled": true
   },
   "outputs": [
    {
     "data": {
      "text/html": [
       "<div>\n",
       "<style scoped>\n",
       "    .dataframe tbody tr th:only-of-type {\n",
       "        vertical-align: middle;\n",
       "    }\n",
       "\n",
       "    .dataframe tbody tr th {\n",
       "        vertical-align: top;\n",
       "    }\n",
       "\n",
       "    .dataframe thead th {\n",
       "        text-align: right;\n",
       "    }\n",
       "</style>\n",
       "<table border=\"1\" class=\"dataframe\">\n",
       "  <thead>\n",
       "    <tr style=\"text-align: right;\">\n",
       "      <th></th>\n",
       "      <th></th>\n",
       "      <th></th>\n",
       "      <th>count</th>\n",
       "      <th>mean</th>\n",
       "      <th>std</th>\n",
       "      <th>min</th>\n",
       "      <th>25%</th>\n",
       "      <th>50%</th>\n",
       "      <th>75%</th>\n",
       "      <th>max</th>\n",
       "    </tr>\n",
       "    <tr>\n",
       "      <th></th>\n",
       "      <th>method</th>\n",
       "      <th>area</th>\n",
       "      <th></th>\n",
       "      <th></th>\n",
       "      <th></th>\n",
       "      <th></th>\n",
       "      <th></th>\n",
       "      <th></th>\n",
       "      <th></th>\n",
       "      <th></th>\n",
       "    </tr>\n",
       "  </thead>\n",
       "  <tbody>\n",
       "    <tr>\n",
       "      <th rowspan=\"6\" valign=\"top\">value</th>\n",
       "      <th>knn--</th>\n",
       "      <th>city</th>\n",
       "      <td>1.0</td>\n",
       "      <td>19.842513</td>\n",
       "      <td>NaN</td>\n",
       "      <td>19.842513</td>\n",
       "      <td>19.842513</td>\n",
       "      <td>19.842513</td>\n",
       "      <td>19.842513</td>\n",
       "      <td>19.842513</td>\n",
       "    </tr>\n",
       "    <tr>\n",
       "      <th>station2gridMD--c0</th>\n",
       "      <th>city</th>\n",
       "      <td>1.0</td>\n",
       "      <td>71.520877</td>\n",
       "      <td>NaN</td>\n",
       "      <td>71.520877</td>\n",
       "      <td>71.520877</td>\n",
       "      <td>71.520877</td>\n",
       "      <td>71.520877</td>\n",
       "      <td>71.520877</td>\n",
       "    </tr>\n",
       "    <tr>\n",
       "      <th>station2gridMD--c1</th>\n",
       "      <th>city</th>\n",
       "      <td>1.0</td>\n",
       "      <td>63.053185</td>\n",
       "      <td>NaN</td>\n",
       "      <td>63.053185</td>\n",
       "      <td>63.053185</td>\n",
       "      <td>63.053185</td>\n",
       "      <td>63.053185</td>\n",
       "      <td>63.053185</td>\n",
       "    </tr>\n",
       "    <tr>\n",
       "      <th>station2gridMD--c2</th>\n",
       "      <th>city</th>\n",
       "      <td>1.0</td>\n",
       "      <td>59.843096</td>\n",
       "      <td>NaN</td>\n",
       "      <td>59.843096</td>\n",
       "      <td>59.843096</td>\n",
       "      <td>59.843096</td>\n",
       "      <td>59.843096</td>\n",
       "      <td>59.843096</td>\n",
       "    </tr>\n",
       "    <tr>\n",
       "      <th>station2gridSD-air-</th>\n",
       "      <th>city</th>\n",
       "      <td>1.0</td>\n",
       "      <td>15.382250</td>\n",
       "      <td>NaN</td>\n",
       "      <td>15.382250</td>\n",
       "      <td>15.382250</td>\n",
       "      <td>15.382250</td>\n",
       "      <td>15.382250</td>\n",
       "      <td>15.382250</td>\n",
       "    </tr>\n",
       "    <tr>\n",
       "      <th>station2gridSD-sat-</th>\n",
       "      <th>city</th>\n",
       "      <td>1.0</td>\n",
       "      <td>19.056489</td>\n",
       "      <td>NaN</td>\n",
       "      <td>19.056489</td>\n",
       "      <td>19.056489</td>\n",
       "      <td>19.056489</td>\n",
       "      <td>19.056489</td>\n",
       "      <td>19.056489</td>\n",
       "    </tr>\n",
       "  </tbody>\n",
       "</table>\n",
       "</div>"
      ],
      "text/plain": [
       "                                count       mean  std        min        25%  \\\n",
       "      method              area                                                \n",
       "value knn--               city    1.0  19.842513  NaN  19.842513  19.842513   \n",
       "      station2gridMD--c0  city    1.0  71.520877  NaN  71.520877  71.520877   \n",
       "      station2gridMD--c1  city    1.0  63.053185  NaN  63.053185  63.053185   \n",
       "      station2gridMD--c2  city    1.0  59.843096  NaN  59.843096  59.843096   \n",
       "      station2gridSD-air- city    1.0  15.382250  NaN  15.382250  15.382250   \n",
       "      station2gridSD-sat- city    1.0  19.056489  NaN  19.056489  19.056489   \n",
       "\n",
       "                                      50%        75%        max  \n",
       "      method              area                                   \n",
       "value knn--               city  19.842513  19.842513  19.842513  \n",
       "      station2gridMD--c0  city  71.520877  71.520877  71.520877  \n",
       "      station2gridMD--c1  city  63.053185  63.053185  63.053185  \n",
       "      station2gridMD--c2  city  59.843096  59.843096  59.843096  \n",
       "      station2gridSD-air- city  15.382250  15.382250  15.382250  \n",
       "      station2gridSD-sat- city  19.056489  19.056489  19.056489  "
      ]
     },
     "execution_count": 39,
     "metadata": {},
     "output_type": "execute_result"
    }
   ],
   "source": [
    "pivot=pd.pivot_table(df_mse, index=['station'], columns=['method','area']).reset_index()\n",
    "pivot.head(1)\n",
    "\n",
    "describe = pivot.describe().T.sort_values(by=['method'], ascending=True)\n",
    "describe"
   ]
  },
  {
   "cell_type": "markdown",
   "metadata": {},
   "source": [
    "# plot"
   ]
  },
  {
   "cell_type": "markdown",
   "metadata": {},
   "source": [
    "## mountain"
   ]
  },
  {
   "cell_type": "code",
   "execution_count": 40,
   "metadata": {
    "ExecuteTime": {
     "end_time": "2020-05-21T17:58:42.440758Z",
     "start_time": "2020-05-21T17:58:42.026106Z"
    },
    "scrolled": true
   },
   "outputs": [
    {
     "data": {
      "text/plain": [
       "<seaborn.axisgrid.FacetGrid at 0x7f7df3b495c0>"
      ]
     },
     "execution_count": 40,
     "metadata": {},
     "output_type": "execute_result"
    },
    {
     "data": {
      "image/png": "[encoded data removed]",
      "text/plain": [
       "<matplotlib.figure.Figure at 0x7f7df3b49eb8>"
      ]
     },
     "metadata": {},
     "output_type": "display_data"
    }
   ],
   "source": [
    "sns.set(font_scale=1)\n",
    "ax = sns.catplot(\n",
    "    x='model_name', \n",
    "    y='value', \n",
    "    col='area',\n",
    "    hue='method', \n",
    "    data=df_mse[df_mse.station.isin(station_list[:4])],\n",
    "    kind='box',\n",
    "#     order=order,\n",
    "#     height=4,\n",
    "#     aspect=2,\n",
    "    legend=True\n",
    ")\n",
    "ax.set_xticklabels(rotation=0)\n",
    "# plt.ylim(0, 80)\n",
    "# plt.legend(bbox_to_anchor=(1, 1.6))"
   ]
  },
  {
   "cell_type": "code",
   "execution_count": 41,
   "metadata": {
    "ExecuteTime": {
     "end_time": "2020-05-21T17:58:42.780886Z",
     "start_time": "2020-05-21T17:58:42.442654Z"
    }
   },
   "outputs": [
    {
     "data": {
      "text/plain": [
       "<seaborn.axisgrid.FacetGrid at 0x7f7df35dcb00>"
      ]
     },
     "execution_count": 41,
     "metadata": {},
     "output_type": "execute_result"
    },
    {
     "data": {
      "image/png": "[encoded data removed]",
      "text/plain": [
       "<matplotlib.figure.Figure at 0x7f7df35dc668>"
      ]
     },
     "metadata": {},
     "output_type": "display_data"
    }
   ],
   "source": [
    "sns.set(font_scale=1)\n",
    "ax = sns.catplot(\n",
    "    x='station', \n",
    "    y='value', \n",
    "    col='area',\n",
    "    hue='method', \n",
    "    data=df_mse[df_mse.station.isin(station_list[:4])],\n",
    "    kind='point',\n",
    "#     order=station_list[:],\n",
    "#     height=4,\n",
    "#     aspect=4,\n",
    "    legend=True,\n",
    "    linestyles='-',\n",
    ")\n",
    "\n",
    "ax.set_xticklabels(rotation=90, size=10)\n",
    "# plt.ylim(30, 35)\n",
    "# plt.legend(bbox_to_anchor=(1, 1.6))\n",
    "# plt.grid(axis='x')"
   ]
  },
  {
   "cell_type": "markdown",
   "metadata": {},
   "source": [
    "## city"
   ]
  },
  {
   "cell_type": "code",
   "execution_count": 42,
   "metadata": {
    "ExecuteTime": {
     "end_time": "2020-05-21T17:58:42.799696Z",
     "start_time": "2020-05-21T17:58:42.782563Z"
    }
   },
   "outputs": [
    {
     "ename": "ValueError",
     "evalue": "min() arg is an empty sequence",
     "output_type": "error",
     "traceback": [
      "\u001b[0;31m---------------------------------------------------------------------------\u001b[0m",
      "\u001b[0;31mValueError\u001b[0m                                Traceback (most recent call last)",
      "\u001b[0;32m<ipython-input-42-a6dfb97a7b5a>\u001b[0m in \u001b[0;36m<module>\u001b[0;34m\u001b[0m\n\u001b[1;32m     10\u001b[0m \u001b[0;31m#     height=4,\u001b[0m\u001b[0;34m\u001b[0m\u001b[0;34m\u001b[0m\u001b[0m\n\u001b[1;32m     11\u001b[0m \u001b[0;31m#     aspect=2,\u001b[0m\u001b[0;34m\u001b[0m\u001b[0;34m\u001b[0m\u001b[0m\n\u001b[0;32m---> 12\u001b[0;31m     \u001b[0mlegend\u001b[0m\u001b[0;34m=\u001b[0m\u001b[0;32mTrue\u001b[0m\u001b[0;34m\u001b[0m\u001b[0m\n\u001b[0m\u001b[1;32m     13\u001b[0m )\n\u001b[1;32m     14\u001b[0m \u001b[0max\u001b[0m\u001b[0;34m.\u001b[0m\u001b[0mset_xticklabels\u001b[0m\u001b[0;34m(\u001b[0m\u001b[0mrotation\u001b[0m\u001b[0;34m=\u001b[0m\u001b[0;36m0\u001b[0m\u001b[0;34m)\u001b[0m\u001b[0;34m\u001b[0m\u001b[0m\n",
      "\u001b[0;32m~/.pyenv/versions/3.6.5/lib/python3.6/site-packages/seaborn/categorical.py\u001b[0m in \u001b[0;36mcatplot\u001b[0;34m(x, y, hue, data, row, col, col_wrap, estimator, ci, n_boot, units, order, hue_order, row_order, col_order, kind, height, aspect, orient, color, palette, legend, legend_out, sharex, sharey, margin_titles, facet_kws, **kwargs)\u001b[0m\n\u001b[1;32m   3722\u001b[0m     \u001b[0;31m# so we need to define ``palette`` to get default behavior for the\u001b[0m\u001b[0;34m\u001b[0m\u001b[0;34m\u001b[0m\u001b[0m\n\u001b[1;32m   3723\u001b[0m     \u001b[0;31m# categorical functions\u001b[0m\u001b[0;34m\u001b[0m\u001b[0;34m\u001b[0m\u001b[0m\n\u001b[0;32m-> 3724\u001b[0;31m     \u001b[0mp\u001b[0m\u001b[0;34m.\u001b[0m\u001b[0mestablish_colors\u001b[0m\u001b[0;34m(\u001b[0m\u001b[0mcolor\u001b[0m\u001b[0;34m,\u001b[0m \u001b[0mpalette\u001b[0m\u001b[0;34m,\u001b[0m \u001b[0;36m1\u001b[0m\u001b[0;34m)\u001b[0m\u001b[0;34m\u001b[0m\u001b[0m\n\u001b[0m\u001b[1;32m   3725\u001b[0m     \u001b[0;32mif\u001b[0m \u001b[0mkind\u001b[0m \u001b[0;34m!=\u001b[0m \u001b[0;34m\"point\"\u001b[0m \u001b[0;32mor\u001b[0m \u001b[0mhue\u001b[0m \u001b[0;32mis\u001b[0m \u001b[0;32mnot\u001b[0m \u001b[0;32mNone\u001b[0m\u001b[0;34m:\u001b[0m\u001b[0;34m\u001b[0m\u001b[0m\n\u001b[1;32m   3726\u001b[0m         \u001b[0mpalette\u001b[0m \u001b[0;34m=\u001b[0m \u001b[0mp\u001b[0m\u001b[0;34m.\u001b[0m\u001b[0mcolors\u001b[0m\u001b[0;34m\u001b[0m\u001b[0m\n",
      "\u001b[0;32m~/.pyenv/versions/3.6.5/lib/python3.6/site-packages/seaborn/categorical.py\u001b[0m in \u001b[0;36mestablish_colors\u001b[0;34m(self, color, palette, saturation)\u001b[0m\n\u001b[1;32m    313\u001b[0m         \u001b[0;31m# Determine the gray color to use for the lines framing the plot\u001b[0m\u001b[0;34m\u001b[0m\u001b[0;34m\u001b[0m\u001b[0m\n\u001b[1;32m    314\u001b[0m         \u001b[0mlight_vals\u001b[0m \u001b[0;34m=\u001b[0m \u001b[0;34m[\u001b[0m\u001b[0mcolorsys\u001b[0m\u001b[0;34m.\u001b[0m\u001b[0mrgb_to_hls\u001b[0m\u001b[0;34m(\u001b[0m\u001b[0;34m*\u001b[0m\u001b[0mc\u001b[0m\u001b[0;34m)\u001b[0m\u001b[0;34m[\u001b[0m\u001b[0;36m1\u001b[0m\u001b[0;34m]\u001b[0m \u001b[0;32mfor\u001b[0m \u001b[0mc\u001b[0m \u001b[0;32min\u001b[0m \u001b[0mrgb_colors\u001b[0m\u001b[0;34m]\u001b[0m\u001b[0;34m\u001b[0m\u001b[0m\n\u001b[0;32m--> 315\u001b[0;31m         \u001b[0mlum\u001b[0m \u001b[0;34m=\u001b[0m \u001b[0mmin\u001b[0m\u001b[0;34m(\u001b[0m\u001b[0mlight_vals\u001b[0m\u001b[0;34m)\u001b[0m \u001b[0;34m*\u001b[0m \u001b[0;36m.6\u001b[0m\u001b[0;34m\u001b[0m\u001b[0m\n\u001b[0m\u001b[1;32m    316\u001b[0m         \u001b[0mgray\u001b[0m \u001b[0;34m=\u001b[0m \u001b[0mmpl\u001b[0m\u001b[0;34m.\u001b[0m\u001b[0mcolors\u001b[0m\u001b[0;34m.\u001b[0m\u001b[0mrgb2hex\u001b[0m\u001b[0;34m(\u001b[0m\u001b[0;34m(\u001b[0m\u001b[0mlum\u001b[0m\u001b[0;34m,\u001b[0m \u001b[0mlum\u001b[0m\u001b[0;34m,\u001b[0m \u001b[0mlum\u001b[0m\u001b[0;34m)\u001b[0m\u001b[0;34m)\u001b[0m\u001b[0;34m\u001b[0m\u001b[0m\n\u001b[1;32m    317\u001b[0m \u001b[0;34m\u001b[0m\u001b[0m\n",
      "\u001b[0;31mValueError\u001b[0m: min() arg is an empty sequence"
     ]
    }
   ],
   "source": [
    "sns.set(font_scale=1)\n",
    "ax = sns.catplot(\n",
    "    x='model_name', \n",
    "    y='value', \n",
    "    col='area',\n",
    "    hue='method', \n",
    "    data=df_mse[df_mse.station.isin(station_list[4:])],\n",
    "    kind='box',\n",
    "#     order=order,\n",
    "#     height=4,\n",
    "#     aspect=2,\n",
    "    legend=True\n",
    ")\n",
    "ax.set_xticklabels(rotation=0)\n",
    "# plt.ylim(0, 80)\n",
    "# plt.legend(bbox_to_anchor=(1, 1.6))"
   ]
  },
  {
   "cell_type": "code",
   "execution_count": null,
   "metadata": {
    "ExecuteTime": {
     "end_time": "2020-05-21T17:58:42.800226Z",
     "start_time": "2020-05-21T17:58:41.209Z"
    }
   },
   "outputs": [],
   "source": [
    "sns.set(font_scale=1)\n",
    "ax = sns.catplot(\n",
    "    x='station', \n",
    "    y='value', \n",
    "    col='area',\n",
    "    hue='method', \n",
    "    data=df_mse[df_mse.station.isin(station_list[4:])],\n",
    "    kind='point',\n",
    "    order=station_list[4:],\n",
    "#     height=4,\n",
    "#     aspect=4,\n",
    "    legend=True,\n",
    "    linestyles='-',\n",
    ")\n",
    "\n",
    "ax.set_xticklabels(rotation=90, size=10)\n",
    "# plt.ylim(30, 35)\n",
    "# plt.legend(bbox_to_anchor=(1, 1.6))\n",
    "# plt.grid(axis='x')"
   ]
  },
  {
   "cell_type": "code",
   "execution_count": null,
   "metadata": {
    "collapsed": true
   },
   "outputs": [],
   "source": []
  },
  {
   "cell_type": "raw",
   "metadata": {
    "ExecuteTime": {
     "end_time": "2020-05-21T16:16:48.447461Z",
     "start_time": "2020-05-21T16:16:47.763052Z"
    },
    "collapsed": true
   },
   "source": [
    "path = os.path.join(home,'station2grid','datasets','npy','epa','train_epa_addmou.npy') \n",
    "x_raw = np.load(path) \n",
    "\n",
    "path = os.path.join(home,'station2grid','datasets','npy','epa','train_epa_addmou_norm.npy') \n",
    "x_raw_norm = np.load(path)"
   ]
  },
  {
   "cell_type": "raw",
   "metadata": {
    "ExecuteTime": {
     "end_time": "2020-05-21T16:18:16.797279Z",
     "start_time": "2020-05-21T16:18:16.784754Z"
    }
   },
   "source": [
    "x_raw.shape\n",
    "x_raw[100,:,0]"
   ]
  },
  {
   "cell_type": "raw",
   "metadata": {
    "ExecuteTime": {
     "end_time": "2020-05-21T16:18:15.021535Z",
     "start_time": "2020-05-21T16:18:15.005671Z"
    }
   },
   "source": [
    "x_raw_norm[100,:,0]"
   ]
  },
  {
   "cell_type": "code",
   "execution_count": null,
   "metadata": {
    "collapsed": true
   },
   "outputs": [],
   "source": []
  },
  {
   "cell_type": "code",
   "execution_count": null,
   "metadata": {
    "collapsed": true
   },
   "outputs": [],
   "source": []
  }
 ],
 "metadata": {
  "kernelspec": {
   "display_name": "Python 3",
   "language": "python",
   "name": "python3"
  },
  "language_info": {
   "codemirror_mode": {
    "name": "ipython",
    "version": 3
   },
   "file_extension": ".py",
   "mimetype": "text/x-python",
   "name": "python",
   "nbconvert_exporter": "python",
   "pygments_lexer": "ipython3",
   "version": "3.6.5"
  },
  "toc": {
   "base_numbering": 1,
   "nav_menu": {},
   "number_sections": true,
   "sideBar": true,
   "skip_h1_title": false,
   "title_cell": "Table of Contents",
   "title_sidebar": "Contents",
   "toc_cell": false,
   "toc_position": {},
   "toc_section_display": true,
   "toc_window_display": false
  }
 },
 "nbformat": 4,
 "nbformat_minor": 2
}
