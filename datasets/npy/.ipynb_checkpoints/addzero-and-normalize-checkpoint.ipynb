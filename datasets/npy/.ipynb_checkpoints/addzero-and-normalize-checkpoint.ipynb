{
 "cells": [
  {
   "cell_type": "code",
   "execution_count": 37,
   "metadata": {
    "ExecuteTime": {
     "end_time": "2020-06-13T09:58:31.615541Z",
     "start_time": "2020-06-13T09:58:31.609792Z"
    },
    "collapsed": true
   },
   "outputs": [],
   "source": [
    "import numpy as np\n",
    "import pandas as pd\n",
    "import os\n",
    "from glob import glob\n",
    "import re"
   ]
  },
  {
   "cell_type": "code",
   "execution_count": 38,
   "metadata": {
    "ExecuteTime": {
     "end_time": "2020-06-13T09:58:31.696864Z",
     "start_time": "2020-06-13T09:58:31.618673Z"
    },
    "collapsed": true
   },
   "outputs": [],
   "source": [
    "eps=1e-16"
   ]
  },
  {
   "cell_type": "code",
   "execution_count": 39,
   "metadata": {
    "ExecuteTime": {
     "end_time": "2020-06-13T09:58:31.750464Z",
     "start_time": "2020-06-13T09:58:31.699968Z"
    },
    "collapsed": true
   },
   "outputs": [],
   "source": [
    "# train_epa = np.concatenate([np.load('./epa/epa%s.npy'%(y)) for y in range(2014,2018+1)],axis=0)\n",
    "# np.save('./epa/train_epa',train_epa)\n",
    "# train_epa.shape"
   ]
  },
  {
   "cell_type": "code",
   "execution_count": 40,
   "metadata": {
    "ExecuteTime": {
     "end_time": "2020-06-13T09:58:31.895187Z",
     "start_time": "2020-06-13T09:58:31.753493Z"
    },
    "collapsed": true
   },
   "outputs": [],
   "source": [
    "# test_epa = np.concatenate([np.load('./epa/epa%s.npy'%(y)) for y in range(2019,2019+1)],axis=0)\n",
    "# np.save('./epa/test_epa',test_epa)\n",
    "# test_epa.shape"
   ]
  },
  {
   "cell_type": "code",
   "execution_count": null,
   "metadata": {
    "collapsed": true
   },
   "outputs": [],
   "source": []
  },
  {
   "cell_type": "markdown",
   "metadata": {},
   "source": [
    "# add zero"
   ]
  },
  {
   "cell_type": "markdown",
   "metadata": {},
   "source": [
    "## epa"
   ]
  },
  {
   "cell_type": "code",
   "execution_count": 41,
   "metadata": {
    "ExecuteTime": {
     "end_time": "2020-06-13T09:58:31.911695Z",
     "start_time": "2020-06-13T09:58:31.898521Z"
    },
    "collapsed": true
   },
   "outputs": [],
   "source": [
    "# train_epa = np.load('./epa/train_epa.npy')\n",
    "# test_epa = np.load('./epa/test_epa.npy')\n",
    "\n",
    "# train_zeros = np.zeros((43824, 4, 19))\n",
    "# test_zeros = np.zeros((8760, 4, 19))\n",
    "\n",
    "# train_epa_addmou = np.concatenate([train_zeros, train_epa],axis=1)\n",
    "# test_epa_addmou = np.concatenate([test_zeros, test_epa],axis=1)\n",
    "\n",
    "# np.save('./epa/train_epa_addmou.npy',train_epa_addmou)\n",
    "# np.save('./epa/test_epa_addmou.npy',test_epa_addmou)\n",
    "\n",
    "# train_epa_addmou.shape, test_epa_addmou.shape"
   ]
  },
  {
   "cell_type": "code",
   "execution_count": 42,
   "metadata": {
    "ExecuteTime": {
     "end_time": "2020-06-13T09:58:31.991874Z",
     "start_time": "2020-06-13T09:58:31.914838Z"
    },
    "collapsed": true
   },
   "outputs": [],
   "source": [
    "# train_epa_addmou = np.load('./epa/train_epa_addmou.npy')\n",
    "# test_epa_addmou = np.load('./epa/test_epa_addmou.npy')\n",
    "\n",
    "# train_epa_addmou.shape, test_epa_addmou.shape"
   ]
  },
  {
   "cell_type": "markdown",
   "metadata": {},
   "source": [
    "## sat, air"
   ]
  },
  {
   "cell_type": "code",
   "execution_count": 43,
   "metadata": {
    "ExecuteTime": {
     "end_time": "2020-06-13T09:58:32.098597Z",
     "start_time": "2020-06-13T09:58:31.994918Z"
    },
    "collapsed": true
   },
   "outputs": [],
   "source": [
    "# path='/media/disk3/feynman52/station2grid/datasets/npy/air/domain_air-k_3-weightKNN_distance/station'\n",
    "# station_paths=sorted(glob(os.path.join(path,'*_station.npy')))  \n",
    "# for path in station_paths[:]:\n",
    "#     arr = np.load(path)\n",
    "#     zeros = np.zeros((1, 4, 3)) \n",
    "#     arr_addmou = np.concatenate([zeros, arr],axis=1)\n",
    "#     path = path.replace('_station','_station_addmou')\n",
    "#     np.save(path,arr_addmou)"
   ]
  },
  {
   "cell_type": "markdown",
   "metadata": {},
   "source": [
    "# normalize"
   ]
  },
  {
   "cell_type": "code",
   "execution_count": 44,
   "metadata": {
    "ExecuteTime": {
     "end_time": "2020-06-13T09:58:32.127526Z",
     "start_time": "2020-06-13T09:58:32.101263Z"
    },
    "collapsed": true
   },
   "outputs": [],
   "source": [
    "def normalize(A, min_, max_):\n",
    "    eps = 1e-16\n",
    "#     A_norm = (A-min_)/(max_-min_+eps) ### minmax\n",
    "    A_norm = (A-min_)/(max_+eps) ### standard\n",
    "    return A_norm"
   ]
  },
  {
   "cell_type": "markdown",
   "metadata": {},
   "source": [
    "## normalize feature except pm25"
   ]
  },
  {
   "cell_type": "code",
   "execution_count": 45,
   "metadata": {
    "ExecuteTime": {
     "end_time": "2020-06-13T09:58:32.549811Z",
     "start_time": "2020-06-13T09:58:32.131029Z"
    }
   },
   "outputs": [
    {
     "data": {
      "text/plain": [
       "((43824, 77, 19), (8760, 77, 19))"
      ]
     },
     "execution_count": 45,
     "metadata": {},
     "output_type": "execute_result"
    }
   ],
   "source": [
    "train_epa_addmou = np.load('./epa/train_epa_addmou.npy')\n",
    "test_epa_addmou = np.load('./epa/test_epa_addmou.npy')\n",
    "\n",
    "train_epa_addmou.shape, test_epa_addmou.shape"
   ]
  },
  {
   "cell_type": "code",
   "execution_count": 46,
   "metadata": {
    "ExecuteTime": {
     "end_time": "2020-06-13T09:58:33.332091Z",
     "start_time": "2020-06-13T09:58:32.552470Z"
    }
   },
   "outputs": [
    {
     "data": {
      "text/plain": [
       "((77, 19), (77, 19))"
      ]
     },
     "execution_count": 46,
     "metadata": {},
     "output_type": "execute_result"
    }
   ],
   "source": [
    "B_feature = np.mean(train_epa_addmou, axis=0) #np.mean(train_epa_addmou, axis=0), np.min(train_epa_addmou, axis=0)\n",
    "C_feature = np.std(train_epa_addmou, axis=0) #np.std(train_epa_addmou, axis=0), np.max(train_epa_addmou, axis=0)\n",
    "\n",
    "B_feature.shape, C_feature.shape"
   ]
  },
  {
   "cell_type": "code",
   "execution_count": 47,
   "metadata": {
    "ExecuteTime": {
     "end_time": "2020-06-13T09:58:33.972156Z",
     "start_time": "2020-06-13T09:58:33.335839Z"
    }
   },
   "outputs": [
    {
     "data": {
      "text/plain": [
       "(1.90411963507818e-15, 1.000000000000017)"
      ]
     },
     "execution_count": 47,
     "metadata": {},
     "output_type": "execute_result"
    }
   ],
   "source": [
    "train_epa_addmou_norm = normalize(train_epa_addmou, B_feature, C_feature)\n",
    "train_epa_addmou_norm.shape\n",
    "train_epa_addmou_norm[:,10,12].mean(), train_epa_addmou_norm[:,10,12].std()\n",
    "# train_epa_addmou_norm[:,0,12].mean(), train_epa_addmou_norm[:,0,12].std()\n"
   ]
  },
  {
   "cell_type": "code",
   "execution_count": 48,
   "metadata": {
    "ExecuteTime": {
     "end_time": "2020-06-13T09:58:34.113901Z",
     "start_time": "2020-06-13T09:58:33.975027Z"
    }
   },
   "outputs": [
    {
     "data": {
      "text/plain": [
       "(-0.3196607180638597, 0.5848428796139685)"
      ]
     },
     "execution_count": 48,
     "metadata": {},
     "output_type": "execute_result"
    }
   ],
   "source": [
    "test_epa_addmou_norm = normalize(test_epa_addmou, B_feature, C_feature)\n",
    "test_epa_addmou_norm.shape\n",
    "test_epa_addmou_norm[:,10,12].mean(), test_epa_addmou_norm[:,10,12].std()\n",
    "# test_epa_addmou_norm[:,0,12].mean(), test_epa_addmou_norm[:,0,12].std()\n"
   ]
  },
  {
   "cell_type": "code",
   "execution_count": 49,
   "metadata": {
    "ExecuteTime": {
     "end_time": "2020-06-13T09:58:34.119846Z",
     "start_time": "2020-06-13T09:58:34.116550Z"
    },
    "collapsed": true
   },
   "outputs": [],
   "source": [
    "# np.save('./epa/train_epa_addmou_norm.npy',train_epa_addmou_norm)\n",
    "# np.save('./epa/test_epa_addmou_norm.npy',test_epa_addmou_norm)\n"
   ]
  },
  {
   "cell_type": "markdown",
   "metadata": {},
   "source": [
    "## normalize pm25"
   ]
  },
  {
   "cell_type": "markdown",
   "metadata": {},
   "source": [
    "### train_mean, train_std"
   ]
  },
  {
   "cell_type": "code",
   "execution_count": 50,
   "metadata": {
    "ExecuteTime": {
     "end_time": "2020-06-13T09:58:34.204344Z",
     "start_time": "2020-06-13T09:58:34.122663Z"
    }
   },
   "outputs": [
    {
     "data": {
      "text/plain": [
       "(43824, 77)"
      ]
     },
     "execution_count": 50,
     "metadata": {},
     "output_type": "execute_result"
    }
   ],
   "source": [
    "train_epa_addmou_pm25 = train_epa_addmou[:,:,0]\n",
    "train_epa_addmou_pm25.shape"
   ]
  },
  {
   "cell_type": "code",
   "execution_count": 51,
   "metadata": {
    "ExecuteTime": {
     "end_time": "2020-06-13T09:58:43.854366Z",
     "start_time": "2020-06-13T09:58:34.207430Z"
    }
   },
   "outputs": [
    {
     "data": {
      "text/plain": [
       "(30005, 77)"
      ]
     },
     "execution_count": 51,
     "metadata": {},
     "output_type": "execute_result"
    }
   ],
   "source": [
    "path='/media/disk3/feynman52/station2grid/datasets/npy/air/domain_air-k_3-weightKNN_distance/station'\n",
    "station_paths=sorted(glob(os.path.join(path,'*_station_addmou.npy')))  \n",
    "air_pm25 = [np.load(path)[:,:,0] for path in station_paths[:]]\n",
    "air_pm25 = np.concatenate(air_pm25, axis=0)\n",
    "air_pm25.shape"
   ]
  },
  {
   "cell_type": "code",
   "execution_count": 52,
   "metadata": {
    "ExecuteTime": {
     "end_time": "2020-06-13T09:58:45.382363Z",
     "start_time": "2020-06-13T09:58:43.857133Z"
    }
   },
   "outputs": [
    {
     "data": {
      "text/plain": [
       "(4383, 77)"
      ]
     },
     "execution_count": 52,
     "metadata": {},
     "output_type": "execute_result"
    }
   ],
   "source": [
    "path='/media/disk3/feynman52/station2grid/datasets/npy/sat/domain_sat-k_3-weightKNN_distance/station'\n",
    "station_paths=sorted(glob(os.path.join(path,'*_station_addmou.npy')))  \n",
    "sat_pm25 = [np.load(path)[:,:,0] for path in station_paths[:]]\n",
    "sat_pm25 = np.concatenate(sat_pm25, axis=0)\n",
    "sat_pm25.shape"
   ]
  },
  {
   "cell_type": "code",
   "execution_count": 53,
   "metadata": {
    "ExecuteTime": {
     "end_time": "2020-06-13T09:58:45.388204Z",
     "start_time": "2020-06-13T09:58:45.384628Z"
    },
    "collapsed": true
   },
   "outputs": [],
   "source": [
    "n_epa, n_air, n_sat = len(train_epa_addmou_pm25), len(air_pm25), len(sat_pm25)"
   ]
  },
  {
   "cell_type": "code",
   "execution_count": 54,
   "metadata": {
    "ExecuteTime": {
     "end_time": "2020-06-13T09:58:45.547220Z",
     "start_time": "2020-06-13T09:58:45.390884Z"
    }
   },
   "outputs": [
    {
     "data": {
      "text/plain": [
       "(78212, 77)"
      ]
     },
     "execution_count": 54,
     "metadata": {},
     "output_type": "execute_result"
    }
   ],
   "source": [
    "train_pm25 = np.concatenate([train_epa_addmou_pm25, air_pm25, sat_pm25], axis=0)\n",
    "train_pm25.shape"
   ]
  },
  {
   "cell_type": "code",
   "execution_count": 55,
   "metadata": {
    "ExecuteTime": {
     "end_time": "2020-06-13T09:58:45.641295Z",
     "start_time": "2020-06-13T09:58:45.549080Z"
    },
    "collapsed": true
   },
   "outputs": [],
   "source": [
    "B_pm25 = np.mean(train_pm25,axis=0) #np.mean(train_pm25,axis=0), 0, np.min(train_pm25,axis=0)\n",
    "C_pm25 = np.std(train_pm25,axis=0) #np.std(train_pm25,axis=0), 100, np.max(train_pm25,axis=0)\n",
    "\n",
    "# B_pm25.shape, C_pm25.shape"
   ]
  },
  {
   "cell_type": "markdown",
   "metadata": {},
   "source": [
    "### norm train pm25"
   ]
  },
  {
   "cell_type": "code",
   "execution_count": 56,
   "metadata": {
    "ExecuteTime": {
     "end_time": "2020-06-13T09:58:45.673533Z",
     "start_time": "2020-06-13T09:58:45.644251Z"
    },
    "collapsed": true
   },
   "outputs": [],
   "source": [
    "# import matplotlib.pyplot as plt \n",
    "# plt.hist(B_pm25)"
   ]
  },
  {
   "cell_type": "code",
   "execution_count": 57,
   "metadata": {
    "ExecuteTime": {
     "end_time": "2020-06-13T09:58:45.863512Z",
     "start_time": "2020-06-13T09:58:45.676069Z"
    }
   },
   "outputs": [
    {
     "data": {
      "text/plain": [
       "(78212, 77)"
      ]
     },
     "execution_count": 57,
     "metadata": {},
     "output_type": "execute_result"
    }
   ],
   "source": [
    "train_pm25_norm = normalize(train_pm25, B_pm25, C_pm25)\n",
    "train_pm25_norm.shape\n",
    "# i=10\n",
    "# train_pm25_norm[:,i].mean(), train_pm25_norm[:,i].std()"
   ]
  },
  {
   "cell_type": "markdown",
   "metadata": {},
   "source": [
    "### norm test pm25"
   ]
  },
  {
   "cell_type": "code",
   "execution_count": 58,
   "metadata": {
    "ExecuteTime": {
     "end_time": "2020-06-13T09:58:45.872294Z",
     "start_time": "2020-06-13T09:58:45.866305Z"
    }
   },
   "outputs": [
    {
     "data": {
      "text/plain": [
       "(8760, 77)"
      ]
     },
     "execution_count": 58,
     "metadata": {},
     "output_type": "execute_result"
    }
   ],
   "source": [
    "test_pm25 = test_epa_addmou[:,:,0]\n",
    "test_pm25.shape"
   ]
  },
  {
   "cell_type": "code",
   "execution_count": 59,
   "metadata": {
    "ExecuteTime": {
     "end_time": "2020-06-13T09:58:45.945341Z",
     "start_time": "2020-06-13T09:58:45.874884Z"
    }
   },
   "outputs": [
    {
     "data": {
      "text/plain": [
       "(-0.5485307892870324, 0.564510744581396)"
      ]
     },
     "execution_count": 59,
     "metadata": {},
     "output_type": "execute_result"
    }
   ],
   "source": [
    "test_pm25_norm = normalize(test_pm25, B_pm25, C_pm25)\n",
    "test_pm25_norm.shape\n",
    "i=5\n",
    "test_pm25_norm[:,i].mean(), test_pm25_norm[:,i].std()"
   ]
  },
  {
   "cell_type": "code",
   "execution_count": null,
   "metadata": {
    "collapsed": true
   },
   "outputs": [],
   "source": []
  },
  {
   "cell_type": "markdown",
   "metadata": {},
   "source": [
    "### norm epa pm25"
   ]
  },
  {
   "cell_type": "markdown",
   "metadata": {},
   "source": [
    "#### train"
   ]
  },
  {
   "cell_type": "code",
   "execution_count": 60,
   "metadata": {
    "ExecuteTime": {
     "end_time": "2020-06-13T09:58:45.974125Z",
     "start_time": "2020-06-13T09:58:45.948234Z"
    }
   },
   "outputs": [
    {
     "data": {
      "text/plain": [
       "(43824, 77)"
      ]
     },
     "execution_count": 60,
     "metadata": {},
     "output_type": "execute_result"
    }
   ],
   "source": [
    "train_epa_addmou_norm[:,:,0].shape"
   ]
  },
  {
   "cell_type": "code",
   "execution_count": 61,
   "metadata": {
    "ExecuteTime": {
     "end_time": "2020-06-13T09:58:46.010944Z",
     "start_time": "2020-06-13T09:58:45.976827Z"
    }
   },
   "outputs": [
    {
     "data": {
      "text/plain": [
       "(43824, 77)"
      ]
     },
     "execution_count": 61,
     "metadata": {},
     "output_type": "execute_result"
    }
   ],
   "source": [
    "train_pm25_norm[:n_epa].shape"
   ]
  },
  {
   "cell_type": "code",
   "execution_count": 62,
   "metadata": {
    "ExecuteTime": {
     "end_time": "2020-06-13T09:58:46.247536Z",
     "start_time": "2020-06-13T09:58:46.014173Z"
    },
    "collapsed": true
   },
   "outputs": [],
   "source": [
    "train_epa_addmou_norm[:,:,0] = train_pm25_norm[:n_epa]"
   ]
  },
  {
   "cell_type": "code",
   "execution_count": 63,
   "metadata": {
    "ExecuteTime": {
     "end_time": "2020-06-13T09:58:46.772330Z",
     "start_time": "2020-06-13T09:58:46.250459Z"
    },
    "collapsed": true
   },
   "outputs": [],
   "source": [
    "np.save('./epa/train_epa_addmou_standard_norm.npy',train_epa_addmou_norm)"
   ]
  },
  {
   "cell_type": "markdown",
   "metadata": {},
   "source": [
    "#### test"
   ]
  },
  {
   "cell_type": "code",
   "execution_count": 64,
   "metadata": {
    "ExecuteTime": {
     "end_time": "2020-06-13T09:58:46.781865Z",
     "start_time": "2020-06-13T09:58:46.775161Z"
    }
   },
   "outputs": [
    {
     "data": {
      "text/plain": [
       "(8760, 77)"
      ]
     },
     "execution_count": 64,
     "metadata": {},
     "output_type": "execute_result"
    }
   ],
   "source": [
    "test_epa_addmou_norm[:,:,0].shape"
   ]
  },
  {
   "cell_type": "code",
   "execution_count": 65,
   "metadata": {
    "ExecuteTime": {
     "end_time": "2020-06-13T09:58:46.801351Z",
     "start_time": "2020-06-13T09:58:46.784578Z"
    }
   },
   "outputs": [
    {
     "data": {
      "text/plain": [
       "(8760, 77)"
      ]
     },
     "execution_count": 65,
     "metadata": {},
     "output_type": "execute_result"
    }
   ],
   "source": [
    "test_pm25_norm.shape"
   ]
  },
  {
   "cell_type": "code",
   "execution_count": 66,
   "metadata": {
    "ExecuteTime": {
     "end_time": "2020-06-13T09:58:46.932929Z",
     "start_time": "2020-06-13T09:58:46.804025Z"
    },
    "collapsed": true
   },
   "outputs": [],
   "source": [
    "test_epa_addmou_norm[:,:,0] = test_pm25_norm"
   ]
  },
  {
   "cell_type": "code",
   "execution_count": 67,
   "metadata": {
    "ExecuteTime": {
     "end_time": "2020-06-13T09:58:47.096298Z",
     "start_time": "2020-06-13T09:58:46.935831Z"
    },
    "collapsed": true
   },
   "outputs": [],
   "source": [
    "np.save('./epa/test_epa_addmou_standard_norm.npy',test_epa_addmou_norm)\n"
   ]
  },
  {
   "cell_type": "markdown",
   "metadata": {},
   "source": [
    "### norm air pm25"
   ]
  },
  {
   "cell_type": "code",
   "execution_count": 68,
   "metadata": {
    "ExecuteTime": {
     "end_time": "2020-06-13T09:58:47.105145Z",
     "start_time": "2020-06-13T09:58:47.098962Z"
    },
    "collapsed": true
   },
   "outputs": [],
   "source": [
    "import re\n",
    "def station_path_to_dt(station_path):\n",
    "    pat='station/(.+)_station'\n",
    "    tar=station_path\n",
    "    dt_str=re.search(pat, tar).group(1)\n",
    "    dt_str_=dt_str[:-6] # process half hour\n",
    "    return pd.to_datetime(dt_str_) "
   ]
  },
  {
   "cell_type": "code",
   "execution_count": 69,
   "metadata": {
    "ExecuteTime": {
     "end_time": "2020-06-13T09:58:48.177807Z",
     "start_time": "2020-06-13T09:58:47.108262Z"
    }
   },
   "outputs": [
    {
     "data": {
      "text/plain": [
       "((52584, 77, 19), (52584, 77, 19), 52584)"
      ]
     },
     "execution_count": 69,
     "metadata": {},
     "output_type": "execute_result"
    }
   ],
   "source": [
    "all_epa = np.concatenate([train_epa_addmou,test_epa_addmou],axis=0)\n",
    "all_epa_norm = np.concatenate([train_epa_addmou_norm,test_epa_addmou_norm],axis=0)\n",
    "epa_dts = pd.date_range(start='2014',end='2020',closed='left',freq='H').tolist()\n",
    "\n",
    "all_epa.shape, all_epa_norm.shape, len(epa_dts)"
   ]
  },
  {
   "cell_type": "code",
   "execution_count": 70,
   "metadata": {
    "ExecuteTime": {
     "end_time": "2020-06-13T09:58:48.186450Z",
     "start_time": "2020-06-13T09:58:48.179859Z"
    }
   },
   "outputs": [
    {
     "data": {
      "text/plain": [
       "((30005, 77), (4383, 77))"
      ]
     },
     "execution_count": 70,
     "metadata": {},
     "output_type": "execute_result"
    }
   ],
   "source": [
    "air_pm25_norm = train_pm25_norm[n_epa : n_epa+n_air]\n",
    "sat_pm25_norm = train_pm25_norm[n_epa+n_air : n_epa+n_air+n_sat]\n",
    "\n",
    "air_pm25_norm.shape, sat_pm25_norm.shape"
   ]
  },
  {
   "cell_type": "code",
   "execution_count": 71,
   "metadata": {
    "ExecuteTime": {
     "end_time": "2020-06-13T10:00:23.745408Z",
     "start_time": "2020-06-13T09:58:48.189177Z"
    },
    "collapsed": true,
    "scrolled": true
   },
   "outputs": [],
   "source": [
    "path='/media/disk3/feynman52/station2grid/datasets/npy/air/domain_air-k_3-weightKNN_distance/station'\n",
    "station_paths=sorted(glob(os.path.join(path,'*_station_addmou.npy')))  \n",
    "for i,station_path in enumerate(station_paths[:]):\n",
    "    domain_arr = np.load(station_path)\n",
    "    \n",
    "    dt = station_path_to_dt(station_path)\n",
    "    i_dt = epa_dts.index(dt)\n",
    "    epa_arr = all_epa[i_dt:i_dt+1]\n",
    "    epa_arr_norm = all_epa_norm[i_dt:i_dt+1]\n",
    "    \n",
    "    domain_arr_addfea = np.concatenate([domain_arr,epa_arr], axis=-1)\n",
    "    path = station_path.replace('_station_addmou','_station_addmou_addfea')\n",
    "    np.save(path,domain_arr_addfea)\n",
    "    \n",
    "    domain_arr_addfea_norm = np.concatenate([domain_arr,epa_arr_norm], axis=-1)\n",
    "    path = station_path.replace('_station_addmou','_station_addmou_addfea_standard_norm')\n",
    "    domain_arr_addfea_norm[0,:,0] = air_pm25_norm[i]\n",
    "    np.save(path,domain_arr_addfea_norm)"
   ]
  },
  {
   "cell_type": "markdown",
   "metadata": {
    "ExecuteTime": {
     "end_time": "2020-05-19T11:49:54.244766Z",
     "start_time": "2020-05-19T11:49:54.236101Z"
    }
   },
   "source": [
    "### norm sat pm25"
   ]
  },
  {
   "cell_type": "code",
   "execution_count": 72,
   "metadata": {
    "ExecuteTime": {
     "end_time": "2020-06-13T10:00:35.629512Z",
     "start_time": "2020-06-13T10:00:23.749849Z"
    },
    "collapsed": true
   },
   "outputs": [],
   "source": [
    "path='/media/disk3/feynman52/station2grid/datasets/npy/sat/domain_sat-k_3-weightKNN_distance/station'\n",
    "station_paths=sorted(glob(os.path.join(path,'*_station_addmou.npy')))  \n",
    "for i,station_path in enumerate(station_paths[:]):\n",
    "    domain_arr = np.load(station_path)\n",
    "    \n",
    "    dt = station_path_to_dt(station_path)\n",
    "    i_dt = epa_dts.index(dt)\n",
    "    epa_arr = all_epa[i_dt:i_dt+1]\n",
    "    epa_arr_norm = all_epa_norm[i_dt:i_dt+1]\n",
    "    \n",
    "    domain_arr_addfea = np.concatenate([domain_arr,epa_arr], axis=-1)\n",
    "    path = station_path.replace('_station_addmou','_station_addmou_addfea')\n",
    "    np.save(path,domain_arr_addfea)\n",
    "    \n",
    "    domain_arr_addfea_norm = np.concatenate([domain_arr,epa_arr_norm], axis=-1)\n",
    "    path = station_path.replace('_station_addmou','_station_addmou_addfea_standard_norm')\n",
    "    domain_arr_addfea_norm[0,:,0] = sat_pm25_norm[i] ###\n",
    "    np.save(path,domain_arr_addfea_norm)\n",
    "#     print(station_path, domain_arr_addfea.shape, domain_arr_addfea_norm.shape)"
   ]
  },
  {
   "cell_type": "code",
   "execution_count": null,
   "metadata": {
    "collapsed": true
   },
   "outputs": [],
   "source": []
  },
  {
   "cell_type": "code",
   "execution_count": null,
   "metadata": {
    "collapsed": true
   },
   "outputs": [],
   "source": []
  },
  {
   "cell_type": "markdown",
   "metadata": {},
   "source": [
    "# check"
   ]
  },
  {
   "cell_type": "code",
   "execution_count": 37,
   "metadata": {
    "ExecuteTime": {
     "end_time": "2020-06-10T13:33:36.269798Z",
     "start_time": "2020-06-10T13:33:36.261576Z"
    }
   },
   "outputs": [
    {
     "data": {
      "text/plain": [
       "((1, 73, 3), (1, 77, 3), (1, 77, 22), (1, 77, 22))"
      ]
     },
     "execution_count": 37,
     "metadata": {},
     "output_type": "execute_result"
    }
   ],
   "source": [
    "domain='sat'\n",
    "path='/media/disk3/feynman52/station2grid/datasets/npy/%s/domain_%s-k_3-weightKNN_distance/station/2018-01-23 11:00:00_station.npy'%(domain,domain)\n",
    "station = np.load(path)\n",
    "\n",
    "path='/media/disk3/feynman52/station2grid/datasets/npy/%s/domain_%s-k_3-weightKNN_distance/station/2018-01-23 11:00:00_station_addmou.npy'%(domain,domain)\n",
    "addmou = np.load(path)\n",
    "\n",
    "path='/media/disk3/feynman52/station2grid/datasets/npy/%s/domain_%s-k_3-weightKNN_distance/station/2018-01-23 11:00:00_station_addmou_addfea.npy'%(domain,domain)\n",
    "addmou_addfea = np.load(path)\n",
    "\n",
    "path='/media/disk3/feynman52/station2grid/datasets/npy/%s/domain_%s-k_3-weightKNN_distance/station/2018-01-23 11:00:00_station_addmou_addfea_norm.npy'%(domain,domain)\n",
    "addmou_addfea_norm = np.load(path)\n",
    "\n",
    "station.shape, addmou.shape, addmou_addfea.shape, addmou_addfea_norm.shape"
   ]
  },
  {
   "cell_type": "code",
   "execution_count": 38,
   "metadata": {
    "ExecuteTime": {
     "end_time": "2020-06-10T13:33:36.368495Z",
     "start_time": "2020-06-10T13:33:36.271337Z"
    }
   },
   "outputs": [
    {
     "name": "stdout",
     "output_type": "stream",
     "text": [
      "0.0 0.0 0.0\n"
     ]
    }
   ],
   "source": [
    "i=1 # mountain\n",
    "j=0 # pm25\n",
    "\n",
    "print(addmou[0,i,0], addmou_addfea[0,i,j], addmou_addfea_norm[0,i,j])\n"
   ]
  },
  {
   "cell_type": "code",
   "execution_count": 39,
   "metadata": {
    "ExecuteTime": {
     "end_time": "2020-06-10T13:33:36.380513Z",
     "start_time": "2020-06-10T13:33:36.370637Z"
    }
   },
   "outputs": [
    {
     "name": "stdout",
     "output_type": "stream",
     "text": [
      "34.74532089637711 34.74532089637711 34.74532089637711 0.2003740186778056\n",
      "0.20361676575120477\n"
     ]
    }
   ],
   "source": [
    "# pm25\n",
    "\n",
    "i=30 # city\n",
    "j=0 # pm25\n",
    "\n",
    "print(station[0,i-4,0], addmou[0,i,0], addmou_addfea[0,i,j], addmou_addfea_norm[0,i,j])\n",
    "\n",
    "# print((addmou_addfea[0,i,0]-B_pm25[i])/(C_pm25[i]-B_pm25[i])) # minmax\n",
    "# print(addmou_addfea[0,i,0]-B_pm25)/(C_pm25) # /100\n",
    "print( (addmou_addfea[0,i,0]-B_pm25[i]) / (C_pm25[i]+eps) ) # standard\n",
    "\n"
   ]
  },
  {
   "cell_type": "code",
   "execution_count": 40,
   "metadata": {
    "ExecuteTime": {
     "end_time": "2020-06-10T13:33:36.397015Z",
     "start_time": "2020-06-10T13:33:36.383251Z"
    }
   },
   "outputs": [
    {
     "name": "stdout",
     "output_type": "stream",
     "text": [
      "17.21865990300766 17.21865990300766 1.8159619989581872 0.1377329364371591\n",
      "0.1539321011720283\n"
     ]
    }
   ],
   "source": [
    "# non pm25\n",
    "\n",
    "i=20 # station\n",
    "j=20 # non pm25\n",
    "print(station[0,i-4,0], addmou[0,i,0], addmou_addfea[0,i,j], addmou_addfea_norm[0,i,j])\n",
    "\n",
    "# print(( addmou_addfea[0,i,j]-B_feature[i,j-3] ) / (C_feature[i,j-3]-B_feature[i,j-3])) # minmax\n",
    "print( ( addmou_addfea[0,i,j]-B_feature[i,j-3] ) / (C_feature[i,j-3]+eps) ) # standard\n"
   ]
  },
  {
   "cell_type": "code",
   "execution_count": null,
   "metadata": {
    "ExecuteTime": {
     "end_time": "2020-05-20T07:04:35.603857Z",
     "start_time": "2020-05-20T07:02:49.763Z"
    },
    "collapsed": true
   },
   "outputs": [],
   "source": []
  },
  {
   "cell_type": "code",
   "execution_count": null,
   "metadata": {
    "collapsed": true
   },
   "outputs": [],
   "source": []
  },
  {
   "cell_type": "code",
   "execution_count": 41,
   "metadata": {
    "ExecuteTime": {
     "end_time": "2020-06-10T13:33:36.997242Z",
     "start_time": "2020-06-10T13:33:36.399416Z"
    }
   },
   "outputs": [
    {
     "name": "stdout",
     "output_type": "stream",
     "text": [
      "(43824, 77, 19) (43824, 77, 19)\n",
      "[0.24103223 0.29530201 0.3255132  0.64634146 0.21469575 0.20205633\n",
      " 0.51807229 0.28529121 0.02852486 0.         0.         0.\n",
      " 0.15064935 0.19148936 0.16352201 0.27777778 0.         0.48964965\n",
      " 0.47868614] [ 45.          89.          16.          71.           1.95\n",
      "  90.          58.         148.           2.8          0.\n",
      "   0.           0.           5.3          2.4          0.77\n",
      "   3.1          0.           0.3146602   -0.38857298]\n"
     ]
    }
   ],
   "source": [
    "path='/media/disk3/feynman52/station2grid/datasets/npy/epa/train_epa_addmou_norm.npy'\n",
    "train_epa_addmou_norm = np.load(path)\n",
    "\n",
    "path='/media/disk3/feynman52/station2grid/datasets/npy/epa/train_epa_addmou.npy'\n",
    "train_epa_addmou = np.load(path)\n",
    "\n",
    "print(train_epa_addmou_norm.shape, train_epa_addmou.shape)\n",
    "print(train_epa_addmou_norm[0,10,:], train_epa_addmou[0,10,:])"
   ]
  },
  {
   "cell_type": "code",
   "execution_count": 42,
   "metadata": {
    "ExecuteTime": {
     "end_time": "2020-06-10T13:33:37.109418Z",
     "start_time": "2020-06-10T13:33:36.998927Z"
    }
   },
   "outputs": [
    {
     "name": "stdout",
     "output_type": "stream",
     "text": [
      "(8760, 77, 19) (8760, 77, 19)\n",
      "[0.00535627 0.02684564 0.34897361 0.81707317 0.0619977  0.04336165\n",
      " 0.14735867 0.06614018 0.21760391 0.         0.         0.\n",
      " 0.08051948 0.06382979 0.03563941 0.07407407 0.         0.39790994\n",
      " 0.64266036] [ 1.          9.         16.8        85.          0.62       19.\n",
      " 18.         37.         26.          0.          0.          0.\n",
      "  2.6         1.8         0.16        2.          0.         -0.71984337\n",
      "  3.11798421]\n"
     ]
    }
   ],
   "source": [
    "path='/media/disk3/feynman52/station2grid/datasets/npy/epa/test_epa_addmou_norm.npy'\n",
    "test_epa_addmou_norm = np.load(path)\n",
    "\n",
    "path='/media/disk3/feynman52/station2grid/datasets/npy/epa/test_epa_addmou.npy'\n",
    "test_epa_addmou = np.load(path)\n",
    "\n",
    "print(test_epa_addmou_norm.shape, test_epa_addmou.shape)\n",
    "print(test_epa_addmou_norm[0,10,:], test_epa_addmou[0,10,:])"
   ]
  },
  {
   "cell_type": "code",
   "execution_count": null,
   "metadata": {
    "collapsed": true
   },
   "outputs": [],
   "source": []
  }
 ],
 "metadata": {
  "kernelspec": {
   "display_name": "Python 3",
   "language": "python",
   "name": "python3"
  },
  "language_info": {
   "codemirror_mode": {
    "name": "ipython",
    "version": 3
   },
   "file_extension": ".py",
   "mimetype": "text/x-python",
   "name": "python",
   "nbconvert_exporter": "python",
   "pygments_lexer": "ipython3",
   "version": "3.6.5"
  },
  "toc": {
   "base_numbering": 1,
   "nav_menu": {},
   "number_sections": true,
   "sideBar": true,
   "skip_h1_title": false,
   "title_cell": "Table of Contents",
   "title_sidebar": "Contents",
   "toc_cell": false,
   "toc_position": {
    "height": "calc(100% - 180px)",
    "left": "10px",
    "top": "150px",
    "width": "165px"
   },
   "toc_section_display": true,
   "toc_window_display": true
  }
 },
 "nbformat": 4,
 "nbformat_minor": 2
}
