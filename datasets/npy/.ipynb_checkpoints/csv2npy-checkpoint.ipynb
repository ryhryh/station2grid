{
 "cells": [
  {
   "cell_type": "code",
   "execution_count": 1,
   "metadata": {
    "collapsed": true
   },
   "outputs": [],
   "source": [
    "import pandas as pd\n",
    "import numpy as np\n",
    "import os\n"
   ]
  },
  {
   "cell_type": "markdown",
   "metadata": {},
   "source": [
    "# input csv"
   ]
  },
  {
   "cell_type": "code",
   "execution_count": 2,
   "metadata": {
    "scrolled": true
   },
   "outputs": [
    {
     "data": {
      "text/html": [
       "<div>\n",
       "<style scoped>\n",
       "    .dataframe tbody tr th:only-of-type {\n",
       "        vertical-align: middle;\n",
       "    }\n",
       "\n",
       "    .dataframe tbody tr th {\n",
       "        vertical-align: top;\n",
       "    }\n",
       "\n",
       "    .dataframe thead th {\n",
       "        text-align: right;\n",
       "    }\n",
       "</style>\n",
       "<table border=\"1\" class=\"dataframe\">\n",
       "  <thead>\n",
       "    <tr style=\"text-align: right;\">\n",
       "      <th></th>\n",
       "      <th>dt</th>\n",
       "      <th>lat</th>\n",
       "      <th>lon</th>\n",
       "      <th>pm25</th>\n",
       "      <th>pm10</th>\n",
       "      <th>temperature</th>\n",
       "      <th>humidity</th>\n",
       "    </tr>\n",
       "  </thead>\n",
       "  <tbody>\n",
       "    <tr>\n",
       "      <th>0</th>\n",
       "      <td>2017-01-01 08:00:00</td>\n",
       "      <td>-37.888</td>\n",
       "      <td>144.998</td>\n",
       "      <td>5.0</td>\n",
       "      <td>6.0</td>\n",
       "      <td>24.37</td>\n",
       "      <td>66.0</td>\n",
       "    </tr>\n",
       "    <tr>\n",
       "      <th>1</th>\n",
       "      <td>2017-01-01 08:00:00</td>\n",
       "      <td>1.280</td>\n",
       "      <td>103.817</td>\n",
       "      <td>21.0</td>\n",
       "      <td>0.0</td>\n",
       "      <td>31.25</td>\n",
       "      <td>100.0</td>\n",
       "    </tr>\n",
       "    <tr>\n",
       "      <th>2</th>\n",
       "      <td>2017-01-01 08:00:00</td>\n",
       "      <td>1.301</td>\n",
       "      <td>103.896</td>\n",
       "      <td>14.0</td>\n",
       "      <td>15.0</td>\n",
       "      <td>30.62</td>\n",
       "      <td>79.0</td>\n",
       "    </tr>\n",
       "    <tr>\n",
       "      <th>3</th>\n",
       "      <td>2017-01-01 08:00:00</td>\n",
       "      <td>1.306</td>\n",
       "      <td>103.920</td>\n",
       "      <td>19.0</td>\n",
       "      <td>0.0</td>\n",
       "      <td>30.81</td>\n",
       "      <td>91.0</td>\n",
       "    </tr>\n",
       "    <tr>\n",
       "      <th>4</th>\n",
       "      <td>2017-01-01 08:00:00</td>\n",
       "      <td>1.323</td>\n",
       "      <td>103.869</td>\n",
       "      <td>16.0</td>\n",
       "      <td>0.0</td>\n",
       "      <td>31.75</td>\n",
       "      <td>86.0</td>\n",
       "    </tr>\n",
       "  </tbody>\n",
       "</table>\n",
       "</div>"
      ],
      "text/plain": [
       "                    dt     lat      lon  pm25  pm10  temperature  humidity\n",
       "0  2017-01-01 08:00:00 -37.888  144.998   5.0   6.0        24.37      66.0\n",
       "1  2017-01-01 08:00:00   1.280  103.817  21.0   0.0        31.25     100.0\n",
       "2  2017-01-01 08:00:00   1.301  103.896  14.0  15.0        30.62      79.0\n",
       "3  2017-01-01 08:00:00   1.306  103.920  19.0   0.0        30.81      91.0\n",
       "4  2017-01-01 08:00:00   1.323  103.869  16.0   0.0        31.75      86.0"
      ]
     },
     "execution_count": 2,
     "metadata": {},
     "output_type": "execute_result"
    }
   ],
   "source": [
    "csv_path=os.path.join(os.path.expanduser(\"~\"),'station2grid','datasets','csv','air.csv')\n",
    "df=pd.read_csv(csv_path)\n",
    "df.head()"
   ]
  },
  {
   "cell_type": "code",
   "execution_count": 3,
   "metadata": {},
   "outputs": [
    {
     "data": {
      "text/plain": [
       "'/media/disk3/feynman52/station2grid/datasets/csv/air.csv'"
      ]
     },
     "execution_count": 3,
     "metadata": {},
     "output_type": "execute_result"
    }
   ],
   "source": [
    "csv_path"
   ]
  },
  {
   "cell_type": "code",
   "execution_count": 4,
   "metadata": {},
   "outputs": [
    {
     "data": {
      "text/plain": [
       "'air'"
      ]
     },
     "execution_count": 4,
     "metadata": {},
     "output_type": "execute_result"
    }
   ],
   "source": [
    "domain=csv_path.split('/')[-1].split('.')[0]\n",
    "domain"
   ]
  },
  {
   "cell_type": "code",
   "execution_count": 5,
   "metadata": {
    "scrolled": true
   },
   "outputs": [],
   "source": [
    "dts=df.dt.unique()"
   ]
  },
  {
   "cell_type": "code",
   "execution_count": 6,
   "metadata": {
    "scrolled": true
   },
   "outputs": [
    {
     "data": {
      "text/html": [
       "<div>\n",
       "<style scoped>\n",
       "    .dataframe tbody tr th:only-of-type {\n",
       "        vertical-align: middle;\n",
       "    }\n",
       "\n",
       "    .dataframe tbody tr th {\n",
       "        vertical-align: top;\n",
       "    }\n",
       "\n",
       "    .dataframe thead th {\n",
       "        text-align: right;\n",
       "    }\n",
       "</style>\n",
       "<table border=\"1\" class=\"dataframe\">\n",
       "  <thead>\n",
       "    <tr style=\"text-align: right;\">\n",
       "      <th></th>\n",
       "      <th>dt</th>\n",
       "      <th>lat</th>\n",
       "      <th>lon</th>\n",
       "      <th>pm25</th>\n",
       "      <th>pm10</th>\n",
       "      <th>temperature</th>\n",
       "      <th>humidity</th>\n",
       "    </tr>\n",
       "  </thead>\n",
       "  <tbody>\n",
       "    <tr>\n",
       "      <th>82969</th>\n",
       "      <td>2018-01-02 20:00:00</td>\n",
       "      <td>-6.888</td>\n",
       "      <td>107.610</td>\n",
       "      <td>50.5</td>\n",
       "      <td>0.0</td>\n",
       "      <td>24.185</td>\n",
       "      <td>100.0</td>\n",
       "    </tr>\n",
       "    <tr>\n",
       "      <th>82970</th>\n",
       "      <td>2018-01-02 20:00:00</td>\n",
       "      <td>-6.864</td>\n",
       "      <td>107.584</td>\n",
       "      <td>22.0</td>\n",
       "      <td>25.0</td>\n",
       "      <td>27.750</td>\n",
       "      <td>73.0</td>\n",
       "    </tr>\n",
       "    <tr>\n",
       "      <th>82971</th>\n",
       "      <td>2018-01-02 20:00:00</td>\n",
       "      <td>1.282</td>\n",
       "      <td>103.815</td>\n",
       "      <td>10.0</td>\n",
       "      <td>11.0</td>\n",
       "      <td>29.000</td>\n",
       "      <td>100.0</td>\n",
       "    </tr>\n",
       "    <tr>\n",
       "      <th>82972</th>\n",
       "      <td>2018-01-02 20:00:00</td>\n",
       "      <td>1.322</td>\n",
       "      <td>103.869</td>\n",
       "      <td>14.0</td>\n",
       "      <td>16.0</td>\n",
       "      <td>31.000</td>\n",
       "      <td>85.0</td>\n",
       "    </tr>\n",
       "    <tr>\n",
       "      <th>82973</th>\n",
       "      <td>2018-01-02 20:00:00</td>\n",
       "      <td>1.351</td>\n",
       "      <td>103.945</td>\n",
       "      <td>10.0</td>\n",
       "      <td>11.0</td>\n",
       "      <td>31.000</td>\n",
       "      <td>82.0</td>\n",
       "    </tr>\n",
       "  </tbody>\n",
       "</table>\n",
       "</div>"
      ],
      "text/plain": [
       "                        dt    lat      lon  pm25  pm10  temperature  humidity\n",
       "82969  2018-01-02 20:00:00 -6.888  107.610  50.5   0.0       24.185     100.0\n",
       "82970  2018-01-02 20:00:00 -6.864  107.584  22.0  25.0       27.750      73.0\n",
       "82971  2018-01-02 20:00:00  1.282  103.815  10.0  11.0       29.000     100.0\n",
       "82972  2018-01-02 20:00:00  1.322  103.869  14.0  16.0       31.000      85.0\n",
       "82973  2018-01-02 20:00:00  1.351  103.945  10.0  11.0       31.000      82.0"
      ]
     },
     "execution_count": 6,
     "metadata": {},
     "output_type": "execute_result"
    }
   ],
   "source": [
    "one_dt=df[df.dt==dts[-10]]\n",
    "one_dt.head()"
   ]
  },
  {
   "cell_type": "markdown",
   "metadata": {},
   "source": [
    "# domain features"
   ]
  },
  {
   "cell_type": "code",
   "execution_count": 7,
   "metadata": {},
   "outputs": [
    {
     "data": {
      "text/plain": [
       "['pm25', 'pm10', 'temperature', 'humidity']"
      ]
     },
     "execution_count": 7,
     "metadata": {},
     "output_type": "execute_result"
    }
   ],
   "source": [
    "features=df.columns[3:].tolist()\n",
    "features"
   ]
  },
  {
   "cell_type": "code",
   "execution_count": 8,
   "metadata": {},
   "outputs": [],
   "source": [
    "path=os.path.join('..','info','%s-feature.csv'%(domain))\n",
    "dummy=pd.DataFrame({'feature':features})\n",
    "dummy.to_csv(path)"
   ]
  },
  {
   "cell_type": "markdown",
   "metadata": {},
   "source": [
    "# sources2grid by KNN, one dt"
   ]
  },
  {
   "cell_type": "code",
   "execution_count": 9,
   "metadata": {},
   "outputs": [],
   "source": [
    "import sys \n",
    "sys.path.append(os.path.join(os.path.expanduser(\"~\"),'station2grid'))\n",
    "from tools import CustomKNN\n"
   ]
  },
  {
   "cell_type": "code",
   "execution_count": 10,
   "metadata": {
    "collapsed": true
   },
   "outputs": [],
   "source": [
    "customKNN=CustomKNN()"
   ]
  },
  {
   "cell_type": "code",
   "execution_count": 11,
   "metadata": {
    "scrolled": true
   },
   "outputs": [
    {
     "data": {
      "text/plain": [
       "((575, 2), (575, 4))"
      ]
     },
     "execution_count": 11,
     "metadata": {},
     "output_type": "execute_result"
    }
   ],
   "source": [
    "x_train=one_dt[['lat','lon']]\n",
    "y_train=one_dt.iloc[:,3:]\n",
    "x_train.shape,y_train.shape"
   ]
  },
  {
   "cell_type": "code",
   "execution_count": null,
   "metadata": {},
   "outputs": [],
   "source": []
  },
  {
   "cell_type": "code",
   "execution_count": 12,
   "metadata": {},
   "outputs": [
    {
     "data": {
      "text/plain": [
       "(1, 348, 204, 4)"
      ]
     },
     "execution_count": 12,
     "metadata": {},
     "output_type": "execute_result"
    }
   ],
   "source": [
    "k,weights=3,'distance'\n",
    "knn_grid=customKNN.get_knn_grid(k,weights,x_train,y_train)\n",
    "knn_grid.shape"
   ]
  },
  {
   "cell_type": "code",
   "execution_count": 13,
   "metadata": {},
   "outputs": [
    {
     "data": {
      "text/plain": [
       "(1, 348, 204, 1)"
      ]
     },
     "execution_count": 13,
     "metadata": {},
     "output_type": "execute_result"
    }
   ],
   "source": [
    "grid_pm25=knn_grid[...,:1]\n",
    "grid_pm25.shape"
   ]
  },
  {
   "cell_type": "code",
   "execution_count": null,
   "metadata": {
    "collapsed": true
   },
   "outputs": [],
   "source": []
  },
  {
   "cell_type": "markdown",
   "metadata": {},
   "source": [
    "# grid2station, one dt"
   ]
  },
  {
   "cell_type": "code",
   "execution_count": 14,
   "metadata": {},
   "outputs": [
    {
     "data": {
      "text/html": [
       "<div>\n",
       "<style scoped>\n",
       "    .dataframe tbody tr th:only-of-type {\n",
       "        vertical-align: middle;\n",
       "    }\n",
       "\n",
       "    .dataframe tbody tr th {\n",
       "        vertical-align: top;\n",
       "    }\n",
       "\n",
       "    .dataframe thead th {\n",
       "        text-align: right;\n",
       "    }\n",
       "</style>\n",
       "<table border=\"1\" class=\"dataframe\">\n",
       "  <thead>\n",
       "    <tr style=\"text-align: right;\">\n",
       "      <th></th>\n",
       "      <th>SiteName</th>\n",
       "      <th>SiteEngName</th>\n",
       "      <th>AreaName</th>\n",
       "      <th>County</th>\n",
       "      <th>Township</th>\n",
       "      <th>SiteAddress</th>\n",
       "      <th>lon</th>\n",
       "      <th>lat</th>\n",
       "      <th>SiteType</th>\n",
       "      <th>lat_round</th>\n",
       "      <th>lon_round</th>\n",
       "      <th>row</th>\n",
       "      <th>col</th>\n",
       "    </tr>\n",
       "  </thead>\n",
       "  <tbody>\n",
       "    <tr>\n",
       "      <th>0</th>\n",
       "      <td>陽明</td>\n",
       "      <td>Yangming</td>\n",
       "      <td>北部空品區</td>\n",
       "      <td>臺北市</td>\n",
       "      <td>北投區</td>\n",
       "      <td>臺北市北投區竹子湖路111號</td>\n",
       "      <td>121.529583</td>\n",
       "      <td>25.182722</td>\n",
       "      <td>公園測站</td>\n",
       "      <td>25.18</td>\n",
       "      <td>121.53</td>\n",
       "      <td>16</td>\n",
       "      <td>153</td>\n",
       "    </tr>\n",
       "    <tr>\n",
       "      <th>1</th>\n",
       "      <td>萬里</td>\n",
       "      <td>Wanli</td>\n",
       "      <td>北部空品區</td>\n",
       "      <td>新北市</td>\n",
       "      <td>萬里區</td>\n",
       "      <td>新北市萬里區瑪鋉路221號</td>\n",
       "      <td>121.689881</td>\n",
       "      <td>25.179667</td>\n",
       "      <td>一般測站</td>\n",
       "      <td>25.18</td>\n",
       "      <td>121.69</td>\n",
       "      <td>16</td>\n",
       "      <td>169</td>\n",
       "    </tr>\n",
       "  </tbody>\n",
       "</table>\n",
       "</div>"
      ],
      "text/plain": [
       "  SiteName SiteEngName AreaName County Township     SiteAddress         lon  \\\n",
       "0       陽明    Yangming    北部空品區    臺北市      北投區  臺北市北投區竹子湖路111號  121.529583   \n",
       "1       萬里       Wanli    北部空品區    新北市      萬里區   新北市萬里區瑪鋉路221號  121.689881   \n",
       "\n",
       "         lat SiteType  lat_round  lon_round  row  col  \n",
       "0  25.182722     公園測站      25.18     121.53   16  153  \n",
       "1  25.179667     一般測站      25.18     121.69   16  169  "
      ]
     },
     "execution_count": 14,
     "metadata": {},
     "output_type": "execute_result"
    }
   ],
   "source": [
    "epaStationInfo=pd.read_csv(os.path.join(os.path.expanduser(\"~\"),'station2grid','datasets','info','epa-station-info.csv'))\n",
    "epaStationInfo.head(2)"
   ]
  },
  {
   "cell_type": "code",
   "execution_count": 15,
   "metadata": {
    "scrolled": true
   },
   "outputs": [
    {
     "data": {
      "text/plain": [
       "(1, 73, 4)"
      ]
     },
     "execution_count": 15,
     "metadata": {},
     "output_type": "execute_result"
    }
   ],
   "source": [
    "station=knn_grid[:,epaStationInfo.row,epaStationInfo.col,:]\n",
    "station.shape"
   ]
  },
  {
   "cell_type": "markdown",
   "metadata": {},
   "source": [
    "# grid2station, one month"
   ]
  },
  {
   "cell_type": "code",
   "execution_count": 16,
   "metadata": {
    "scrolled": true
   },
   "outputs": [
    {
     "data": {
      "text/plain": [
       "'domain_air-k_3-weights_distance'"
      ]
     },
     "execution_count": 16,
     "metadata": {},
     "output_type": "execute_result"
    }
   ],
   "source": [
    "single='domain_%s-k_%s-weights_%s'%(domain,k,weights)\n",
    "single"
   ]
  },
  {
   "cell_type": "code",
   "execution_count": 17,
   "metadata": {},
   "outputs": [
    {
     "data": {
      "text/plain": [
       "('/media/disk3/feynman52/station2grid/datasets/npy/air/domain_air-k_3-weights_distance/grid',\n",
       " '/media/disk3/feynman52/station2grid/datasets/npy/air/domain_air-k_3-weights_distance/station')"
      ]
     },
     "execution_count": 17,
     "metadata": {},
     "output_type": "execute_result"
    }
   ],
   "source": [
    "grid_dir=os.path.join(os.path.expanduser(\"~\"),'station2grid','datasets','npy',domain,single,'grid')\n",
    "station_dir=os.path.join(os.path.expanduser(\"~\"),'station2grid','datasets','npy',domain,single,'station')\n",
    "\n",
    "grid_dir,station_dir\n"
   ]
  },
  {
   "cell_type": "code",
   "execution_count": 18,
   "metadata": {
    "collapsed": true
   },
   "outputs": [],
   "source": [
    "os.makedirs(grid_dir,exist_ok=True)\n",
    "os.makedirs(station_dir,exist_ok=True)\n"
   ]
  },
  {
   "cell_type": "code",
   "execution_count": 19,
   "metadata": {},
   "outputs": [],
   "source": [
    "for i,dt in enumerate(dts[:2]):\n",
    "    one_dt=df[df.dt==dt]\n",
    "    \n",
    "    x_train=one_dt[['lat','lon']]\n",
    "    y_train=one_dt.iloc[:,3:]\n",
    "    k,weights=3,'distance'\n",
    "    \n",
    "    knn_grid=customKNN.get_knn_grid(k,weights,x_train,y_train)\n",
    "    \n",
    "    grid_pm25=knn_grid[...,:1]\n",
    "    station=knn_grid[:,epaStationInfo.row,epaStationInfo.col,:]\n",
    "    \n",
    "    dt_str=str(dt)[:19]\n",
    "    np.save(os.path.join(grid_dir,dt_str+'_grid'),grid_pm25)\n",
    "    np.save(os.path.join(station_dir,dt_str+'_station'),station)\n"
   ]
  },
  {
   "cell_type": "code",
   "execution_count": null,
   "metadata": {
    "collapsed": true
   },
   "outputs": [],
   "source": []
  },
  {
   "cell_type": "markdown",
   "metadata": {},
   "source": [
    "# script"
   ]
  },
  {
   "cell_type": "code",
   "execution_count": 32,
   "metadata": {
    "collapsed": true
   },
   "outputs": [],
   "source": [
    "class Csv2npy:\n",
    "    def __init__(self,csv_path,k,weights,threshold):\n",
    "        self.home=os.path.expanduser(\"~\")\n",
    "        self.epaStationInfo=pd.read_csv(os.path.join(self.home,'station2grid','datasets','info','epa-station-info.csv'))\n",
    "        self.csv_path=csv_path\n",
    "        self.domain=csv_path.split('/')[-1].split('.')[0]\n",
    "        self.single='domain_%s-k_%s-weights_%s'%(self.domain,k,weights)\n",
    "        self.k=k\n",
    "        self.weights=weights\n",
    "        self.customKNN=CustomKNN()\n",
    "        self.threshold=threshold\n",
    "        \n",
    "    def saveFeatures(self,features):\n",
    "        path=os.path.join(self.home,'station2grid','datasets','info','%s-features.csv'%(self.domain))\n",
    "        dummy=pd.DataFrame({'feature':features})\n",
    "        dummy.to_csv(path)\n",
    "    \n",
    "    def get_grid_station(self,one_dt,k,weights):\n",
    "        customKNN=self.customKNN\n",
    "        \n",
    "        x_train=one_dt[['lat','lon']]\n",
    "        y_train=one_dt.iloc[:,3:]\n",
    "        knn_grid=customKNN.get_knn_grid(k,weights,x_train,y_train)\n",
    "\n",
    "        grid_pm25=knn_grid[...,:1]\n",
    "        station=knn_grid[:,self.epaStationInfo.row,self.epaStationInfo.col,:]\n",
    "        return grid_pm25,station\n",
    "\n",
    "    def alldt2npy(self):\n",
    "        domain=self.domain\n",
    "        home=self.home\n",
    "        single=self.single\n",
    "        \n",
    "        df=pd.read_csv(self.csv_path)\n",
    "        \n",
    "        # save features for single domain\n",
    "        features=df.columns[3:].tolist()\n",
    "        self.saveFeatures(features)\n",
    "\n",
    "        # make dir for (grid,station)\n",
    "        grid_dir=os.path.join(home,'station2grid','datasets','npy',domain,single,'grid')\n",
    "        station_dir=os.path.join(home,'station2grid','datasets','npy',domain,single,'station')\n",
    "        os.makedirs(grid_dir,exist_ok=True)\n",
    "        os.makedirs(station_dir,exist_ok=True)\n",
    "        \n",
    "        dts=df.dt.unique()\n",
    "        for dt in dts[:5]:\n",
    "            one_dt=df[df.dt==dt]\n",
    "            \n",
    "            # if number of sources < threshold, pass\n",
    "            print(dt,len(one_dt))\n",
    "            if len(one_dt)<self.threshold: \n",
    "                print('pass')\n",
    "                continue\n",
    "                \n",
    "            grid_pm25,station=self.get_grid_station(one_dt,k,weights)\n",
    "            # save npy (grid,station)\n",
    "            dt_str=str(dt)[:19]\n",
    "            np.save(os.path.join(grid_dir,dt_str+'_grid'),grid_pm25)\n",
    "            np.save(os.path.join(station_dir,dt_str+'_station'),station)\n"
   ]
  },
  {
   "cell_type": "code",
   "execution_count": 33,
   "metadata": {},
   "outputs": [],
   "source": [
    "csv_path=os.path.join('..','csv','air.csv')\n",
    "k,weights,threshold=3,'distance',312"
   ]
  },
  {
   "cell_type": "code",
   "execution_count": 34,
   "metadata": {},
   "outputs": [
    {
     "name": "stdout",
     "output_type": "stream",
     "text": [
      "2017-01-01 08:00:00 307\n",
      "pass\n",
      "2017-01-01 08:30:00 312\n",
      "2017-01-01 09:00:00 312\n",
      "2017-01-01 09:30:00 310\n",
      "pass\n",
      "2017-01-01 10:00:00 313\n"
     ]
    }
   ],
   "source": [
    "csv2npy=Csv2npy(csv_path,k,weights,threshold)\n",
    "csv2npy.alldt2npy()"
   ]
  },
  {
   "cell_type": "code",
   "execution_count": null,
   "metadata": {
    "collapsed": true
   },
   "outputs": [],
   "source": []
  },
  {
   "cell_type": "code",
   "execution_count": null,
   "metadata": {
    "collapsed": true
   },
   "outputs": [],
   "source": []
  },
  {
   "cell_type": "code",
   "execution_count": null,
   "metadata": {
    "collapsed": true
   },
   "outputs": [],
   "source": []
  },
  {
   "cell_type": "code",
   "execution_count": null,
   "metadata": {
    "collapsed": true
   },
   "outputs": [],
   "source": []
  },
  {
   "cell_type": "code",
   "execution_count": null,
   "metadata": {
    "collapsed": true
   },
   "outputs": [],
   "source": []
  },
  {
   "cell_type": "code",
   "execution_count": null,
   "metadata": {
    "collapsed": true
   },
   "outputs": [],
   "source": []
  },
  {
   "cell_type": "code",
   "execution_count": null,
   "metadata": {
    "collapsed": true
   },
   "outputs": [],
   "source": []
  }
 ],
 "metadata": {
  "kernelspec": {
   "display_name": "Python 3",
   "language": "python",
   "name": "python3"
  },
  "language_info": {
   "codemirror_mode": {
    "name": "ipython",
    "version": 3
   },
   "file_extension": ".py",
   "mimetype": "text/x-python",
   "name": "python",
   "nbconvert_exporter": "python",
   "pygments_lexer": "ipython3",
   "version": "3.6.5"
  },
  "toc": {
   "base_numbering": 1,
   "nav_menu": {},
   "number_sections": true,
   "sideBar": true,
   "skip_h1_title": false,
   "title_cell": "Table of Contents",
   "title_sidebar": "Contents",
   "toc_cell": false,
   "toc_position": {},
   "toc_section_display": true,
   "toc_window_display": false
  }
 },
 "nbformat": 4,
 "nbformat_minor": 2
}
