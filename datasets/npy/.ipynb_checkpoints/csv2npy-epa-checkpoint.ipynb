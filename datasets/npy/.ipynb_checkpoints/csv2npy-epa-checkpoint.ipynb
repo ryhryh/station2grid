{
 "cells": [
  {
   "cell_type": "code",
   "execution_count": 8,
   "metadata": {
    "collapsed": true
   },
   "outputs": [],
   "source": [
    "import pandas as pd\n",
    "import numpy as np\n",
    "import os\n",
    "home=os.path.expanduser(\"~\")\n",
    "\n",
    "import sys \n",
    "sys.path.append(os.path.join(os.path.expanduser(\"~\"),'station2grid'))\n",
    "from tools import CustomKNN\n"
   ]
  },
  {
   "cell_type": "markdown",
   "metadata": {},
   "source": [
    "# input csv"
   ]
  },
  {
   "cell_type": "code",
   "execution_count": 9,
   "metadata": {},
   "outputs": [
    {
     "data": {
      "text/html": [
       "<div>\n",
       "<style scoped>\n",
       "    .dataframe tbody tr th:only-of-type {\n",
       "        vertical-align: middle;\n",
       "    }\n",
       "\n",
       "    .dataframe tbody tr th {\n",
       "        vertical-align: top;\n",
       "    }\n",
       "\n",
       "    .dataframe thead th {\n",
       "        text-align: right;\n",
       "    }\n",
       "</style>\n",
       "<table border=\"1\" class=\"dataframe\">\n",
       "  <thead>\n",
       "    <tr style=\"text-align: right;\">\n",
       "      <th></th>\n",
       "      <th>SiteName</th>\n",
       "      <th>SiteEngName</th>\n",
       "      <th>AreaName</th>\n",
       "      <th>County</th>\n",
       "      <th>Township</th>\n",
       "      <th>SiteAddress</th>\n",
       "      <th>lon</th>\n",
       "      <th>lat</th>\n",
       "      <th>SiteType</th>\n",
       "      <th>lat_round</th>\n",
       "      <th>lon_round</th>\n",
       "      <th>row</th>\n",
       "      <th>col</th>\n",
       "    </tr>\n",
       "  </thead>\n",
       "  <tbody>\n",
       "    <tr>\n",
       "      <th>0</th>\n",
       "      <td>陽明</td>\n",
       "      <td>Yangming</td>\n",
       "      <td>北部空品區</td>\n",
       "      <td>臺北市</td>\n",
       "      <td>北投區</td>\n",
       "      <td>臺北市北投區竹子湖路111號</td>\n",
       "      <td>121.529583</td>\n",
       "      <td>25.182722</td>\n",
       "      <td>公園測站</td>\n",
       "      <td>25.18</td>\n",
       "      <td>121.53</td>\n",
       "      <td>16</td>\n",
       "      <td>153</td>\n",
       "    </tr>\n",
       "    <tr>\n",
       "      <th>1</th>\n",
       "      <td>萬里</td>\n",
       "      <td>Wanli</td>\n",
       "      <td>北部空品區</td>\n",
       "      <td>新北市</td>\n",
       "      <td>萬里區</td>\n",
       "      <td>新北市萬里區瑪鋉路221號</td>\n",
       "      <td>121.689881</td>\n",
       "      <td>25.179667</td>\n",
       "      <td>一般測站</td>\n",
       "      <td>25.18</td>\n",
       "      <td>121.69</td>\n",
       "      <td>16</td>\n",
       "      <td>169</td>\n",
       "    </tr>\n",
       "  </tbody>\n",
       "</table>\n",
       "</div>"
      ],
      "text/plain": [
       "  SiteName SiteEngName AreaName County Township     SiteAddress         lon  \\\n",
       "0       陽明    Yangming    北部空品區    臺北市      北投區  臺北市北投區竹子湖路111號  121.529583   \n",
       "1       萬里       Wanli    北部空品區    新北市      萬里區   新北市萬里區瑪鋉路221號  121.689881   \n",
       "\n",
       "         lat SiteType  lat_round  lon_round  row  col  \n",
       "0  25.182722     公園測站      25.18     121.53   16  153  \n",
       "1  25.179667     一般測站      25.18     121.69   16  169  "
      ]
     },
     "execution_count": 9,
     "metadata": {},
     "output_type": "execute_result"
    }
   ],
   "source": [
    "epaStationInfo=pd.read_csv(os.path.join(home,'station2grid','datasets','info','epa-station-info.csv'))\n",
    "epaStationInfo.head(2)"
   ]
  },
  {
   "cell_type": "code",
   "execution_count": 10,
   "metadata": {
    "scrolled": true
   },
   "outputs": [
    {
     "data": {
      "text/html": [
       "<div>\n",
       "<style scoped>\n",
       "    .dataframe tbody tr th:only-of-type {\n",
       "        vertical-align: middle;\n",
       "    }\n",
       "\n",
       "    .dataframe tbody tr th {\n",
       "        vertical-align: top;\n",
       "    }\n",
       "\n",
       "    .dataframe thead th {\n",
       "        text-align: right;\n",
       "    }\n",
       "</style>\n",
       "<table border=\"1\" class=\"dataframe\">\n",
       "  <thead>\n",
       "    <tr style=\"text-align: right;\">\n",
       "      <th></th>\n",
       "      <th>dt</th>\n",
       "      <th>lat</th>\n",
       "      <th>lon</th>\n",
       "      <th>station</th>\n",
       "      <th>feature</th>\n",
       "      <th>value</th>\n",
       "    </tr>\n",
       "  </thead>\n",
       "  <tbody>\n",
       "    <tr>\n",
       "      <th>0</th>\n",
       "      <td>2015-01-01 00:00:00</td>\n",
       "      <td>24.900142</td>\n",
       "      <td>121.038653</td>\n",
       "      <td>湖口</td>\n",
       "      <td>AMB_TEMP</td>\n",
       "      <td>16.0</td>\n",
       "    </tr>\n",
       "    <tr>\n",
       "      <th>1</th>\n",
       "      <td>2015-01-01 01:00:00</td>\n",
       "      <td>24.900142</td>\n",
       "      <td>121.038653</td>\n",
       "      <td>湖口</td>\n",
       "      <td>AMB_TEMP</td>\n",
       "      <td>15.0</td>\n",
       "    </tr>\n",
       "    <tr>\n",
       "      <th>2</th>\n",
       "      <td>2015-01-01 02:00:00</td>\n",
       "      <td>24.900142</td>\n",
       "      <td>121.038653</td>\n",
       "      <td>湖口</td>\n",
       "      <td>AMB_TEMP</td>\n",
       "      <td>15.0</td>\n",
       "    </tr>\n",
       "    <tr>\n",
       "      <th>3</th>\n",
       "      <td>2015-01-01 03:00:00</td>\n",
       "      <td>24.900142</td>\n",
       "      <td>121.038653</td>\n",
       "      <td>湖口</td>\n",
       "      <td>AMB_TEMP</td>\n",
       "      <td>14.0</td>\n",
       "    </tr>\n",
       "    <tr>\n",
       "      <th>4</th>\n",
       "      <td>2015-01-01 04:00:00</td>\n",
       "      <td>24.900142</td>\n",
       "      <td>121.038653</td>\n",
       "      <td>湖口</td>\n",
       "      <td>AMB_TEMP</td>\n",
       "      <td>14.0</td>\n",
       "    </tr>\n",
       "  </tbody>\n",
       "</table>\n",
       "</div>"
      ],
      "text/plain": [
       "                    dt        lat         lon station   feature  value\n",
       "0  2015-01-01 00:00:00  24.900142  121.038653      湖口  AMB_TEMP   16.0\n",
       "1  2015-01-01 01:00:00  24.900142  121.038653      湖口  AMB_TEMP   15.0\n",
       "2  2015-01-01 02:00:00  24.900142  121.038653      湖口  AMB_TEMP   15.0\n",
       "3  2015-01-01 03:00:00  24.900142  121.038653      湖口  AMB_TEMP   14.0\n",
       "4  2015-01-01 04:00:00  24.900142  121.038653      湖口  AMB_TEMP   14.0"
      ]
     },
     "execution_count": 10,
     "metadata": {},
     "output_type": "execute_result"
    }
   ],
   "source": [
    "year=2015\n",
    "csv_path=os.path.join(home,'station2grid','datasets','csv','epa','epa%s.csv'%(year))\n",
    "oneYear=pd.read_csv(csv_path)\n",
    "oneYear=pd.merge(left=oneYear,\n",
    "                 right=epaStationInfo[['SiteName','lat','lon']],\n",
    "                 left_on='station',\n",
    "                 right_on='SiteName',\n",
    "                 how='left')\n",
    "oneYear=oneYear[['dt','lat','lon','station','feature','value']]\n",
    "oneYear.head()"
   ]
  },
  {
   "cell_type": "code",
   "execution_count": 11,
   "metadata": {},
   "outputs": [
    {
     "data": {
      "text/plain": [
       "array(['AMB_TEMP', 'PM10', 'PM2.5', 'RH'], dtype=object)"
      ]
     },
     "execution_count": 11,
     "metadata": {},
     "output_type": "execute_result"
    }
   ],
   "source": [
    "oneYear.feature.unique()"
   ]
  },
  {
   "cell_type": "code",
   "execution_count": 12,
   "metadata": {},
   "outputs": [],
   "source": [
    "dts=oneYear.dt.unique()\n",
    "features=oneYear.feature.unique()"
   ]
  },
  {
   "cell_type": "code",
   "execution_count": null,
   "metadata": {},
   "outputs": [],
   "source": []
  },
  {
   "cell_type": "code",
   "execution_count": 13,
   "metadata": {
    "scrolled": true
   },
   "outputs": [
    {
     "data": {
      "text/html": [
       "<div>\n",
       "<style scoped>\n",
       "    .dataframe tbody tr th:only-of-type {\n",
       "        vertical-align: middle;\n",
       "    }\n",
       "\n",
       "    .dataframe tbody tr th {\n",
       "        vertical-align: top;\n",
       "    }\n",
       "\n",
       "    .dataframe thead th {\n",
       "        text-align: right;\n",
       "    }\n",
       "</style>\n",
       "<table border=\"1\" class=\"dataframe\">\n",
       "  <thead>\n",
       "    <tr style=\"text-align: right;\">\n",
       "      <th></th>\n",
       "      <th>dt</th>\n",
       "      <th>lat</th>\n",
       "      <th>lon</th>\n",
       "      <th>station</th>\n",
       "      <th>feature</th>\n",
       "      <th>value</th>\n",
       "    </tr>\n",
       "  </thead>\n",
       "  <tbody>\n",
       "    <tr>\n",
       "      <th>3288</th>\n",
       "      <td>2015-01-03 00:00:00</td>\n",
       "      <td>25.1645</td>\n",
       "      <td>121.449239</td>\n",
       "      <td>淡水</td>\n",
       "      <td>PM10</td>\n",
       "      <td>26.0</td>\n",
       "    </tr>\n",
       "    <tr>\n",
       "      <th>6668</th>\n",
       "      <td>2015-01-03 00:00:00</td>\n",
       "      <td>25.0632</td>\n",
       "      <td>121.513311</td>\n",
       "      <td>大同</td>\n",
       "      <td>PM10</td>\n",
       "      <td>50.0</td>\n",
       "    </tr>\n",
       "  </tbody>\n",
       "</table>\n",
       "</div>"
      ],
      "text/plain": [
       "                       dt      lat         lon station feature  value\n",
       "3288  2015-01-03 00:00:00  25.1645  121.449239      淡水    PM10   26.0\n",
       "6668  2015-01-03 00:00:00  25.0632  121.513311      大同    PM10   50.0"
      ]
     },
     "execution_count": 13,
     "metadata": {},
     "output_type": "execute_result"
    }
   ],
   "source": [
    "dt=dts[48]\n",
    "feature=features[1]\n",
    "oneDtFea=oneYear[(oneYear.dt==dt)&(oneYear.feature==feature)]\n",
    "oneDtFea"
   ]
  },
  {
   "cell_type": "code",
   "execution_count": null,
   "metadata": {
    "scrolled": true
   },
   "outputs": [],
   "source": [
    "oneDtFea.value.values.shape"
   ]
  },
  {
   "cell_type": "code",
   "execution_count": null,
   "metadata": {
    "scrolled": true
   },
   "outputs": [],
   "source": [
    "customKNN=CustomKNN()\n",
    "x_train=oneDtFea[['lat','lon']].values\n",
    "y_train=oneDtFea.value.values\n",
    "k=1\n",
    "weightKNN='distance'\n",
    "x_test=epaStationInfo[['lat','lon']].values\n",
    "y_test=customKNN.get_knn(k,weightKNN,x_train,y_train,x_test)\n",
    "y_test.shape"
   ]
  },
  {
   "cell_type": "markdown",
   "metadata": {},
   "source": [
    "# script"
   ]
  },
  {
   "cell_type": "code",
   "execution_count": 19,
   "metadata": {
    "scrolled": true
   },
   "outputs": [
    {
     "data": {
      "text/plain": [
       "(48, 73, 4)"
      ]
     },
     "execution_count": 19,
     "metadata": {},
     "output_type": "execute_result"
    }
   ],
   "source": [
    "customKNN=CustomKNN()\n",
    "epaStationInfo=pd.read_csv(os.path.join(home,'station2grid','datasets','info','epa-station-info.csv'))\n",
    "\n",
    "def get_oneYear(year):\n",
    "    csv_path=os.path.join(home,'station2grid','datasets','csv','epa','epa%s.csv'%(year))\n",
    "    oneYear=pd.read_csv(csv_path)\n",
    "    oneYear=pd.merge(left=oneYear,\n",
    "                     right=epaStationInfo[['SiteName','lat','lon']],\n",
    "                     left_on='station',\n",
    "                     right_on='SiteName',\n",
    "                     how='left')\n",
    "    oneYear=oneYear[['dt','lat','lon','station','feature','value']]\n",
    "    return oneYear\n",
    "\n",
    "def get_oneDtArr(oneDt,features):\n",
    "    oneDtArr=[]\n",
    "    for feature in features:\n",
    "        oneDtFea=oneDt[oneDt.feature==feature]\n",
    "        x_train=oneDtFea[['lat','lon']].values\n",
    "        y_train=oneDtFea.value.values\n",
    "        k,weightKNN=1,'distance'\n",
    "        x_test=epaStationInfo[['lat','lon']].values\n",
    "        y_test=customKNN.get_knn(k,weightKNN,x_train,y_train,x_test)\n",
    "        y_test=y_test.reshape(1,-1,1)\n",
    "        oneDtArr.append(y_test)\n",
    "    oneDtArr=np.concatenate(oneDtArr,axis=-1)    \n",
    "    return oneDtArr\n",
    "\n",
    "def get_allDtArr(oneYear):\n",
    "    dts=oneYear.dt.unique()\n",
    "    features=oneYear.feature.unique()\n",
    "\n",
    "    allDtArr=[]\n",
    "    for i,dt in enumerate(dts[:]):\n",
    "        oneDt=oneYear[oneYear.dt==dt]\n",
    "        if len(oneDt.feature.unique())<len(features): continue\n",
    "        oneDtArr=get_oneDtArr(oneDt,features)\n",
    "        allDtArr.append(oneDtArr)\n",
    "    allDtArr=np.concatenate(allDtArr,axis=0)\n",
    "    return allDtArr\n",
    "    \n",
    "oneYear=get_oneYear(2014)\n",
    "allDtArr=get_allDtArr(oneYear)\n",
    "allDtArr.shape"
   ]
  },
  {
   "cell_type": "code",
   "execution_count": null,
   "metadata": {
    "collapsed": true
   },
   "outputs": [],
   "source": []
  }
 ],
 "metadata": {
  "kernelspec": {
   "display_name": "Python 3",
   "language": "python",
   "name": "python3"
  },
  "language_info": {
   "codemirror_mode": {
    "name": "ipython",
    "version": 3
   },
   "file_extension": ".py",
   "mimetype": "text/x-python",
   "name": "python",
   "nbconvert_exporter": "python",
   "pygments_lexer": "ipython3",
   "version": "3.6.5"
  },
  "toc": {
   "base_numbering": 1,
   "nav_menu": {},
   "number_sections": true,
   "sideBar": true,
   "skip_h1_title": false,
   "title_cell": "Table of Contents",
   "title_sidebar": "Contents",
   "toc_cell": false,
   "toc_position": {},
   "toc_section_display": true,
   "toc_window_display": false
  }
 },
 "nbformat": 4,
 "nbformat_minor": 2
}
