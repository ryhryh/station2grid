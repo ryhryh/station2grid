{
 "cells": [
  {
   "cell_type": "code",
   "execution_count": 1,
   "metadata": {
    "collapsed": true
   },
   "outputs": [],
   "source": [
    "import pandas as pd\n",
    "import numpy as np\n",
    "import os\n",
    "home=os.path.expanduser(\"~\")\n",
    "\n",
    "import sys \n",
    "sys.path.append(os.path.join(os.path.expanduser(\"~\"),'station2grid'))\n",
    "from tools.knn_model import KnnModel\n"
   ]
  },
  {
   "cell_type": "markdown",
   "metadata": {},
   "source": [
    "# input csv"
   ]
  },
  {
   "cell_type": "code",
   "execution_count": null,
   "metadata": {
    "collapsed": true
   },
   "outputs": [],
   "source": [
    "epaStationInfo=pd.read_csv(os.path.join(home,'station2grid','datasets','info','epa-station-info.csv'))\n",
    "epaStationInfo.head(2)"
   ]
  },
  {
   "cell_type": "code",
   "execution_count": null,
   "metadata": {
    "collapsed": true,
    "scrolled": true
   },
   "outputs": [],
   "source": [
    "year=2014\n",
    "csv_path=os.path.join(home,'station2grid','datasets','csv','csv_files','epa%s.csv'%(year))\n",
    "oneYear=pd.read_csv(csv_path)\n",
    "oneYear=pd.merge(left=oneYear,\n",
    "                 right=epaStationInfo[['SiteName','lat','lon']],\n",
    "                 left_on='station',\n",
    "                 right_on='SiteName',\n",
    "                 how='left')\n",
    "\n",
    "oneYear=oneYear[['dt','lat','lon','station','feature','value']]\n",
    "\n",
    "exclude_features = ['WD_HR', 'WS_HR']\n",
    "oneYear=oneYear[~oneYear.feature.isin(exclude_features)]\n",
    "\n",
    "# featureDic={'AMB_TEMP':'temperature', 'PM10':'pm10', 'PM2.5':'pm25', 'RH':'humidity'}\n",
    "oneYear=oneYear.replace(['PM2.5','PH_RAIN','RAIN_COND','AMB_TEMP'], \n",
    "                        ['pm25','PHRAIN','RAINCOND','AMBTEMP'])\n",
    "\n",
    "oneYear.head()"
   ]
  },
  {
   "cell_type": "code",
   "execution_count": null,
   "metadata": {
    "collapsed": true
   },
   "outputs": [],
   "source": [
    "oneYear.feature.unique()"
   ]
  },
  {
   "cell_type": "code",
   "execution_count": null,
   "metadata": {
    "collapsed": true
   },
   "outputs": [],
   "source": [
    "dts=oneYear.dt.unique()\n",
    "features=oneYear.feature.unique()"
   ]
  },
  {
   "cell_type": "code",
   "execution_count": null,
   "metadata": {
    "collapsed": true
   },
   "outputs": [],
   "source": [
    "len(dts), len(features)"
   ]
  },
  {
   "cell_type": "code",
   "execution_count": null,
   "metadata": {
    "collapsed": true,
    "scrolled": true
   },
   "outputs": [],
   "source": [
    "dt=dts[48]\n",
    "oneDt=oneYear[oneYear.dt==dt]\n",
    "oneDt.head()"
   ]
  },
  {
   "cell_type": "markdown",
   "metadata": {},
   "source": [
    "## not wind"
   ]
  },
  {
   "cell_type": "code",
   "execution_count": null,
   "metadata": {
    "collapsed": true
   },
   "outputs": [],
   "source": [
    "feature=features[10]\n",
    "oneDtFea=oneDt[oneDt.feature==feature]\n",
    "oneDtFea.head()"
   ]
  },
  {
   "cell_type": "code",
   "execution_count": null,
   "metadata": {
    "collapsed": true,
    "scrolled": true
   },
   "outputs": [],
   "source": [
    "oneDtFea.shape"
   ]
  },
  {
   "cell_type": "code",
   "execution_count": null,
   "metadata": {
    "collapsed": true,
    "scrolled": true
   },
   "outputs": [],
   "source": [
    "model = KnnModel()\n",
    "\n",
    "k=1\n",
    "weightKNN='distance'\n",
    "\n",
    "x_train=oneDtFea[['lat','lon']].values\n",
    "y_train=oneDtFea.value.values\n",
    "x_test=epaStationInfo[['lat','lon']].values\n",
    "\n",
    "y_test=model.get_value(k, weightKNN, x_train, y_train, x_test)\n",
    "y_test.shape"
   ]
  },
  {
   "cell_type": "markdown",
   "metadata": {},
   "source": [
    "## wind"
   ]
  },
  {
   "cell_type": "code",
   "execution_count": null,
   "metadata": {
    "collapsed": true
   },
   "outputs": [],
   "source": [
    "speed=oneDt[oneDt.feature=='WIND_SPEED']\n",
    "speed.head()"
   ]
  },
  {
   "cell_type": "code",
   "execution_count": null,
   "metadata": {
    "collapsed": true
   },
   "outputs": [],
   "source": [
    "direc=oneDt[oneDt.feature=='WIND_DIREC']\n",
    "direc.head()"
   ]
  },
  {
   "cell_type": "code",
   "execution_count": null,
   "metadata": {
    "collapsed": true,
    "scrolled": true
   },
   "outputs": [],
   "source": [
    "wind=pd.merge(left=speed,right=direc,on=['dt','lat','lon','station'],how='inner')\n",
    "wind['wind_cos']=wind.apply(lambda row: (row.value_x)*(np.cos(np.deg2rad(row.value_y))) ,axis=1)\n",
    "wind['wind_sin']=wind.apply(lambda row: (row.value_x)*(np.sin(np.deg2rad(row.value_y))) ,axis=1)\n",
    "\n",
    "print(wind.shape)\n",
    "wind.head()"
   ]
  },
  {
   "cell_type": "code",
   "execution_count": null,
   "metadata": {
    "collapsed": true,
    "scrolled": true
   },
   "outputs": [],
   "source": [
    "k=1\n",
    "weightKNN='distance'\n",
    "\n",
    "x_train=wind[['lat','lon']].values\n",
    "y_train=wind[['wind_cos','wind_sin']].values\n",
    "x_test=epaStationInfo[['lat','lon']].values\n",
    "\n",
    "y_test=model.get_value(k, weightKNN, x_train, y_train, x_test)\n",
    "y_test.shape"
   ]
  },
  {
   "cell_type": "code",
   "execution_count": null,
   "metadata": {
    "collapsed": true
   },
   "outputs": [],
   "source": [
    "features=[\n",
    "    'pm25', 'PM10', 'AMBTEMP', 'RH', 'CO', 'NO', 'NO2', 'NOx', 'O3', 'PHRAIN', \n",
    "    'RAINFALL', 'RAINCOND', 'SO2', 'CH4', 'NMHC', 'THC', 'UVB'\n",
    "]"
   ]
  },
  {
   "cell_type": "code",
   "execution_count": null,
   "metadata": {
    "collapsed": true,
    "scrolled": true
   },
   "outputs": [],
   "source": [
    "a=get_oneDtArr(oneDt,features)\n",
    "a.shape"
   ]
  },
  {
   "cell_type": "markdown",
   "metadata": {},
   "source": [
    "# script"
   ]
  },
  {
   "cell_type": "code",
   "execution_count": 28,
   "metadata": {
    "collapsed": true,
    "scrolled": true
   },
   "outputs": [],
   "source": [
    "model = KnnModel()\n",
    "epaStationInfo=pd.read_csv(os.path.join(home,'station2grid','datasets','info','epa-station-info.csv'))\n",
    "\n",
    "def get_oneYear(year):\n",
    "#     csv_path=os.path.join(home,'station2grid','datasets','csv','csv_flies','epa%s.csv'%(year))\n",
    "    csv_path=os.path.join(home,'station2grid','datasets','csv','csv_files','epa%s.csv'%(year))\n",
    "    oneYear=pd.read_csv(csv_path)\n",
    "    oneYear=pd.merge(left=oneYear,\n",
    "                     right=epaStationInfo[['SiteName','lat','lon']],\n",
    "                     left_on='station',\n",
    "                     right_on='SiteName',\n",
    "                     how='left')\n",
    "    oneYear=oneYear[['dt','lat','lon','station','feature','value']]\n",
    "    \n",
    "    exclude_features = ['WD_HR', 'WS_HR'] ###\n",
    "    oneYear=oneYear[~oneYear.feature.isin(exclude_features)]\n",
    "    oneYear=oneYear.replace(\n",
    "        ['PM2.5','PH_RAIN','RAIN_COND','AMB_TEMP'], \n",
    "        ['pm25','PHRAIN','RAINCOND','AMBTEMP'])\n",
    "\n",
    "    return oneYear\n",
    "\n",
    "def get_oneDtArr(oneDt,features):\n",
    "    oneDtArr=[]\n",
    "    for feature in features:\n",
    "        oneDtFea=oneDt[oneDt.feature==feature]\n",
    "        x_train=oneDtFea[['lat','lon']].values\n",
    "        y_train=oneDtFea.value.values\n",
    "        k,weightKNN=1,'distance'\n",
    "        x_test=epaStationInfo[['lat','lon']].values\n",
    "        y_test=model.get_value(k, weightKNN, x_train, y_train, x_test)\n",
    "        y_test=y_test.reshape(-1,1)\n",
    "        oneDtArr.append(y_test)\n",
    "    oneDtArr=np.concatenate(oneDtArr,axis=-1)    \n",
    "    \n",
    "    windArr=get_windArr(oneDt)\n",
    "    oneDtArr=np.concatenate([oneDtArr,windArr],axis=-1) \n",
    "    \n",
    "    oneDtArr=oneDtArr.reshape((1,)+oneDtArr.shape)\n",
    "    return oneDtArr\n",
    "\n",
    "def get_windArr(oneDt):\n",
    "    speed=oneDt[oneDt.feature=='WIND_SPEED']\n",
    "    direc=oneDt[oneDt.feature=='WIND_DIREC']\n",
    "    wind=pd.merge(left=speed,right=direc,on=['dt','lat','lon','station'],how='inner')\n",
    "    wind['wind_cos']=wind.apply(lambda row: (row.value_x)*(np.cos(np.deg2rad(row.value_y))) ,axis=1)\n",
    "    wind['wind_sin']=wind.apply(lambda row: (row.value_x)*(np.sin(np.deg2rad(row.value_y))) ,axis=1)\n",
    "    k=1\n",
    "    weightKNN='distance'\n",
    "    x_train=wind[['lat','lon']].values\n",
    "    y_train=wind[['wind_cos','wind_sin']].values\n",
    "    x_test=epaStationInfo[['lat','lon']].values\n",
    "    y_test=model.get_value(k, weightKNN, x_train, y_train, x_test)\n",
    "    return y_test\n",
    "\n",
    "def saveFeatures(features):\n",
    "    path=os.path.join(home,'station2grid','datasets','info','epa-features.csv')\n",
    "    dummy=pd.DataFrame({'feature':features})\n",
    "    dummy.to_csv(path)\n",
    "\n",
    "def get_allDtArr(oneYear):\n",
    "    dts=oneYear.dt.unique()\n",
    "    \n",
    "    features=[\n",
    "    'pm25', 'PM10', 'AMBTEMP', 'RH', 'CO', 'NO', 'NO2', 'NOx', 'O3', 'PHRAIN', \n",
    "    'RAINFALL', 'RAINCOND', 'SO2', 'CH4', 'NMHC', 'THC', 'UVB'\n",
    "    ]\n",
    "    \n",
    "    features_=features+['WINDCOS', 'WINDSIN']\n",
    "    saveFeatures(features_)\n",
    "    \n",
    "    allDtArr=[]\n",
    "    ######################################################################\n",
    "    for i,dt in enumerate(dts[:3]):\n",
    "        print(i,len(dts))\n",
    "        oneDt=oneYear[oneYear.dt==dt]\n",
    "        oneDtArr=get_oneDtArr(oneDt,features)\n",
    "        allDtArr.append(oneDtArr)\n",
    "    ######################################################################\n",
    "    allDtArr=np.concatenate(allDtArr,axis=0)   \n",
    "    return allDtArr\n",
    "   "
   ]
  },
  {
   "cell_type": "code",
   "execution_count": 29,
   "metadata": {
    "scrolled": true
   },
   "outputs": [
    {
     "name": "stdout",
     "output_type": "stream",
     "text": [
      "0 8760\n",
      "1 8760\n",
      "2 8760\n"
     ]
    },
    {
     "data": {
      "text/plain": [
       "(3, 73, 19)"
      ]
     },
     "execution_count": 29,
     "metadata": {},
     "output_type": "execute_result"
    }
   ],
   "source": [
    " \n",
    "oneYear=get_oneYear(2014)\n",
    "allDtArr=get_allDtArr(oneYear)\n",
    "allDtArr.shape"
   ]
  },
  {
   "cell_type": "code",
   "execution_count": 30,
   "metadata": {
    "collapsed": true,
    "scrolled": true
   },
   "outputs": [],
   "source": [
    "# allDtArr[0,:,-2:]"
   ]
  }
 ],
 "metadata": {
  "kernelspec": {
   "display_name": "Python 3",
   "language": "python",
   "name": "python3"
  },
  "language_info": {
   "codemirror_mode": {
    "name": "ipython",
    "version": 3
   },
   "file_extension": ".py",
   "mimetype": "text/x-python",
   "name": "python",
   "nbconvert_exporter": "python",
   "pygments_lexer": "ipython3",
   "version": "3.6.5"
  },
  "toc": {
   "base_numbering": 1,
   "nav_menu": {},
   "number_sections": true,
   "sideBar": true,
   "skip_h1_title": false,
   "title_cell": "Table of Contents",
   "title_sidebar": "Contents",
   "toc_cell": false,
   "toc_position": {},
   "toc_section_display": true,
   "toc_window_display": false
  }
 },
 "nbformat": 4,
 "nbformat_minor": 2
}
