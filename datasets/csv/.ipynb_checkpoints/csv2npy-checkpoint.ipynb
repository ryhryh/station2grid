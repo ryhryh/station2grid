{
 "cells": [
  {
   "cell_type": "code",
   "execution_count": 1,
   "metadata": {
    "collapsed": true
   },
   "outputs": [],
   "source": [
    "import pandas as pd\n",
    "import numpy as np\n",
    "import os\n"
   ]
  },
  {
   "cell_type": "markdown",
   "metadata": {},
   "source": [
    "# input csv"
   ]
  },
  {
   "cell_type": "code",
   "execution_count": 3,
   "metadata": {
    "scrolled": true
   },
   "outputs": [
    {
     "name": "stdout",
     "output_type": "stream",
     "text": [
      "(2160819, 6)\n"
     ]
    },
    {
     "data": {
      "text/html": [
       "<div>\n",
       "<style scoped>\n",
       "    .dataframe tbody tr th:only-of-type {\n",
       "        vertical-align: middle;\n",
       "    }\n",
       "\n",
       "    .dataframe tbody tr th {\n",
       "        vertical-align: top;\n",
       "    }\n",
       "\n",
       "    .dataframe thead th {\n",
       "        text-align: right;\n",
       "    }\n",
       "</style>\n",
       "<table border=\"1\" class=\"dataframe\">\n",
       "  <thead>\n",
       "    <tr style=\"text-align: right;\">\n",
       "      <th></th>\n",
       "      <th>dt</th>\n",
       "      <th>lat</th>\n",
       "      <th>lon</th>\n",
       "      <th>pm25</th>\n",
       "      <th>pm10</th>\n",
       "      <th>temperature</th>\n",
       "    </tr>\n",
       "  </thead>\n",
       "  <tbody>\n",
       "    <tr>\n",
       "      <th>0</th>\n",
       "      <td>2015-01-01 11:00:00</td>\n",
       "      <td>25.3</td>\n",
       "      <td>120.000</td>\n",
       "      <td>67.607</td>\n",
       "      <td>99.278</td>\n",
       "      <td>12.315</td>\n",
       "    </tr>\n",
       "    <tr>\n",
       "      <th>1</th>\n",
       "      <td>2015-01-01 11:00:00</td>\n",
       "      <td>25.3</td>\n",
       "      <td>120.125</td>\n",
       "      <td>62.508</td>\n",
       "      <td>89.554</td>\n",
       "      <td>12.166</td>\n",
       "    </tr>\n",
       "    <tr>\n",
       "      <th>2</th>\n",
       "      <td>2015-01-01 11:00:00</td>\n",
       "      <td>25.3</td>\n",
       "      <td>120.250</td>\n",
       "      <td>57.408</td>\n",
       "      <td>79.822</td>\n",
       "      <td>12.016</td>\n",
       "    </tr>\n",
       "    <tr>\n",
       "      <th>3</th>\n",
       "      <td>2015-01-01 11:00:00</td>\n",
       "      <td>25.3</td>\n",
       "      <td>120.375</td>\n",
       "      <td>53.502</td>\n",
       "      <td>73.968</td>\n",
       "      <td>11.950</td>\n",
       "    </tr>\n",
       "    <tr>\n",
       "      <th>4</th>\n",
       "      <td>2015-01-01 11:00:00</td>\n",
       "      <td>25.3</td>\n",
       "      <td>120.500</td>\n",
       "      <td>51.960</td>\n",
       "      <td>75.797</td>\n",
       "      <td>12.051</td>\n",
       "    </tr>\n",
       "  </tbody>\n",
       "</table>\n",
       "</div>"
      ],
      "text/plain": [
       "                    dt   lat      lon    pm25    pm10  temperature\n",
       "0  2015-01-01 11:00:00  25.3  120.000  67.607  99.278       12.315\n",
       "1  2015-01-01 11:00:00  25.3  120.125  62.508  89.554       12.166\n",
       "2  2015-01-01 11:00:00  25.3  120.250  57.408  79.822       12.016\n",
       "3  2015-01-01 11:00:00  25.3  120.375  53.502  73.968       11.950\n",
       "4  2015-01-01 11:00:00  25.3  120.500  51.960  75.797       12.051"
      ]
     },
     "execution_count": 3,
     "metadata": {},
     "output_type": "execute_result"
    }
   ],
   "source": [
    "csv_path=os.path.join(os.path.expanduser(\"~\"),'station2grid','datasets','csv','sat.csv')\n",
    "df=pd.read_csv(csv_path)\n",
    "print(df.shape)\n",
    "df.head()"
   ]
  },
  {
   "cell_type": "code",
   "execution_count": null,
   "metadata": {
    "collapsed": true
   },
   "outputs": [],
   "source": [
    "csv_path"
   ]
  },
  {
   "cell_type": "code",
   "execution_count": null,
   "metadata": {
    "collapsed": true
   },
   "outputs": [],
   "source": [
    "domain=csv_path.split('/')[-1].split('.')[0]\n",
    "domain"
   ]
  },
  {
   "cell_type": "code",
   "execution_count": null,
   "metadata": {
    "collapsed": true,
    "scrolled": true
   },
   "outputs": [],
   "source": [
    "dts=df.dt.unique()"
   ]
  },
  {
   "cell_type": "code",
   "execution_count": null,
   "metadata": {
    "collapsed": true,
    "scrolled": true
   },
   "outputs": [],
   "source": [
    "one_dt=df[df.dt==dts[-10]]\n",
    "one_dt.head()"
   ]
  },
  {
   "cell_type": "markdown",
   "metadata": {},
   "source": [
    "# domain features"
   ]
  },
  {
   "cell_type": "code",
   "execution_count": null,
   "metadata": {
    "collapsed": true
   },
   "outputs": [],
   "source": [
    "features=df.columns[3:].tolist()\n",
    "features"
   ]
  },
  {
   "cell_type": "code",
   "execution_count": null,
   "metadata": {
    "collapsed": true
   },
   "outputs": [],
   "source": [
    "path=os.path.join('..','info','%s-feature.csv'%(domain))\n",
    "dummy=pd.DataFrame({'feature':features})\n",
    "dummy.to_csv(path)"
   ]
  },
  {
   "cell_type": "markdown",
   "metadata": {},
   "source": [
    "# sources2grid by KNN, one dt"
   ]
  },
  {
   "cell_type": "code",
   "execution_count": 5,
   "metadata": {
    "collapsed": true
   },
   "outputs": [],
   "source": [
    "import sys \n",
    "sys.path.append(os.path.join(os.path.expanduser(\"~\"),'station2grid'))\n",
    "from tools import CustomKNN\n"
   ]
  },
  {
   "cell_type": "code",
   "execution_count": null,
   "metadata": {
    "collapsed": true
   },
   "outputs": [],
   "source": [
    "customKNN=CustomKNN()"
   ]
  },
  {
   "cell_type": "code",
   "execution_count": null,
   "metadata": {
    "collapsed": true,
    "scrolled": true
   },
   "outputs": [],
   "source": [
    "x_train=one_dt[['lat','lon']]\n",
    "y_train=one_dt.iloc[:,3:]\n",
    "x_train.shape,y_train.shape"
   ]
  },
  {
   "cell_type": "code",
   "execution_count": null,
   "metadata": {
    "collapsed": true
   },
   "outputs": [],
   "source": []
  },
  {
   "cell_type": "code",
   "execution_count": null,
   "metadata": {
    "collapsed": true
   },
   "outputs": [],
   "source": [
    "k,weightKNN=3,'distance'\n",
    "knn_grid=customKNN.get_knn_grid(k,weightKNN,x_train,y_train)\n",
    "knn_grid.shape"
   ]
  },
  {
   "cell_type": "code",
   "execution_count": null,
   "metadata": {
    "collapsed": true
   },
   "outputs": [],
   "source": [
    "grid_pm25=knn_grid[...,:1]\n",
    "grid_pm25.shape"
   ]
  },
  {
   "cell_type": "code",
   "execution_count": null,
   "metadata": {
    "collapsed": true
   },
   "outputs": [],
   "source": []
  },
  {
   "cell_type": "markdown",
   "metadata": {},
   "source": [
    "# grid2station, one dt"
   ]
  },
  {
   "cell_type": "code",
   "execution_count": null,
   "metadata": {
    "collapsed": true
   },
   "outputs": [],
   "source": [
    "epaStationInfo=pd.read_csv(os.path.join(os.path.expanduser(\"~\"),'station2grid','datasets','info','epa-station-info.csv'))\n",
    "epaStationInfo.head(2)"
   ]
  },
  {
   "cell_type": "code",
   "execution_count": null,
   "metadata": {
    "collapsed": true,
    "scrolled": true
   },
   "outputs": [],
   "source": [
    "station=knn_grid[:,epaStationInfo.row,epaStationInfo.col,:]\n",
    "station.shape"
   ]
  },
  {
   "cell_type": "markdown",
   "metadata": {},
   "source": [
    "# grid2station, one month"
   ]
  },
  {
   "cell_type": "code",
   "execution_count": null,
   "metadata": {
    "collapsed": true,
    "scrolled": true
   },
   "outputs": [],
   "source": [
    "single='domain_%s-k_%s-weightKNN_%s'%(domain,k,weightKNN)\n",
    "single"
   ]
  },
  {
   "cell_type": "code",
   "execution_count": null,
   "metadata": {
    "collapsed": true
   },
   "outputs": [],
   "source": [
    "grid_dir=os.path.join(os.path.expanduser(\"~\"),'station2grid','datasets','npy',domain,single,'grid')\n",
    "station_dir=os.path.join(os.path.expanduser(\"~\"),'station2grid','datasets','npy',domain,single,'station')\n",
    "\n",
    "grid_dir,station_dir\n"
   ]
  },
  {
   "cell_type": "code",
   "execution_count": null,
   "metadata": {
    "collapsed": true
   },
   "outputs": [],
   "source": [
    "os.makedirs(grid_dir,exist_ok=True)\n",
    "os.makedirs(station_dir,exist_ok=True)\n"
   ]
  },
  {
   "cell_type": "code",
   "execution_count": null,
   "metadata": {
    "collapsed": true
   },
   "outputs": [],
   "source": [
    "for i,dt in enumerate(dts[:2]):\n",
    "    one_dt=df[df.dt==dt]\n",
    "    \n",
    "    x_train=one_dt[['lat','lon']]\n",
    "    y_train=one_dt.iloc[:,3:]\n",
    "    k,weightKNN=3,'distance'\n",
    "    \n",
    "    knn_grid=customKNN.get_knn_grid(k,weightKNN,x_train,y_train)\n",
    "    \n",
    "    grid_pm25=knn_grid[...,:1]\n",
    "    station=knn_grid[:,epaStationInfo.row,epaStationInfo.col,:]\n",
    "    \n",
    "    dt_str=str(dt)[:19]\n",
    "    np.save(os.path.join(grid_dir,dt_str+'_grid'),grid_pm25)\n",
    "    np.save(os.path.join(station_dir,dt_str+'_station'),station)\n"
   ]
  },
  {
   "cell_type": "code",
   "execution_count": null,
   "metadata": {
    "collapsed": true
   },
   "outputs": [],
   "source": []
  },
  {
   "cell_type": "markdown",
   "metadata": {},
   "source": [
    "# script"
   ]
  },
  {
   "cell_type": "code",
   "execution_count": 22,
   "metadata": {
    "collapsed": true
   },
   "outputs": [],
   "source": [
    "class Csv2npy:\n",
    "    def __init__(self,csv_path,k,weightKNN,threshold):\n",
    "        self.home=os.path.expanduser(\"~\")\n",
    "        self.epaStationInfo=pd.read_csv(os.path.join(self.home,'station2grid','datasets','info','epa-station-info.csv'))\n",
    "        self.csv_path=csv_path\n",
    "        self.domain=csv_path.split('/')[-1].split('.')[0]\n",
    "        self.single='domain_%s-k_%s-weightKNN_%s'%(self.domain,k,weightKNN)\n",
    "        self.k=k\n",
    "        self.weightKNN=weightKNN\n",
    "        self.customKNN=CustomKNN()\n",
    "        self.threshold=threshold\n",
    "        \n",
    "    def saveFeatures(self,features):\n",
    "        path=os.path.join(self.home,'station2grid','datasets','info','%s-features.csv'%(self.domain))\n",
    "        dummy=pd.DataFrame({'feature':features})\n",
    "        dummy.to_csv(path)\n",
    "    \n",
    "    def get_grid_station(self,one_dt,k,weightKNN):\n",
    "        customKNN=self.customKNN\n",
    "        \n",
    "        x_train=one_dt[['lat','lon']]\n",
    "        y_train=one_dt.iloc[:,3:]\n",
    "        knn_grid=customKNN.get_knn_grid(k,weightKNN,x_train,y_train)\n",
    "\n",
    "        grid_pm25=knn_grid[...,:1]\n",
    "        station=knn_grid[:,self.epaStationInfo.row,self.epaStationInfo.col,:]\n",
    "        return grid_pm25,station\n",
    "\n",
    "    def alldt2npy(self):\n",
    "        domain=self.domain\n",
    "        home=self.home\n",
    "        single=self.single\n",
    "        \n",
    "        df=pd.read_csv(self.csv_path)\n",
    "        \n",
    "        # save features for single domain\n",
    "        features=df.columns[3:].tolist()\n",
    "        self.saveFeatures(features)\n",
    "\n",
    "        # make dir for (grid,station)\n",
    "        grid_dir=os.path.join(home,'station2grid','datasets','npy',domain,single,'grid')\n",
    "        station_dir=os.path.join(home,'station2grid','datasets','npy',domain,single,'station')\n",
    "        os.makedirs(grid_dir,exist_ok=True)\n",
    "        os.makedirs(station_dir,exist_ok=True)\n",
    "        \n",
    "        dts=df.dt.unique()\n",
    "        for dt in dts[:20]:\n",
    "            one_dt=df[df.dt==dt]\n",
    "            \n",
    "            # if number of sources < threshold, pass\n",
    "            print(dt,len(one_dt))\n",
    "            if len(one_dt)<self.threshold: \n",
    "                print('pass')\n",
    "                continue\n",
    "                \n",
    "            grid_pm25,station=self.get_grid_station(one_dt,self.k,self.weightKNN)\n",
    "            # save npy (grid,station)\n",
    "            dt_str=str(dt)[:19]\n",
    "            np.save(os.path.join(grid_dir,dt_str+'_grid'),grid_pm25)\n",
    "            np.save(os.path.join(station_dir,dt_str+'_station'),station)\n"
   ]
  },
  {
   "cell_type": "code",
   "execution_count": 23,
   "metadata": {
    "collapsed": true
   },
   "outputs": [],
   "source": [
    "csv_path=os.path.join('..','csv','air.csv')\n",
    "k,weightKNN,threshold=3,'distance',308"
   ]
  },
  {
   "cell_type": "code",
   "execution_count": 24,
   "metadata": {
    "scrolled": true
   },
   "outputs": [
    {
     "name": "stdout",
     "output_type": "stream",
     "text": [
      "2017-01-01 08:00:00 307\n",
      "pass\n",
      "2017-01-01 08:30:00 312\n",
      "2017-01-01 09:00:00 312\n",
      "2017-01-01 09:30:00 310\n",
      "2017-01-01 10:00:00 313\n",
      "2017-01-01 10:30:00 311\n",
      "2017-01-01 11:00:00 312\n",
      "2017-01-01 11:30:00 313\n",
      "2017-01-01 12:00:00 311\n",
      "2017-01-01 12:30:00 308\n",
      "2017-01-01 13:00:00 309\n",
      "2017-01-01 13:30:00 311\n",
      "2017-01-01 14:00:00 310\n",
      "2017-01-01 14:30:00 309\n",
      "2017-01-01 15:00:00 309\n",
      "2017-01-01 15:30:00 307\n",
      "pass\n",
      "2017-01-01 16:00:00 309\n",
      "2017-01-01 16:30:00 309\n",
      "2017-01-01 17:00:00 311\n",
      "2017-01-01 17:30:00 312\n"
     ]
    }
   ],
   "source": [
    "csv2npy=Csv2npy(csv_path,k,weightKNN,threshold)\n",
    "csv2npy.alldt2npy()"
   ]
  },
  {
   "cell_type": "code",
   "execution_count": null,
   "metadata": {
    "collapsed": true
   },
   "outputs": [],
   "source": []
  },
  {
   "cell_type": "code",
   "execution_count": null,
   "metadata": {
    "collapsed": true
   },
   "outputs": [],
   "source": []
  },
  {
   "cell_type": "code",
   "execution_count": null,
   "metadata": {
    "collapsed": true
   },
   "outputs": [],
   "source": []
  },
  {
   "cell_type": "code",
   "execution_count": null,
   "metadata": {
    "collapsed": true
   },
   "outputs": [],
   "source": []
  },
  {
   "cell_type": "code",
   "execution_count": null,
   "metadata": {
    "collapsed": true
   },
   "outputs": [],
   "source": []
  },
  {
   "cell_type": "code",
   "execution_count": null,
   "metadata": {
    "collapsed": true
   },
   "outputs": [],
   "source": []
  }
 ],
 "metadata": {
  "kernelspec": {
   "display_name": "Python 3",
   "language": "python",
   "name": "python3"
  },
  "language_info": {
   "codemirror_mode": {
    "name": "ipython",
    "version": 3
   },
   "file_extension": ".py",
   "mimetype": "text/x-python",
   "name": "python",
   "nbconvert_exporter": "python",
   "pygments_lexer": "ipython3",
   "version": "3.6.5"
  },
  "toc": {
   "base_numbering": 1,
   "nav_menu": {},
   "number_sections": true,
   "sideBar": true,
   "skip_h1_title": false,
   "title_cell": "Table of Contents",
   "title_sidebar": "Contents",
   "toc_cell": false,
   "toc_position": {},
   "toc_section_display": true,
   "toc_window_display": false
  }
 },
 "nbformat": 4,
 "nbformat_minor": 2
}
