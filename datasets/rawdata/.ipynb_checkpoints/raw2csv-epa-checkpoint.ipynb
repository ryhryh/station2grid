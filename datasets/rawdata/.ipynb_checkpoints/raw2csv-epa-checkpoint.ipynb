{
 "cells": [
  {
   "cell_type": "code",
   "execution_count": 1,
   "metadata": {
    "collapsed": true
   },
   "outputs": [],
   "source": [
    "import pandas as pd\n",
    "import os\n",
    "import numpy as np\n",
    "from glob import glob\n",
    "home=os.path.expanduser(\"~\")"
   ]
  },
  {
   "cell_type": "markdown",
   "metadata": {},
   "source": [
    "# input rawdata"
   ]
  },
  {
   "cell_type": "code",
   "execution_count": null,
   "metadata": {
    "collapsed": true,
    "scrolled": true
   },
   "outputs": [],
   "source": [
    "year=2017\n",
    "exls=glob(os.path.join(home,'station2grid','datasets','rawdata','epa','%s*'%(year-1911),'*','*xls'))\n",
    "exl=exls[2]\n",
    "exl"
   ]
  },
  {
   "cell_type": "code",
   "execution_count": null,
   "metadata": {
    "collapsed": true
   },
   "outputs": [],
   "source": [
    "oneSite=pd.read_excel(exl,encoding='big5')\n",
    "oneSite.head()"
   ]
  },
  {
   "cell_type": "code",
   "execution_count": null,
   "metadata": {
    "collapsed": true
   },
   "outputs": [],
   "source": []
  },
  {
   "cell_type": "code",
   "execution_count": null,
   "metadata": {
    "collapsed": true
   },
   "outputs": [],
   "source": []
  },
  {
   "cell_type": "markdown",
   "metadata": {},
   "source": [
    "# parse data"
   ]
  },
  {
   "cell_type": "code",
   "execution_count": null,
   "metadata": {
    "collapsed": true
   },
   "outputs": [],
   "source": [
    "station=oneSite.iloc[0,1]\n",
    "station"
   ]
  },
  {
   "cell_type": "code",
   "execution_count": null,
   "metadata": {
    "collapsed": true,
    "scrolled": true
   },
   "outputs": [],
   "source": [
    "i=0\n",
    "row=oneSite.iloc[i:i+1,:]\n",
    "row"
   ]
  },
  {
   "cell_type": "code",
   "execution_count": null,
   "metadata": {
    "collapsed": true
   },
   "outputs": [],
   "source": [
    "date=row.iloc[0,0]\n",
    "date"
   ]
  },
  {
   "cell_type": "code",
   "execution_count": null,
   "metadata": {
    "collapsed": true
   },
   "outputs": [],
   "source": [
    "feature=row.iloc[0,2]\n",
    "feature"
   ]
  },
  {
   "cell_type": "code",
   "execution_count": null,
   "metadata": {
    "collapsed": true
   },
   "outputs": [],
   "source": [
    "vals=row.iloc[0,3:].values\n",
    "vals"
   ]
  },
  {
   "cell_type": "code",
   "execution_count": null,
   "metadata": {
    "collapsed": true,
    "scrolled": true
   },
   "outputs": [],
   "source": [
    "block=pd.DataFrame()\n",
    "block['dt']=pd.date_range(start=date, periods=24,freq='H')\n",
    "block['value']=vals\n",
    "block['station']=station\n",
    "block['feature']=feature\n",
    "block=block[['dt','station','feature','value']]\n",
    "block.head()"
   ]
  },
  {
   "cell_type": "code",
   "execution_count": null,
   "metadata": {
    "collapsed": true
   },
   "outputs": [],
   "source": []
  },
  {
   "cell_type": "code",
   "execution_count": 19,
   "metadata": {
    "collapsed": true,
    "scrolled": true
   },
   "outputs": [],
   "source": [
    "def row2block(row,includeCols,excludeSites):\n",
    "    feature=row.iloc[0,2]\n",
    "    station=row.iloc[0,1]\n",
    "    if feature not in includeCols: return \n",
    "    if station in excludeSites: return \n",
    "    \n",
    "    date=row.iloc[0,0]\n",
    "    vals=row.iloc[0,3:].values\n",
    "    \n",
    "    block=pd.DataFrame()\n",
    "    block['dt']=pd.date_range(start=date, periods=24,freq='H')\n",
    "    block['value']=vals\n",
    "    block['station']=station\n",
    "    block['feature']=feature\n",
    "    block=block[['dt','station','feature','value']]\n",
    "    return block\n",
    "\n",
    "# block=row2block(row,['WS_HR'])\n",
    "# block.head()"
   ]
  },
  {
   "cell_type": "code",
   "execution_count": null,
   "metadata": {
    "collapsed": true
   },
   "outputs": [],
   "source": []
  },
  {
   "cell_type": "markdown",
   "metadata": {},
   "source": [
    "# script"
   ]
  },
  {
   "cell_type": "code",
   "execution_count": 29,
   "metadata": {
    "collapsed": true,
    "scrolled": true
   },
   "outputs": [],
   "source": [
    "def process_value(x):\n",
    "    if x=='NR': return 0\n",
    "    try: return float(x)\n",
    "    except: return np.nan\n",
    "    \n",
    "def get_oneSite(exl):\n",
    "    includeCols=['PM2.5','PM10','AMB_TEMP','RH']\n",
    "    excludeSites=['富貴角','馬公','馬祖','金門']\n",
    "    oneSite=pd.read_excel(exl,encoding='big5')\n",
    "    \n",
    "    oneSite_=pd.DataFrame()\n",
    "    for i in range(len(oneSite))[:]:\n",
    "        row=oneSite.iloc[i:i+1,:]\n",
    "        block=row2block(row,includeCols,excludeSites)\n",
    "        oneSite_=oneSite_.append(block)\n",
    "    return oneSite_\n",
    "    \n",
    "def get_oneYear(year):\n",
    "    exls=glob(os.path.join(home,'station2grid','datasets','rawdata','epa','%s*'%(year-1911),'*','*xls'))\n",
    "    oneYear=pd.DataFrame()\n",
    "    for i,exl in enumerate(exls[:2]):\n",
    "#         print(i,len(exls))\n",
    "        oneSite=get_oneSite(exl)\n",
    "        oneYear=oneYear.append(oneSite)\n",
    "        oneYear['value']=oneYear.value.apply(process_value)\n",
    "    return oneYear\n"
   ]
  },
  {
   "cell_type": "code",
   "execution_count": 36,
   "metadata": {},
   "outputs": [
    {
     "data": {
      "text/html": [
       "<div>\n",
       "<style scoped>\n",
       "    .dataframe tbody tr th:only-of-type {\n",
       "        vertical-align: middle;\n",
       "    }\n",
       "\n",
       "    .dataframe tbody tr th {\n",
       "        vertical-align: top;\n",
       "    }\n",
       "\n",
       "    .dataframe thead th {\n",
       "        text-align: right;\n",
       "    }\n",
       "</style>\n",
       "<table border=\"1\" class=\"dataframe\">\n",
       "  <thead>\n",
       "    <tr style=\"text-align: right;\">\n",
       "      <th></th>\n",
       "      <th>dt</th>\n",
       "      <th>station</th>\n",
       "      <th>feature</th>\n",
       "      <th>value</th>\n",
       "    </tr>\n",
       "  </thead>\n",
       "  <tbody>\n",
       "    <tr>\n",
       "      <th>0</th>\n",
       "      <td>2014-01-01 00:00:00</td>\n",
       "      <td>臺東</td>\n",
       "      <td>AMB_TEMP</td>\n",
       "      <td>18.0</td>\n",
       "    </tr>\n",
       "    <tr>\n",
       "      <th>1</th>\n",
       "      <td>2014-01-01 01:00:00</td>\n",
       "      <td>臺東</td>\n",
       "      <td>AMB_TEMP</td>\n",
       "      <td>18.0</td>\n",
       "    </tr>\n",
       "    <tr>\n",
       "      <th>2</th>\n",
       "      <td>2014-01-01 02:00:00</td>\n",
       "      <td>臺東</td>\n",
       "      <td>AMB_TEMP</td>\n",
       "      <td>18.0</td>\n",
       "    </tr>\n",
       "    <tr>\n",
       "      <th>3</th>\n",
       "      <td>2014-01-01 03:00:00</td>\n",
       "      <td>臺東</td>\n",
       "      <td>AMB_TEMP</td>\n",
       "      <td>18.0</td>\n",
       "    </tr>\n",
       "    <tr>\n",
       "      <th>4</th>\n",
       "      <td>2014-01-01 04:00:00</td>\n",
       "      <td>臺東</td>\n",
       "      <td>AMB_TEMP</td>\n",
       "      <td>18.0</td>\n",
       "    </tr>\n",
       "  </tbody>\n",
       "</table>\n",
       "</div>"
      ],
      "text/plain": [
       "                   dt station   feature  value\n",
       "0 2014-01-01 00:00:00      臺東  AMB_TEMP   18.0\n",
       "1 2014-01-01 01:00:00      臺東  AMB_TEMP   18.0\n",
       "2 2014-01-01 02:00:00      臺東  AMB_TEMP   18.0\n",
       "3 2014-01-01 03:00:00      臺東  AMB_TEMP   18.0\n",
       "4 2014-01-01 04:00:00      臺東  AMB_TEMP   18.0"
      ]
     },
     "execution_count": 36,
     "metadata": {},
     "output_type": "execute_result"
    }
   ],
   "source": [
    "oneYear=get_oneYear(2014)\n",
    "oneYear.head()"
   ]
  },
  {
   "cell_type": "code",
   "execution_count": 41,
   "metadata": {
    "scrolled": true
   },
   "outputs": [],
   "source": [
    "oneYear=oneYear.dropna()"
   ]
  },
  {
   "cell_type": "code",
   "execution_count": 46,
   "metadata": {},
   "outputs": [
    {
     "data": {
      "text/html": [
       "<div>\n",
       "<style scoped>\n",
       "    .dataframe tbody tr th:only-of-type {\n",
       "        vertical-align: middle;\n",
       "    }\n",
       "\n",
       "    .dataframe tbody tr th {\n",
       "        vertical-align: top;\n",
       "    }\n",
       "\n",
       "    .dataframe thead th {\n",
       "        text-align: right;\n",
       "    }\n",
       "</style>\n",
       "<table border=\"1\" class=\"dataframe\">\n",
       "  <thead>\n",
       "    <tr style=\"text-align: right;\">\n",
       "      <th></th>\n",
       "      <th>dt</th>\n",
       "      <th>station</th>\n",
       "      <th>feature</th>\n",
       "      <th>value</th>\n",
       "    </tr>\n",
       "  </thead>\n",
       "  <tbody>\n",
       "  </tbody>\n",
       "</table>\n",
       "</div>"
      ],
      "text/plain": [
       "Empty DataFrame\n",
       "Columns: [dt, station, feature, value]\n",
       "Index: []"
      ]
     },
     "execution_count": 46,
     "metadata": {},
     "output_type": "execute_result"
    }
   ],
   "source": [
    "\n",
    "oneYear[oneYear.value.isna()]"
   ]
  },
  {
   "cell_type": "code",
   "execution_count": 47,
   "metadata": {},
   "outputs": [
    {
     "data": {
      "text/plain": [
       "18.0"
      ]
     },
     "execution_count": 47,
     "metadata": {},
     "output_type": "execute_result"
    }
   ],
   "source": [
    "oneYear.iloc[0,3]"
   ]
  }
 ],
 "metadata": {
  "kernelspec": {
   "display_name": "Python 3",
   "language": "python",
   "name": "python3"
  },
  "language_info": {
   "codemirror_mode": {
    "name": "ipython",
    "version": 3
   },
   "file_extension": ".py",
   "mimetype": "text/x-python",
   "name": "python",
   "nbconvert_exporter": "python",
   "pygments_lexer": "ipython3",
   "version": "3.6.5"
  },
  "toc": {
   "base_numbering": 1,
   "nav_menu": {},
   "number_sections": true,
   "sideBar": true,
   "skip_h1_title": false,
   "title_cell": "Table of Contents",
   "title_sidebar": "Contents",
   "toc_cell": false,
   "toc_position": {},
   "toc_section_display": true,
   "toc_window_display": false
  }
 },
 "nbformat": 4,
 "nbformat_minor": 2
}
