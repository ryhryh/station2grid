{
 "cells": [
  {
   "cell_type": "markdown",
   "metadata": {},
   "source": [
    "https://github.com/ecmwf/ecmwf-api-client\n",
    "\n",
    "https://api.ecmwf.int/v1/key/\n",
    "\n",
    "https://apps.ecmwf.int/datasets/data/cams-nrealtime/levtype=sfc/"
   ]
  },
  {
   "cell_type": "code",
   "execution_count": 1,
   "metadata": {
    "collapsed": true
   },
   "outputs": [],
   "source": [
    "from ecmwfapi import ECMWFDataServer\n",
    "from calendar import monthrange"
   ]
  },
  {
   "cell_type": "code",
   "execution_count": 2,
   "metadata": {
    "scrolled": true
   },
   "outputs": [
    {
     "data": {
      "text/plain": [
       "'2019-02-01/to/2019-02-28'"
      ]
     },
     "execution_count": 2,
     "metadata": {},
     "output_type": "execute_result"
    }
   ],
   "source": [
    "def get_date(year,month):\n",
    "    lastday=monthrange(year, month)[-1]\n",
    "    start='%s-%02d-01'%(year,month)\n",
    "    end='%s-%02d-%s'%(year,month,lastday)\n",
    "    date=\"%s/to/%s\"%(start,end)\n",
    "    return date\n",
    "\n",
    "year,month=2019,2\n",
    "get_date(year,month)"
   ]
  },
  {
   "cell_type": "code",
   "execution_count": 15,
   "metadata": {
    "collapsed": true,
    "scrolled": true
   },
   "outputs": [],
   "source": [
    "def get_satellite_data(year,month):  \n",
    "    time = \"00:00:00\" if year in [2015,2016] else \"00:00:00/12:00:00\"\n",
    "    \n",
    "    area_n = 25.4\n",
    "    area_s = 21.8\n",
    "    area_e = 122\n",
    "    area_w = 120\n",
    "    latlon = \"%s/%s/%s/%s\"%(area_n,area_w,area_s,area_e),\n",
    "    \n",
    "    file_path = '%s_%s.nc2'%(year,month)\n",
    "    \n",
    "    date = get_date(year,month)\n",
    "    print(file_path,date,latlon,time)\n",
    "    server = ECMWFDataServer()\n",
    "    server.retrieve({\n",
    "        \"date\": date,\n",
    "        \"time\": time,\n",
    "        \"area\": latlon,\n",
    "        \"target\": file_path,\n",
    "        \"param\": \"73.210/74.210/167.128\", # pm25/pm10/temperature\n",
    "        \"step\": \"3/6/9/12\",\n",
    "        \"grid\": \"0.125/0.125\",\n",
    "        'format' : \"netcdf\",\n",
    "        \"class\": \"mc\",\n",
    "        \"dataset\": \"cams_nrealtime\",\n",
    "        \"expver\": \"0001\",\n",
    "        \"levtype\": \"sfc\",\n",
    "        \"stream\": \"oper\",\n",
    "        \"type\": \"fc\",\n",
    "    })"
   ]
  },
  {
   "cell_type": "code",
   "execution_count": 16,
   "metadata": {
    "scrolled": true
   },
   "outputs": [
    {
     "name": "stdout",
     "output_type": "stream",
     "text": [
      "2018_2.nc2 2018-02-01/to/2018-02-28 ('25.4/120/21.8/122',) 00:00:00/12:00:00\n",
      "2020-03-27 15:55:56 ECMWF API python library 1.5.0\n",
      "2020-03-27 15:55:56 ECMWF API at https://api.ecmwf.int/v1\n",
      "2020-03-27 15:55:57 Welcome h ry\n",
      "2020-03-27 15:55:58 In case of problems, please check https://confluence.ecmwf.int/display/WEBAPI/Web+API+FAQ or contact servicedesk@ecmwf.int\n",
      "2020-03-27 15:56:00 Request submitted\n",
      "2020-03-27 15:56:00 Request id: 5e7db18f87e11c2f61af28aa\n",
      "2020-03-27 15:56:00 Request is submitted\n",
      "2020-03-27 15:56:02 Request is queued\n",
      "Calling 'nice mars /tmp/48/33/tmp-_marsWPtUQl.req'\n",
      "mars - WARN -\n",
      "mars - WARN - From 29 January 2019 10AM (UTC) MARS uses the interpolation\n",
      "mars - WARN - provided by the MIR library. For more details, see\n",
      "mars - WARN - https://confluence.ecmwf.int/display/UDOC/MARS+interpolation+with+MIR\n",
      "mars - WARN -\n",
      "PPDIR is /var/tmp/ppdir/x86_64\n",
      "mars - INFO   - 20200327.075607 - Welcome to MARS\n",
      "mars - INFO   - 20200327.075607 - MARS Client bundle version: 6.27.7.1\n",
      "mars - INFO   - 20200327.075607 - MARS Client package version: 6.27.7\n",
      "mars - INFO   - 20200327.075607 - MARS Client build stamp: 20200203131623\n",
      "mars - INFO   - 20200327.075607 - MIR version: 1.4.4\n",
      "mars - INFO   - 20200327.075607 - Using ecCodes version 2.16.0\n",
      "mars - INFO   - 20200327.075607 - Using odb_api version: 0.15.11 (file format version: 0.5)\n",
      "mars - INFO   - 20200327.075607 - Using FDB5 version: 5.5.8\n",
      "mars - INFO   - 20200327.075607 - Maximum retrieval size is 30.00 G\n",
      "retrieve,stream=oper,area=25.4/120/21.8/122,levtype=sfc,param=73.210/74.210/167.128,padding=0,step=3/6/9/12,grid=0.125/0.125,expver=0001,time=00:00:00/12:00:00,date=2018-02-01/to/2018-02-28,type=fc,class=mcmars - INFO   - 20200327.075607 - Automatic split by date is on\n",
      "\n",
      "mars - INFO   - 20200327.075607 - Processing request 1\n",
      "\n",
      "RETRIEVE,\n",
      "    CLASS      = MC,\n",
      "    TYPE       = FC,\n",
      "    STREAM     = OPER,\n",
      "    EXPVER     = 0001,\n",
      "    REPRES     = SH,\n",
      "    LEVTYPE    = SFC,\n",
      "    PARAM      = 73.210/74.210/167.128,\n",
      "    TIME       = 0000/1200,\n",
      "    STEP       = 3/6/9/12,\n",
      "    DOMAIN     = G,\n",
      "    RESOL      = AUTO,\n",
      "    AREA       = 25.4/120/21.8/122,\n",
      "    GRID       = 0.125/0.125,\n",
      "    PADDING    = 0,\n",
      "    DATE       = 20180201/20180202/20180203/20180204/20180205/20180206/20180207/20180208/20180209/20180210/20180211/20180212/20180213/20180214/20180215/20180216/20180217/20180218/20180219/20180220/20180221/20180222/20180223/20180224/20180225/20180226/20180227/20180228\n",
      "\n",
      "mars - INFO   - 20200327.075607 - Web API request id: 5e7db18f87e11c2f61af28aa\n",
      "mars - INFO   - 20200327.075607 - Requesting 672 fields\n",
      "mars - INFO   - 20200327.075607 - Calling mars on 'marser', local port is 56404\n",
      "mars - INFO   - 20200327.075607 - Server task is 355 [marser]\n",
      "mars - INFO   - 20200327.075607 - Request cost: 672 fields, 596.354 Mbytes online, nodes: mvr01 mvr03 mvr04 mvr05 mvr07 mvr08 mvr09 mvr10 mvr11 [marser]\n",
      "2020-03-27 15:56:08 Request is active\n",
      "mars - INFO   - 20200327.075608 - Transfering 625322880 bytes\n",
      "mars - INFO   - 20200327.075608 - Cache file /data/ec_coeff/mir/weights/14/linear/R256-ff97ea7ead832cc4cd70f7dc1af0cce8-89.7311:0:-89.7311:359.648/LL-0.125x0.125-25.3:120:21.8:122-ffce3203d03d4dbdbd96c7df4c6d6c79.mat does not exist\n",
      "mars - INFO   - 20200327.075608 - Creating cache file /data/ec_coeff/mir/weights/14/linear/R256-ff97ea7ead832cc4cd70f7dc1af0cce8-89.7311:0:-89.7311:359.648/LL-0.125x0.125-25.3:120:21.8:122-ffce3203d03d4dbdbd96c7df4c6d6c79.mat\n",
      "mars - INFO   - 20200327.075608 - CacheManager creating file /data/ec_coeff/mir/weights/14/linear/R256-ff97ea7ead832cc4cd70f7dc1af0cce8-89.7311:0:-89.7311:359.648/LL-0.125x0.125-25.3:120:21.8:122-ffce3203d03d4dbdbd96c7df4c6d6c79.mat\n"
     ]
    },
    {
     "ename": "KeyboardInterrupt",
     "evalue": "",
     "output_type": "error",
     "traceback": [
      "\u001b[0;31m---------------------------------------------------------------------------\u001b[0m",
      "\u001b[0;31mKeyboardInterrupt\u001b[0m                         Traceback (most recent call last)",
      "\u001b[0;32m<ipython-input-16-db9eee5c5db4>\u001b[0m in \u001b[0;36m<module>\u001b[0;34m\u001b[0m\n\u001b[0;32m----> 1\u001b[0;31m \u001b[0mget_satellite_data\u001b[0m\u001b[0;34m(\u001b[0m\u001b[0;36m2018\u001b[0m\u001b[0;34m,\u001b[0m\u001b[0;36m2\u001b[0m\u001b[0;34m)\u001b[0m\u001b[0;34m\u001b[0m\u001b[0m\n\u001b[0m",
      "\u001b[0;32m<ipython-input-15-db6793a70e06>\u001b[0m in \u001b[0;36mget_satellite_data\u001b[0;34m(year, month)\u001b[0m\n\u001b[1;32m     27\u001b[0m         \u001b[0;34m\"levtype\"\u001b[0m\u001b[0;34m:\u001b[0m \u001b[0;34m\"sfc\"\u001b[0m\u001b[0;34m,\u001b[0m\u001b[0;34m\u001b[0m\u001b[0m\n\u001b[1;32m     28\u001b[0m         \u001b[0;34m\"stream\"\u001b[0m\u001b[0;34m:\u001b[0m \u001b[0;34m\"oper\"\u001b[0m\u001b[0;34m,\u001b[0m\u001b[0;34m\u001b[0m\u001b[0m\n\u001b[0;32m---> 29\u001b[0;31m         \u001b[0;34m\"type\"\u001b[0m\u001b[0;34m:\u001b[0m \u001b[0;34m\"fc\"\u001b[0m\u001b[0;34m,\u001b[0m\u001b[0;34m\u001b[0m\u001b[0m\n\u001b[0m\u001b[1;32m     30\u001b[0m     })\n",
      "\u001b[0;32m~/.pyenv/versions/3.6.5/lib/python3.6/site-packages/ecmwfapi/api.py\u001b[0m in \u001b[0;36mretrieve\u001b[0;34m(self, req)\u001b[0m\n\u001b[1;32m    518\u001b[0m         \u001b[0mdataset\u001b[0m \u001b[0;34m=\u001b[0m \u001b[0mreq\u001b[0m\u001b[0;34m.\u001b[0m\u001b[0mget\u001b[0m\u001b[0;34m(\u001b[0m\u001b[0;34m\"dataset\"\u001b[0m\u001b[0;34m)\u001b[0m\u001b[0;34m\u001b[0m\u001b[0m\n\u001b[1;32m    519\u001b[0m         \u001b[0mc\u001b[0m \u001b[0;34m=\u001b[0m \u001b[0mAPIRequest\u001b[0m\u001b[0;34m(\u001b[0m\u001b[0mself\u001b[0m\u001b[0;34m.\u001b[0m\u001b[0murl\u001b[0m\u001b[0;34m,\u001b[0m \u001b[0;34m\"datasets/%s\"\u001b[0m \u001b[0;34m%\u001b[0m \u001b[0;34m(\u001b[0m\u001b[0mdataset\u001b[0m\u001b[0;34m,\u001b[0m\u001b[0;34m)\u001b[0m\u001b[0;34m,\u001b[0m \u001b[0mself\u001b[0m\u001b[0;34m.\u001b[0m\u001b[0memail\u001b[0m\u001b[0;34m,\u001b[0m \u001b[0mself\u001b[0m\u001b[0;34m.\u001b[0m\u001b[0mkey\u001b[0m\u001b[0;34m,\u001b[0m \u001b[0mself\u001b[0m\u001b[0;34m.\u001b[0m\u001b[0mtrace\u001b[0m\u001b[0;34m,\u001b[0m \u001b[0mverbose\u001b[0m\u001b[0;34m=\u001b[0m\u001b[0mself\u001b[0m\u001b[0;34m.\u001b[0m\u001b[0mverbose\u001b[0m\u001b[0;34m)\u001b[0m\u001b[0;34m\u001b[0m\u001b[0m\n\u001b[0;32m--> 520\u001b[0;31m         \u001b[0mc\u001b[0m\u001b[0;34m.\u001b[0m\u001b[0mexecute\u001b[0m\u001b[0;34m(\u001b[0m\u001b[0mreq\u001b[0m\u001b[0;34m,\u001b[0m \u001b[0mtarget\u001b[0m\u001b[0;34m)\u001b[0m\u001b[0;34m\u001b[0m\u001b[0m\n\u001b[0m\u001b[1;32m    521\u001b[0m \u001b[0;34m\u001b[0m\u001b[0m\n\u001b[1;32m    522\u001b[0m \u001b[0;31m###############################################################################\u001b[0m\u001b[0;34m\u001b[0m\u001b[0;34m\u001b[0m\u001b[0m\n",
      "\u001b[0;32m~/.pyenv/versions/3.6.5/lib/python3.6/site-packages/ecmwfapi/api.py\u001b[0m in \u001b[0;36mexecute\u001b[0;34m(self, request, target)\u001b[0m\n\u001b[1;32m    461\u001b[0m                 \u001b[0mstatus\u001b[0m \u001b[0;34m=\u001b[0m \u001b[0mself\u001b[0m\u001b[0;34m.\u001b[0m\u001b[0mconnection\u001b[0m\u001b[0;34m.\u001b[0m\u001b[0mstatus\u001b[0m\u001b[0;34m\u001b[0m\u001b[0m\n\u001b[1;32m    462\u001b[0m                 \u001b[0mself\u001b[0m\u001b[0;34m.\u001b[0m\u001b[0mlog\u001b[0m\u001b[0;34m(\u001b[0m\u001b[0;34m\"Request is %s\"\u001b[0m \u001b[0;34m%\u001b[0m \u001b[0;34m(\u001b[0m\u001b[0mstatus\u001b[0m\u001b[0;34m,\u001b[0m \u001b[0;34m)\u001b[0m\u001b[0;34m)\u001b[0m\u001b[0;34m\u001b[0m\u001b[0m\n\u001b[0;32m--> 463\u001b[0;31m             \u001b[0mself\u001b[0m\u001b[0;34m.\u001b[0m\u001b[0mconnection\u001b[0m\u001b[0;34m.\u001b[0m\u001b[0mwait\u001b[0m\u001b[0;34m(\u001b[0m\u001b[0;34m)\u001b[0m\u001b[0;34m\u001b[0m\u001b[0m\n\u001b[0m\u001b[1;32m    464\u001b[0m \u001b[0;34m\u001b[0m\u001b[0m\n\u001b[1;32m    465\u001b[0m         \u001b[0;32mif\u001b[0m \u001b[0mself\u001b[0m\u001b[0;34m.\u001b[0m\u001b[0mconnection\u001b[0m\u001b[0;34m.\u001b[0m\u001b[0mstatus\u001b[0m \u001b[0;34m!=\u001b[0m \u001b[0mstatus\u001b[0m\u001b[0;34m:\u001b[0m\u001b[0;34m\u001b[0m\u001b[0m\n",
      "\u001b[0;32m~/.pyenv/versions/3.6.5/lib/python3.6/site-packages/ecmwfapi/api.py\u001b[0m in \u001b[0;36mwait\u001b[0;34m(self)\u001b[0m\n\u001b[1;32m    357\u001b[0m         \u001b[0;32mif\u001b[0m \u001b[0mself\u001b[0m\u001b[0;34m.\u001b[0m\u001b[0mverbose\u001b[0m\u001b[0;34m:\u001b[0m\u001b[0;34m\u001b[0m\u001b[0m\n\u001b[1;32m    358\u001b[0m             \u001b[0mprint\u001b[0m\u001b[0;34m(\u001b[0m\u001b[0;34m\"Sleeping %s second(s)\"\u001b[0m \u001b[0;34m%\u001b[0m \u001b[0;34m(\u001b[0m\u001b[0mself\u001b[0m\u001b[0;34m.\u001b[0m\u001b[0mretry\u001b[0m\u001b[0;34m)\u001b[0m\u001b[0;34m)\u001b[0m\u001b[0;34m\u001b[0m\u001b[0m\n\u001b[0;32m--> 359\u001b[0;31m         \u001b[0mtime\u001b[0m\u001b[0;34m.\u001b[0m\u001b[0msleep\u001b[0m\u001b[0;34m(\u001b[0m\u001b[0mself\u001b[0m\u001b[0;34m.\u001b[0m\u001b[0mretry\u001b[0m\u001b[0;34m)\u001b[0m\u001b[0;34m\u001b[0m\u001b[0m\n\u001b[0m\u001b[1;32m    360\u001b[0m         \u001b[0mself\u001b[0m\u001b[0;34m.\u001b[0m\u001b[0mcall\u001b[0m\u001b[0;34m(\u001b[0m\u001b[0mself\u001b[0m\u001b[0;34m.\u001b[0m\u001b[0mlocation\u001b[0m\u001b[0;34m,\u001b[0m \u001b[0;32mNone\u001b[0m\u001b[0;34m,\u001b[0m \u001b[0;34m\"GET\"\u001b[0m\u001b[0;34m)\u001b[0m\u001b[0;34m\u001b[0m\u001b[0m\n\u001b[1;32m    361\u001b[0m \u001b[0;34m\u001b[0m\u001b[0m\n",
      "\u001b[0;31mKeyboardInterrupt\u001b[0m: "
     ]
    }
   ],
   "source": [
    "get_satellite_data(2018,2)"
   ]
  }
 ],
 "metadata": {
  "kernelspec": {
   "display_name": "Python 3",
   "language": "python",
   "name": "python3"
  },
  "language_info": {
   "codemirror_mode": {
    "name": "ipython",
    "version": 3
   },
   "file_extension": ".py",
   "mimetype": "text/x-python",
   "name": "python",
   "nbconvert_exporter": "python",
   "pygments_lexer": "ipython3",
   "version": "3.6.5"
  },
  "toc": {
   "base_numbering": 1,
   "nav_menu": {},
   "number_sections": true,
   "sideBar": true,
   "skip_h1_title": false,
   "title_cell": "Table of Contents",
   "title_sidebar": "Contents",
   "toc_cell": false,
   "toc_position": {},
   "toc_section_display": true,
   "toc_window_display": false
  }
 },
 "nbformat": 4,
 "nbformat_minor": 2
}
