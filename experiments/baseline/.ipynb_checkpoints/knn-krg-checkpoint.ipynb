{
 "cells": [
  {
   "cell_type": "code",
   "execution_count": 32,
   "metadata": {
    "ExecuteTime": {
     "end_time": "2020-06-22T11:02:32.517690Z",
     "start_time": "2020-06-22T11:02:32.509067Z"
    }
   },
   "outputs": [],
   "source": [
    "import pandas as pd\n",
    "import numpy as np\n",
    "import matplotlib.pyplot as plt\n",
    "\n",
    "import os\n",
    "import sys\n",
    "home=os.path.expanduser(\"~\")\n",
    "sys.path.append(os.path.join(home, 'station2grid'))\n",
    "\n",
    "import tools\n",
    "from tools import options, datasets, knn_model, krg_model\n"
   ]
  },
  {
   "cell_type": "code",
   "execution_count": 43,
   "metadata": {
    "ExecuteTime": {
     "end_time": "2020-06-22T11:08:50.101524Z",
     "start_time": "2020-06-22T11:08:50.075234Z"
    }
   },
   "outputs": [
    {
     "data": {
      "text/html": [
       "<div>\n",
       "<style scoped>\n",
       "    .dataframe tbody tr th:only-of-type {\n",
       "        vertical-align: middle;\n",
       "    }\n",
       "\n",
       "    .dataframe tbody tr th {\n",
       "        vertical-align: top;\n",
       "    }\n",
       "\n",
       "    .dataframe thead th {\n",
       "        text-align: right;\n",
       "    }\n",
       "</style>\n",
       "<table border=\"1\" class=\"dataframe\">\n",
       "  <thead>\n",
       "    <tr style=\"text-align: right;\">\n",
       "      <th></th>\n",
       "      <th>SiteName</th>\n",
       "      <th>SiteEngName</th>\n",
       "      <th>area</th>\n",
       "      <th>lat</th>\n",
       "      <th>lon</th>\n",
       "      <th>lat_round</th>\n",
       "      <th>lon_round</th>\n",
       "      <th>row</th>\n",
       "      <th>col</th>\n",
       "    </tr>\n",
       "  </thead>\n",
       "  <tbody>\n",
       "    <tr>\n",
       "      <th>0</th>\n",
       "      <td>大霸尖山</td>\n",
       "      <td>Dabajianshan</td>\n",
       "      <td>mountain</td>\n",
       "      <td>24.461111</td>\n",
       "      <td>121.249722</td>\n",
       "      <td>24.46</td>\n",
       "      <td>121.25</td>\n",
       "      <td>88</td>\n",
       "      <td>125</td>\n",
       "    </tr>\n",
       "  </tbody>\n",
       "</table>\n",
       "</div>"
      ],
      "text/plain": [
       "  SiteName   SiteEngName      area        lat         lon  lat_round  \\\n",
       "0     大霸尖山  Dabajianshan  mountain  24.461111  121.249722      24.46   \n",
       "\n",
       "   lon_round  row  col  \n",
       "0     121.25   88  125  "
      ]
     },
     "execution_count": 43,
     "metadata": {},
     "output_type": "execute_result"
    }
   ],
   "source": [
    "info = tools.CommonObj().epa_station_info\n",
    "info.head(1)"
   ]
  },
  {
   "cell_type": "code",
   "execution_count": 44,
   "metadata": {
    "ExecuteTime": {
     "end_time": "2020-06-22T11:09:46.534511Z",
     "start_time": "2020-06-22T11:09:46.529356Z"
    },
    "collapsed": true
   },
   "outputs": [],
   "source": [
    "stations = info.SiteEngName"
   ]
  },
  {
   "cell_type": "markdown",
   "metadata": {},
   "source": [
    "# knn"
   ]
  },
  {
   "cell_type": "markdown",
   "metadata": {},
   "source": [
    "## step by step"
   ]
  },
  {
   "cell_type": "code",
   "execution_count": 33,
   "metadata": {
    "ExecuteTime": {
     "end_time": "2020-06-22T11:02:33.317291Z",
     "start_time": "2020-06-22T11:02:32.520550Z"
    },
    "collapsed": true
   },
   "outputs": [],
   "source": [
    "k = 3\n",
    "weightKNN = 'uniform'\n",
    "val_stations = 'Tainan'"
   ]
  },
  {
   "cell_type": "code",
   "execution_count": 34,
   "metadata": {
    "ExecuteTime": {
     "end_time": "2020-06-22T11:02:52.538660Z",
     "start_time": "2020-06-22T11:02:33.320406Z"
    }
   },
   "outputs": [],
   "source": [
    "optionS2GSD = options.OptionS2GSD(features='pm25', val_stations=val_stations)\n",
    "dataS2G = datasets.DataS2G(optionS2GSD)\n",
    "dataS2G.setup_test()\n",
    "\n",
    "model = knn_model.KnnModel(dataS2G)\n",
    "y_hat = model.get_values(k, weightKNN).reshape(-1)"
   ]
  },
  {
   "cell_type": "code",
   "execution_count": 35,
   "metadata": {
    "ExecuteTime": {
     "end_time": "2020-06-22T11:02:52.546319Z",
     "start_time": "2020-06-22T11:02:52.541169Z"
    }
   },
   "outputs": [],
   "source": [
    "y_true = dataS2G.x_raw[:,dataS2G.valid_info.index,0].reshape(-1)"
   ]
  },
  {
   "cell_type": "code",
   "execution_count": 36,
   "metadata": {
    "ExecuteTime": {
     "end_time": "2020-06-22T11:02:53.305815Z",
     "start_time": "2020-06-22T11:02:52.548771Z"
    }
   },
   "outputs": [
    {
     "data": {
      "text/html": [
       "<div>\n",
       "<style scoped>\n",
       "    .dataframe tbody tr th:only-of-type {\n",
       "        vertical-align: middle;\n",
       "    }\n",
       "\n",
       "    .dataframe tbody tr th {\n",
       "        vertical-align: top;\n",
       "    }\n",
       "\n",
       "    .dataframe thead th {\n",
       "        text-align: right;\n",
       "    }\n",
       "</style>\n",
       "<table border=\"1\" class=\"dataframe\">\n",
       "  <thead>\n",
       "    <tr style=\"text-align: right;\">\n",
       "      <th>is_real</th>\n",
       "      <th>group</th>\n",
       "      <th>station</th>\n",
       "      <th>dt</th>\n",
       "      <th>predict</th>\n",
       "      <th>real</th>\n",
       "    </tr>\n",
       "  </thead>\n",
       "  <tbody>\n",
       "    <tr>\n",
       "      <th>0</th>\n",
       "      <td>model_name-knn--val_stations-Tainan--k-7--weig...</td>\n",
       "      <td>Tainan</td>\n",
       "      <td>2019-01-01 00:00:00</td>\n",
       "      <td>11.428571</td>\n",
       "      <td>17.0</td>\n",
       "    </tr>\n",
       "    <tr>\n",
       "      <th>1</th>\n",
       "      <td>model_name-knn--val_stations-Tainan--k-7--weig...</td>\n",
       "      <td>Tainan</td>\n",
       "      <td>2019-01-01 01:00:00</td>\n",
       "      <td>15.571429</td>\n",
       "      <td>20.0</td>\n",
       "    </tr>\n",
       "    <tr>\n",
       "      <th>2</th>\n",
       "      <td>model_name-knn--val_stations-Tainan--k-7--weig...</td>\n",
       "      <td>Tainan</td>\n",
       "      <td>2019-01-01 02:00:00</td>\n",
       "      <td>13.571429</td>\n",
       "      <td>14.0</td>\n",
       "    </tr>\n",
       "    <tr>\n",
       "      <th>3</th>\n",
       "      <td>model_name-knn--val_stations-Tainan--k-7--weig...</td>\n",
       "      <td>Tainan</td>\n",
       "      <td>2019-01-01 03:00:00</td>\n",
       "      <td>14.285714</td>\n",
       "      <td>15.0</td>\n",
       "    </tr>\n",
       "    <tr>\n",
       "      <th>4</th>\n",
       "      <td>model_name-knn--val_stations-Tainan--k-7--weig...</td>\n",
       "      <td>Tainan</td>\n",
       "      <td>2019-01-01 04:00:00</td>\n",
       "      <td>13.142857</td>\n",
       "      <td>10.0</td>\n",
       "    </tr>\n",
       "  </tbody>\n",
       "</table>\n",
       "</div>"
      ],
      "text/plain": [
       "is_real                                              group station  \\\n",
       "0        model_name-knn--val_stations-Tainan--k-7--weig...  Tainan   \n",
       "1        model_name-knn--val_stations-Tainan--k-7--weig...  Tainan   \n",
       "2        model_name-knn--val_stations-Tainan--k-7--weig...  Tainan   \n",
       "3        model_name-knn--val_stations-Tainan--k-7--weig...  Tainan   \n",
       "4        model_name-knn--val_stations-Tainan--k-7--weig...  Tainan   \n",
       "\n",
       "is_real                  dt    predict  real  \n",
       "0       2019-01-01 00:00:00  11.428571  17.0  \n",
       "1       2019-01-01 01:00:00  15.571429  20.0  \n",
       "2       2019-01-01 02:00:00  13.571429  14.0  \n",
       "3       2019-01-01 03:00:00  14.285714  15.0  \n",
       "4       2019-01-01 04:00:00  13.142857  10.0  "
      ]
     },
     "execution_count": 36,
     "metadata": {},
     "output_type": "execute_result"
    }
   ],
   "source": [
    "group = 'model_name-knn--val_stations-%s--k-%s--weightKNN-%s'%(val_stations, k, weightKNN)\n",
    "result = tools.get_predict_result(y_true, y_hat, group, val_station_names=val_stations.split('_'))\n",
    "result.head()"
   ]
  },
  {
   "cell_type": "code",
   "execution_count": 37,
   "metadata": {
    "ExecuteTime": {
     "end_time": "2020-06-22T11:02:53.934546Z",
     "start_time": "2020-06-22T11:02:53.308604Z"
    }
   },
   "outputs": [
    {
     "data": {
      "text/plain": [
       "'../results/model_name-knn--val_stations-Tainan--k-7--weightKNN-uniform.csv'"
      ]
     },
     "execution_count": 37,
     "metadata": {},
     "output_type": "execute_result"
    }
   ],
   "source": [
    "file_name = ''.join([group, '.csv']) \n",
    "path = os.path.join('../results', file_name) \n",
    "path"
   ]
  },
  {
   "cell_type": "code",
   "execution_count": 38,
   "metadata": {
    "ExecuteTime": {
     "end_time": "2020-06-22T11:02:54.569557Z",
     "start_time": "2020-06-22T11:02:53.938379Z"
    },
    "collapsed": true
   },
   "outputs": [],
   "source": [
    "result.to_csv(path, index=False)"
   ]
  },
  {
   "cell_type": "code",
   "execution_count": 39,
   "metadata": {
    "ExecuteTime": {
     "end_time": "2020-06-22T11:02:55.291010Z",
     "start_time": "2020-06-22T11:02:54.571657Z"
    }
   },
   "outputs": [
    {
     "data": {
      "text/plain": [
       "<matplotlib.axes._subplots.AxesSubplot at 0x7f005b07d390>"
      ]
     },
     "execution_count": 39,
     "metadata": {},
     "output_type": "execute_result"
    },
    {
     "data": {
      "image/png": "[encoded data removed]",
      "text/plain": [
       "<matplotlib.figure.Figure at 0x7f005af64390>"
      ]
     },
     "metadata": {},
     "output_type": "display_data"
    }
   ],
   "source": [
    "result.plot(y=['real','predict'])"
   ]
  },
  {
   "cell_type": "markdown",
   "metadata": {},
   "source": [
    "## iterate "
   ]
  },
  {
   "cell_type": "code",
   "execution_count": null,
   "metadata": {
    "collapsed": true
   },
   "outputs": [],
   "source": [
    "for k in [1,2,3,4,5]:\n",
    "    for weightKNN in ['uniform','distance']:\n",
    "        for val_stations in stations:\n",
    "            optionS2GSD = options.OptionS2GSD(features='pm25', val_stations=val_stations)\n",
    "            dataS2G = datasets.DataS2G(optionS2GSD)\n",
    "            dataS2G.setup_test()\n",
    "\n",
    "            model = knn_model.KnnModel(dataS2G)\n",
    "            y_hat = model.get_values(k, weightKNN).reshape(-1)         \n",
    "            y_true = dataS2G.x_raw[:,dataS2G.valid_info.index,0].reshape(-1)\n",
    "\n",
    "            group = 'model_name-knn--val_stations-%s--k-%s--weightKNN-%s'%(val_stations, k, weightKNN)\n",
    "            result = tools.get_predict_result(y_true, y_hat, group, val_station_names=val_stations.split('_'))\n",
    "\n",
    "            file_name = ''.join([group, '.csv']) \n",
    "            path = os.path.join('../results', file_name) \n",
    "            result.to_csv(path, index=False)\n"
   ]
  },
  {
   "cell_type": "markdown",
   "metadata": {},
   "source": [
    "# krg"
   ]
  },
  {
   "cell_type": "markdown",
   "metadata": {},
   "source": [
    "## step by step"
   ]
  },
  {
   "cell_type": "code",
   "execution_count": 25,
   "metadata": {
    "ExecuteTime": {
     "end_time": "2020-06-22T10:43:58.898196Z",
     "start_time": "2020-06-22T10:43:57.504324Z"
    }
   },
   "outputs": [],
   "source": [
    "optionS2GSD = options.OptionS2GSD(features='pm25', val_stations=val_stations)\n",
    "dataS2G = datasets.DataS2G(optionS2GSD)\n",
    "dataS2G.setup_test()"
   ]
  },
  {
   "cell_type": "code",
   "execution_count": 26,
   "metadata": {
    "ExecuteTime": {
     "end_time": "2020-06-22T11:00:43.809972Z",
     "start_time": "2020-06-22T10:43:58.899883Z"
    }
   },
   "outputs": [],
   "source": [
    "model = krg_model.KrgModel(dataS2G)\n",
    "y_hat = model.get_values().reshape(-1)"
   ]
  },
  {
   "cell_type": "code",
   "execution_count": 27,
   "metadata": {
    "ExecuteTime": {
     "end_time": "2020-06-22T11:00:43.833905Z",
     "start_time": "2020-06-22T11:00:43.818648Z"
    },
    "collapsed": true
   },
   "outputs": [],
   "source": [
    "y_true = dataS2G.x_raw[:,dataS2G.valid_info.index,0].reshape(-1)"
   ]
  },
  {
   "cell_type": "code",
   "execution_count": 28,
   "metadata": {
    "ExecuteTime": {
     "end_time": "2020-06-22T11:00:43.931293Z",
     "start_time": "2020-06-22T11:00:43.840959Z"
    }
   },
   "outputs": [
    {
     "data": {
      "text/html": [
       "<div>\n",
       "<style scoped>\n",
       "    .dataframe tbody tr th:only-of-type {\n",
       "        vertical-align: middle;\n",
       "    }\n",
       "\n",
       "    .dataframe tbody tr th {\n",
       "        vertical-align: top;\n",
       "    }\n",
       "\n",
       "    .dataframe thead th {\n",
       "        text-align: right;\n",
       "    }\n",
       "</style>\n",
       "<table border=\"1\" class=\"dataframe\">\n",
       "  <thead>\n",
       "    <tr style=\"text-align: right;\">\n",
       "      <th>is_real</th>\n",
       "      <th>group</th>\n",
       "      <th>station</th>\n",
       "      <th>dt</th>\n",
       "      <th>predict</th>\n",
       "      <th>real</th>\n",
       "    </tr>\n",
       "  </thead>\n",
       "  <tbody>\n",
       "    <tr>\n",
       "      <th>0</th>\n",
       "      <td>model_name-krg--val_stations-Tainan</td>\n",
       "      <td>Tainan</td>\n",
       "      <td>2019-01-01 00:00:00</td>\n",
       "      <td>11.735243</td>\n",
       "      <td>17.0</td>\n",
       "    </tr>\n",
       "    <tr>\n",
       "      <th>1</th>\n",
       "      <td>model_name-krg--val_stations-Tainan</td>\n",
       "      <td>Tainan</td>\n",
       "      <td>2019-01-01 01:00:00</td>\n",
       "      <td>15.324699</td>\n",
       "      <td>20.0</td>\n",
       "    </tr>\n",
       "    <tr>\n",
       "      <th>2</th>\n",
       "      <td>model_name-krg--val_stations-Tainan</td>\n",
       "      <td>Tainan</td>\n",
       "      <td>2019-01-01 02:00:00</td>\n",
       "      <td>13.583322</td>\n",
       "      <td>14.0</td>\n",
       "    </tr>\n",
       "    <tr>\n",
       "      <th>3</th>\n",
       "      <td>model_name-krg--val_stations-Tainan</td>\n",
       "      <td>Tainan</td>\n",
       "      <td>2019-01-01 03:00:00</td>\n",
       "      <td>13.872104</td>\n",
       "      <td>15.0</td>\n",
       "    </tr>\n",
       "    <tr>\n",
       "      <th>4</th>\n",
       "      <td>model_name-krg--val_stations-Tainan</td>\n",
       "      <td>Tainan</td>\n",
       "      <td>2019-01-01 04:00:00</td>\n",
       "      <td>11.247561</td>\n",
       "      <td>10.0</td>\n",
       "    </tr>\n",
       "  </tbody>\n",
       "</table>\n",
       "</div>"
      ],
      "text/plain": [
       "is_real                                group station                  dt  \\\n",
       "0        model_name-krg--val_stations-Tainan  Tainan 2019-01-01 00:00:00   \n",
       "1        model_name-krg--val_stations-Tainan  Tainan 2019-01-01 01:00:00   \n",
       "2        model_name-krg--val_stations-Tainan  Tainan 2019-01-01 02:00:00   \n",
       "3        model_name-krg--val_stations-Tainan  Tainan 2019-01-01 03:00:00   \n",
       "4        model_name-krg--val_stations-Tainan  Tainan 2019-01-01 04:00:00   \n",
       "\n",
       "is_real    predict  real  \n",
       "0        11.735243  17.0  \n",
       "1        15.324699  20.0  \n",
       "2        13.583322  14.0  \n",
       "3        13.872104  15.0  \n",
       "4        11.247561  10.0  "
      ]
     },
     "execution_count": 28,
     "metadata": {},
     "output_type": "execute_result"
    }
   ],
   "source": [
    "group = 'model_name-krg--val_stations-%s'%(val_stations)\n",
    "result = tools.get_predict_result(y_true, y_hat, group, val_station_names=val_stations.split('_'))\n",
    "result.head()"
   ]
  },
  {
   "cell_type": "code",
   "execution_count": 29,
   "metadata": {
    "ExecuteTime": {
     "end_time": "2020-06-22T11:00:44.014434Z",
     "start_time": "2020-06-22T11:00:43.932803Z"
    }
   },
   "outputs": [
    {
     "data": {
      "text/plain": [
       "'../results/model_name-krg--val_stations-Tainan.csv'"
      ]
     },
     "execution_count": 29,
     "metadata": {},
     "output_type": "execute_result"
    }
   ],
   "source": [
    "file_name = ''.join([group, '.csv']) \n",
    "path = os.path.join('../results', file_name) \n",
    "path"
   ]
  },
  {
   "cell_type": "code",
   "execution_count": 30,
   "metadata": {
    "ExecuteTime": {
     "end_time": "2020-06-22T11:00:44.194647Z",
     "start_time": "2020-06-22T11:00:44.015931Z"
    },
    "collapsed": true
   },
   "outputs": [],
   "source": [
    "result.to_csv(path, index=False)"
   ]
  },
  {
   "cell_type": "code",
   "execution_count": 31,
   "metadata": {
    "ExecuteTime": {
     "end_time": "2020-06-22T11:02:14.975446Z",
     "start_time": "2020-06-22T11:02:14.426135Z"
    }
   },
   "outputs": [
    {
     "data": {
      "text/plain": [
       "<matplotlib.axes._subplots.AxesSubplot at 0x7f005b8bb7f0>"
      ]
     },
     "execution_count": 31,
     "metadata": {},
     "output_type": "execute_result"
    },
    {
     "data": {
      "image/png": "[encoded data removed]",
      "text/plain": [
       "<matplotlib.figure.Figure at 0x7f005acf7128>"
      ]
     },
     "metadata": {},
     "output_type": "display_data"
    }
   ],
   "source": [
    "result.plot(y=['real','predict'])"
   ]
  },
  {
   "cell_type": "markdown",
   "metadata": {},
   "source": [
    "## iterate "
   ]
  },
  {
   "cell_type": "code",
   "execution_count": null,
   "metadata": {
    "collapsed": true
   },
   "outputs": [],
   "source": [
    "for val_stations in stations:\n",
    "    optionS2GSD = options.OptionS2GSD(features='pm25', val_stations=val_stations)\n",
    "    dataS2G = datasets.DataS2G(optionS2GSD)\n",
    "    dataS2G.setup_test()    \n",
    "\n",
    "    model = krg_model.KrgModel(dataS2G)\n",
    "    y_hat = model.get_values().reshape(-1)\n",
    "\n",
    "    y_true = dataS2G.x_raw[:,dataS2G.valid_info.index,0].reshape(-1)\n",
    "\n",
    "    group = 'model_name-krg--val_stations-%s'%(val_stations)\n",
    "    result = tools.get_predict_result(y_true, y_hat, group, val_station_names=val_stations.split('_'))\n",
    "\n",
    "    file_name = ''.join([group, '.csv']) \n",
    "    path = os.path.join('../results', file_name) \n",
    "    result.to_csv(path, index=False)"
   ]
  }
 ],
 "metadata": {
  "kernelspec": {
   "display_name": "Python 3",
   "language": "python",
   "name": "python3"
  },
  "toc": {
   "base_numbering": 1,
   "nav_menu": {},
   "number_sections": true,
   "sideBar": true,
   "skip_h1_title": false,
   "title_cell": "Table of Contents",
   "title_sidebar": "Contents",
   "toc_cell": false,
   "toc_position": {
    "height": "calc(100% - 180px)",
    "left": "10px",
    "top": "150px",
    "width": "165px"
   },
   "toc_section_display": true,
   "toc_window_display": true
  }
 },
 "nbformat": 4,
 "nbformat_minor": 2
}
