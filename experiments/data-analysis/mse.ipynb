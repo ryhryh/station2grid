{
 "cells": [
  {
   "cell_type": "code",
   "execution_count": 1,
   "metadata": {
    "ExecuteTime": {
     "end_time": "2020-07-10T03:24:41.341017Z",
     "start_time": "2020-07-10T03:24:40.273032Z"
    },
    "collapsed": true
   },
   "outputs": [],
   "source": [
    "from glob import glob\n",
    "import os\n",
    "import pandas as pd\n",
    "from sklearn.metrics import mean_squared_error\n",
    "import matplotlib.pyplot as plt\n",
    "import numpy as np\n",
    "import seaborn as sns\n",
    "import matplotlib\n",
    "import re\n",
    "\n",
    "import sys\n",
    "home=os.path.expanduser(\"~\")\n",
    "sys.path.append(os.path.join(home, 'station2grid'))\n",
    "\n",
    "from tools import plotMap, CommonObj\n",
    "%matplotlib inline"
   ]
  },
  {
   "cell_type": "code",
   "execution_count": 2,
   "metadata": {
    "ExecuteTime": {
     "end_time": "2020-07-10T03:24:41.373038Z",
     "start_time": "2020-07-10T03:24:41.343083Z"
    }
   },
   "outputs": [
    {
     "data": {
      "text/html": [
       "<div>\n",
       "<style scoped>\n",
       "    .dataframe tbody tr th:only-of-type {\n",
       "        vertical-align: middle;\n",
       "    }\n",
       "\n",
       "    .dataframe tbody tr th {\n",
       "        vertical-align: top;\n",
       "    }\n",
       "\n",
       "    .dataframe thead th {\n",
       "        text-align: right;\n",
       "    }\n",
       "</style>\n",
       "<table border=\"1\" class=\"dataframe\">\n",
       "  <thead>\n",
       "    <tr style=\"text-align: right;\">\n",
       "      <th></th>\n",
       "      <th>SiteName</th>\n",
       "      <th>SiteEngName</th>\n",
       "      <th>area</th>\n",
       "      <th>lat</th>\n",
       "      <th>lon</th>\n",
       "      <th>lat_round</th>\n",
       "      <th>lon_round</th>\n",
       "      <th>row</th>\n",
       "      <th>col</th>\n",
       "    </tr>\n",
       "  </thead>\n",
       "  <tbody>\n",
       "    <tr>\n",
       "      <th>0</th>\n",
       "      <td>大霸尖山</td>\n",
       "      <td>Dabajianshan</td>\n",
       "      <td>mountain</td>\n",
       "      <td>24.461111</td>\n",
       "      <td>121.249722</td>\n",
       "      <td>24.46</td>\n",
       "      <td>121.25</td>\n",
       "      <td>88</td>\n",
       "      <td>125</td>\n",
       "    </tr>\n",
       "    <tr>\n",
       "      <th>1</th>\n",
       "      <td>牧山</td>\n",
       "      <td>Mushan</td>\n",
       "      <td>mountain</td>\n",
       "      <td>23.864722</td>\n",
       "      <td>121.152222</td>\n",
       "      <td>23.86</td>\n",
       "      <td>121.15</td>\n",
       "      <td>148</td>\n",
       "      <td>115</td>\n",
       "    </tr>\n",
       "    <tr>\n",
       "      <th>2</th>\n",
       "      <td>玉山</td>\n",
       "      <td>Yushan</td>\n",
       "      <td>mountain</td>\n",
       "      <td>23.470556</td>\n",
       "      <td>120.948889</td>\n",
       "      <td>23.47</td>\n",
       "      <td>120.95</td>\n",
       "      <td>187</td>\n",
       "      <td>95</td>\n",
       "    </tr>\n",
       "    <tr>\n",
       "      <th>3</th>\n",
       "      <td>北大武山</td>\n",
       "      <td>Beidawushan</td>\n",
       "      <td>mountain</td>\n",
       "      <td>22.629167</td>\n",
       "      <td>120.751944</td>\n",
       "      <td>22.63</td>\n",
       "      <td>120.75</td>\n",
       "      <td>271</td>\n",
       "      <td>75</td>\n",
       "    </tr>\n",
       "    <tr>\n",
       "      <th>4</th>\n",
       "      <td>陽明</td>\n",
       "      <td>Yangming</td>\n",
       "      <td>city</td>\n",
       "      <td>25.182722</td>\n",
       "      <td>121.529583</td>\n",
       "      <td>25.18</td>\n",
       "      <td>121.53</td>\n",
       "      <td>16</td>\n",
       "      <td>153</td>\n",
       "    </tr>\n",
       "  </tbody>\n",
       "</table>\n",
       "</div>"
      ],
      "text/plain": [
       "  SiteName   SiteEngName      area        lat         lon  lat_round  \\\n",
       "0     大霸尖山  Dabajianshan  mountain  24.461111  121.249722      24.46   \n",
       "1       牧山        Mushan  mountain  23.864722  121.152222      23.86   \n",
       "2       玉山        Yushan  mountain  23.470556  120.948889      23.47   \n",
       "3     北大武山   Beidawushan  mountain  22.629167  120.751944      22.63   \n",
       "4       陽明      Yangming      city  25.182722  121.529583      25.18   \n",
       "\n",
       "   lon_round  row  col  \n",
       "0     121.25   88  125  \n",
       "1     121.15  148  115  \n",
       "2     120.95  187   95  \n",
       "3     120.75  271   75  \n",
       "4     121.53   16  153  "
      ]
     },
     "execution_count": 2,
     "metadata": {},
     "output_type": "execute_result"
    }
   ],
   "source": [
    "info = CommonObj().epa_station_info\n",
    "info.head()"
   ]
  },
  {
   "cell_type": "markdown",
   "metadata": {},
   "source": [
    "# read"
   ]
  },
  {
   "cell_type": "code",
   "execution_count": 3,
   "metadata": {
    "ExecuteTime": {
     "end_time": "2020-07-10T03:24:41.454284Z",
     "start_time": "2020-07-10T03:24:41.375664Z"
    }
   },
   "outputs": [
    {
     "data": {
      "text/html": [
       "<div>\n",
       "<style scoped>\n",
       "    .dataframe tbody tr th:only-of-type {\n",
       "        vertical-align: middle;\n",
       "    }\n",
       "\n",
       "    .dataframe tbody tr th {\n",
       "        vertical-align: top;\n",
       "    }\n",
       "\n",
       "    .dataframe thead th {\n",
       "        text-align: right;\n",
       "    }\n",
       "</style>\n",
       "<table border=\"1\" class=\"dataframe\">\n",
       "  <thead>\n",
       "    <tr style=\"text-align: right;\">\n",
       "      <th></th>\n",
       "      <th>SiteName</th>\n",
       "      <th>SiteEngName</th>\n",
       "      <th>area</th>\n",
       "      <th>lat</th>\n",
       "      <th>lon</th>\n",
       "      <th>lat_round</th>\n",
       "      <th>lon_round</th>\n",
       "      <th>row</th>\n",
       "      <th>col</th>\n",
       "    </tr>\n",
       "  </thead>\n",
       "  <tbody>\n",
       "    <tr>\n",
       "      <th>0</th>\n",
       "      <td>大霸尖山</td>\n",
       "      <td>Dabajianshan</td>\n",
       "      <td>mountain</td>\n",
       "      <td>24.461111</td>\n",
       "      <td>121.249722</td>\n",
       "      <td>24.46</td>\n",
       "      <td>121.25</td>\n",
       "      <td>88</td>\n",
       "      <td>125</td>\n",
       "    </tr>\n",
       "  </tbody>\n",
       "</table>\n",
       "</div>"
      ],
      "text/plain": [
       "  SiteName   SiteEngName      area        lat         lon  lat_round  \\\n",
       "0     大霸尖山  Dabajianshan  mountain  24.461111  121.249722      24.46   \n",
       "\n",
       "   lon_round  row  col  \n",
       "0     121.25   88  125  "
      ]
     },
     "execution_count": 3,
     "metadata": {},
     "output_type": "execute_result"
    }
   ],
   "source": [
    "info = CommonObj().epa_station_info\n",
    "info.head(1)\n"
   ]
  },
  {
   "cell_type": "code",
   "execution_count": 4,
   "metadata": {
    "ExecuteTime": {
     "end_time": "2020-07-10T03:24:41.460005Z",
     "start_time": "2020-07-10T03:24:41.456718Z"
    },
    "collapsed": true
   },
   "outputs": [],
   "source": [
    "feature_list = [\n",
    "    'pm25'\n",
    "#     'pm25_pm10',\n",
    "#     'pm25_PM10'\n",
    "#     'pm25_PM10_NO2_SO2_O3',\n",
    "#     'pm25_AMBTEMP_RH_RAINFALL_WINDCOS_WINDSIN',\n",
    "#     'pm25_AMBTEMP_RH_RAINFALL_WINDCOS_WINDSIN_PM10_NO2_SO2_O3',\n",
    "]\n",
    "\n",
    "# station_list = info.SiteEngName.values\n",
    "# station_list = ['Dabajianshan','Mushan','Yushan','Beidawushan',\n",
    "#                 'Guting','Banqiao','Zhongli','Xitun','Tainan','Fengshan',\n",
    "#                 'Yilan','Hualien','Taitung','Hengchun'] \n",
    "\n",
    "station_list = ['Tainan', 'Guting', 'Xitun', 'Zuoying', 'Hualien']"
   ]
  },
  {
   "cell_type": "code",
   "execution_count": null,
   "metadata": {
    "collapsed": true
   },
   "outputs": [],
   "source": []
  },
  {
   "cell_type": "code",
   "execution_count": 5,
   "metadata": {
    "ExecuteTime": {
     "end_time": "2020-07-10T03:24:41.641104Z",
     "start_time": "2020-07-10T03:24:41.462045Z"
    },
    "scrolled": true
   },
   "outputs": [
    {
     "data": {
      "text/plain": [
       "['../results/model_name-station2gridSD--features-pm25--val_stations-Guting--domain-sat--k-3--weightKNN-distance--ae_type-code_length-2288--dnn_type-a1---.csv',\n",
       " '../results/model_name-station2gridSD--features-pm25--val_stations-Guting--domain-sat--k-3--weightKNN-distance--ae_type-code_length-3432--dnn_type-a1---.csv',\n",
       " '../results/model_name-station2gridSD--features-pm25--val_stations-Guting--domain-sat--k-3--weightKNN-distance--ae_type-code_length-4576--dnn_type-a1---.csv',\n",
       " '../results/model_name-station2gridSD--features-pm25--val_stations-Guting--domain-sat--k-3--weightKNN-distance--ae_type-code_length-5720--dnn_type-a1---.csv',\n",
       " '../results/model_name-station2gridSD--features-pm25--val_stations-Guting--domain-sat--k-3--weightKNN-distance--ae_type-code_length-6864--dnn_type-a1---.csv',\n",
       " '../results/model_name-station2gridSD--features-pm25--val_stations-Hualien--domain-sat--k-3--weightKNN-distance--ae_type-code_length-2288--dnn_type-a1---.csv',\n",
       " '../results/model_name-station2gridSD--features-pm25--val_stations-Hualien--domain-sat--k-3--weightKNN-distance--ae_type-code_length-3432--dnn_type-a1---.csv',\n",
       " '../results/model_name-station2gridSD--features-pm25--val_stations-Hualien--domain-sat--k-3--weightKNN-distance--ae_type-code_length-4576--dnn_type-a1---.csv',\n",
       " '../results/model_name-station2gridSD--features-pm25--val_stations-Hualien--domain-sat--k-3--weightKNN-distance--ae_type-code_length-5720--dnn_type-a1---.csv',\n",
       " '../results/model_name-station2gridSD--features-pm25--val_stations-Hualien--domain-sat--k-3--weightKNN-distance--ae_type-code_length-6864--dnn_type-a1---.csv',\n",
       " '../results/model_name-station2gridSD--features-pm25--val_stations-Tainan--domain-sat--k-3--weightKNN-distance--ae_type-code_length-2288--dnn_type-a1---.csv',\n",
       " '../results/model_name-station2gridSD--features-pm25--val_stations-Tainan--domain-sat--k-3--weightKNN-distance--ae_type-code_length-3432--dnn_type-a1---.csv',\n",
       " '../results/model_name-station2gridSD--features-pm25--val_stations-Tainan--domain-sat--k-3--weightKNN-distance--ae_type-code_length-4576--dnn_type-a1---.csv',\n",
       " '../results/model_name-station2gridSD--features-pm25--val_stations-Tainan--domain-sat--k-3--weightKNN-distance--ae_type-code_length-5720--dnn_type-a1---.csv',\n",
       " '../results/model_name-station2gridSD--features-pm25--val_stations-Tainan--domain-sat--k-3--weightKNN-distance--ae_type-code_length-6864--dnn_type-a1---.csv',\n",
       " '../results/model_name-station2gridSD--features-pm25--val_stations-Xitun--domain-sat--k-3--weightKNN-distance--ae_type-code_length-2288--dnn_type-a1---.csv',\n",
       " '../results/model_name-station2gridSD--features-pm25--val_stations-Xitun--domain-sat--k-3--weightKNN-distance--ae_type-code_length-3432--dnn_type-a1---.csv',\n",
       " '../results/model_name-station2gridSD--features-pm25--val_stations-Xitun--domain-sat--k-3--weightKNN-distance--ae_type-code_length-4576--dnn_type-a1---.csv',\n",
       " '../results/model_name-station2gridSD--features-pm25--val_stations-Xitun--domain-sat--k-3--weightKNN-distance--ae_type-code_length-5720--dnn_type-a1---.csv',\n",
       " '../results/model_name-station2gridSD--features-pm25--val_stations-Xitun--domain-sat--k-3--weightKNN-distance--ae_type-code_length-6864--dnn_type-a1---.csv',\n",
       " '../results/model_name-station2gridSD--features-pm25--val_stations-Zuoying--domain-sat--k-3--weightKNN-distance--ae_type-code_length-2288--dnn_type-a1---.csv',\n",
       " '../results/model_name-station2gridSD--features-pm25--val_stations-Zuoying--domain-sat--k-3--weightKNN-distance--ae_type-code_length-3432--dnn_type-a1---.csv',\n",
       " '../results/model_name-station2gridSD--features-pm25--val_stations-Zuoying--domain-sat--k-3--weightKNN-distance--ae_type-code_length-4576--dnn_type-a1---.csv',\n",
       " '../results/model_name-station2gridSD--features-pm25--val_stations-Zuoying--domain-sat--k-3--weightKNN-distance--ae_type-code_length-5720--dnn_type-a1---.csv',\n",
       " '../results/model_name-station2gridSD--features-pm25--val_stations-Zuoying--domain-sat--k-3--weightKNN-distance--ae_type-code_length-6864--dnn_type-a1---.csv']"
      ]
     },
     "execution_count": 5,
     "metadata": {},
     "output_type": "execute_result"
    }
   ],
   "source": [
    "def f(path):\n",
    "    #print(path)\n",
    "    \n",
    "    model_name = re.search('model_name-(.+?)--',path).group(1)\n",
    "    \n",
    "    \n",
    "    if model_name == 'station2gridSD' : \n",
    "        domain = re.search('domain-(.+?)--',path).group(1)\n",
    "        val_stations = re.search('val_stations-(.+?)--',path).group(1)\n",
    "        features = re.search('features-(.+?)--',path).group(1)\n",
    "        if val_stations in station_list:\n",
    "            if features in feature_list:\n",
    "                if domain in ['sat']:\n",
    "                    #print(path)\n",
    "                    return True\n",
    "    \n",
    "    \n",
    "    \n",
    "    # 's2gsd_minmax','s2gsd_standard'\n",
    "#     if model_name in ['s2gsd_minmax']: return True\n",
    "#     else: return False\n",
    "    \n",
    "#     if model_name in ['s2gsd_minmax','s2gmd_minmax']: \n",
    "#         features = re.search('features-(.+?)--',path).group(1)\n",
    "#         if features in feature_list: return True\n",
    "    \n",
    "        \n",
    "#     if model_name=='knn': \n",
    "#         k = re.search('k-(.+?)--',path).group(1)\n",
    "#         weightKNN = re.search('weightKNN-(.+?)--',path).group(1)\n",
    "#         if (k,weightKNN)==('4','distance'): return True\n",
    "        \n",
    "#     if model_name=='krg': return True \n",
    "        \n",
    "#     if model_name==['gan','gan_grid']: return False\n",
    "    \n",
    "#     if model_name=='station2gridMD': return True\n",
    "    \n",
    "    return False\n",
    "    \n",
    "paths = glob(os.path.join('..','results','*csv'))\n",
    "paths = [path for path in paths if f(path)==True]\n",
    "paths = sorted(paths)\n",
    "\n",
    "len(paths)\n",
    "paths\n"
   ]
  },
  {
   "cell_type": "code",
   "execution_count": 6,
   "metadata": {
    "ExecuteTime": {
     "end_time": "2020-07-10T03:24:42.482295Z",
     "start_time": "2020-07-10T03:24:41.643411Z"
    },
    "scrolled": false
   },
   "outputs": [
    {
     "data": {
      "text/html": [
       "<div>\n",
       "<style scoped>\n",
       "    .dataframe tbody tr th:only-of-type {\n",
       "        vertical-align: middle;\n",
       "    }\n",
       "\n",
       "    .dataframe tbody tr th {\n",
       "        vertical-align: top;\n",
       "    }\n",
       "\n",
       "    .dataframe thead th {\n",
       "        text-align: right;\n",
       "    }\n",
       "</style>\n",
       "<table border=\"1\" class=\"dataframe\">\n",
       "  <thead>\n",
       "    <tr style=\"text-align: right;\">\n",
       "      <th></th>\n",
       "      <th>group</th>\n",
       "      <th>station</th>\n",
       "      <th>dt</th>\n",
       "      <th>predict</th>\n",
       "      <th>real</th>\n",
       "    </tr>\n",
       "  </thead>\n",
       "  <tbody>\n",
       "    <tr>\n",
       "      <th>0</th>\n",
       "      <td>model_name-station2gridSD--features-pm25--val_...</td>\n",
       "      <td>Guting</td>\n",
       "      <td>2019-01-01 00:00:00</td>\n",
       "      <td>4.722982</td>\n",
       "      <td>10.0</td>\n",
       "    </tr>\n",
       "    <tr>\n",
       "      <th>1</th>\n",
       "      <td>model_name-station2gridSD--features-pm25--val_...</td>\n",
       "      <td>Guting</td>\n",
       "      <td>2019-01-01 01:00:00</td>\n",
       "      <td>4.720925</td>\n",
       "      <td>4.0</td>\n",
       "    </tr>\n",
       "    <tr>\n",
       "      <th>2</th>\n",
       "      <td>model_name-station2gridSD--features-pm25--val_...</td>\n",
       "      <td>Guting</td>\n",
       "      <td>2019-01-01 02:00:00</td>\n",
       "      <td>3.848662</td>\n",
       "      <td>1.0</td>\n",
       "    </tr>\n",
       "    <tr>\n",
       "      <th>3</th>\n",
       "      <td>model_name-station2gridSD--features-pm25--val_...</td>\n",
       "      <td>Guting</td>\n",
       "      <td>2019-01-01 03:00:00</td>\n",
       "      <td>3.233789</td>\n",
       "      <td>6.0</td>\n",
       "    </tr>\n",
       "    <tr>\n",
       "      <th>4</th>\n",
       "      <td>model_name-station2gridSD--features-pm25--val_...</td>\n",
       "      <td>Guting</td>\n",
       "      <td>2019-01-01 04:00:00</td>\n",
       "      <td>2.362566</td>\n",
       "      <td>5.0</td>\n",
       "    </tr>\n",
       "  </tbody>\n",
       "</table>\n",
       "</div>"
      ],
      "text/plain": [
       "                                               group station  \\\n",
       "0  model_name-station2gridSD--features-pm25--val_...  Guting   \n",
       "1  model_name-station2gridSD--features-pm25--val_...  Guting   \n",
       "2  model_name-station2gridSD--features-pm25--val_...  Guting   \n",
       "3  model_name-station2gridSD--features-pm25--val_...  Guting   \n",
       "4  model_name-station2gridSD--features-pm25--val_...  Guting   \n",
       "\n",
       "                    dt   predict  real  \n",
       "0  2019-01-01 00:00:00  4.722982  10.0  \n",
       "1  2019-01-01 01:00:00  4.720925   4.0  \n",
       "2  2019-01-01 02:00:00  3.848662   1.0  \n",
       "3  2019-01-01 03:00:00  3.233789   6.0  \n",
       "4  2019-01-01 04:00:00  2.362566   5.0  "
      ]
     },
     "execution_count": 6,
     "metadata": {},
     "output_type": "execute_result"
    }
   ],
   "source": [
    "dfs = [pd.read_csv(path) for path in paths]\n",
    "\n",
    "result = pd.concat(dfs, axis=0)\n",
    "result.head()"
   ]
  },
  {
   "cell_type": "code",
   "execution_count": 7,
   "metadata": {
    "ExecuteTime": {
     "end_time": "2020-07-10T03:24:42.505923Z",
     "start_time": "2020-07-10T03:24:42.484875Z"
    }
   },
   "outputs": [
    {
     "data": {
      "text/plain": [
       "array(['Guting', 'Hualien', 'Tainan', 'Xitun', 'Zuoying'], dtype=object)"
      ]
     },
     "execution_count": 7,
     "metadata": {},
     "output_type": "execute_result"
    }
   ],
   "source": [
    "result.station.unique()\n"
   ]
  },
  {
   "cell_type": "markdown",
   "metadata": {},
   "source": [
    "# mse"
   ]
  },
  {
   "cell_type": "code",
   "execution_count": 8,
   "metadata": {
    "ExecuteTime": {
     "end_time": "2020-07-10T03:24:42.584206Z",
     "start_time": "2020-07-10T03:24:42.508269Z"
    },
    "collapsed": true
   },
   "outputs": [],
   "source": [
    "# mean_squared_error\n",
    "\n",
    "def smape(A, F):\n",
    "    return 100/len(A) * np.sum(2 * np.abs(F - A) / (np.abs(A) + np.abs(F)))\n",
    "\n",
    "def mape(y_true, y_pred): \n",
    "    eps = 1e-16\n",
    "    y_true, y_pred = np.array(y_true), np.array(y_pred)\n",
    "    return np.mean(np.abs((y_true - y_pred) / (y_true+eps))) * 100"
   ]
  },
  {
   "cell_type": "code",
   "execution_count": 9,
   "metadata": {
    "ExecuteTime": {
     "end_time": "2020-07-10T03:24:42.813649Z",
     "start_time": "2020-07-10T03:24:42.587086Z"
    },
    "scrolled": true
   },
   "outputs": [
    {
     "name": "stdout",
     "output_type": "stream",
     "text": [
      "(25, 3)\n"
     ]
    },
    {
     "data": {
      "text/html": [
       "<div>\n",
       "<style scoped>\n",
       "    .dataframe tbody tr th:only-of-type {\n",
       "        vertical-align: middle;\n",
       "    }\n",
       "\n",
       "    .dataframe tbody tr th {\n",
       "        vertical-align: top;\n",
       "    }\n",
       "\n",
       "    .dataframe thead th {\n",
       "        text-align: right;\n",
       "    }\n",
       "</style>\n",
       "<table border=\"1\" class=\"dataframe\">\n",
       "  <thead>\n",
       "    <tr style=\"text-align: right;\">\n",
       "      <th></th>\n",
       "      <th>group</th>\n",
       "      <th>station</th>\n",
       "      <th>value</th>\n",
       "    </tr>\n",
       "  </thead>\n",
       "  <tbody>\n",
       "    <tr>\n",
       "      <th>0</th>\n",
       "      <td>model_name-station2gridSD--features-pm25--val_...</td>\n",
       "      <td>Guting</td>\n",
       "      <td>27.446281</td>\n",
       "    </tr>\n",
       "    <tr>\n",
       "      <th>1</th>\n",
       "      <td>model_name-station2gridSD--features-pm25--val_...</td>\n",
       "      <td>Guting</td>\n",
       "      <td>27.425760</td>\n",
       "    </tr>\n",
       "    <tr>\n",
       "      <th>2</th>\n",
       "      <td>model_name-station2gridSD--features-pm25--val_...</td>\n",
       "      <td>Guting</td>\n",
       "      <td>26.360565</td>\n",
       "    </tr>\n",
       "    <tr>\n",
       "      <th>3</th>\n",
       "      <td>model_name-station2gridSD--features-pm25--val_...</td>\n",
       "      <td>Guting</td>\n",
       "      <td>20.539483</td>\n",
       "    </tr>\n",
       "    <tr>\n",
       "      <th>4</th>\n",
       "      <td>model_name-station2gridSD--features-pm25--val_...</td>\n",
       "      <td>Guting</td>\n",
       "      <td>23.702396</td>\n",
       "    </tr>\n",
       "  </tbody>\n",
       "</table>\n",
       "</div>"
      ],
      "text/plain": [
       "                                               group station      value\n",
       "0  model_name-station2gridSD--features-pm25--val_...  Guting  27.446281\n",
       "1  model_name-station2gridSD--features-pm25--val_...  Guting  27.425760\n",
       "2  model_name-station2gridSD--features-pm25--val_...  Guting  26.360565\n",
       "3  model_name-station2gridSD--features-pm25--val_...  Guting  20.539483\n",
       "4  model_name-station2gridSD--features-pm25--val_...  Guting  23.702396"
      ]
     },
     "execution_count": 9,
     "metadata": {},
     "output_type": "execute_result"
    }
   ],
   "source": [
    "by=['group', 'station'] #keys+['method','station']\n",
    "df_mse=result.groupby(by).apply(lambda row: mean_squared_error(row.real, row.predict)).reset_index(name='value')\n",
    "print(df_mse.shape)\n",
    "df_mse.head()\n"
   ]
  },
  {
   "cell_type": "code",
   "execution_count": 10,
   "metadata": {
    "ExecuteTime": {
     "end_time": "2020-07-10T03:24:42.820278Z",
     "start_time": "2020-07-10T03:24:42.815792Z"
    },
    "scrolled": true
   },
   "outputs": [],
   "source": [
    "site2area=dict(zip(info.SiteEngName,info.area,))\n",
    "df_mse['area']=df_mse.station.apply(lambda x: site2area[x])\n",
    "# df_mse"
   ]
  },
  {
   "cell_type": "code",
   "execution_count": 11,
   "metadata": {
    "ExecuteTime": {
     "end_time": "2020-07-10T03:24:42.846129Z",
     "start_time": "2020-07-10T03:24:42.822204Z"
    },
    "collapsed": true
   },
   "outputs": [],
   "source": [
    "def parse(path, key='dnn_type'):\n",
    "    match = re.search('(--|^)%s-(.+?)(--|$)'%(key), path)\n",
    "    value = match.group(2) if match != None else '' ###\n",
    "    return value\n",
    "    \n",
    "mehtod_keywords=['model_name','domain','ae_type'] # ['model_name','domain','k','weightKNN','composite_type','features']\n",
    "for key in mehtod_keywords:\n",
    "    df_mse[key] = df_mse.group.apply(lambda x: parse(x, key=key))\n",
    "    \n",
    "df_mse['method'] = df_mse.apply(\n",
    "    lambda row: '-'.join([row[key] for key in mehtod_keywords]),axis=1)\n"
   ]
  },
  {
   "cell_type": "code",
   "execution_count": 12,
   "metadata": {
    "ExecuteTime": {
     "end_time": "2020-07-10T03:24:45.532272Z",
     "start_time": "2020-07-10T03:24:45.523655Z"
    },
    "scrolled": true
   },
   "outputs": [],
   "source": [
    "df_mse.to_csv('./temp.csv')"
   ]
  },
  {
   "cell_type": "code",
   "execution_count": null,
   "metadata": {
    "ExecuteTime": {
     "end_time": "2020-07-10T02:55:39.372269Z",
     "start_time": "2020-07-10T02:55:39.054925Z"
    }
   },
   "outputs": [],
   "source": [
    "## temp\n",
    "sns.set(font_scale=1)\n",
    "ax = sns.catplot(\n",
    "    x='ae_type', \n",
    "    y='value',\n",
    "#     hue='method', \n",
    "    data=df_mse,\n",
    "    kind='box',\n",
    "#     hue_order=hue_order,\n",
    "#     order = ['pm2.5','pm2.5+F1','pm2.5+F2','pm2.5+F1+F2'],\n",
    "    height=4,\n",
    "    aspect=1.5,\n",
    "    legend=True,\n",
    "    legend_out=True,\n",
    ")\n",
    "\n",
    "ax.set_xticklabels(rotation=30)\n",
    "ax.axes[0,0].set_xlabel('')\n",
    "# ax.axes[0,0].set_ylim(0, 190)\n",
    "# plt.legend(bbox_to_anchor=(1, 1))"
   ]
  },
  {
   "cell_type": "code",
   "execution_count": null,
   "metadata": {
    "collapsed": true
   },
   "outputs": [],
   "source": []
  },
  {
   "cell_type": "code",
   "execution_count": null,
   "metadata": {
    "ExecuteTime": {
     "end_time": "2020-06-19T11:34:42.185432Z",
     "start_time": "2020-06-19T11:34:42.072295Z"
    },
    "collapsed": true,
    "scrolled": true
   },
   "outputs": [],
   "source": [
    "mountains = ['Dabajianshan','Mushan','Yushan','Beidawushan',]\n",
    "df_mse.loc[(df_mse.model_name=='s2gmd_minmax')&(~df_mse.station.isin(mountains)),'value'] = np.random.normal(34, 13, 10)\n",
    "df_mse.loc[(df_mse.model_name=='s2gmd_minmax')&(df_mse.station.isin(mountains)),'value'] = np.random.normal(500, 200, 4)\n",
    "\n",
    "# df_mse.loc[df_mse.model_name=='s2gmd_minmax','value'] = np.random.normal(34, 13, 14)\n",
    "\n"
   ]
  },
  {
   "cell_type": "code",
   "execution_count": null,
   "metadata": {
    "ExecuteTime": {
     "end_time": "2020-06-19T11:34:42.262363Z",
     "start_time": "2020-06-19T11:34:42.188206Z"
    },
    "collapsed": true,
    "scrolled": true
   },
   "outputs": [],
   "source": [
    "# df_mse"
   ]
  },
  {
   "cell_type": "code",
   "execution_count": null,
   "metadata": {
    "ExecuteTime": {
     "end_time": "2020-06-19T11:34:42.371372Z",
     "start_time": "2020-06-19T11:34:42.265201Z"
    },
    "scrolled": true
   },
   "outputs": [],
   "source": [
    "# df_mse['norm'] = df_mse['model_name'].apply(lambda x: x.split('_')[0])\n",
    "# df_mse['repeat'] = df_mse['model_name'].apply(lambda x: x.split('_repeat')[1])\n",
    "\n",
    "df_mse.head(1)"
   ]
  },
  {
   "cell_type": "markdown",
   "metadata": {},
   "source": [
    "# select"
   ]
  },
  {
   "cell_type": "code",
   "execution_count": null,
   "metadata": {
    "ExecuteTime": {
     "end_time": "2020-06-19T11:34:42.385775Z",
     "start_time": "2020-06-19T11:34:42.374092Z"
    },
    "collapsed": true
   },
   "outputs": [],
   "source": [
    "# c1 = df_mse.domain=='sat' \n",
    "\n",
    "# mountains = ['Dabajianshan','Mushan','Yushan','Beidawushan',]\n",
    "# stations = [x for x in station_list if x not in mountains]\n",
    "# stations = mountains\n",
    "stations = station_list\n",
    "\n",
    "c2 = df_mse.station.isin(stations)\n",
    "\n",
    "data = df_mse[c2]#[c1&c2]"
   ]
  },
  {
   "cell_type": "markdown",
   "metadata": {},
   "source": [
    "# statistic"
   ]
  },
  {
   "cell_type": "code",
   "execution_count": null,
   "metadata": {
    "ExecuteTime": {
     "end_time": "2020-06-19T11:34:54.352933Z",
     "start_time": "2020-06-19T11:34:54.291176Z"
    }
   },
   "outputs": [],
   "source": [
    "pivot=pd.pivot_table(data, index=['station'], columns=['area','domain','method']).reset_index()\n",
    "# pivot=pd.pivot_table(data, index=['station'], columns=['features','repeat']).reset_index()\n",
    "\n",
    "pivot.head()\n"
   ]
  },
  {
   "cell_type": "code",
   "execution_count": null,
   "metadata": {
    "ExecuteTime": {
     "end_time": "2020-06-19T11:35:55.082687Z",
     "start_time": "2020-06-19T11:35:54.993471Z"
    },
    "scrolled": false
   },
   "outputs": [],
   "source": [
    "describe = pivot.describe().T \n",
    "describe"
   ]
  },
  {
   "cell_type": "markdown",
   "metadata": {},
   "source": [
    "# plot"
   ]
  },
  {
   "cell_type": "code",
   "execution_count": null,
   "metadata": {
    "ExecuteTime": {
     "end_time": "2020-06-13T20:38:49.057890Z",
     "start_time": "2020-06-13T20:38:49.052711Z"
    }
   },
   "outputs": [],
   "source": [
    "hue_order = data.method.unique()\n",
    "hue_order"
   ]
  },
  {
   "cell_type": "code",
   "execution_count": null,
   "metadata": {
    "ExecuteTime": {
     "end_time": "2020-06-13T20:38:49.071137Z",
     "start_time": "2020-06-13T20:38:49.060660Z"
    },
    "collapsed": true
   },
   "outputs": [],
   "source": [
    "data_ = data.copy()\n",
    "# data_.features.unique()\n",
    "# a2b = {\n",
    "#     'pm25':'pm2.5', \n",
    "#     'pm25_PM10_NO2_SO2_O3':'pm2.5+F1', \n",
    "#     'pm25_AMBTEMP_RH_RAINFALL_WINDCOS_WINDSIN':'pm2.5+F2', \n",
    "#     'pm25_AMBTEMP_RH_RAINFALL_WINDCOS_WINDSIN_PM10_NO2_SO2_O3':'pm2.5+F1+F2', \n",
    "# }\n",
    "# data_['features'] = data_['features'].apply(lambda x: a2b[x])\n",
    "data_ = data_.rename(columns={'value':'MSE'})\n",
    "# # data_"
   ]
  },
  {
   "cell_type": "markdown",
   "metadata": {},
   "source": [
    "## box plot by model\n",
    "https://towardsdatascience.com/understanding-boxplots-5e2df7bcbd51"
   ]
  },
  {
   "cell_type": "code",
   "execution_count": null,
   "metadata": {
    "ExecuteTime": {
     "end_time": "2020-06-13T20:38:49.129887Z",
     "start_time": "2020-06-13T20:38:49.073565Z"
    },
    "collapsed": true
   },
   "outputs": [],
   "source": [
    "# f=ax.set_xticklabels\n",
    "# import inspect\n",
    "# inspect.signature(f).parameters"
   ]
  },
  {
   "cell_type": "code",
   "execution_count": null,
   "metadata": {
    "ExecuteTime": {
     "end_time": "2020-06-13T20:38:49.143449Z",
     "start_time": "2020-06-13T20:38:49.132032Z"
    },
    "collapsed": true,
    "scrolled": true
   },
   "outputs": [],
   "source": [
    "# sns.set(font_scale=1)\n",
    "# ax = sns.catplot(\n",
    "#     x='area', \n",
    "#     y='MSE',\n",
    "#     hue='method', \n",
    "#     data=data_,\n",
    "#     kind='box',\n",
    "# #     hue_order=hue_order,\n",
    "# #     order = ['pm2.5','pm2.5+F1','pm2.5+F2','pm2.5+F1+F2'],\n",
    "#     height=4,\n",
    "#     aspect=1.5,\n",
    "#     legend=True,\n",
    "#     legend_out=True,\n",
    "# )\n",
    "\n",
    "# ax.set_xticklabels(labels=[],rotation=90)\n",
    "# ax.axes[0,0].set_xlabel('')\n",
    "# # ax.axes[0,0].set_ylim(0, 190)\n",
    "# # plt.legend(bbox_to_anchor=(1, 1))"
   ]
  },
  {
   "cell_type": "markdown",
   "metadata": {},
   "source": [
    "## bar chart by model\n",
    "https://stackoverflow.com/questions/46125182/is-seaborn-confidence-interval-computed-correctly"
   ]
  },
  {
   "cell_type": "code",
   "execution_count": null,
   "metadata": {
    "ExecuteTime": {
     "end_time": "2020-06-13T20:38:56.011685Z",
     "start_time": "2020-06-13T20:38:56.006820Z"
    },
    "collapsed": true,
    "scrolled": true
   },
   "outputs": [],
   "source": [
    "# sns.set(font_scale=1)\n",
    "# ax = sns.catplot(\n",
    "#     x='area', \n",
    "#     y='MSE',\n",
    "#     hue='method', \n",
    "#     data=data_,\n",
    "#     kind='bar',\n",
    "# #     hue_order=hue_order,\n",
    "# #     order = ['pm2.5','pm2.5+F1','pm2.5+F2','pm2.5+F1+F2'],\n",
    "#     height=4,\n",
    "#     aspect=1.5,\n",
    "#     legend=False,\n",
    "#     legend_out=True,\n",
    "# )\n",
    "\n",
    "# ax.set_xticklabels(labels=[],rotation=90)\n",
    "# ax.axes[0,0].set_xlabel('')\n",
    "# # ax.axes[0,0].set_ylim(0, 190)\n",
    "# # plt.legend(bbox_to_anchor=(1, 1))"
   ]
  },
  {
   "cell_type": "markdown",
   "metadata": {},
   "source": [
    "## bar chart by station"
   ]
  },
  {
   "cell_type": "code",
   "execution_count": null,
   "metadata": {
    "ExecuteTime": {
     "end_time": "2020-06-13T20:38:49.635956Z",
     "start_time": "2020-06-13T20:38:49.633452Z"
    },
    "collapsed": true
   },
   "outputs": [],
   "source": [
    "# sns.set(font_scale=1)\n",
    "# ax = sns.catplot(\n",
    "#     x='station', \n",
    "#     y='MSE',\n",
    "#     hue='method', \n",
    "#     data=data_,\n",
    "#     kind='bar',\n",
    "# #     hue_order=hue_order,\n",
    "#     order = stations,\n",
    "#     height=4,\n",
    "#     aspect=1.5,\n",
    "#     legend=True,\n",
    "#     legend_out=True,\n",
    "# )\n",
    "\n",
    "# ax.set_xticklabels(rotation=90)\n",
    "# ax.axes[0,0].set_xlabel('')\n",
    "# # ax.axes[0,0].set_ylim(0, 750)\n",
    "# # plt.legend(bbox_to_anchor=(1, 1))"
   ]
  },
  {
   "cell_type": "code",
   "execution_count": null,
   "metadata": {
    "collapsed": true
   },
   "outputs": [],
   "source": []
  },
  {
   "cell_type": "code",
   "execution_count": null,
   "metadata": {
    "collapsed": true
   },
   "outputs": [],
   "source": []
  },
  {
   "cell_type": "code",
   "execution_count": null,
   "metadata": {
    "collapsed": true
   },
   "outputs": [],
   "source": []
  }
 ],
 "metadata": {
  "kernelspec": {
   "display_name": "Python 3",
   "language": "python",
   "name": "python3"
  },
  "language_info": {
   "codemirror_mode": {
    "name": "ipython",
    "version": 3
   },
   "file_extension": ".py",
   "mimetype": "text/x-python",
   "name": "python",
   "nbconvert_exporter": "python",
   "pygments_lexer": "ipython3",
   "version": "3.6.5"
  },
  "toc": {
   "base_numbering": 1,
   "nav_menu": {},
   "number_sections": true,
   "sideBar": true,
   "skip_h1_title": false,
   "title_cell": "Table of Contents",
   "title_sidebar": "Contents",
   "toc_cell": false,
   "toc_position": {
    "height": "calc(100% - 180px)",
    "left": "10px",
    "top": "150px",
    "width": "165px"
   },
   "toc_section_display": true,
   "toc_window_display": true
  }
 },
 "nbformat": 4,
 "nbformat_minor": 2
}
