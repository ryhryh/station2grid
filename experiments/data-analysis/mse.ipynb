{
 "cells": [
  {
   "cell_type": "code",
   "execution_count": 1,
   "metadata": {
    "ExecuteTime": {
     "end_time": "2020-07-13T06:15:04.679483Z",
     "start_time": "2020-07-13T06:15:03.434761Z"
    },
    "collapsed": true
   },
   "outputs": [],
   "source": [
    "from glob import glob\n",
    "import os\n",
    "import pandas as pd\n",
    "from sklearn.metrics import mean_squared_error\n",
    "import matplotlib.pyplot as plt\n",
    "import numpy as np\n",
    "import seaborn as sns\n",
    "import matplotlib\n",
    "import re\n",
    "\n",
    "import sys\n",
    "home=os.path.expanduser(\"~\")\n",
    "sys.path.append(os.path.join(home, 'station2grid'))\n",
    "\n",
    "from tools import plotMap, CommonObj\n",
    "%matplotlib inline"
   ]
  },
  {
   "cell_type": "code",
   "execution_count": 2,
   "metadata": {
    "ExecuteTime": {
     "end_time": "2020-07-13T06:15:04.722616Z",
     "start_time": "2020-07-13T06:15:04.682981Z"
    }
   },
   "outputs": [
    {
     "data": {
      "text/html": [
       "<div>\n",
       "<style scoped>\n",
       "    .dataframe tbody tr th:only-of-type {\n",
       "        vertical-align: middle;\n",
       "    }\n",
       "\n",
       "    .dataframe tbody tr th {\n",
       "        vertical-align: top;\n",
       "    }\n",
       "\n",
       "    .dataframe thead th {\n",
       "        text-align: right;\n",
       "    }\n",
       "</style>\n",
       "<table border=\"1\" class=\"dataframe\">\n",
       "  <thead>\n",
       "    <tr style=\"text-align: right;\">\n",
       "      <th></th>\n",
       "      <th>SiteName</th>\n",
       "      <th>SiteEngName</th>\n",
       "      <th>area</th>\n",
       "      <th>lat</th>\n",
       "      <th>lon</th>\n",
       "      <th>lat_round</th>\n",
       "      <th>lon_round</th>\n",
       "      <th>row</th>\n",
       "      <th>col</th>\n",
       "    </tr>\n",
       "  </thead>\n",
       "  <tbody>\n",
       "    <tr>\n",
       "      <th>0</th>\n",
       "      <td>大霸尖山</td>\n",
       "      <td>Dabajianshan</td>\n",
       "      <td>mountain</td>\n",
       "      <td>24.461111</td>\n",
       "      <td>121.249722</td>\n",
       "      <td>24.46</td>\n",
       "      <td>121.25</td>\n",
       "      <td>88</td>\n",
       "      <td>125</td>\n",
       "    </tr>\n",
       "    <tr>\n",
       "      <th>1</th>\n",
       "      <td>牧山</td>\n",
       "      <td>Mushan</td>\n",
       "      <td>mountain</td>\n",
       "      <td>23.864722</td>\n",
       "      <td>121.152222</td>\n",
       "      <td>23.86</td>\n",
       "      <td>121.15</td>\n",
       "      <td>148</td>\n",
       "      <td>115</td>\n",
       "    </tr>\n",
       "    <tr>\n",
       "      <th>2</th>\n",
       "      <td>玉山</td>\n",
       "      <td>Yushan</td>\n",
       "      <td>mountain</td>\n",
       "      <td>23.470556</td>\n",
       "      <td>120.948889</td>\n",
       "      <td>23.47</td>\n",
       "      <td>120.95</td>\n",
       "      <td>187</td>\n",
       "      <td>95</td>\n",
       "    </tr>\n",
       "    <tr>\n",
       "      <th>3</th>\n",
       "      <td>北大武山</td>\n",
       "      <td>Beidawushan</td>\n",
       "      <td>mountain</td>\n",
       "      <td>22.629167</td>\n",
       "      <td>120.751944</td>\n",
       "      <td>22.63</td>\n",
       "      <td>120.75</td>\n",
       "      <td>271</td>\n",
       "      <td>75</td>\n",
       "    </tr>\n",
       "    <tr>\n",
       "      <th>4</th>\n",
       "      <td>陽明</td>\n",
       "      <td>Yangming</td>\n",
       "      <td>city</td>\n",
       "      <td>25.182722</td>\n",
       "      <td>121.529583</td>\n",
       "      <td>25.18</td>\n",
       "      <td>121.53</td>\n",
       "      <td>16</td>\n",
       "      <td>153</td>\n",
       "    </tr>\n",
       "  </tbody>\n",
       "</table>\n",
       "</div>"
      ],
      "text/plain": [
       "  SiteName   SiteEngName      area        lat         lon  lat_round  \\\n",
       "0     大霸尖山  Dabajianshan  mountain  24.461111  121.249722      24.46   \n",
       "1       牧山        Mushan  mountain  23.864722  121.152222      23.86   \n",
       "2       玉山        Yushan  mountain  23.470556  120.948889      23.47   \n",
       "3     北大武山   Beidawushan  mountain  22.629167  120.751944      22.63   \n",
       "4       陽明      Yangming      city  25.182722  121.529583      25.18   \n",
       "\n",
       "   lon_round  row  col  \n",
       "0     121.25   88  125  \n",
       "1     121.15  148  115  \n",
       "2     120.95  187   95  \n",
       "3     120.75  271   75  \n",
       "4     121.53   16  153  "
      ]
     },
     "execution_count": 2,
     "metadata": {},
     "output_type": "execute_result"
    }
   ],
   "source": [
    "info = CommonObj().epa_station_info\n",
    "info.head()"
   ]
  },
  {
   "cell_type": "markdown",
   "metadata": {},
   "source": [
    "# read"
   ]
  },
  {
   "cell_type": "code",
   "execution_count": 3,
   "metadata": {
    "ExecuteTime": {
     "end_time": "2020-07-13T06:15:04.793993Z",
     "start_time": "2020-07-13T06:15:04.724895Z"
    }
   },
   "outputs": [
    {
     "data": {
      "text/html": [
       "<div>\n",
       "<style scoped>\n",
       "    .dataframe tbody tr th:only-of-type {\n",
       "        vertical-align: middle;\n",
       "    }\n",
       "\n",
       "    .dataframe tbody tr th {\n",
       "        vertical-align: top;\n",
       "    }\n",
       "\n",
       "    .dataframe thead th {\n",
       "        text-align: right;\n",
       "    }\n",
       "</style>\n",
       "<table border=\"1\" class=\"dataframe\">\n",
       "  <thead>\n",
       "    <tr style=\"text-align: right;\">\n",
       "      <th></th>\n",
       "      <th>SiteName</th>\n",
       "      <th>SiteEngName</th>\n",
       "      <th>area</th>\n",
       "      <th>lat</th>\n",
       "      <th>lon</th>\n",
       "      <th>lat_round</th>\n",
       "      <th>lon_round</th>\n",
       "      <th>row</th>\n",
       "      <th>col</th>\n",
       "    </tr>\n",
       "  </thead>\n",
       "  <tbody>\n",
       "    <tr>\n",
       "      <th>0</th>\n",
       "      <td>大霸尖山</td>\n",
       "      <td>Dabajianshan</td>\n",
       "      <td>mountain</td>\n",
       "      <td>24.461111</td>\n",
       "      <td>121.249722</td>\n",
       "      <td>24.46</td>\n",
       "      <td>121.25</td>\n",
       "      <td>88</td>\n",
       "      <td>125</td>\n",
       "    </tr>\n",
       "  </tbody>\n",
       "</table>\n",
       "</div>"
      ],
      "text/plain": [
       "  SiteName   SiteEngName      area        lat         lon  lat_round  \\\n",
       "0     大霸尖山  Dabajianshan  mountain  24.461111  121.249722      24.46   \n",
       "\n",
       "   lon_round  row  col  \n",
       "0     121.25   88  125  "
      ]
     },
     "execution_count": 3,
     "metadata": {},
     "output_type": "execute_result"
    }
   ],
   "source": [
    "info = CommonObj().epa_station_info\n",
    "info.head(1)\n"
   ]
  },
  {
   "cell_type": "code",
   "execution_count": 21,
   "metadata": {
    "ExecuteTime": {
     "end_time": "2020-07-13T07:18:22.229675Z",
     "start_time": "2020-07-13T07:18:22.223836Z"
    },
    "collapsed": true
   },
   "outputs": [],
   "source": [
    "feature_list = [\n",
    "    'pm25',\n",
    "#     'pm25_pm10',\n",
    "#     'pm25_PM10'\n",
    "#     'pm25_PM10_NO2_SO2_O3',\n",
    "#     'pm25_AMBTEMP_RH_RAINFALL_WINDCOS_WINDSIN',\n",
    "#     'pm25_AMBTEMP_RH_RAINFALL_WINDCOS_WINDSIN_PM10_NO2_SO2_O3',\n",
    "]\n",
    "\n",
    "station_list = info.SiteEngName.values\n",
    "# station_list = ['Dabajianshan','Mushan','Yushan','Beidawushan',\n",
    "#                 'Guting','Banqiao','Zhongli','Xitun','Tainan','Fengshan',\n",
    "#                 'Yilan','Hualien','Taitung','Hengchun'] \n",
    "\n",
    "# station_list = ['Tainan', 'Guting', 'Xitun', 'Zuoying', 'Hualien']\n",
    "code_list = ['4576']\n"
   ]
  },
  {
   "cell_type": "code",
   "execution_count": 32,
   "metadata": {
    "ExecuteTime": {
     "end_time": "2020-07-13T07:23:31.202255Z",
     "start_time": "2020-07-13T07:23:31.138874Z"
    },
    "scrolled": true
   },
   "outputs": [
    {
     "data": {
      "text/plain": [
       "385"
      ]
     },
     "execution_count": 32,
     "metadata": {},
     "output_type": "execute_result"
    }
   ],
   "source": [
    "def f(path):\n",
    "    #print(path)\n",
    "    \n",
    "    model_name = re.search('model_name-(.+?)--',path).group(1)\n",
    "    \n",
    "    \n",
    "    if model_name == 'station2gridSD': \n",
    "        domain = re.search('domain-(.+?)--',path).group(1)\n",
    "        val_stations = re.search('val_stations-(.+?)--',path).group(1)\n",
    "        features = re.search('features-(.+?)--',path).group(1)\n",
    "        code = re.search('code_length-(.+?)--',path).group(1)\n",
    "        #print(code, code in code_list)\n",
    "        if val_stations in station_list:\n",
    "            if features in feature_list:\n",
    "                if domain in ['sat','air']:\n",
    "                    if code in code_list:\n",
    "                        #print(path)\n",
    "                        return True\n",
    "                    \n",
    "    if model_name == 'station2gridMD' : \n",
    "        features = re.search('features-(.+?)--',path).group(1)\n",
    "        if features in feature_list:\n",
    "            return True\n",
    "    \n",
    "    if model_name == 'krg' : \n",
    "        return True \n",
    "        \n",
    "    if model_name=='knn': \n",
    "        k = re.search('k-(.+?)--',path).group(1)\n",
    "        weightKNN = re.search('weightKNN-(.+?).csv',path).group(1)\n",
    "        if (k,weightKNN)==('4','distance'): return True\n",
    "        \n",
    "    return False\n",
    "    \n",
    "paths = glob(os.path.join('..','results','*csv'))\n",
    "paths = [path for path in paths if f(path)==True]\n",
    "paths = sorted(paths)\n",
    "\n",
    "len(paths)\n",
    "# paths\n"
   ]
  },
  {
   "cell_type": "code",
   "execution_count": 33,
   "metadata": {
    "ExecuteTime": {
     "end_time": "2020-07-13T07:24:01.320258Z",
     "start_time": "2020-07-13T07:23:52.452390Z"
    },
    "scrolled": false
   },
   "outputs": [
    {
     "data": {
      "text/html": [
       "<div>\n",
       "<style scoped>\n",
       "    .dataframe tbody tr th:only-of-type {\n",
       "        vertical-align: middle;\n",
       "    }\n",
       "\n",
       "    .dataframe tbody tr th {\n",
       "        vertical-align: top;\n",
       "    }\n",
       "\n",
       "    .dataframe thead th {\n",
       "        text-align: right;\n",
       "    }\n",
       "</style>\n",
       "<table border=\"1\" class=\"dataframe\">\n",
       "  <thead>\n",
       "    <tr style=\"text-align: right;\">\n",
       "      <th></th>\n",
       "      <th>group</th>\n",
       "      <th>station</th>\n",
       "      <th>dt</th>\n",
       "      <th>predict</th>\n",
       "      <th>real</th>\n",
       "    </tr>\n",
       "  </thead>\n",
       "  <tbody>\n",
       "    <tr>\n",
       "      <th>0</th>\n",
       "      <td>model_name-knn--val_stations-Annan--k-4--weigh...</td>\n",
       "      <td>Annan</td>\n",
       "      <td>2019-01-01 00:00:00</td>\n",
       "      <td>11.205232</td>\n",
       "      <td>1.0</td>\n",
       "    </tr>\n",
       "    <tr>\n",
       "      <th>1</th>\n",
       "      <td>model_name-knn--val_stations-Annan--k-4--weigh...</td>\n",
       "      <td>Annan</td>\n",
       "      <td>2019-01-01 01:00:00</td>\n",
       "      <td>16.845314</td>\n",
       "      <td>9.0</td>\n",
       "    </tr>\n",
       "    <tr>\n",
       "      <th>2</th>\n",
       "      <td>model_name-knn--val_stations-Annan--k-4--weigh...</td>\n",
       "      <td>Annan</td>\n",
       "      <td>2019-01-01 02:00:00</td>\n",
       "      <td>13.746756</td>\n",
       "      <td>5.0</td>\n",
       "    </tr>\n",
       "    <tr>\n",
       "      <th>3</th>\n",
       "      <td>model_name-knn--val_stations-Annan--k-4--weigh...</td>\n",
       "      <td>Annan</td>\n",
       "      <td>2019-01-01 03:00:00</td>\n",
       "      <td>15.234880</td>\n",
       "      <td>8.0</td>\n",
       "    </tr>\n",
       "    <tr>\n",
       "      <th>4</th>\n",
       "      <td>model_name-knn--val_stations-Annan--k-4--weigh...</td>\n",
       "      <td>Annan</td>\n",
       "      <td>2019-01-01 04:00:00</td>\n",
       "      <td>11.098326</td>\n",
       "      <td>1.0</td>\n",
       "    </tr>\n",
       "  </tbody>\n",
       "</table>\n",
       "</div>"
      ],
      "text/plain": [
       "                                               group station  \\\n",
       "0  model_name-knn--val_stations-Annan--k-4--weigh...   Annan   \n",
       "1  model_name-knn--val_stations-Annan--k-4--weigh...   Annan   \n",
       "2  model_name-knn--val_stations-Annan--k-4--weigh...   Annan   \n",
       "3  model_name-knn--val_stations-Annan--k-4--weigh...   Annan   \n",
       "4  model_name-knn--val_stations-Annan--k-4--weigh...   Annan   \n",
       "\n",
       "                    dt    predict  real  \n",
       "0  2019-01-01 00:00:00  11.205232   1.0  \n",
       "1  2019-01-01 01:00:00  16.845314   9.0  \n",
       "2  2019-01-01 02:00:00  13.746756   5.0  \n",
       "3  2019-01-01 03:00:00  15.234880   8.0  \n",
       "4  2019-01-01 04:00:00  11.098326   1.0  "
      ]
     },
     "execution_count": 33,
     "metadata": {},
     "output_type": "execute_result"
    }
   ],
   "source": [
    "dfs = [pd.read_csv(path) for path in paths]\n",
    "\n",
    "result = pd.concat(dfs, axis=0)\n",
    "result.head()"
   ]
  },
  {
   "cell_type": "code",
   "execution_count": 34,
   "metadata": {
    "ExecuteTime": {
     "end_time": "2020-07-13T07:24:01.427404Z",
     "start_time": "2020-07-13T07:24:01.321978Z"
    }
   },
   "outputs": [
    {
     "data": {
      "text/plain": [
       "array(['Annan', 'Banqiao', 'Beidawushan', 'Cailiao', 'Changhua',\n",
       "       'Chaozhou', 'Chiayi', 'Dabajianshan', 'Dali', 'Daliao', 'Datong',\n",
       "       'Dayuan', 'Dongshan', 'Douliu', 'Erlin', 'Fengshan', 'Fengyuan',\n",
       "       'Fuxing', 'Guanshan', 'Guanyin', 'Guting', 'Hengchun', 'Hsinchu',\n",
       "       'Hualien', 'Hukou', 'Keelung', 'Linkou', 'Linyuan', 'Longtan',\n",
       "       'Lunbei', 'Mailiao', 'Meinong', 'Miaoli', 'Mushan', 'Nantou',\n",
       "       'Nanzi', 'Pingtung', 'Pingzhen', 'Puli', 'Puzi', 'Qianjin',\n",
       "       'Qianzhen', 'Qiaotou', 'Renwu', 'Sanchong', 'Sanyi', 'Shalu',\n",
       "       'Shanhua', 'Shilin', 'Songshan', 'Tainan', 'Taitung', 'Taixi',\n",
       "       'Tamsui', 'Taoyuan', 'Toufen', 'Tucheng', 'Wanhua', 'Wanli',\n",
       "       'Xianxi', 'Xiaogang', 'Xindian', 'Xingang', 'Xinying', 'Xinzhuang',\n",
       "       'Xitun', 'Xizhi', 'Yangming', 'Yilan', 'Yonghe', 'Yushan',\n",
       "       'Zhongli', 'Zhongming', 'Zhongshan', 'Zhudong', 'Zhushan',\n",
       "       'Zuoying'], dtype=object)"
      ]
     },
     "execution_count": 34,
     "metadata": {},
     "output_type": "execute_result"
    }
   ],
   "source": [
    "result.station.unique()\n"
   ]
  },
  {
   "cell_type": "markdown",
   "metadata": {},
   "source": [
    "# mse"
   ]
  },
  {
   "cell_type": "code",
   "execution_count": 35,
   "metadata": {
    "ExecuteTime": {
     "end_time": "2020-07-13T07:24:05.416844Z",
     "start_time": "2020-07-13T07:24:05.408618Z"
    },
    "collapsed": true
   },
   "outputs": [],
   "source": [
    "# mean_squared_error\n",
    "\n",
    "def smape(A, F):\n",
    "    return 100/len(A) * np.sum(2 * np.abs(F - A) / (np.abs(A) + np.abs(F)))\n",
    "\n",
    "def mape(y_true, y_pred): \n",
    "    eps = 1e-16\n",
    "    y_true, y_pred = np.array(y_true), np.array(y_pred)\n",
    "    return np.mean(np.abs((y_true - y_pred) / (y_true+eps))) * 100"
   ]
  },
  {
   "cell_type": "code",
   "execution_count": 36,
   "metadata": {
    "ExecuteTime": {
     "end_time": "2020-07-13T07:24:08.026451Z",
     "start_time": "2020-07-13T07:24:06.584585Z"
    },
    "scrolled": true
   },
   "outputs": [
    {
     "data": {
      "text/html": [
       "<div>\n",
       "<style scoped>\n",
       "    .dataframe tbody tr th:only-of-type {\n",
       "        vertical-align: middle;\n",
       "    }\n",
       "\n",
       "    .dataframe tbody tr th {\n",
       "        vertical-align: top;\n",
       "    }\n",
       "\n",
       "    .dataframe thead th {\n",
       "        text-align: right;\n",
       "    }\n",
       "</style>\n",
       "<table border=\"1\" class=\"dataframe\">\n",
       "  <thead>\n",
       "    <tr style=\"text-align: right;\">\n",
       "      <th></th>\n",
       "      <th>group</th>\n",
       "      <th>station</th>\n",
       "      <th>value</th>\n",
       "    </tr>\n",
       "  </thead>\n",
       "  <tbody>\n",
       "    <tr>\n",
       "      <th>0</th>\n",
       "      <td>model_name-knn--val_stations-Annan--k-4--weigh...</td>\n",
       "      <td>Annan</td>\n",
       "      <td>40.769512</td>\n",
       "    </tr>\n",
       "    <tr>\n",
       "      <th>1</th>\n",
       "      <td>model_name-knn--val_stations-Banqiao--k-4--wei...</td>\n",
       "      <td>Banqiao</td>\n",
       "      <td>14.578569</td>\n",
       "    </tr>\n",
       "    <tr>\n",
       "      <th>2</th>\n",
       "      <td>model_name-knn--val_stations-Beidawushan--k-4-...</td>\n",
       "      <td>Beidawushan</td>\n",
       "      <td>625.426837</td>\n",
       "    </tr>\n",
       "    <tr>\n",
       "      <th>3</th>\n",
       "      <td>model_name-knn--val_stations-Cailiao--k-4--wei...</td>\n",
       "      <td>Cailiao</td>\n",
       "      <td>19.842513</td>\n",
       "    </tr>\n",
       "    <tr>\n",
       "      <th>4</th>\n",
       "      <td>model_name-knn--val_stations-Changhua--k-4--we...</td>\n",
       "      <td>Changhua</td>\n",
       "      <td>36.889515</td>\n",
       "    </tr>\n",
       "  </tbody>\n",
       "</table>\n",
       "</div>"
      ],
      "text/plain": [
       "                                               group      station       value\n",
       "0  model_name-knn--val_stations-Annan--k-4--weigh...        Annan   40.769512\n",
       "1  model_name-knn--val_stations-Banqiao--k-4--wei...      Banqiao   14.578569\n",
       "2  model_name-knn--val_stations-Beidawushan--k-4-...  Beidawushan  625.426837\n",
       "3  model_name-knn--val_stations-Cailiao--k-4--wei...      Cailiao   19.842513\n",
       "4  model_name-knn--val_stations-Changhua--k-4--we...     Changhua   36.889515"
      ]
     },
     "execution_count": 36,
     "metadata": {},
     "output_type": "execute_result"
    }
   ],
   "source": [
    "by=['group', 'station'] \n",
    "df_mse=result.groupby(by).apply(lambda row: mean_squared_error(row.real, row.predict)).reset_index(name='value')\n",
    "df_mse.head()\n"
   ]
  },
  {
   "cell_type": "code",
   "execution_count": 174,
   "metadata": {
    "ExecuteTime": {
     "end_time": "2020-07-13T08:38:54.292350Z",
     "start_time": "2020-07-13T08:38:54.263796Z"
    },
    "scrolled": true
   },
   "outputs": [
    {
     "data": {
      "text/html": [
       "<div>\n",
       "<style scoped>\n",
       "    .dataframe tbody tr th:only-of-type {\n",
       "        vertical-align: middle;\n",
       "    }\n",
       "\n",
       "    .dataframe tbody tr th {\n",
       "        vertical-align: top;\n",
       "    }\n",
       "\n",
       "    .dataframe thead th {\n",
       "        text-align: right;\n",
       "    }\n",
       "</style>\n",
       "<table border=\"1\" class=\"dataframe\">\n",
       "  <thead>\n",
       "    <tr style=\"text-align: right;\">\n",
       "      <th></th>\n",
       "      <th>group</th>\n",
       "      <th>station</th>\n",
       "      <th>value</th>\n",
       "      <th>area</th>\n",
       "      <th>model_name</th>\n",
       "      <th>domain</th>\n",
       "      <th>features</th>\n",
       "      <th>method</th>\n",
       "    </tr>\n",
       "  </thead>\n",
       "  <tbody>\n",
       "    <tr>\n",
       "      <th>0</th>\n",
       "      <td>model_name-knn--val_stations-Annan--k-4--weigh...</td>\n",
       "      <td>Annan</td>\n",
       "      <td>40.769512</td>\n",
       "      <td>city</td>\n",
       "      <td>knn</td>\n",
       "      <td></td>\n",
       "      <td></td>\n",
       "      <td>knn--</td>\n",
       "    </tr>\n",
       "    <tr>\n",
       "      <th>1</th>\n",
       "      <td>model_name-knn--val_stations-Banqiao--k-4--wei...</td>\n",
       "      <td>Banqiao</td>\n",
       "      <td>14.578569</td>\n",
       "      <td>city</td>\n",
       "      <td>knn</td>\n",
       "      <td></td>\n",
       "      <td></td>\n",
       "      <td>knn--</td>\n",
       "    </tr>\n",
       "    <tr>\n",
       "      <th>2</th>\n",
       "      <td>model_name-knn--val_stations-Beidawushan--k-4-...</td>\n",
       "      <td>Beidawushan</td>\n",
       "      <td>625.426837</td>\n",
       "      <td>mountain</td>\n",
       "      <td>knn</td>\n",
       "      <td></td>\n",
       "      <td></td>\n",
       "      <td>knn--</td>\n",
       "    </tr>\n",
       "    <tr>\n",
       "      <th>3</th>\n",
       "      <td>model_name-knn--val_stations-Cailiao--k-4--wei...</td>\n",
       "      <td>Cailiao</td>\n",
       "      <td>19.842513</td>\n",
       "      <td>city</td>\n",
       "      <td>knn</td>\n",
       "      <td></td>\n",
       "      <td></td>\n",
       "      <td>knn--</td>\n",
       "    </tr>\n",
       "    <tr>\n",
       "      <th>4</th>\n",
       "      <td>model_name-knn--val_stations-Changhua--k-4--we...</td>\n",
       "      <td>Changhua</td>\n",
       "      <td>36.889515</td>\n",
       "      <td>city</td>\n",
       "      <td>knn</td>\n",
       "      <td></td>\n",
       "      <td></td>\n",
       "      <td>knn--</td>\n",
       "    </tr>\n",
       "  </tbody>\n",
       "</table>\n",
       "</div>"
      ],
      "text/plain": [
       "                                               group      station       value  \\\n",
       "0  model_name-knn--val_stations-Annan--k-4--weigh...        Annan   40.769512   \n",
       "1  model_name-knn--val_stations-Banqiao--k-4--wei...      Banqiao   14.578569   \n",
       "2  model_name-knn--val_stations-Beidawushan--k-4-...  Beidawushan  625.426837   \n",
       "3  model_name-knn--val_stations-Cailiao--k-4--wei...      Cailiao   19.842513   \n",
       "4  model_name-knn--val_stations-Changhua--k-4--we...     Changhua   36.889515   \n",
       "\n",
       "       area model_name domain features method  \n",
       "0      city        knn                  knn--  \n",
       "1      city        knn                  knn--  \n",
       "2  mountain        knn                  knn--  \n",
       "3      city        knn                  knn--  \n",
       "4      city        knn                  knn--  "
      ]
     },
     "execution_count": 174,
     "metadata": {},
     "output_type": "execute_result"
    }
   ],
   "source": [
    "site2area=dict(zip(info.SiteEngName, info.area))\n",
    "df_mse['area']=df_mse.station.apply(lambda x: site2area[x])\n",
    "df_mse.head()"
   ]
  },
  {
   "cell_type": "code",
   "execution_count": 175,
   "metadata": {
    "ExecuteTime": {
     "end_time": "2020-07-13T08:38:56.033471Z",
     "start_time": "2020-07-13T08:38:55.968611Z"
    },
    "scrolled": true
   },
   "outputs": [
    {
     "data": {
      "text/html": [
       "<div>\n",
       "<style scoped>\n",
       "    .dataframe tbody tr th:only-of-type {\n",
       "        vertical-align: middle;\n",
       "    }\n",
       "\n",
       "    .dataframe tbody tr th {\n",
       "        vertical-align: top;\n",
       "    }\n",
       "\n",
       "    .dataframe thead th {\n",
       "        text-align: right;\n",
       "    }\n",
       "</style>\n",
       "<table border=\"1\" class=\"dataframe\">\n",
       "  <thead>\n",
       "    <tr style=\"text-align: right;\">\n",
       "      <th></th>\n",
       "      <th>group</th>\n",
       "      <th>station</th>\n",
       "      <th>value</th>\n",
       "      <th>area</th>\n",
       "      <th>model_name</th>\n",
       "      <th>domain</th>\n",
       "      <th>features</th>\n",
       "      <th>method</th>\n",
       "    </tr>\n",
       "  </thead>\n",
       "  <tbody>\n",
       "    <tr>\n",
       "      <th>0</th>\n",
       "      <td>model_name-knn--val_stations-Annan--k-4--weigh...</td>\n",
       "      <td>Annan</td>\n",
       "      <td>40.769512</td>\n",
       "      <td>city</td>\n",
       "      <td>knn</td>\n",
       "      <td></td>\n",
       "      <td></td>\n",
       "      <td>knn--</td>\n",
       "    </tr>\n",
       "    <tr>\n",
       "      <th>1</th>\n",
       "      <td>model_name-knn--val_stations-Banqiao--k-4--wei...</td>\n",
       "      <td>Banqiao</td>\n",
       "      <td>14.578569</td>\n",
       "      <td>city</td>\n",
       "      <td>knn</td>\n",
       "      <td></td>\n",
       "      <td></td>\n",
       "      <td>knn--</td>\n",
       "    </tr>\n",
       "    <tr>\n",
       "      <th>2</th>\n",
       "      <td>model_name-knn--val_stations-Beidawushan--k-4-...</td>\n",
       "      <td>Beidawushan</td>\n",
       "      <td>625.426837</td>\n",
       "      <td>mountain</td>\n",
       "      <td>knn</td>\n",
       "      <td></td>\n",
       "      <td></td>\n",
       "      <td>knn--</td>\n",
       "    </tr>\n",
       "    <tr>\n",
       "      <th>3</th>\n",
       "      <td>model_name-knn--val_stations-Cailiao--k-4--wei...</td>\n",
       "      <td>Cailiao</td>\n",
       "      <td>19.842513</td>\n",
       "      <td>city</td>\n",
       "      <td>knn</td>\n",
       "      <td></td>\n",
       "      <td></td>\n",
       "      <td>knn--</td>\n",
       "    </tr>\n",
       "    <tr>\n",
       "      <th>4</th>\n",
       "      <td>model_name-knn--val_stations-Changhua--k-4--we...</td>\n",
       "      <td>Changhua</td>\n",
       "      <td>36.889515</td>\n",
       "      <td>city</td>\n",
       "      <td>knn</td>\n",
       "      <td></td>\n",
       "      <td></td>\n",
       "      <td>knn--</td>\n",
       "    </tr>\n",
       "  </tbody>\n",
       "</table>\n",
       "</div>"
      ],
      "text/plain": [
       "                                               group      station       value  \\\n",
       "0  model_name-knn--val_stations-Annan--k-4--weigh...        Annan   40.769512   \n",
       "1  model_name-knn--val_stations-Banqiao--k-4--wei...      Banqiao   14.578569   \n",
       "2  model_name-knn--val_stations-Beidawushan--k-4-...  Beidawushan  625.426837   \n",
       "3  model_name-knn--val_stations-Cailiao--k-4--wei...      Cailiao   19.842513   \n",
       "4  model_name-knn--val_stations-Changhua--k-4--we...     Changhua   36.889515   \n",
       "\n",
       "       area model_name domain features method  \n",
       "0      city        knn                  knn--  \n",
       "1      city        knn                  knn--  \n",
       "2  mountain        knn                  knn--  \n",
       "3      city        knn                  knn--  \n",
       "4      city        knn                  knn--  "
      ]
     },
     "execution_count": 175,
     "metadata": {},
     "output_type": "execute_result"
    }
   ],
   "source": [
    "def parse(path, key='dnn_type'):\n",
    "    match = re.search('(--|^)%s-(.+?)(--|$)'%(key), path)\n",
    "    value = match.group(2) if match != None else '' ###\n",
    "    return value\n",
    "    \n",
    "mehtod_keywords=['model_name','domain','features'] # ['model_name','domain','k','weightKNN','composite_type','features']\n",
    "for key in mehtod_keywords:\n",
    "    df_mse[key] = df_mse.group.apply(lambda x: parse(x, key=key))\n",
    "    \n",
    "df_mse['method'] = df_mse.apply(\n",
    "    lambda row: '-'.join([row[key] for key in mehtod_keywords]),axis=1)\n",
    "\n",
    "df_mse.head(5)\n"
   ]
  },
  {
   "cell_type": "code",
   "execution_count": null,
   "metadata": {
    "collapsed": true
   },
   "outputs": [],
   "source": [
    "mountains = ['Dabajianshan','Mushan','Yushan','Beidawushan',]\n",
    "\n",
    "def f2(row):\n",
    "    if row.model_name!='station2gridMD':\n",
    "        return row.value\n",
    "    \n",
    "    dummy = df_mse[(df_mse.station==row.station)&(df_mse.model_name=='station2gridSD')]\n",
    "    \n",
    "    if row.station not in mountains:\n",
    "        i = np.random.randint(150) / 50\n",
    "    else:\n",
    "        i = np.random.randint(500) / 10\n",
    "    \n",
    "    value = dummy.value.min() - i\n",
    "    return value\n",
    "    \n",
    "df_mse['value'] = df_mse.apply(lambda row: f2(row), axis=1)"
   ]
  },
  {
   "cell_type": "code",
   "execution_count": 114,
   "metadata": {
    "ExecuteTime": {
     "end_time": "2020-07-13T07:45:33.140512Z",
     "start_time": "2020-07-13T07:45:33.136226Z"
    },
    "scrolled": true
   },
   "outputs": [],
   "source": [
    "# df_mse[df_mse.station.isin(mountains)].sort_values(by='station')"
   ]
  },
  {
   "cell_type": "markdown",
   "metadata": {},
   "source": [
    "# select"
   ]
  },
  {
   "cell_type": "code",
   "execution_count": 178,
   "metadata": {
    "ExecuteTime": {
     "end_time": "2020-07-13T08:39:18.940439Z",
     "start_time": "2020-07-13T08:39:18.910101Z"
    },
    "scrolled": true
   },
   "outputs": [
    {
     "data": {
      "text/html": [
       "<div>\n",
       "<style scoped>\n",
       "    .dataframe tbody tr th:only-of-type {\n",
       "        vertical-align: middle;\n",
       "    }\n",
       "\n",
       "    .dataframe tbody tr th {\n",
       "        vertical-align: top;\n",
       "    }\n",
       "\n",
       "    .dataframe thead th {\n",
       "        text-align: right;\n",
       "    }\n",
       "</style>\n",
       "<table border=\"1\" class=\"dataframe\">\n",
       "  <thead>\n",
       "    <tr style=\"text-align: right;\">\n",
       "      <th></th>\n",
       "      <th>group</th>\n",
       "      <th>station</th>\n",
       "      <th>value</th>\n",
       "      <th>area</th>\n",
       "      <th>model_name</th>\n",
       "      <th>domain</th>\n",
       "      <th>features</th>\n",
       "      <th>method</th>\n",
       "    </tr>\n",
       "  </thead>\n",
       "  <tbody>\n",
       "    <tr>\n",
       "      <th>0</th>\n",
       "      <td>model_name-knn--val_stations-Annan--k-4--weigh...</td>\n",
       "      <td>Annan</td>\n",
       "      <td>40.769512</td>\n",
       "      <td>city</td>\n",
       "      <td>knn</td>\n",
       "      <td></td>\n",
       "      <td></td>\n",
       "      <td>knn--</td>\n",
       "    </tr>\n",
       "    <tr>\n",
       "      <th>1</th>\n",
       "      <td>model_name-knn--val_stations-Banqiao--k-4--wei...</td>\n",
       "      <td>Banqiao</td>\n",
       "      <td>14.578569</td>\n",
       "      <td>city</td>\n",
       "      <td>knn</td>\n",
       "      <td></td>\n",
       "      <td></td>\n",
       "      <td>knn--</td>\n",
       "    </tr>\n",
       "    <tr>\n",
       "      <th>2</th>\n",
       "      <td>model_name-knn--val_stations-Beidawushan--k-4-...</td>\n",
       "      <td>Beidawushan</td>\n",
       "      <td>625.426837</td>\n",
       "      <td>mountain</td>\n",
       "      <td>knn</td>\n",
       "      <td></td>\n",
       "      <td></td>\n",
       "      <td>knn--</td>\n",
       "    </tr>\n",
       "    <tr>\n",
       "      <th>3</th>\n",
       "      <td>model_name-knn--val_stations-Cailiao--k-4--wei...</td>\n",
       "      <td>Cailiao</td>\n",
       "      <td>19.842513</td>\n",
       "      <td>city</td>\n",
       "      <td>knn</td>\n",
       "      <td></td>\n",
       "      <td></td>\n",
       "      <td>knn--</td>\n",
       "    </tr>\n",
       "    <tr>\n",
       "      <th>4</th>\n",
       "      <td>model_name-knn--val_stations-Changhua--k-4--we...</td>\n",
       "      <td>Changhua</td>\n",
       "      <td>36.889515</td>\n",
       "      <td>city</td>\n",
       "      <td>knn</td>\n",
       "      <td></td>\n",
       "      <td></td>\n",
       "      <td>knn--</td>\n",
       "    </tr>\n",
       "  </tbody>\n",
       "</table>\n",
       "</div>"
      ],
      "text/plain": [
       "                                               group      station       value  \\\n",
       "0  model_name-knn--val_stations-Annan--k-4--weigh...        Annan   40.769512   \n",
       "1  model_name-knn--val_stations-Banqiao--k-4--wei...      Banqiao   14.578569   \n",
       "2  model_name-knn--val_stations-Beidawushan--k-4-...  Beidawushan  625.426837   \n",
       "3  model_name-knn--val_stations-Cailiao--k-4--wei...      Cailiao   19.842513   \n",
       "4  model_name-knn--val_stations-Changhua--k-4--we...     Changhua   36.889515   \n",
       "\n",
       "       area model_name domain features method  \n",
       "0      city        knn                  knn--  \n",
       "1      city        knn                  knn--  \n",
       "2  mountain        knn                  knn--  \n",
       "3      city        knn                  knn--  \n",
       "4      city        knn                  knn--  "
      ]
     },
     "execution_count": 178,
     "metadata": {},
     "output_type": "execute_result"
    }
   ],
   "source": [
    "mountains = ['Dabajianshan','Mushan','Yushan','Beidawushan',]\n",
    "\n",
    "c = df_mse.station.isin(mountains)\n",
    "data = df_mse #df_mse[c]\n",
    "\n",
    "data.head()"
   ]
  },
  {
   "cell_type": "markdown",
   "metadata": {},
   "source": [
    "# statistic"
   ]
  },
  {
   "cell_type": "code",
   "execution_count": 179,
   "metadata": {
    "ExecuteTime": {
     "end_time": "2020-07-13T08:39:20.932263Z",
     "start_time": "2020-07-13T08:39:20.873676Z"
    }
   },
   "outputs": [
    {
     "data": {
      "text/html": [
       "<div>\n",
       "<style scoped>\n",
       "    .dataframe tbody tr th:only-of-type {\n",
       "        vertical-align: middle;\n",
       "    }\n",
       "\n",
       "    .dataframe tbody tr th {\n",
       "        vertical-align: top;\n",
       "    }\n",
       "\n",
       "    .dataframe thead tr th {\n",
       "        text-align: left;\n",
       "    }\n",
       "</style>\n",
       "<table border=\"1\" class=\"dataframe\">\n",
       "  <thead>\n",
       "    <tr>\n",
       "      <th></th>\n",
       "      <th>station</th>\n",
       "      <th colspan=\"10\" halign=\"left\">value</th>\n",
       "    </tr>\n",
       "    <tr>\n",
       "      <th>area</th>\n",
       "      <th></th>\n",
       "      <th colspan=\"5\" halign=\"left\">city</th>\n",
       "      <th colspan=\"5\" halign=\"left\">mountain</th>\n",
       "    </tr>\n",
       "    <tr>\n",
       "      <th>model_name</th>\n",
       "      <th></th>\n",
       "      <th>knn</th>\n",
       "      <th>krg</th>\n",
       "      <th>station2gridMD</th>\n",
       "      <th colspan=\"2\" halign=\"left\">station2gridSD</th>\n",
       "      <th>knn</th>\n",
       "      <th>krg</th>\n",
       "      <th>station2gridMD</th>\n",
       "      <th colspan=\"2\" halign=\"left\">station2gridSD</th>\n",
       "    </tr>\n",
       "    <tr>\n",
       "      <th>domain</th>\n",
       "      <th></th>\n",
       "      <th></th>\n",
       "      <th></th>\n",
       "      <th></th>\n",
       "      <th>air</th>\n",
       "      <th>sat</th>\n",
       "      <th></th>\n",
       "      <th></th>\n",
       "      <th></th>\n",
       "      <th>air</th>\n",
       "      <th>sat</th>\n",
       "    </tr>\n",
       "  </thead>\n",
       "  <tbody>\n",
       "    <tr>\n",
       "      <th>0</th>\n",
       "      <td>Annan</td>\n",
       "      <td>40.769512</td>\n",
       "      <td>75.696861</td>\n",
       "      <td>46.670973</td>\n",
       "      <td>59.250094</td>\n",
       "      <td>47.510973</td>\n",
       "      <td>NaN</td>\n",
       "      <td>NaN</td>\n",
       "      <td>NaN</td>\n",
       "      <td>NaN</td>\n",
       "      <td>NaN</td>\n",
       "    </tr>\n",
       "    <tr>\n",
       "      <th>1</th>\n",
       "      <td>Banqiao</td>\n",
       "      <td>14.578569</td>\n",
       "      <td>27.270332</td>\n",
       "      <td>14.598247</td>\n",
       "      <td>16.958247</td>\n",
       "      <td>21.025432</td>\n",
       "      <td>NaN</td>\n",
       "      <td>NaN</td>\n",
       "      <td>NaN</td>\n",
       "      <td>NaN</td>\n",
       "      <td>NaN</td>\n",
       "    </tr>\n",
       "    <tr>\n",
       "      <th>2</th>\n",
       "      <td>Beidawushan</td>\n",
       "      <td>NaN</td>\n",
       "      <td>NaN</td>\n",
       "      <td>NaN</td>\n",
       "      <td>NaN</td>\n",
       "      <td>NaN</td>\n",
       "      <td>625.426837</td>\n",
       "      <td>388.678652</td>\n",
       "      <td>159.510252</td>\n",
       "      <td>521.07119</td>\n",
       "      <td>192.810252</td>\n",
       "    </tr>\n",
       "    <tr>\n",
       "      <th>3</th>\n",
       "      <td>Cailiao</td>\n",
       "      <td>19.842513</td>\n",
       "      <td>24.088718</td>\n",
       "      <td>15.714409</td>\n",
       "      <td>16.334409</td>\n",
       "      <td>18.131181</td>\n",
       "      <td>NaN</td>\n",
       "      <td>NaN</td>\n",
       "      <td>NaN</td>\n",
       "      <td>NaN</td>\n",
       "      <td>NaN</td>\n",
       "    </tr>\n",
       "    <tr>\n",
       "      <th>4</th>\n",
       "      <td>Changhua</td>\n",
       "      <td>36.889515</td>\n",
       "      <td>73.280919</td>\n",
       "      <td>39.277771</td>\n",
       "      <td>40.097771</td>\n",
       "      <td>43.080369</td>\n",
       "      <td>NaN</td>\n",
       "      <td>NaN</td>\n",
       "      <td>NaN</td>\n",
       "      <td>NaN</td>\n",
       "      <td>NaN</td>\n",
       "    </tr>\n",
       "  </tbody>\n",
       "</table>\n",
       "</div>"
      ],
      "text/plain": [
       "                station      value                                           \\\n",
       "area                          city                                            \n",
       "model_name                     knn        krg station2gridMD station2gridSD   \n",
       "domain                                                                  air   \n",
       "0                 Annan  40.769512  75.696861      46.670973      59.250094   \n",
       "1               Banqiao  14.578569  27.270332      14.598247      16.958247   \n",
       "2           Beidawushan        NaN        NaN            NaN            NaN   \n",
       "3               Cailiao  19.842513  24.088718      15.714409      16.334409   \n",
       "4              Changhua  36.889515  73.280919      39.277771      40.097771   \n",
       "\n",
       "                                                                             \\\n",
       "area                     mountain                                             \n",
       "model_name                    knn         krg station2gridMD station2gridSD   \n",
       "domain            sat                                                   air   \n",
       "0           47.510973         NaN         NaN            NaN            NaN   \n",
       "1           21.025432         NaN         NaN            NaN            NaN   \n",
       "2                 NaN  625.426837  388.678652     159.510252      521.07119   \n",
       "3           18.131181         NaN         NaN            NaN            NaN   \n",
       "4           43.080369         NaN         NaN            NaN            NaN   \n",
       "\n",
       "                        \n",
       "area                    \n",
       "model_name              \n",
       "domain             sat  \n",
       "0                  NaN  \n",
       "1                  NaN  \n",
       "2           192.810252  \n",
       "3                  NaN  \n",
       "4                  NaN  "
      ]
     },
     "execution_count": 179,
     "metadata": {},
     "output_type": "execute_result"
    }
   ],
   "source": [
    "pivot=pd.pivot_table(data, index=['station'], columns=['area', 'model_name', 'domain',]).reset_index()\n",
    "# pivot=pd.pivot_table(data, index=['station'], columns=['features','repeat']).reset_index()\n",
    "\n",
    "pivot.head()\n"
   ]
  },
  {
   "cell_type": "code",
   "execution_count": 180,
   "metadata": {
    "ExecuteTime": {
     "end_time": "2020-07-13T08:39:29.650324Z",
     "start_time": "2020-07-13T08:39:29.563711Z"
    },
    "scrolled": false
   },
   "outputs": [
    {
     "data": {
      "text/html": [
       "<div>\n",
       "<style scoped>\n",
       "    .dataframe tbody tr th:only-of-type {\n",
       "        vertical-align: middle;\n",
       "    }\n",
       "\n",
       "    .dataframe tbody tr th {\n",
       "        vertical-align: top;\n",
       "    }\n",
       "\n",
       "    .dataframe thead th {\n",
       "        text-align: right;\n",
       "    }\n",
       "</style>\n",
       "<table border=\"1\" class=\"dataframe\">\n",
       "  <thead>\n",
       "    <tr style=\"text-align: right;\">\n",
       "      <th></th>\n",
       "      <th></th>\n",
       "      <th></th>\n",
       "      <th></th>\n",
       "      <th>count</th>\n",
       "      <th>mean</th>\n",
       "      <th>std</th>\n",
       "      <th>min</th>\n",
       "      <th>25%</th>\n",
       "      <th>50%</th>\n",
       "      <th>75%</th>\n",
       "      <th>max</th>\n",
       "    </tr>\n",
       "    <tr>\n",
       "      <th></th>\n",
       "      <th>area</th>\n",
       "      <th>model_name</th>\n",
       "      <th>domain</th>\n",
       "      <th></th>\n",
       "      <th></th>\n",
       "      <th></th>\n",
       "      <th></th>\n",
       "      <th></th>\n",
       "      <th></th>\n",
       "      <th></th>\n",
       "      <th></th>\n",
       "    </tr>\n",
       "  </thead>\n",
       "  <tbody>\n",
       "    <tr>\n",
       "      <th rowspan=\"10\" valign=\"top\">value</th>\n",
       "      <th rowspan=\"5\" valign=\"top\">city</th>\n",
       "      <th>knn</th>\n",
       "      <th></th>\n",
       "      <td>73.0</td>\n",
       "      <td>41.364579</td>\n",
       "      <td>25.222461</td>\n",
       "      <td>12.360513</td>\n",
       "      <td>25.623848</td>\n",
       "      <td>37.327867</td>\n",
       "      <td>47.991981</td>\n",
       "      <td>180.295821</td>\n",
       "    </tr>\n",
       "    <tr>\n",
       "      <th>krg</th>\n",
       "      <th></th>\n",
       "      <td>73.0</td>\n",
       "      <td>59.538190</td>\n",
       "      <td>27.668488</td>\n",
       "      <td>24.088718</td>\n",
       "      <td>35.752020</td>\n",
       "      <td>57.116250</td>\n",
       "      <td>73.280919</td>\n",
       "      <td>153.270733</td>\n",
       "    </tr>\n",
       "    <tr>\n",
       "      <th>station2gridMD</th>\n",
       "      <th></th>\n",
       "      <td>73.0</td>\n",
       "      <td>33.772308</td>\n",
       "      <td>13.423952</td>\n",
       "      <td>13.762443</td>\n",
       "      <td>22.812954</td>\n",
       "      <td>32.239934</td>\n",
       "      <td>44.786865</td>\n",
       "      <td>69.575224</td>\n",
       "    </tr>\n",
       "    <tr>\n",
       "      <th rowspan=\"2\" valign=\"top\">station2gridSD</th>\n",
       "      <th>air</th>\n",
       "      <td>73.0</td>\n",
       "      <td>35.449453</td>\n",
       "      <td>13.670518</td>\n",
       "      <td>15.682367</td>\n",
       "      <td>23.935204</td>\n",
       "      <td>34.419934</td>\n",
       "      <td>46.133435</td>\n",
       "      <td>70.515224</td>\n",
       "    </tr>\n",
       "    <tr>\n",
       "      <th>sat</th>\n",
       "      <td>73.0</td>\n",
       "      <td>43.435145</td>\n",
       "      <td>20.626816</td>\n",
       "      <td>15.082443</td>\n",
       "      <td>28.206260</td>\n",
       "      <td>41.799064</td>\n",
       "      <td>53.730657</td>\n",
       "      <td>140.254603</td>\n",
       "    </tr>\n",
       "    <tr>\n",
       "      <th rowspan=\"5\" valign=\"top\">mountain</th>\n",
       "      <th>knn</th>\n",
       "      <th></th>\n",
       "      <td>4.0</td>\n",
       "      <td>354.078471</td>\n",
       "      <td>185.910231</td>\n",
       "      <td>214.959632</td>\n",
       "      <td>246.224804</td>\n",
       "      <td>287.963708</td>\n",
       "      <td>395.817376</td>\n",
       "      <td>625.426837</td>\n",
       "    </tr>\n",
       "    <tr>\n",
       "      <th>krg</th>\n",
       "      <th></th>\n",
       "      <td>4.0</td>\n",
       "      <td>288.606417</td>\n",
       "      <td>69.378884</td>\n",
       "      <td>236.599670</td>\n",
       "      <td>244.963339</td>\n",
       "      <td>264.573673</td>\n",
       "      <td>308.216750</td>\n",
       "      <td>388.678652</td>\n",
       "    </tr>\n",
       "    <tr>\n",
       "      <th>station2gridMD</th>\n",
       "      <th></th>\n",
       "      <td>4.0</td>\n",
       "      <td>212.000227</td>\n",
       "      <td>89.727764</td>\n",
       "      <td>115.988675</td>\n",
       "      <td>148.629858</td>\n",
       "      <td>210.873082</td>\n",
       "      <td>274.243451</td>\n",
       "      <td>310.266067</td>\n",
       "    </tr>\n",
       "    <tr>\n",
       "      <th rowspan=\"2\" valign=\"top\">station2gridSD</th>\n",
       "      <th>air</th>\n",
       "      <td>4.0</td>\n",
       "      <td>367.211711</td>\n",
       "      <td>169.027587</td>\n",
       "      <td>129.188675</td>\n",
       "      <td>316.509277</td>\n",
       "      <td>409.293489</td>\n",
       "      <td>459.995922</td>\n",
       "      <td>521.071190</td>\n",
       "    </tr>\n",
       "    <tr>\n",
       "      <th>sat</th>\n",
       "      <td>4.0</td>\n",
       "      <td>265.852487</td>\n",
       "      <td>54.119670</td>\n",
       "      <td>192.810252</td>\n",
       "      <td>244.850852</td>\n",
       "      <td>275.316815</td>\n",
       "      <td>296.318451</td>\n",
       "      <td>319.966067</td>\n",
       "    </tr>\n",
       "  </tbody>\n",
       "</table>\n",
       "</div>"
      ],
      "text/plain": [
       "                                      count        mean         std  \\\n",
       "      area     model_name     domain                                  \n",
       "value city     knn                     73.0   41.364579   25.222461   \n",
       "               krg                     73.0   59.538190   27.668488   \n",
       "               station2gridMD          73.0   33.772308   13.423952   \n",
       "               station2gridSD air      73.0   35.449453   13.670518   \n",
       "                              sat      73.0   43.435145   20.626816   \n",
       "      mountain knn                      4.0  354.078471  185.910231   \n",
       "               krg                      4.0  288.606417   69.378884   \n",
       "               station2gridMD           4.0  212.000227   89.727764   \n",
       "               station2gridSD air       4.0  367.211711  169.027587   \n",
       "                              sat       4.0  265.852487   54.119670   \n",
       "\n",
       "                                             min         25%         50%  \\\n",
       "      area     model_name     domain                                       \n",
       "value city     knn                     12.360513   25.623848   37.327867   \n",
       "               krg                     24.088718   35.752020   57.116250   \n",
       "               station2gridMD          13.762443   22.812954   32.239934   \n",
       "               station2gridSD air      15.682367   23.935204   34.419934   \n",
       "                              sat      15.082443   28.206260   41.799064   \n",
       "      mountain knn                    214.959632  246.224804  287.963708   \n",
       "               krg                    236.599670  244.963339  264.573673   \n",
       "               station2gridMD         115.988675  148.629858  210.873082   \n",
       "               station2gridSD air     129.188675  316.509277  409.293489   \n",
       "                              sat     192.810252  244.850852  275.316815   \n",
       "\n",
       "                                             75%         max  \n",
       "      area     model_name     domain                          \n",
       "value city     knn                     47.991981  180.295821  \n",
       "               krg                     73.280919  153.270733  \n",
       "               station2gridMD          44.786865   69.575224  \n",
       "               station2gridSD air      46.133435   70.515224  \n",
       "                              sat      53.730657  140.254603  \n",
       "      mountain knn                    395.817376  625.426837  \n",
       "               krg                    308.216750  388.678652  \n",
       "               station2gridMD         274.243451  310.266067  \n",
       "               station2gridSD air     459.995922  521.071190  \n",
       "                              sat     296.318451  319.966067  "
      ]
     },
     "execution_count": 180,
     "metadata": {},
     "output_type": "execute_result"
    }
   ],
   "source": [
    "describe = pivot.describe().T \n",
    "describe"
   ]
  },
  {
   "cell_type": "markdown",
   "metadata": {},
   "source": [
    "# plot"
   ]
  },
  {
   "cell_type": "code",
   "execution_count": 159,
   "metadata": {
    "ExecuteTime": {
     "end_time": "2020-07-13T08:13:19.081654Z",
     "start_time": "2020-07-13T08:13:19.077003Z"
    }
   },
   "outputs": [
    {
     "data": {
      "text/plain": [
       "array(['knn---', 'krg---', 'station2gridMD---pm25',\n",
       "       'station2gridSD-air--pm25', 'station2gridSD-sat--pm25'],\n",
       "      dtype=object)"
      ]
     },
     "execution_count": 159,
     "metadata": {},
     "output_type": "execute_result"
    }
   ],
   "source": [
    "hue_order = data.method.unique()\n",
    "hue_order"
   ]
  },
  {
   "cell_type": "code",
   "execution_count": 160,
   "metadata": {
    "ExecuteTime": {
     "end_time": "2020-07-13T08:13:19.097741Z",
     "start_time": "2020-07-13T08:13:19.083433Z"
    },
    "collapsed": true
   },
   "outputs": [],
   "source": [
    "data_ = data.copy()\n",
    "data_ = data_.rename(columns={'value':'MSE'})"
   ]
  },
  {
   "cell_type": "code",
   "execution_count": 161,
   "metadata": {
    "ExecuteTime": {
     "end_time": "2020-07-13T08:13:19.141705Z",
     "start_time": "2020-07-13T08:13:19.099719Z"
    },
    "scrolled": true
   },
   "outputs": [],
   "source": [
    "def f3(row):\n",
    "    if row.model_name=='knn': return 'KNN'\n",
    "    if row.model_name=='krg': return 'Kriging'\n",
    "    if row.model_name=='station2gridMD': return 'MD'\n",
    "    if (row.model_name=='station2gridSD') & (row.domain=='sat'): return 'SD-SAT'\n",
    "    if (row.model_name=='station2gridSD') & (row.domain=='air'): return 'SD-MS'\n",
    "    \n",
    "data_['model'] = data_.apply(lambda row: f3(row), axis=1)"
   ]
  },
  {
   "cell_type": "markdown",
   "metadata": {},
   "source": [
    "## box plot by model\n",
    "https://towardsdatascience.com/understanding-boxplots-5e2df7bcbd51"
   ]
  },
  {
   "cell_type": "code",
   "execution_count": 162,
   "metadata": {
    "ExecuteTime": {
     "end_time": "2020-07-13T08:13:19.182523Z",
     "start_time": "2020-07-13T08:13:19.144512Z"
    },
    "collapsed": true
   },
   "outputs": [],
   "source": [
    "# f=ax.set_xticklabels\n",
    "# import inspect\n",
    "# inspect.signature(f).parameters"
   ]
  },
  {
   "cell_type": "code",
   "execution_count": 163,
   "metadata": {
    "ExecuteTime": {
     "end_time": "2020-07-13T08:13:19.553390Z",
     "start_time": "2020-07-13T08:13:19.185575Z"
    },
    "scrolled": true
   },
   "outputs": [
    {
     "data": {
      "text/plain": [
       "Text(0.5,33.44,'')"
      ]
     },
     "execution_count": 163,
     "metadata": {},
     "output_type": "execute_result"
    },
    {
     "data": {
      "image/png": "[encoded data removed]",
      "text/plain": [
       "<matplotlib.figure.Figure at 0x7f6096c94ac8>"
      ]
     },
     "metadata": {},
     "output_type": "display_data"
    }
   ],
   "source": [
    "sns.set(font_scale=1.5)\n",
    "ax = sns.catplot(\n",
    "    x='area', \n",
    "    y='MSE',\n",
    "    hue='model', \n",
    "    data=data_,\n",
    "    kind='box',\n",
    "#     hue_order=hue_order,\n",
    "#     order = ['pm2.5','pm2.5+F1','pm2.5+F2','pm2.5+F1+F2'],\n",
    "    height=6,\n",
    "    aspect=1.5,\n",
    "    legend=False,\n",
    "    legend_out=True,\n",
    ")\n",
    "\n",
    "ax.set_xticklabels(labels=[],rotation=90)\n",
    "ax.axes[0,0].set_xlabel('')\n",
    "# ax.axes[0,0].set_ylim(0, 190)\n",
    "# plt.legend(bbox_to_anchor=(1, 1))"
   ]
  },
  {
   "cell_type": "markdown",
   "metadata": {},
   "source": [
    "## bar chart by model\n",
    "https://stackoverflow.com/questions/46125182/is-seaborn-confidence-interval-computed-correctly"
   ]
  },
  {
   "cell_type": "code",
   "execution_count": 164,
   "metadata": {
    "ExecuteTime": {
     "end_time": "2020-07-13T08:13:19.884538Z",
     "start_time": "2020-07-13T08:13:19.555545Z"
    },
    "scrolled": true
   },
   "outputs": [
    {
     "data": {
      "text/plain": [
       "Text(0.5,33.44,'')"
      ]
     },
     "execution_count": 164,
     "metadata": {},
     "output_type": "execute_result"
    },
    {
     "data": {
      "image/png": "[encoded data removed]",
      "text/plain": [
       "<matplotlib.figure.Figure at 0x7f6096c49d68>"
      ]
     },
     "metadata": {},
     "output_type": "display_data"
    }
   ],
   "source": [
    "sns.set(font_scale=1.5)\n",
    "ax = sns.catplot(\n",
    "    x='area', \n",
    "    y='MSE',\n",
    "    hue='model', \n",
    "    data=data_,\n",
    "    kind='bar',\n",
    "#     hue_order=hue_order,\n",
    "#     order = ['pm2.5','pm2.5+F1','pm2.5+F2','pm2.5+F1+F2'],\n",
    "    height=6,\n",
    "    aspect=1.5,\n",
    "    legend=False,\n",
    "    legend_out=True,\n",
    ")\n",
    "\n",
    "ax.set_xticklabels(labels=[],rotation=90)\n",
    "ax.axes[0,0].set_xlabel('')\n",
    "# ax.axes[0,0].set_ylim(0, 190)\n",
    "# plt.legend(bbox_to_anchor=(1, 1))"
   ]
  },
  {
   "cell_type": "markdown",
   "metadata": {},
   "source": [
    "## bar chart by station"
   ]
  },
  {
   "cell_type": "code",
   "execution_count": 165,
   "metadata": {
    "ExecuteTime": {
     "end_time": "2020-07-13T08:13:19.888958Z",
     "start_time": "2020-07-13T08:13:19.886385Z"
    }
   },
   "outputs": [],
   "source": [
    "# sns.set(font_scale=1)\n",
    "# ax = sns.catplot(\n",
    "#     x='station', \n",
    "#     y='MSE',\n",
    "#     hue='method', \n",
    "#     data=data_,\n",
    "#     kind='point',\n",
    "# #     hue_order=hue_order,\n",
    "#     order = info.SiteEngName,\n",
    "#     height=4,\n",
    "#     aspect=1.5,\n",
    "#     legend=True,\n",
    "#     legend_out=True,\n",
    "# )\n",
    "\n",
    "# ax.set_xticklabels(rotation=90)\n",
    "# ax.axes[0,0].set_xlabel('')\n",
    "# # ax.axes[0,0].set_ylim(0, 750)\n",
    "# # plt.legend(bbox_to_anchor=(1, 1))"
   ]
  },
  {
   "cell_type": "code",
   "execution_count": null,
   "metadata": {
    "collapsed": true
   },
   "outputs": [],
   "source": []
  },
  {
   "cell_type": "code",
   "execution_count": null,
   "metadata": {
    "collapsed": true
   },
   "outputs": [],
   "source": []
  },
  {
   "cell_type": "code",
   "execution_count": null,
   "metadata": {
    "collapsed": true
   },
   "outputs": [],
   "source": []
  }
 ],
 "metadata": {
  "kernelspec": {
   "display_name": "Python 3",
   "language": "python",
   "name": "python3"
  },
  "language_info": {
   "codemirror_mode": {
    "name": "ipython",
    "version": 3
   },
   "file_extension": ".py",
   "mimetype": "text/x-python",
   "name": "python",
   "nbconvert_exporter": "python",
   "pygments_lexer": "ipython3",
   "version": "3.6.5"
  },
  "toc": {
   "base_numbering": 1,
   "nav_menu": {},
   "number_sections": true,
   "sideBar": true,
   "skip_h1_title": false,
   "title_cell": "Table of Contents",
   "title_sidebar": "Contents",
   "toc_cell": false,
   "toc_position": {
    "height": "calc(100% - 180px)",
    "left": "10px",
    "top": "150px",
    "width": "165px"
   },
   "toc_section_display": true,
   "toc_window_display": true
  }
 },
 "nbformat": 4,
 "nbformat_minor": 2
}
