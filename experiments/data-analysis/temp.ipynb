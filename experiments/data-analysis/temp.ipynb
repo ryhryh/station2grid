{
 "cells": [
  {
   "cell_type": "code",
   "execution_count": 32,
   "metadata": {
    "ExecuteTime": {
     "end_time": "2020-07-13T06:48:47.682853Z",
     "start_time": "2020-07-13T06:48:47.675070Z"
    },
    "collapsed": true
   },
   "outputs": [],
   "source": [
    "import os\n",
    "import sys\n",
    "home=os.path.expanduser(\"~\")\n",
    "sys.path.append(os.path.join(home, 'station2grid'))\n",
    "\n",
    "import tools\n",
    "from tools import options, datasets, knn_model, krg_model, plotMap, CommonObj\n",
    "import matplotlib.pyplot as plt\n",
    "import pandas as pd"
   ]
  },
  {
   "cell_type": "code",
   "execution_count": null,
   "metadata": {
    "collapsed": true
   },
   "outputs": [],
   "source": [
    "## temp\n",
    "sns.set(font_scale=1)\n",
    "ax = sns.catplot(\n",
    "    x='ae_type', \n",
    "    y='value',\n",
    "#     col='features',\n",
    "#     hue='method', \n",
    "    data=df_mse,\n",
    "    kind='box',\n",
    "#     hue_order=hue_order,\n",
    "#     order = ['pm2.5','pm2.5+F1','pm2.5+F2','pm2.5+F1+F2'],\n",
    "    height=4,\n",
    "    aspect=1.5,\n",
    "    legend=True,\n",
    "    legend_out=True,\n",
    ")\n",
    "\n",
    "ax.set_xticklabels(rotation=30)\n",
    "ax.axes[0,0].set_xlabel('')\n",
    "# ax.axes[0,0].set_ylim(0, 190)\n",
    "# plt.legend(bbox_to_anchor=(1, 1))"
   ]
  },
  {
   "cell_type": "code",
   "execution_count": null,
   "metadata": {
    "collapsed": true
   },
   "outputs": [],
   "source": []
  },
  {
   "cell_type": "code",
   "execution_count": 3,
   "metadata": {
    "ExecuteTime": {
     "end_time": "2020-07-13T06:27:55.350643Z",
     "start_time": "2020-07-13T06:27:27.407393Z"
    }
   },
   "outputs": [],
   "source": [
    "air = pd.read_csv('/media/disk3/feynman52/station2grid/datasets/csv/csv_files/air.csv')"
   ]
  },
  {
   "cell_type": "code",
   "execution_count": 13,
   "metadata": {
    "ExecuteTime": {
     "end_time": "2020-07-13T06:34:24.709190Z",
     "start_time": "2020-07-13T06:34:22.567255Z"
    },
    "scrolled": true
   },
   "outputs": [
    {
     "data": {
      "text/html": [
       "<div>\n",
       "<style scoped>\n",
       "    .dataframe tbody tr th:only-of-type {\n",
       "        vertical-align: middle;\n",
       "    }\n",
       "\n",
       "    .dataframe tbody tr th {\n",
       "        vertical-align: top;\n",
       "    }\n",
       "\n",
       "    .dataframe thead th {\n",
       "        text-align: right;\n",
       "    }\n",
       "</style>\n",
       "<table border=\"1\" class=\"dataframe\">\n",
       "  <thead>\n",
       "    <tr style=\"text-align: right;\">\n",
       "      <th></th>\n",
       "      <th>dt</th>\n",
       "      <th>lat</th>\n",
       "      <th>lon</th>\n",
       "      <th>pm25</th>\n",
       "      <th>pm10</th>\n",
       "      <th>temperature</th>\n",
       "      <th>humidity</th>\n",
       "    </tr>\n",
       "  </thead>\n",
       "  <tbody>\n",
       "    <tr>\n",
       "      <th>22956059</th>\n",
       "      <td>2018-11-01 08:00:00</td>\n",
       "      <td>-6.883</td>\n",
       "      <td>107.672</td>\n",
       "      <td>46.5</td>\n",
       "      <td>0.0</td>\n",
       "      <td>22.125</td>\n",
       "      <td>100.0</td>\n",
       "    </tr>\n",
       "    <tr>\n",
       "      <th>22956060</th>\n",
       "      <td>2018-11-01 08:00:00</td>\n",
       "      <td>-6.231</td>\n",
       "      <td>106.826</td>\n",
       "      <td>25.0</td>\n",
       "      <td>27.0</td>\n",
       "      <td>32.870</td>\n",
       "      <td>60.0</td>\n",
       "    </tr>\n",
       "    <tr>\n",
       "      <th>22956061</th>\n",
       "      <td>2018-11-01 08:00:00</td>\n",
       "      <td>-6.168</td>\n",
       "      <td>106.789</td>\n",
       "      <td>109.0</td>\n",
       "      <td>116.0</td>\n",
       "      <td>30.870</td>\n",
       "      <td>65.0</td>\n",
       "    </tr>\n",
       "    <tr>\n",
       "      <th>22956062</th>\n",
       "      <td>2018-11-01 08:00:00</td>\n",
       "      <td>-6.138</td>\n",
       "      <td>106.827</td>\n",
       "      <td>55.0</td>\n",
       "      <td>71.0</td>\n",
       "      <td>33.500</td>\n",
       "      <td>58.0</td>\n",
       "    </tr>\n",
       "    <tr>\n",
       "      <th>22956063</th>\n",
       "      <td>2018-11-01 08:00:00</td>\n",
       "      <td>-6.128</td>\n",
       "      <td>106.788</td>\n",
       "      <td>14.0</td>\n",
       "      <td>14.5</td>\n",
       "      <td>30.000</td>\n",
       "      <td>59.5</td>\n",
       "    </tr>\n",
       "  </tbody>\n",
       "</table>\n",
       "</div>"
      ],
      "text/plain": [
       "                           dt    lat      lon   pm25   pm10  temperature  \\\n",
       "22956059  2018-11-01 08:00:00 -6.883  107.672   46.5    0.0       22.125   \n",
       "22956060  2018-11-01 08:00:00 -6.231  106.826   25.0   27.0       32.870   \n",
       "22956061  2018-11-01 08:00:00 -6.168  106.789  109.0  116.0       30.870   \n",
       "22956062  2018-11-01 08:00:00 -6.138  106.827   55.0   71.0       33.500   \n",
       "22956063  2018-11-01 08:00:00 -6.128  106.788   14.0   14.5       30.000   \n",
       "\n",
       "          humidity  \n",
       "22956059     100.0  \n",
       "22956060      60.0  \n",
       "22956061      65.0  \n",
       "22956062      58.0  \n",
       "22956063      59.5  "
      ]
     },
     "execution_count": 13,
     "metadata": {},
     "output_type": "execute_result"
    }
   ],
   "source": [
    "raw = air[air.dt=='2018-11-01 08:00:00']\n",
    "raw.head()"
   ]
  },
  {
   "cell_type": "code",
   "execution_count": 30,
   "metadata": {
    "ExecuteTime": {
     "end_time": "2020-07-13T06:42:49.756621Z",
     "start_time": "2020-07-13T06:42:47.684314Z"
    },
    "scrolled": true
   },
   "outputs": [
    {
     "data": {
      "image/png": "[encoded data removed]",
      "text/plain": [
       "<matplotlib.figure.Figure at 0x7f0f3a307da0>"
      ]
     },
     "metadata": {},
     "output_type": "display_data"
    }
   ],
   "source": [
    "nrows, ncols = 1, 1\n",
    "w, h = (9/5*ncols*1.7, 16/5*nrows)\n",
    "fig, ax = plt.subplots(nrows, ncols, figsize=(w, h))\n",
    "\n",
    "lats = raw.lat.values\n",
    "lons = raw.lon.values\n",
    "vals = raw.pm25.values\n",
    "title = ' '\n",
    "\n",
    "plotMap(\n",
    "    ax,\n",
    "    lats, lons, vals,\n",
    "    title, title_size=18,\n",
    "    latMin=21, latMax=26, lonMin=119, lonMax=123,\n",
    "    bar_min=0, bar_max=70\n",
    ")"
   ]
  },
  {
   "cell_type": "code",
   "execution_count": 23,
   "metadata": {
    "ExecuteTime": {
     "end_time": "2020-07-13T06:40:32.551666Z",
     "start_time": "2020-07-13T06:40:32.014065Z"
    }
   },
   "outputs": [],
   "source": [
    "optionS2GSD = options.OptionS2GSD(features='pm25', val_stations='Tainan')\n",
    "dataS2G = datasets.DataS2G(optionS2GSD)\n",
    "dataS2G.setup_test()\n",
    "\n",
    "model = knn_model.KnnModel(dataS2G)\n",
    "\n",
    "k = 3\n",
    "weightKNN = 'distance'\n",
    "x_train = raw[['lat','lon']].values\n",
    "y_train = raw.pm25.values\n",
    "grid = model.get_grid(k, weightKNN, x_train, y_train)"
   ]
  },
  {
   "cell_type": "code",
   "execution_count": 24,
   "metadata": {
    "ExecuteTime": {
     "end_time": "2020-07-13T06:40:38.161412Z",
     "start_time": "2020-07-13T06:40:38.153092Z"
    }
   },
   "outputs": [
    {
     "data": {
      "text/plain": [
       "(1, 348, 204, 1)"
      ]
     },
     "execution_count": 24,
     "metadata": {},
     "output_type": "execute_result"
    }
   ],
   "source": [
    "grid.shape"
   ]
  },
  {
   "cell_type": "code",
   "execution_count": 26,
   "metadata": {
    "ExecuteTime": {
     "end_time": "2020-07-13T06:41:22.005081Z",
     "start_time": "2020-07-13T06:41:21.998466Z"
    }
   },
   "outputs": [
    {
     "data": {
      "text/plain": [
       "(70992, 2)"
      ]
     },
     "execution_count": 26,
     "metadata": {},
     "output_type": "execute_result"
    }
   ],
   "source": [
    "model.coordinates.shape"
   ]
  },
  {
   "cell_type": "code",
   "execution_count": 29,
   "metadata": {
    "ExecuteTime": {
     "end_time": "2020-07-13T06:42:47.682277Z",
     "start_time": "2020-07-13T06:42:43.950284Z"
    }
   },
   "outputs": [
    {
     "data": {
      "image/png": "[encoded data removed]",
      "text/plain": [
       "<matplotlib.figure.Figure at 0x7f0f3a605908>"
      ]
     },
     "metadata": {},
     "output_type": "display_data"
    }
   ],
   "source": [
    "nrows, ncols = 1, 1\n",
    "w, h = (9/5*ncols*1.7, 16/5*nrows)\n",
    "fig, ax = plt.subplots(nrows, ncols, figsize=(w, h))\n",
    "\n",
    "lats = model.coordinates[:, 0]\n",
    "lons = model.coordinates[:, 1]\n",
    "vals = grid.reshape(-1)\n",
    "title = ' '\n",
    "\n",
    "plotMap(\n",
    "    ax,\n",
    "    lats, lons, vals,\n",
    "    title, title_size=18,\n",
    "    latMin=21, latMax=26, lonMin=119, lonMax=123,\n",
    "    bar_min=0, bar_max=70\n",
    ")"
   ]
  },
  {
   "cell_type": "code",
   "execution_count": null,
   "metadata": {
    "collapsed": true
   },
   "outputs": [],
   "source": []
  },
  {
   "cell_type": "code",
   "execution_count": 33,
   "metadata": {
    "ExecuteTime": {
     "end_time": "2020-07-13T06:48:50.834434Z",
     "start_time": "2020-07-13T06:48:50.801325Z"
    }
   },
   "outputs": [
    {
     "data": {
      "text/html": [
       "<div>\n",
       "<style scoped>\n",
       "    .dataframe tbody tr th:only-of-type {\n",
       "        vertical-align: middle;\n",
       "    }\n",
       "\n",
       "    .dataframe tbody tr th {\n",
       "        vertical-align: top;\n",
       "    }\n",
       "\n",
       "    .dataframe thead th {\n",
       "        text-align: right;\n",
       "    }\n",
       "</style>\n",
       "<table border=\"1\" class=\"dataframe\">\n",
       "  <thead>\n",
       "    <tr style=\"text-align: right;\">\n",
       "      <th></th>\n",
       "      <th>SiteName</th>\n",
       "      <th>SiteEngName</th>\n",
       "      <th>area</th>\n",
       "      <th>lat</th>\n",
       "      <th>lon</th>\n",
       "      <th>lat_round</th>\n",
       "      <th>lon_round</th>\n",
       "      <th>row</th>\n",
       "      <th>col</th>\n",
       "    </tr>\n",
       "  </thead>\n",
       "  <tbody>\n",
       "    <tr>\n",
       "      <th>0</th>\n",
       "      <td>大霸尖山</td>\n",
       "      <td>Dabajianshan</td>\n",
       "      <td>mountain</td>\n",
       "      <td>24.461111</td>\n",
       "      <td>121.249722</td>\n",
       "      <td>24.46</td>\n",
       "      <td>121.25</td>\n",
       "      <td>88</td>\n",
       "      <td>125</td>\n",
       "    </tr>\n",
       "    <tr>\n",
       "      <th>1</th>\n",
       "      <td>牧山</td>\n",
       "      <td>Mushan</td>\n",
       "      <td>mountain</td>\n",
       "      <td>23.864722</td>\n",
       "      <td>121.152222</td>\n",
       "      <td>23.86</td>\n",
       "      <td>121.15</td>\n",
       "      <td>148</td>\n",
       "      <td>115</td>\n",
       "    </tr>\n",
       "    <tr>\n",
       "      <th>2</th>\n",
       "      <td>玉山</td>\n",
       "      <td>Yushan</td>\n",
       "      <td>mountain</td>\n",
       "      <td>23.470556</td>\n",
       "      <td>120.948889</td>\n",
       "      <td>23.47</td>\n",
       "      <td>120.95</td>\n",
       "      <td>187</td>\n",
       "      <td>95</td>\n",
       "    </tr>\n",
       "    <tr>\n",
       "      <th>3</th>\n",
       "      <td>北大武山</td>\n",
       "      <td>Beidawushan</td>\n",
       "      <td>mountain</td>\n",
       "      <td>22.629167</td>\n",
       "      <td>120.751944</td>\n",
       "      <td>22.63</td>\n",
       "      <td>120.75</td>\n",
       "      <td>271</td>\n",
       "      <td>75</td>\n",
       "    </tr>\n",
       "    <tr>\n",
       "      <th>4</th>\n",
       "      <td>陽明</td>\n",
       "      <td>Yangming</td>\n",
       "      <td>city</td>\n",
       "      <td>25.182722</td>\n",
       "      <td>121.529583</td>\n",
       "      <td>25.18</td>\n",
       "      <td>121.53</td>\n",
       "      <td>16</td>\n",
       "      <td>153</td>\n",
       "    </tr>\n",
       "  </tbody>\n",
       "</table>\n",
       "</div>"
      ],
      "text/plain": [
       "  SiteName   SiteEngName      area        lat         lon  lat_round  \\\n",
       "0     大霸尖山  Dabajianshan  mountain  24.461111  121.249722      24.46   \n",
       "1       牧山        Mushan  mountain  23.864722  121.152222      23.86   \n",
       "2       玉山        Yushan  mountain  23.470556  120.948889      23.47   \n",
       "3     北大武山   Beidawushan  mountain  22.629167  120.751944      22.63   \n",
       "4       陽明      Yangming      city  25.182722  121.529583      25.18   \n",
       "\n",
       "   lon_round  row  col  \n",
       "0     121.25   88  125  \n",
       "1     121.15  148  115  \n",
       "2     120.95  187   95  \n",
       "3     120.75  271   75  \n",
       "4     121.53   16  153  "
      ]
     },
     "execution_count": 33,
     "metadata": {},
     "output_type": "execute_result"
    }
   ],
   "source": [
    "info = CommonObj().epa_station_info\n",
    "info.head()"
   ]
  },
  {
   "cell_type": "code",
   "execution_count": 35,
   "metadata": {
    "ExecuteTime": {
     "end_time": "2020-07-13T06:49:27.378490Z",
     "start_time": "2020-07-13T06:49:27.369096Z"
    }
   },
   "outputs": [
    {
     "data": {
      "text/plain": [
       "(1, 77, 1)"
      ]
     },
     "execution_count": 35,
     "metadata": {},
     "output_type": "execute_result"
    }
   ],
   "source": [
    "x = grid[:, info.row, info.col, :]\n",
    "x.shape"
   ]
  },
  {
   "cell_type": "code",
   "execution_count": 36,
   "metadata": {
    "ExecuteTime": {
     "end_time": "2020-07-13T06:50:11.967795Z",
     "start_time": "2020-07-13T06:50:09.689213Z"
    }
   },
   "outputs": [
    {
     "data": {
      "image/png": "[encoded data removed]",
      "text/plain": [
       "<matplotlib.figure.Figure at 0x7f0f3a2e2d68>"
      ]
     },
     "metadata": {},
     "output_type": "display_data"
    }
   ],
   "source": [
    "nrows, ncols = 1, 1\n",
    "w, h = (9/5*ncols*1.7, 16/5*nrows)\n",
    "fig, ax = plt.subplots(nrows, ncols, figsize=(w, h))\n",
    "\n",
    "lats = info.lat.values\n",
    "lons = info.lon.values\n",
    "vals = x.reshape(-1)\n",
    "title = ' '\n",
    "\n",
    "plotMap(\n",
    "    ax,\n",
    "    lats, lons, vals,\n",
    "    title, title_size=18,\n",
    "    latMin=21, latMax=26, lonMin=119, lonMax=123,\n",
    "    bar_min=0, bar_max=70\n",
    ")"
   ]
  },
  {
   "cell_type": "code",
   "execution_count": null,
   "metadata": {
    "collapsed": true
   },
   "outputs": [],
   "source": []
  }
 ],
 "metadata": {
  "kernelspec": {
   "display_name": "Python 3",
   "language": "python",
   "name": "python3"
  },
  "language_info": {
   "codemirror_mode": {
    "name": "ipython",
    "version": 3
   },
   "file_extension": ".py",
   "mimetype": "text/x-python",
   "name": "python",
   "nbconvert_exporter": "python",
   "pygments_lexer": "ipython3",
   "version": "3.6.5"
  },
  "toc": {
   "base_numbering": 1,
   "nav_menu": {},
   "number_sections": true,
   "sideBar": true,
   "skip_h1_title": false,
   "title_cell": "Table of Contents",
   "title_sidebar": "Contents",
   "toc_cell": false,
   "toc_position": {},
   "toc_section_display": true,
   "toc_window_display": false
  }
 },
 "nbformat": 4,
 "nbformat_minor": 2
}
