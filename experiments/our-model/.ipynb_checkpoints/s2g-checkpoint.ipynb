{
 "cells": [
  {
   "cell_type": "code",
   "execution_count": 1,
   "metadata": {
    "ExecuteTime": {
     "end_time": "2020-07-07T05:33:41.488685Z",
     "start_time": "2020-07-07T05:33:39.228012Z"
    }
   },
   "outputs": [
    {
     "name": "stderr",
     "output_type": "stream",
     "text": [
      "Using TensorFlow backend.\n"
     ]
    }
   ],
   "source": [
    "import pandas as pd\n",
    "import numpy as np\n",
    "from keras import backend as K\n",
    "import gc\n",
    "import os\n",
    "import sys\n",
    "home=os.path.expanduser(\"~\")\n",
    "sys.path.append(os.path.join(home, 'station2grid'))\n",
    "\n",
    "from tools import options\n",
    "from models import station2code_model, station2gridSD_model, station2gridMD_model, grid2code_model\n",
    "\n",
    "from tools import CommonObj, get_predict_result\n",
    "\n",
    "os.environ[\"CUDA_VISIBLE_DEVICES\"]='2' "
   ]
  },
  {
   "cell_type": "code",
   "execution_count": 2,
   "metadata": {
    "ExecuteTime": {
     "end_time": "2020-07-07T05:33:41.493042Z",
     "start_time": "2020-07-07T05:33:41.490686Z"
    },
    "collapsed": true
   },
   "outputs": [],
   "source": [
    "feature_list = [\n",
    "    'pm25', \n",
    "    #'pm25_AMBTEMP_RH_RAINFALL_WINDCOS_WINDSIN_PM10_NO2_SO2_O3'\n",
    "]"
   ]
  },
  {
   "cell_type": "code",
   "execution_count": 3,
   "metadata": {
    "ExecuteTime": {
     "end_time": "2020-07-07T05:33:41.519218Z",
     "start_time": "2020-07-07T05:33:41.494756Z"
    },
    "collapsed": true
   },
   "outputs": [],
   "source": [
    "station_list = ['Tainan']"
   ]
  },
  {
   "cell_type": "markdown",
   "metadata": {},
   "source": [
    "# grid2code"
   ]
  },
  {
   "cell_type": "code",
   "execution_count": 4,
   "metadata": {
    "ExecuteTime": {
     "end_time": "2020-07-07T05:33:41.898625Z",
     "start_time": "2020-07-07T05:33:41.522212Z"
    },
    "scrolled": true
   },
   "outputs": [
    {
     "name": "stdout",
     "output_type": "stream",
     "text": [
      "{'model_name': 'grid2code', 'domain': 'sat', 'k': 3, 'weightKNN': 'distance', 'batch_size': 300, 'epochs': 200, 'ae_type': 'code_length-2288'}\n",
      "_________________________________________________________________\n",
      "Layer (type)                 Output Shape              Param #   \n",
      "=================================================================\n",
      "input_1 (InputLayer)         (None, 348, 204, 1)       0         \n",
      "_________________________________________________________________\n",
      "conv2d_1 (Conv2D)            (None, 348, 204, 16)      160       \n",
      "_________________________________________________________________\n",
      "max_pooling2d_1 (MaxPooling2 (None, 174, 102, 16)      0         \n",
      "_________________________________________________________________\n",
      "conv2d_2 (Conv2D)            (None, 174, 102, 8)       1160      \n",
      "_________________________________________________________________\n",
      "max_pooling2d_2 (MaxPooling2 (None, 87, 51, 8)         0         \n",
      "_________________________________________________________________\n",
      "conv2d_3 (Conv2D)            (None, 87, 51, 2)         146       \n",
      "_________________________________________________________________\n",
      "max_pooling2d_3 (MaxPooling2 (None, 44, 26, 2)         0         \n",
      "_________________________________________________________________\n",
      "conv2d_4 (Conv2D)            (None, 44, 26, 2)         38        \n",
      "_________________________________________________________________\n",
      "up_sampling2d_1 (UpSampling2 (None, 88, 52, 2)         0         \n",
      "_________________________________________________________________\n",
      "conv2d_5 (Conv2D)            (None, 88, 52, 8)         152       \n",
      "_________________________________________________________________\n",
      "up_sampling2d_2 (UpSampling2 (None, 176, 104, 8)       0         \n",
      "_________________________________________________________________\n",
      "conv2d_6 (Conv2D)            (None, 174, 102, 16)      1168      \n",
      "_________________________________________________________________\n",
      "up_sampling2d_3 (UpSampling2 (None, 348, 204, 16)      0         \n",
      "_________________________________________________________________\n",
      "conv2d_7 (Conv2D)            (None, 348, 204, 1)       145       \n",
      "=================================================================\n",
      "Total params: 2,969\n",
      "Trainable params: 2,969\n",
      "Non-trainable params: 0\n",
      "_________________________________________________________________\n"
     ]
    }
   ],
   "source": [
    "domain = 'sat'\n",
    "for i in [2288]: # 2288, 3432, 5720, 6864\n",
    "    ae_type='code_length-%s'%(i)\n",
    "    optionG2C = options.OptionG2C(\n",
    "        domain= domain, k= 3, weightKNN= 'distance',\n",
    "        batch_size=300, \n",
    "        epochs=200, ###\n",
    "        ae_type=ae_type)\n",
    "    print(vars(optionG2C))\n",
    "\n",
    "    modelG2C = grid2code_model.ModelG2C(optionG2C)"
   ]
  },
  {
   "cell_type": "code",
   "execution_count": null,
   "metadata": {
    "collapsed": true
   },
   "outputs": [],
   "source": []
  },
  {
   "cell_type": "code",
   "execution_count": null,
   "metadata": {
    "collapsed": true
   },
   "outputs": [],
   "source": []
  },
  {
   "cell_type": "code",
   "execution_count": null,
   "metadata": {
    "collapsed": true
   },
   "outputs": [],
   "source": []
  },
  {
   "cell_type": "markdown",
   "metadata": {},
   "source": [
    "# s2gsd (station2grid single domain)"
   ]
  },
  {
   "cell_type": "code",
   "execution_count": null,
   "metadata": {
    "ExecuteTime": {
     "end_time": "2020-06-22T16:57:21.183412Z",
     "start_time": "2020-06-22T16:57:21.115591Z"
    },
    "collapsed": true
   },
   "outputs": [],
   "source": [
    "domain_list = ['air', 'sat']"
   ]
  },
  {
   "cell_type": "code",
   "execution_count": null,
   "metadata": {
    "ExecuteTime": {
     "end_time": "2020-06-22T16:58:39.927597Z",
     "start_time": "2020-06-22T16:57:21.185340Z"
    },
    "scrolled": false
   },
   "outputs": [],
   "source": [
    "for val_stations in station_list: \n",
    "    for features in feature_list:  \n",
    "        for domain in domain_list: \n",
    "\n",
    "            #---------------------------------------\n",
    "            # train station2code\n",
    "            #---------------------------------------\n",
    "            optionS2C = options.OptionS2C(\n",
    "                domain= domain, k= 3, weightKNN= 'distance',\n",
    "                batch_size=300, \n",
    "                epochs=3, ###\n",
    "                features=features,\n",
    "                val_stations=val_stations,\n",
    "                dnn_type='a1'\n",
    "            )\n",
    "            \n",
    "            print('#'*80)\n",
    "            print(vars(optionS2C))\n",
    "            \n",
    "            modelS2C = station2code_model.ModelS2C(optionS2C)\n",
    "            modelS2C.train()\n",
    "\n",
    "            K.clear_session() \n",
    "            del modelS2C\n",
    "\n",
    "            #---------------------------------------\n",
    "            # infer station2gridSD\n",
    "            #---------------------------------------  \n",
    "            optionS2GSD = options.OptionS2GSD(\n",
    "                domain= domain, k= 3, weightKNN= 'distance',\n",
    "                features=features,\n",
    "                val_stations=val_stations,\n",
    "                dnn_type='a1'\n",
    "            )\n",
    "            modelS2GSD = station2gridSD_model.ModelS2GSD(optionS2GSD)\n",
    "            grids = modelS2GSD.test()\n",
    "\n",
    "            #---------------------------------------\n",
    "            # pick valid station from grids_hat \n",
    "            #---------------------------------------\n",
    "            valid_info = modelS2GSD.data.valid_info\n",
    "            valid_idxs = valid_info.index.values\n",
    "            val_rows = valid_info.row.values\n",
    "            val_cols = valid_info.col.values\n",
    "\n",
    "            y_true = modelS2GSD.data.x_raw[:,valid_idxs,0]\n",
    "            y_hat = grids[:,val_rows,val_cols,0]\n",
    "            group = modelS2GSD.group\n",
    "            val_station_names = val_stations.split('_')\n",
    "\n",
    "            result = get_predict_result(y_true, y_hat, group, val_station_names=val_station_names)\n",
    "\n",
    "            file_name = '---'.join([modelS2GSD.group, '.csv']) ###\n",
    "            path = os.path.join('../results', file_name) \n",
    "            result.to_csv(path, index=False)\n",
    "\n",
    "            ############################################################\n",
    "            K.clear_session() \n",
    "            gc.collect() \n",
    "            del modelS2GSD"
   ]
  },
  {
   "cell_type": "code",
   "execution_count": null,
   "metadata": {
    "collapsed": true
   },
   "outputs": [],
   "source": []
  },
  {
   "cell_type": "markdown",
   "metadata": {},
   "source": [
    "# s2gmd (station2grid multi domains)"
   ]
  },
  {
   "cell_type": "code",
   "execution_count": null,
   "metadata": {
    "ExecuteTime": {
     "end_time": "2020-06-22T17:02:50.727891Z",
     "start_time": "2020-06-22T16:58:39.931660Z"
    },
    "scrolled": false
   },
   "outputs": [],
   "source": [
    "composite_type_list = ['c0'] \n",
    "\n",
    "for composite_type in composite_type_list: \n",
    "    for val_stations in station_list: \n",
    "        for features in feature_list: \n",
    "            \n",
    "            #---------------------------------------\n",
    "            # train station2gridMD\n",
    "            #---------------------------------------  \n",
    "            optionS2GMD = options.OptionS2GMD(\n",
    "                features=features,\n",
    "                val_stations=val_stations,\n",
    "                batch_size=100, epochs=3,  \n",
    "                ae_type='code_length-4576', dnn_type='a1',\n",
    "                domains='air_3_distance~sat_3_distance', \n",
    "                composite_type=composite_type, \n",
    "            ) \n",
    "\n",
    "            print('#'*80)\n",
    "            print(vars(optionS2GMD))\n",
    "            \n",
    "            modelS2GMD = station2gridMD_model.ModelS2GMD(optionS2GMD)\n",
    "            modelS2GMD.train()\n",
    "\n",
    "            K.clear_session() \n",
    "            \n",
    "            #---------------------------------------\n",
    "            # infer station2gridMD\n",
    "            #---------------------------------------              \n",
    "            grids = modelS2GMD.test()\n",
    "            \n",
    "            \n",
    "            #---------------------------------------\n",
    "            # pick valid station from grids_hat \n",
    "            #---------------------------------------\n",
    "            valid_info = modelS2GMD.data.valid_info\n",
    "            valid_idxs = valid_info.index.values\n",
    "            val_rows = valid_info.row.values\n",
    "            val_cols = valid_info.col.values\n",
    "            \n",
    "            y_true = modelS2GMD.data.x_raw[:,valid_idxs,0]\n",
    "            y_hat = grids[:,val_rows,val_cols,0]\n",
    "            group = modelS2GMD.group\n",
    "            val_station_names = val_stations.split('_')\n",
    "            \n",
    "            result = get_predict_result(y_true, y_hat, group, val_station_names=val_station_names)\n",
    "            \n",
    "            file_name = ''.join([modelS2GMD.group, '.csv']) ###\n",
    "            path = os.path.join('../results', file_name) \n",
    "            result.to_csv(path, index=False)\n",
    "\n",
    "            ############################################################\n",
    "\n",
    "            K.clear_session() \n",
    "            gc.collect() \n",
    "            del modelS2GMD"
   ]
  }
 ],
 "metadata": {
  "kernelspec": {
   "display_name": "Python 3",
   "language": "python",
   "name": "python3"
  },
  "language_info": {
   "codemirror_mode": {
    "name": "ipython",
    "version": 3
   },
   "file_extension": ".py",
   "mimetype": "text/x-python",
   "name": "python",
   "nbconvert_exporter": "python",
   "pygments_lexer": "ipython3",
   "version": "3.6.5"
  },
  "toc": {
   "base_numbering": 1,
   "nav_menu": {},
   "number_sections": true,
   "sideBar": true,
   "skip_h1_title": false,
   "title_cell": "Table of Contents",
   "title_sidebar": "Contents",
   "toc_cell": false,
   "toc_position": {
    "height": "calc(100% - 180px)",
    "left": "10px",
    "top": "150px",
    "width": "165px"
   },
   "toc_section_display": true,
   "toc_window_display": true
  }
 },
 "nbformat": 4,
 "nbformat_minor": 2
}
