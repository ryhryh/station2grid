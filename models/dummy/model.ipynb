{
 "cells": [
  {
   "cell_type": "markdown",
   "metadata": {},
   "source": [
    "# option"
   ]
  },
  {
   "cell_type": "code",
   "execution_count": 1,
   "metadata": {
    "ExecuteTime": {
     "end_time": "2020-06-06T11:21:07.855777Z",
     "start_time": "2020-06-06T11:21:07.836835Z"
    },
    "collapsed": true
   },
   "outputs": [],
   "source": [
    "import os\n",
    "import argparse\n",
    "home=os.path.expanduser(\"~\")\n",
    "\n",
    "##########################################################################################  \n",
    "########################################################################################## \n",
    "class OptionG2C():\n",
    "    def __init__(self, model_name='grid2code', domain='air', k=5, weightKNN='distance', \n",
    "                 batch_size=10, epochs=5, ae_type='code_length-4576'):\n",
    "        self.model_name = model_name\n",
    "        self.domain = domain\n",
    "        self.k = k\n",
    "        self.weightKNN = weightKNN\n",
    "        self.batch_size = batch_size\n",
    "        self.epochs = epochs\n",
    "        self.ae_type = ae_type\n",
    "        \n",
    "class OptionS2C():\n",
    "    def __init__(self, model_name='station2code', features='pm25', val_stations='Chaozhou', \n",
    "                domain='air', k=5, weightKNN='distance', batch_size=10, epochs=5, \n",
    "                ae_type='code_length-4576', dnn_type='embedding-0~bn-1'):\n",
    "        self.model_name = model_name\n",
    "        self.features = features\n",
    "        self.val_stations = val_stations\n",
    "        self.domain = domain\n",
    "        self.k = k\n",
    "        self.weightKNN = weightKNN\n",
    "        self.batch_size = batch_size\n",
    "        self.epochs = epochs\n",
    "        self.ae_type = ae_type\n",
    "        self.dnn_type = dnn_type\n",
    "        \n",
    "        \n",
    "class OptionS2GSD():\n",
    "    def __init__(self, model_name='station2gridSD', features='pm25', val_stations='Chaozhou', \n",
    "                 domain='air', k=5, weightKNN='distance', \n",
    "                 ae_type='code_length-4576', dnn_type='embedding-0~bn-1'):\n",
    "        self.model_name = model_name\n",
    "        self.features = features\n",
    "        self.val_stations = val_stations\n",
    "        self.domain = domain\n",
    "        self.k = k\n",
    "        self.weightKNN = weightKNN\n",
    "        self.ae_type = ae_type\n",
    "        self.dnn_type = dnn_type\n",
    "            \n",
    "class OptionS2GMD():\n",
    "    def __init__(self, model_name='station2gridMD', features='pm25', val_stations='Chaozhou', \n",
    "                 batch_size=10, epochs=5, ae_type='code_length-4576', dnn_type='embedding-0~bn-1',\n",
    "                 domains='air_3_distance~sat_3_distance', composite_type='composite-conv~filter-8x8'):\n",
    "        self.model_name = model_name\n",
    "        self.features = features\n",
    "        self.val_stations = val_stations\n",
    "        self.batch_size = batch_size\n",
    "        self.epochs = epochs\n",
    "        self.ae_type = ae_type\n",
    "        self.dnn_type = dnn_type\n",
    "        self.domains = domains\n",
    "        self.composite_type = composite_type"
   ]
  },
  {
   "cell_type": "markdown",
   "metadata": {},
   "source": [
    "# datasets"
   ]
  },
  {
   "cell_type": "code",
   "execution_count": 2,
   "metadata": {
    "ExecuteTime": {
     "end_time": "2020-06-06T11:21:09.140815Z",
     "start_time": "2020-06-06T11:21:07.858791Z"
    },
    "collapsed": true
   },
   "outputs": [],
   "source": [
    "from glob import glob\n",
    "from random import randint\n",
    "import numpy as np\n",
    "import pandas as pd\n",
    "from sklearn.model_selection import train_test_split\n",
    "from abc import ABC, abstractmethod\n",
    "import os\n",
    "home = os.path.expanduser(\"~\")\n",
    "import sys\n",
    "sys.path.append(os.path.join(home, 'station2grid'))\n",
    "\n",
    "from tools import CommonObj\n",
    "##########################################################################################\n",
    "##########################################################################################\n",
    "class DataBase(ABC):\n",
    "    def __init__(self, opt):\n",
    "        self.opt = opt\n",
    "        self.setup()\n",
    "        \n",
    "    @abstractmethod\n",
    "    def setup(self): pass\n",
    "    \n",
    "    def set_base_dir(self):\n",
    "        source = 'domain_%s-k_%s-weightKNN_%s'%(self.opt.domain, self.opt.k, self.opt.weightKNN)\n",
    "        self.base_dir = os.path.join(home, 'station2grid', 'datasets', 'npy', self.opt.domain, source)       \n",
    "    \n",
    "    def set_generator(self):\n",
    "        self.x_train_paths, self.x_valid_paths, self.y_train_paths, self.y_valid_paths = \\\n",
    "        train_test_split(self.x_paths, self.y_paths ,test_size=0.2, random_state=42)     \n",
    "        \n",
    "        self.g_train = self.get_generator(self.x_train_paths, self.y_train_paths)\n",
    "        self.g_valid = self.get_generator(self.x_valid_paths, self.y_valid_paths) \n",
    "    \n",
    "    def get_generator(self, x_paths, y_paths):\n",
    "        while True:\n",
    "            batch_x = []\n",
    "            batch_y = []\n",
    "            for i in range(self.opt.batch_size):\n",
    "                j=randint(0, len(x_paths)-1)\n",
    "                \n",
    "                x_path = x_paths[j] \n",
    "                x_arr = self.x_path2arr(x_path)\n",
    "                batch_x.append(x_arr)\n",
    "                \n",
    "                y_path = y_paths[j] \n",
    "                y_arr = self.y_path2arr(y_path)\n",
    "                batch_y.append(y_arr)\n",
    "                \n",
    "            batch_x = np.concatenate(batch_x, axis=0)\n",
    "            batch_y = np.concatenate(batch_y, axis=0)\n",
    "            yield batch_x, batch_y\n",
    "            \n",
    "    def grid_path2arr(self, path):\n",
    "        arr = np.load(path)\n",
    "        arr = arr[...,:1]\n",
    "        arr = self.normalize(arr) \n",
    "        return arr\n",
    "            \n",
    "    def station_path2arr(self, path):\n",
    "        arr = np.load(path)\n",
    "        arr = arr[:, self.i_stations, :][..., self.i_features]\n",
    "        #arr = self.normalize(arr) ###normalize\n",
    "        return arr\n",
    "    \n",
    "    def code_path2arr(self, path):\n",
    "        arr = np.load(path)\n",
    "        arr = arr.reshape(1, -1)\n",
    "        return arr\n",
    "    \n",
    "    def normalize(self, arr):\n",
    "        norm_const = 100\n",
    "        arr = arr / norm_const\n",
    "        arr = arr.astype('float')\n",
    "        return arr\n",
    "    \n",
    "    def denormalize(self, arr):\n",
    "        norm_const = 100\n",
    "        arr = norm_const * arr\n",
    "        arr = arr.astype('float')\n",
    "        return arr\n",
    "    \n",
    "    def setup_i_stations(self):        \n",
    "        self.info = CommonObj().epa_station_info\n",
    "        val_stations = self.opt.val_stations.split('_') \n",
    "        c = self.info.SiteEngName.isin(val_stations)\n",
    "        self.train_info = self.info[~c]\n",
    "        self.valid_info = self.info[c]\n",
    "        \n",
    "        self.i_stations = self.train_info.index.tolist()\n",
    "        self.lats_lons = self.train_info[['row','col']].values \n",
    "        \n",
    "    def setup_i_features(self):\n",
    "        path = os.path.join(home,'station2grid','datasets','info','%s-features'%(self.opt.domain))\n",
    "        domain_features = pd.read_csv(path).feature.tolist()\n",
    "        features = self.opt.features.split('_')\n",
    "        self.i_features = [domain_features.index(feature) for feature in features]\n",
    "        #print(domain_features, features, self.i_features)\n",
    "\n",
    "##########################################################################################\n",
    "##########################################################################################        \n",
    "class DataG2C(DataBase):\n",
    "    def __init__(self, opt):\n",
    "        super().__init__(opt)\n",
    "        \n",
    "    def setup(self):\n",
    "        self.set_base_dir()\n",
    "        self.set_paths()\n",
    "        self.set_generator()\n",
    "    \n",
    "    def set_paths(self):\n",
    "        self.x_paths = sorted(glob(os.path.join(self.base_dir, 'grid', '*')))[:] ###\n",
    "        self.x_path2arr = self.grid_path2arr\n",
    "        self.y_paths = sorted(glob(os.path.join(self.base_dir, 'grid', '*')))[:] ###\n",
    "        self.y_path2arr = self.grid_path2arr\n",
    "        \n",
    "##########################################################################################\n",
    "##########################################################################################\n",
    "class DataS2C(DataBase):\n",
    "    def __init__(self, opt):\n",
    "        super().__init__(opt)\n",
    "        \n",
    "    def setup(self):\n",
    "        self.setup_i_stations()\n",
    "        self.setup_i_features()\n",
    "        \n",
    "        self.set_base_dir()\n",
    "        self.set_paths()\n",
    "        self.set_generator()\n",
    "    \n",
    "    def set_paths(self):\n",
    "        self.x_paths = sorted(glob(os.path.join(self.base_dir, 'station', '*_norm.npy'))) ###\n",
    "        self.x_path2arr = self.station_path2arr\n",
    "        self.y_paths = sorted(glob(os.path.join(self.base_dir, 'code', self.opt.ae_type, '*'))) \n",
    "        self.y_path2arr = self.code_path2arr\n",
    "               \n",
    "##########################################################################################\n",
    "##########################################################################################            \n",
    "class DataS2G(DataBase):\n",
    "    def __init__(self, opt):\n",
    "        super().__init__(opt)\n",
    "        \n",
    "    def setup(self):\n",
    "        self.setup_i_stations()\n",
    "        self.setup_i_features()\n",
    "    \n",
    "    def setup_i_features(self):\n",
    "        path = os.path.join(home,'station2grid','datasets','info','epa-features')\n",
    "        domain_features = pd.read_csv(path).feature.tolist()\n",
    "        \n",
    "        domain2epa = {\n",
    "            'pm25':'PM25',\n",
    "            'pm10':'PM10',\n",
    "            'temperature':'AMBTEMP',\n",
    "            #'humidity':'RH'\n",
    "        }\n",
    "        features=self.opt.features\n",
    "        for old in domain2epa: features = features.replace(old, domain2epa[old])\n",
    "        features = features.split('_')\n",
    "        \n",
    "        self.i_features = [domain_features.index(feature) for feature in features]\n",
    "    \n",
    "    \n",
    "    def setup_train(self):\n",
    "        path = os.path.join(home,'station2grid','datasets','npy','epa','train_epa_addmou.npy') \n",
    "        self.x_raw = np.load(path) \n",
    "        \n",
    "        path = os.path.join(home,'station2grid','datasets','npy','epa','train_epa_addmou_norm.npy') \n",
    "        self.x_raw_norm = np.load(path) ###\n",
    "        \n",
    "        self.x_all = self.x_raw_norm[:, self.i_stations, :][:, :, self.i_features] \n",
    "        self.y_all = self.x_raw_norm[:, self.i_stations, 0].reshape(-1, len(self.i_stations))\n",
    "        \n",
    "        self.x_train, self.x_valid, self.y_train, self.y_valid = \\\n",
    "        train_test_split(self.x_all, self.y_all, test_size=0.2, random_state=42)\n",
    "\n",
    "    def setup_test(self): \n",
    "        path = os.path.join(home,'station2grid','datasets','npy','epa','test_epa_addmou.npy') \n",
    "        self.x_raw = np.load(path)\n",
    "        self.x_raw_select = self.x_raw[:,self.i_stations,:][:,:,self.i_features] # x_raw_select\n",
    "                \n",
    "        path = os.path.join(home,'station2grid','datasets','npy','epa','test_epa_addmou_norm.npy') \n",
    "        self.x_norm = np.load(path)\n",
    "        self.x_norm_select = self.x_norm[:,self.i_stations,:][:,:,self.i_features]   # x_norm_select    \n",
    "\n",
    "        "
   ]
  },
  {
   "cell_type": "markdown",
   "metadata": {},
   "source": [
    "# networks"
   ]
  },
  {
   "cell_type": "code",
   "execution_count": 3,
   "metadata": {
    "ExecuteTime": {
     "end_time": "2020-06-06T11:21:10.491498Z",
     "start_time": "2020-06-06T11:21:09.144261Z"
    },
    "scrolled": true
   },
   "outputs": [
    {
     "name": "stderr",
     "output_type": "stream",
     "text": [
      "Using TensorFlow backend.\n"
     ]
    }
   ],
   "source": [
    "from keras.layers import Input, Flatten, Dense, Conv2D, MaxPooling2D, UpSampling2D, \\\n",
    "BatchNormalization, Activation, Lambda, Concatenate, Reshape\n",
    "\n",
    "from keras.models import Model, load_model\n",
    "from keras import backend as K\n",
    "\n",
    "import re\n",
    "import pandas as pd\n",
    "from glob import glob\n",
    "import os\n",
    "\n",
    "from tools import options, CommonObj\n",
    "\n",
    "home = os.path.expanduser(\"~\")\n",
    "info = CommonObj().epa_station_info\n",
    "n_all_stations = len(info)\n",
    "#########################################################################################################\n",
    "#########################################################################################################\n",
    "class DNN():\n",
    "    def __init__(self, opt):\n",
    "        self.opt = opt\n",
    "        self.setup()\n",
    "    \n",
    "    def setup(self):\n",
    "        self.n_val_stations = len(self.opt.val_stations.split('_')) \n",
    "        self.n_features = len(self.opt.features.split('_')) \n",
    "        self.parse()\n",
    "    \n",
    "    def parse(self):\n",
    "        key = 'code_length'\n",
    "        self.code_length = int(re.search('(~|^)%s-(.+?)(~|$)'%(key), self.opt.ae_type).group(2))\n",
    "        \n",
    "    def define_dnn(self):\n",
    "        num_station = n_all_stations - self.n_val_stations\n",
    "        \n",
    "        input_ = Input(shape=(num_station, self.n_features))\n",
    "         \n",
    "        if self.opt.dnn_type == 'a1': \n",
    "            x = Flatten()(input_)\n",
    "            x = Dense(300, activation='relu')(x) \n",
    "            \n",
    "        output_ = Dense(self.code_length, activation='linear')(x)\n",
    "        \n",
    "        model = Model(input_, output_)\n",
    "        model.compile(loss='mean_squared_error', optimizer='adam', metrics=['mae', 'mse'])\n",
    "        #model.summary() ###\n",
    "        return model\n",
    "    \n",
    "    def get_dnn(self, weight):\n",
    "        dnn = load_model(weight)\n",
    "        return dnn\n",
    "\n",
    "#########################################################################################################\n",
    "#########################################################################################################\n",
    "class Autoencoder():\n",
    "    def __init__(self, opt): \n",
    "        self.opt = opt\n",
    "        \n",
    "    def define_autoencoder(self):\n",
    "        input_shape = (348, 204, 1)\n",
    "        input_img = Input(shape=input_shape)  \n",
    "\n",
    "        x = Conv2D(16, (3, 3), activation='relu', padding='same')(input_img)\n",
    "        x = MaxPooling2D((2, 2), padding='same')(x)\n",
    "        x = Conv2D(8, (3, 3), activation='relu', padding='same')(x)\n",
    "        x = MaxPooling2D((2, 2), padding='same')(x)\n",
    "        x = Conv2D(4, (3, 3), activation='relu', padding='same')(x)\n",
    "        encoded = MaxPooling2D((2, 2), padding='same')(x)\n",
    "\n",
    "        x = Conv2D(4, (3, 3), activation='relu', padding='same')(encoded)\n",
    "        x = UpSampling2D((2, 2))(x)\n",
    "        x = Conv2D(8, (3, 3), activation='relu', padding='same')(x)\n",
    "        x = UpSampling2D((2, 2))(x)\n",
    "        x = Conv2D(16, (3, 3), activation='relu')(x)\n",
    "        x = UpSampling2D((2, 2))(x)\n",
    "        decoded = Conv2D(1, (3, 3), activation='sigmoid', padding='same')(x)\n",
    "\n",
    "        # autoencoder\n",
    "        autoencoder = Model(input_img, decoded)\n",
    "        autoencoder.compile(optimizer='adam', loss='binary_crossentropy')\n",
    "        return autoencoder\n",
    "        \n",
    "    def get_encoder(self, weight): \n",
    "        autoencoder = load_model(weight)\n",
    "        encoder = Model(autoencoder.input, autoencoder.layers[6].output)\n",
    "        return encoder\n",
    "    \n",
    "    def get_decoder(self, weight): \n",
    "        autoencoder = load_model(weight)\n",
    "        \n",
    "        input_decoder = Input(shape=(44, 26, 4))\n",
    "        x = autoencoder.layers[-7](input_decoder) \n",
    "        for i in range(6,(2)-1,-1):\n",
    "            x = autoencoder.layers[-i](x) \n",
    "        output_decoder = autoencoder.layers[-1](x) \n",
    "        decoder = Model(input_decoder, output_decoder)\n",
    "        return decoder\n",
    "    \n",
    "\n",
    "#########################################################################################################\n",
    "#########################################################################################################\n",
    "class CompositeNN():\n",
    "    def __init__(self, opt):\n",
    "        self.opt = opt\n",
    "        self.setup()\n",
    "\n",
    "    def setup(self):\n",
    "        self.n_val_stations = len(self.opt.val_stations.split('_')) \n",
    "        self.n_features = len(self.opt.features.split('_')) \n",
    "        self.domains = [x.split('_') for x in self.opt.domains.split('~')]\n",
    "        \n",
    "    def define_cnn(self, input_):\n",
    "        output_ = Conv2D(filters=1, kernel_size=(3,3), \n",
    "                         activation='relu', padding='same', name='conv')(input_)\n",
    "        return output_\n",
    "    \n",
    "    def define_cnn_test(self, input_):\n",
    "        x = Conv2D(16, (3, 3), activation='relu', padding='same')(input_)\n",
    "        x = MaxPooling2D((2, 2), padding='same')(x)\n",
    "        x = Conv2D(8, (3, 3), activation='relu', padding='same')(x)\n",
    "        x = MaxPooling2D((2, 2), padding='same')(x)\n",
    "        x = Conv2D(4, (3, 3), activation='relu', padding='same')(x)\n",
    "        encoded = MaxPooling2D((2, 2), padding='same')(x)\n",
    "\n",
    "        x = Conv2D(4, (3, 3), activation='relu', padding='same')(encoded)\n",
    "        x = UpSampling2D((2, 2))(x)\n",
    "        x = Conv2D(8, (3, 3), activation='relu', padding='same')(x)\n",
    "        x = UpSampling2D((2, 2))(x)\n",
    "        x = Conv2D(16, (3, 3), activation='relu')(x)\n",
    "        x = UpSampling2D((2, 2))(x)\n",
    "        decoded = Conv2D(1, (3, 3), activation='sigmoid', padding='same')(x)\n",
    "        return decoded \n",
    "    \n",
    "    def define_s2gMD(self, lats_lons):\n",
    "        input_shape = (n_all_stations - self.n_val_stations, self.n_features)\n",
    "        input_ = Input(shape=input_shape)\n",
    "        \n",
    "        grid_norm_MD = [self.get_gridSD(domain, k, weightKNN, input_) for (domain, k, weightKNN) in self.domains]\n",
    "        grid_norm_concat = Concatenate(name='concat_grid')(grid_norm_MD)\n",
    "        \n",
    "        x = BatchNormalization(name='bn')(grid_norm_concat) \n",
    "        \n",
    "        grid_hat = self.define_cnn_test(x) ###\n",
    "        \n",
    "        output_ = Lambda(self.select_from_grid, arguments={'lats_lons': lats_lons})(grid_hat)\n",
    "        \n",
    "        model = Model(input_, output_)\n",
    "        \n",
    "        for layer in model.layers: \n",
    "            if layer.name in ['s2c-air','c2g-air', 's2c-sat','c2g-sat']: layer.trainable = False ###\n",
    "        \n",
    "        model.compile(loss='mean_squared_error', optimizer='adam', metrics=['mae', 'mse'])\n",
    "        return model\n",
    "    \n",
    "    def get_s2gMD(self, weight):\n",
    "        s2gMD_model = load_model(weight, custom_objects={'select_from_grid': self.select_from_grid})\n",
    "        s2gMD_model_ = Model(s2gMD_model.input, s2gMD_model.layers[-2].output)\n",
    "        return s2gMD_model_\n",
    "    \n",
    "    def select_from_grid(self, input_arr, lats_lons):\n",
    "        epas=[input_arr[:, lat, lon, :] for lat,lon in lats_lons]\n",
    "        output_arr=K.concatenate(epas)\n",
    "        return output_arr\n",
    "    \n",
    "    def get_gridSD(self, domain, k, weightKNN, input_): \n",
    "        optionS2GSD = options.OptionS2GSD(\n",
    "            domain=domain, k=k, weightKNN=weightKNN, \n",
    "            features=self.opt.features, val_stations=self.opt.val_stations, \n",
    "            ae_type=self.opt.ae_type, dnn_type=self.opt.dnn_type)\n",
    "        \n",
    "        modelS2GSD = ModelS2GSD(optionS2GSD)\n",
    "        s2c_model = modelS2GSD.s2c_model \n",
    "        c2g_model = modelS2GSD.c2g_model\n",
    "        group = '_'.join([domain, k, weightKNN])\n",
    "        s2c_model.name = 's2c-%s'%(domain) ### 's2c-%s'%(group)\n",
    "        c2g_model.name = 'c2g-%s'%(domain) ### 'c2g-%s'%(group)\n",
    "        \n",
    "        code = s2c_model(input_)\n",
    "        code_reshape = Reshape(target_shape=(44, 26, 4))(code) \n",
    "        grid_norm = c2g_model(code_reshape)\n",
    "        return grid_norm \n",
    "    "
   ]
  },
  {
   "cell_type": "code",
   "execution_count": 4,
   "metadata": {
    "ExecuteTime": {
     "end_time": "2020-06-06T11:21:10.498132Z",
     "start_time": "2020-06-06T11:21:10.494702Z"
    },
    "collapsed": true
   },
   "outputs": [],
   "source": [
    "# name = 'conv1'\n",
    "# check = [(x in name) for x in ['bn','conv']]\n",
    "# any(check)"
   ]
  },
  {
   "cell_type": "markdown",
   "metadata": {},
   "source": [
    "# model"
   ]
  },
  {
   "cell_type": "markdown",
   "metadata": {},
   "source": [
    "## base"
   ]
  },
  {
   "cell_type": "code",
   "execution_count": 5,
   "metadata": {
    "ExecuteTime": {
     "end_time": "2020-06-06T11:21:10.609751Z",
     "start_time": "2020-06-06T11:21:10.500816Z"
    },
    "collapsed": true
   },
   "outputs": [],
   "source": [
    "from keras.callbacks import EarlyStopping, ModelCheckpoint\n",
    "\n",
    "from abc import ABC, abstractmethod\n",
    "from glob import glob\n",
    "import pandas as pd\n",
    "import os\n",
    "home=os.path.expanduser(\"~\")\n",
    "\n",
    "import multiprocessing\n",
    "\n",
    "\n",
    "class ModelBase(ABC):\n",
    "    def __init__(self): pass\n",
    "    \n",
    "    @abstractmethod\n",
    "    def setup(self): pass\n",
    "    \n",
    "    def train(self):\n",
    "        print('training')\n",
    "        g_train = self.data.g_train\n",
    "        g_valid = self.data.g_valid\n",
    "        callbacks = self.get_callbacks(min_delta=0, patience=20) ###\n",
    "        \n",
    "        self.history = self.model.fit_generator(\n",
    "            generator = g_train,\n",
    "            steps_per_epoch = (len(self.data.x_train_paths) // self.opt.batch_size),\n",
    "\n",
    "            validation_data = g_valid,\n",
    "            validation_steps = (len(self.data.x_valid_paths) // self.opt.batch_size),\n",
    "\n",
    "            epochs = self.opt.epochs,\n",
    "            verbose = 1, \n",
    "            callbacks = callbacks,\n",
    "\n",
    "            use_multiprocessing = True,\n",
    "            workers = multiprocessing.cpu_count(), # 32\n",
    "            max_queue_size = 10,\n",
    "        )\n",
    "        \n",
    "        self.save_history(self.history.history)\n",
    "        print('finish!')\n",
    "        \n",
    "    def set_path(self):\n",
    "        self.weight_path = os.path.join(\n",
    "            home, 'station2grid', 'weights', self.group+'---'+'best_weight.hdf5')\n",
    "        \n",
    "        self.history_path = os.path.join(\n",
    "            home, 'station2grid', 'weights', self.group+'---'+'history.csv')\n",
    "    \n",
    "    def set_group(self):\n",
    "        dic = vars(self.opt)\n",
    "        self.group = '--'.join(\n",
    "            [key+'-'+str(dic[key]) for key in dic if key not in ['epochs', 'batch_size']] ###\n",
    "        )\n",
    "        \n",
    "    def save_history(self, history):\n",
    "        df_history = pd.DataFrame(history)\n",
    "        df_history.to_csv(self.history_path, index=False)\n",
    "    \n",
    "    def get_callbacks(self, min_delta=0, patience=10):\n",
    "        early_stopping = EarlyStopping(\n",
    "            monitor='val_loss', mode='min', verbose=0, patience=patience, min_delta=min_delta) ### \n",
    "\n",
    "        checkpointer = ModelCheckpoint(\n",
    "            filepath=self.weight_path, verbose=0, period=1, monitor='val_loss', \n",
    "            save_best_only=True, mode='min')\n",
    "\n",
    "        callbacks = [early_stopping, checkpointer]\n",
    "        return callbacks\n",
    "        "
   ]
  },
  {
   "cell_type": "markdown",
   "metadata": {},
   "source": [
    "## g2c"
   ]
  },
  {
   "cell_type": "code",
   "execution_count": 6,
   "metadata": {
    "ExecuteTime": {
     "end_time": "2020-06-06T11:21:10.631790Z",
     "start_time": "2020-06-06T11:21:10.611790Z"
    },
    "collapsed": true
   },
   "outputs": [],
   "source": [
    "\n",
    "import os\n",
    "import numpy as np\n",
    "\n",
    "class ModelG2C(ModelBase):\n",
    "    def __init__(self, opt):\n",
    "        self.opt = opt\n",
    "        self.setup()\n",
    "        \n",
    "    def setup(self):\n",
    "        self.data = DataG2C(self.opt)\n",
    "        self.autoencoder = Autoencoder(self.opt)###\n",
    "        self.set_group()\n",
    "        self.set_path()\n",
    "        self.model = self.autoencoder.define_autoencoder()\n",
    "        \n",
    "    def test(self): \n",
    "        print('testing')        \n",
    "        weight = self.weight_path\n",
    "        encoder = self.autoencoder.get_encoder(weight)\n",
    "        \n",
    "        code_dir = os.path.join(self.data.base_dir, 'code', self.opt.ae_type)\n",
    "        os.makedirs(code_dir, exist_ok=True)\n",
    "        \n",
    "        grid_paths = self.data.x_paths\n",
    "        for grid_path in grid_paths[:]:\n",
    "            grid = self.data.grid_path2arr(grid_path)\n",
    "            code = encoder.predict(grid)\n",
    "            code_name = grid_path.split('/')[-1].replace('grid', 'code')\n",
    "            code_path = os.path.join(code_dir, code_name)\n",
    "            np.save(code_path, code)\n",
    "            print(code_path) ###\n",
    "        print('finish!')\n",
    "        "
   ]
  },
  {
   "cell_type": "markdown",
   "metadata": {},
   "source": [
    "## s2c"
   ]
  },
  {
   "cell_type": "code",
   "execution_count": 7,
   "metadata": {
    "ExecuteTime": {
     "end_time": "2020-06-06T11:21:10.742651Z",
     "start_time": "2020-06-06T11:21:10.633804Z"
    },
    "collapsed": true
   },
   "outputs": [],
   "source": [
    "\n",
    "\n",
    "class ModelS2C(ModelBase):\n",
    "    def __init__(self, opt):\n",
    "        self.opt = opt\n",
    "        self.setup()\n",
    "        \n",
    "    def setup(self):\n",
    "        self.data = DataS2C(self.opt)\n",
    "        self.dnn = DNN(self.opt)###\n",
    "        self.set_group()\n",
    "        self.set_path()\n",
    "        self.model = self.dnn.define_dnn()\n",
    "        \n",
    "        "
   ]
  },
  {
   "cell_type": "markdown",
   "metadata": {},
   "source": [
    "## s2gsd"
   ]
  },
  {
   "cell_type": "code",
   "execution_count": 8,
   "metadata": {
    "ExecuteTime": {
     "end_time": "2020-06-06T11:21:10.844967Z",
     "start_time": "2020-06-06T11:21:10.744814Z"
    },
    "collapsed": true
   },
   "outputs": [],
   "source": [
    "\n",
    "import os\n",
    "home=os.path.expanduser(\"~\")\n",
    "\n",
    "\n",
    "class ModelS2GSD(ModelBase):\n",
    "    def __init__(self, opt):\n",
    "        self.opt = opt\n",
    "        self.setup()    \n",
    "        \n",
    "    def setup(self):\n",
    "        self.data = DataS2G(self.opt)\n",
    "        self.set_group()\n",
    "        \n",
    "        optionS2C = options.OptionS2C(domain=self.opt.domain, \n",
    "                                      k=self.opt.k, \n",
    "                                      weightKNN=self.opt.weightKNN, \n",
    "                                      features=self.opt.features, \n",
    "                                      val_stations=self.opt.val_stations, \n",
    "                                      ae_type=self.opt.ae_type, \n",
    "                                      dnn_type=self.opt.dnn_type)   \n",
    "        \n",
    "        modelS2C = ModelS2C(optionS2C)###\n",
    "        #print(modelS2C.weight_path)\n",
    "        self.s2c_model = modelS2C.dnn.get_dnn(modelS2C.weight_path)\n",
    "        \n",
    "        optionG2C = options.OptionG2C(domain=self.opt.domain, \n",
    "                                      k=self.opt.k, \n",
    "                                      weightKNN=self.opt.weightKNN, \n",
    "                                      ae_type=self.opt.ae_type, )  \n",
    "        modelG2C = ModelG2C(optionG2C)###\n",
    "        #print(modelG2C.weight_path)\n",
    "        self.c2g_model = modelG2C.autoencoder.get_decoder(modelG2C.weight_path)\n",
    "        \n",
    "    def test(self): \n",
    "        print('testing')\n",
    "        self.data.setup_test()\n",
    "        self.stations = self.data.x_norm_select\n",
    "        \n",
    "        codes = self.s2c_model.predict(self.stations)\n",
    "        codes = codes.reshape(-1, 44, 26, 4)\n",
    "        \n",
    "        grids_norm = self.c2g_model.predict(codes)\n",
    "        grids_denorm = self.data.denormalize(grids_norm)\n",
    "        \n",
    "        print('finish')\n",
    "        return grids_denorm\n"
   ]
  },
  {
   "cell_type": "markdown",
   "metadata": {},
   "source": [
    "## s2gmd"
   ]
  },
  {
   "cell_type": "code",
   "execution_count": 9,
   "metadata": {
    "ExecuteTime": {
     "end_time": "2020-06-06T11:21:10.868411Z",
     "start_time": "2020-06-06T11:21:10.847809Z"
    },
    "collapsed": true
   },
   "outputs": [],
   "source": [
    "\n",
    "import pandas as pd\n",
    "import os\n",
    "from glob import glob\n",
    "import numpy as np\n",
    "home=os.path.expanduser(\"~\")\n",
    "\n",
    "\n",
    "class ModelS2GMD(ModelBase):\n",
    "    def __init__(self, opt):\n",
    "        self.opt = opt\n",
    "        self.setup() \n",
    "       \n",
    "    def setup(self): \n",
    "        self.data = DataS2G(self.opt)\n",
    "        self.compositeNN = CompositeNN(self.opt)\n",
    "        self.set_group()\n",
    "        self.set_path()\n",
    "    \n",
    "    def train(self): \n",
    "        print('training...')\n",
    "        \n",
    "        self.data.setup_train() ###\n",
    "        x_train, y_train = self.data.x_train, self.data.y_train\n",
    "        x_valid, y_valid = self.data.x_valid, self.data.y_valid\n",
    "        \n",
    "        s2gMD_model = self.compositeNN.define_s2gMD(self.data.lats_lons)\n",
    "        s2gMD_model.summary()\n",
    "        \n",
    "        callbacks = self.get_callbacks(min_delta=1/10000, patience=10) ###\n",
    "        self.history = s2gMD_model.fit(\n",
    "            x=x_train, \n",
    "            y=y_train,\n",
    "            validation_data=(x_valid, y_valid),\n",
    "            verbose=1, ###\n",
    "            batch_size=self.opt.batch_size,\n",
    "            epochs=self.opt.epochs,\n",
    "            shuffle=False,\n",
    "            callbacks=callbacks)\n",
    "        \n",
    "        self.save_history(self.history.history)\n",
    "        print('finish!')\n",
    "    \n",
    "    def test(self): \n",
    "        print('testing...')\n",
    "        self.data.setup_test()\n",
    "        self.stations = self.data.x_norm_select\n",
    "        \n",
    "        s2gMD_model = self.compositeNN.get_s2gMD(self.weight_path)\n",
    "        grids = s2gMD_model.predict(self.stations)\n",
    "        grids = self.data.denormalize(grids) ###\n",
    "        print('finish!')\n",
    "        return grids\n",
    "    \n"
   ]
  },
  {
   "cell_type": "markdown",
   "metadata": {},
   "source": [
    "# plot"
   ]
  },
  {
   "cell_type": "code",
   "execution_count": 10,
   "metadata": {
    "ExecuteTime": {
     "end_time": "2020-06-06T11:21:10.894431Z",
     "start_time": "2020-06-06T11:21:10.871165Z"
    },
    "collapsed": true
   },
   "outputs": [],
   "source": [
    "import matplotlib.pyplot as plt\n",
    "from mpl_toolkits.basemap import Basemap\n",
    "from matplotlib.patches import Path, PathPatch\n",
    "from tools.knn_model import KnnModel\n",
    "\n",
    "def plotMap(ax,\n",
    "            lats, lons, vals,\n",
    "            title, title_size=18,\n",
    "            latMin=21, latMax=26, lonMin=119, lonMax=123,\n",
    "            bar_min=0, bar_max=70):    \n",
    "    \n",
    "    m = Basemap(projection='merc',\n",
    "                llcrnrlat=latMin, urcrnrlat=latMax, llcrnrlon=lonMin, urcrnrlon=lonMax,\n",
    "                lat_ts=20, resolution='i', ax=ax)\n",
    "    \n",
    "    parallels = [num for num in range(latMin,latMax)] # np.arange(21.,27.,1.0)\n",
    "    meridians = [num for num in range(lonMin,lonMax)] # np.arange(118.,124.,1.0)\n",
    "    m.drawparallels(parallels,labels=[0,0,0,0],linewidth=0.1) # 1,0,0,0\n",
    "    m.drawmeridians(meridians,labels=[0,0,0,0],linewidth=0.1) # 0,0,0,1\n",
    "    m.drawcoastlines()\n",
    "    m.drawcountries()\n",
    "    \n",
    "    x, y = m(lons, lats)\n",
    "    cmap = plt.cm.get_cmap('Reds')\n",
    "    sc = ax.scatter(x, y, c=vals, vmin=bar_min, vmax=bar_max, cmap=cmap, s=50, edgecolors='none')\n",
    "    cbar = plt.colorbar(sc, ax=ax)\n",
    "    ax.set_title(title, fontdict={'fontsize': title_size})\n",
    "    \n",
    "    # mask area outside Taiwan\n",
    "    x0,x1 = ax.get_xlim()\n",
    "    y0,y1 = ax.get_ylim()\n",
    "    map_edges = np.array([[x0,y0],[x1,y0],[x1,y1],[x0,y1]])\n",
    "    polys = [p.boundary for p in m.landpolygons]\n",
    "    polys = [map_edges]+polys[:]\n",
    "    codes = [ [Path.MOVETO]+[Path.LINETO for p in p[1:]] for p in polys]\n",
    "    polys_lin = [v for p in polys for v in p]\n",
    "    codes_lin = [xx for cs in codes for xx in cs]\n",
    "    path = Path(polys_lin, codes_lin)\n",
    "    patch = PathPatch(path,facecolor='white', lw=0)\n",
    "    ax.add_patch(patch) "
   ]
  },
  {
   "cell_type": "markdown",
   "metadata": {},
   "source": [
    "# mse"
   ]
  },
  {
   "cell_type": "code",
   "execution_count": 11,
   "metadata": {
    "ExecuteTime": {
     "end_time": "2020-06-06T11:21:10.910406Z",
     "start_time": "2020-06-06T11:21:10.896982Z"
    },
    "collapsed": true
   },
   "outputs": [],
   "source": [
    "from sklearn.metrics import mean_squared_error\n",
    "\n",
    "def get_predict_result(y_true, y_hat, group, val_station_names=['Tainan','Taitung']):\n",
    "        \n",
    "    dts=pd.date_range(start='2019', end='2020', periods=None, freq='H', closed='left')\n",
    "\n",
    "    a = pd.DataFrame(y_true)\n",
    "    a.columns = val_station_names\n",
    "    a['is_real'] = 'real'\n",
    "    a['dt'] = dts\n",
    "\n",
    "    b = pd.DataFrame(y_hat)\n",
    "    b.columns = val_station_names\n",
    "    b['is_real'] = 'predict'\n",
    "    b['dt'] = dts\n",
    "\n",
    "    c = pd.concat([a,b], axis=0)\n",
    "    c['group'] = group\n",
    "    \n",
    "    c_melt = pd.melt(c, id_vars=['group', 'dt', 'is_real'], var_name='station', value_vars=val_station_names)\n",
    "\n",
    "    c_pt = pd.pivot_table(\n",
    "        c_melt, values='value', columns=['is_real'],\n",
    "        index=['group', 'station', 'dt']).reset_index(drop=False)\n",
    "    return c_pt"
   ]
  },
  {
   "cell_type": "markdown",
   "metadata": {},
   "source": [
    "# testing"
   ]
  },
  {
   "cell_type": "code",
   "execution_count": 12,
   "metadata": {
    "ExecuteTime": {
     "end_time": "2020-06-06T11:21:10.944287Z",
     "start_time": "2020-06-06T11:21:10.912655Z"
    },
    "collapsed": true
   },
   "outputs": [],
   "source": [
    "os.environ[\"CUDA_VISIBLE_DEVICES\"]='0' "
   ]
  },
  {
   "cell_type": "code",
   "execution_count": 13,
   "metadata": {
    "ExecuteTime": {
     "end_time": "2020-06-06T11:21:11.036946Z",
     "start_time": "2020-06-06T11:21:10.946589Z"
    },
    "collapsed": true
   },
   "outputs": [],
   "source": [
    "val_stations = 'Tainan'\n",
    "features = 'pm25'\n",
    "\n",
    "optionS2GSD = OptionS2GSD(features='pm25', val_stations=val_stations)\n",
    "dataS2G = DataS2G(optionS2GSD)\n",
    "model_knn = KnnModel(dataS2G)"
   ]
  },
  {
   "cell_type": "code",
   "execution_count": 14,
   "metadata": {
    "ExecuteTime": {
     "end_time": "2020-06-06T11:21:11.282358Z",
     "start_time": "2020-06-06T11:21:11.039023Z"
    }
   },
   "outputs": [
    {
     "data": {
      "text/plain": [
       "(8760, 76, 1)"
      ]
     },
     "execution_count": 14,
     "metadata": {},
     "output_type": "execute_result"
    }
   ],
   "source": [
    "dataS2G.setup_test()\n",
    "dataS2G.x_raw_select.shape"
   ]
  },
  {
   "cell_type": "code",
   "execution_count": 15,
   "metadata": {
    "ExecuteTime": {
     "end_time": "2020-06-06T11:21:13.828846Z",
     "start_time": "2020-06-06T11:21:11.284361Z"
    },
    "scrolled": true
   },
   "outputs": [
    {
     "data": {
      "image/png": "[encoded data removed]",
      "text/plain": [
       "<matplotlib.figure.Figure at 0x7f526c07c588>"
      ]
     },
     "metadata": {},
     "output_type": "display_data"
    }
   ],
   "source": [
    "j = 300\n",
    "nrows, ncols = 1, 1\n",
    "fig, ax = plt.subplots(nrows, ncols, figsize=(8, 4))\n",
    "lats = dataS2G.train_info.lat.values\n",
    "lons = dataS2G.train_info.lon.values\n",
    "vals = dataS2G.x_raw_select[j].reshape(-1)\n",
    "title = 'station'\n",
    "plotMap(ax, lats, lons, vals, title, title_size=30)"
   ]
  },
  {
   "cell_type": "code",
   "execution_count": 16,
   "metadata": {
    "ExecuteTime": {
     "end_time": "2020-06-06T11:21:13.833384Z",
     "start_time": "2020-06-06T11:21:13.831025Z"
    },
    "collapsed": true,
    "scrolled": true
   },
   "outputs": [],
   "source": [
    "# nrows, ncols = 2, 2\n",
    "# fig, axs = plt.subplots(nrows, ncols, figsize=(15, 8))\n",
    "# for row in range(nrows):\n",
    "#     for col in range(ncols):\n",
    "#         lats = dataS2G.train_info.lat.values\n",
    "#         lons = dataS2G.train_info.lon.values\n",
    "#         ax = axs[row, col]\n",
    "#         vals = img_matrix[row][col]\n",
    "#         plotMap(ax, lats, lons, vals, title, title_size=30)\n",
    "        \n",
    "# plt.show()"
   ]
  },
  {
   "cell_type": "code",
   "execution_count": null,
   "metadata": {
    "collapsed": true
   },
   "outputs": [],
   "source": []
  },
  {
   "cell_type": "markdown",
   "metadata": {},
   "source": [
    "## s2c"
   ]
  },
  {
   "cell_type": "code",
   "execution_count": 17,
   "metadata": {
    "ExecuteTime": {
     "end_time": "2020-06-06T11:21:13.853891Z",
     "start_time": "2020-06-06T11:21:13.835112Z"
    },
    "collapsed": true,
    "scrolled": true
   },
   "outputs": [],
   "source": [
    "# for domain in ['air','sat']:\n",
    "#     optionS2C = OptionS2C(\n",
    "#         domain= domain, k= 3, weightKNN= 'distance',\n",
    "#         batch_size=300, \n",
    "#         epochs=300, ###\n",
    "#         features=features,\n",
    "#         val_stations=val_stations,\n",
    "#         dnn_type='a1'\n",
    "#     )\n",
    "#     print('#'*80)\n",
    "#     print(vars(optionS2C))\n",
    "#     modelS2C = ModelS2C(optionS2C)\n",
    "#     modelS2C.train()\n",
    "\n",
    "#     K.clear_session() "
   ]
  },
  {
   "cell_type": "code",
   "execution_count": null,
   "metadata": {
    "collapsed": true
   },
   "outputs": [],
   "source": []
  },
  {
   "cell_type": "code",
   "execution_count": null,
   "metadata": {
    "collapsed": true
   },
   "outputs": [],
   "source": []
  },
  {
   "cell_type": "markdown",
   "metadata": {},
   "source": [
    "## s2gsd"
   ]
  },
  {
   "cell_type": "code",
   "execution_count": 18,
   "metadata": {
    "ExecuteTime": {
     "end_time": "2020-06-06T11:21:13.871988Z",
     "start_time": "2020-06-06T11:21:13.855583Z"
    },
    "collapsed": true
   },
   "outputs": [],
   "source": [
    "optionS2GSD = OptionS2GSD(\n",
    "    domain='air', k= 3, weightKNN= 'distance',\n",
    "    features=features,\n",
    "    val_stations=val_stations,\n",
    "    dnn_type='a1'\n",
    ")"
   ]
  },
  {
   "cell_type": "code",
   "execution_count": 19,
   "metadata": {
    "ExecuteTime": {
     "end_time": "2020-06-06T11:21:27.934295Z",
     "start_time": "2020-06-06T11:21:13.873993Z"
    },
    "scrolled": true
   },
   "outputs": [
    {
     "name": "stdout",
     "output_type": "stream",
     "text": [
      "testing\n",
      "finish\n"
     ]
    }
   ],
   "source": [
    "modelS2GSD = ModelS2GSD(optionS2GSD)\n",
    "grids_sd = modelS2GSD.test()"
   ]
  },
  {
   "cell_type": "code",
   "execution_count": 20,
   "metadata": {
    "ExecuteTime": {
     "end_time": "2020-06-06T11:21:32.250310Z",
     "start_time": "2020-06-06T11:21:27.936464Z"
    }
   },
   "outputs": [
    {
     "data": {
      "image/png": "[encoded data removed]",
      "text/plain": [
       "<matplotlib.figure.Figure at 0x7f51943ab7f0>"
      ]
     },
     "metadata": {},
     "output_type": "display_data"
    }
   ],
   "source": [
    "fig_num = 1\n",
    "ax = plt.subplot(1, fig_num, 1)\n",
    "lats = model_knn.coordinates[:,0]\n",
    "lons = model_knn.coordinates[:,1]\n",
    "vals = grids_sd[j,...].reshape(-1)\n",
    "title = 'grids_sd'\n",
    "plotMap(ax, lats, lons, vals, title, fig_num)"
   ]
  },
  {
   "cell_type": "code",
   "execution_count": 21,
   "metadata": {
    "ExecuteTime": {
     "end_time": "2020-06-06T11:21:32.257558Z",
     "start_time": "2020-06-06T11:21:32.253006Z"
    },
    "collapsed": true
   },
   "outputs": [],
   "source": [
    "valid_info = modelS2GSD.data.valid_info\n",
    "valid_idxs = valid_info.index.values\n",
    "val_rows = valid_info.row.values\n",
    "val_cols = valid_info.col.values"
   ]
  },
  {
   "cell_type": "code",
   "execution_count": 22,
   "metadata": {
    "ExecuteTime": {
     "end_time": "2020-06-06T11:21:32.369677Z",
     "start_time": "2020-06-06T11:21:32.259656Z"
    }
   },
   "outputs": [
    {
     "data": {
      "text/html": [
       "<div>\n",
       "<style scoped>\n",
       "    .dataframe tbody tr th:only-of-type {\n",
       "        vertical-align: middle;\n",
       "    }\n",
       "\n",
       "    .dataframe tbody tr th {\n",
       "        vertical-align: top;\n",
       "    }\n",
       "\n",
       "    .dataframe thead th {\n",
       "        text-align: right;\n",
       "    }\n",
       "</style>\n",
       "<table border=\"1\" class=\"dataframe\">\n",
       "  <thead>\n",
       "    <tr style=\"text-align: right;\">\n",
       "      <th>is_real</th>\n",
       "      <th>group</th>\n",
       "      <th>station</th>\n",
       "      <th>dt</th>\n",
       "      <th>predict</th>\n",
       "      <th>real</th>\n",
       "    </tr>\n",
       "  </thead>\n",
       "  <tbody>\n",
       "    <tr>\n",
       "      <th>0</th>\n",
       "      <td>model_name-station2gridSD--features-pm25--val_...</td>\n",
       "      <td>Tainan</td>\n",
       "      <td>2019-01-01 00:00:00</td>\n",
       "      <td>6.679486</td>\n",
       "      <td>17.0</td>\n",
       "    </tr>\n",
       "    <tr>\n",
       "      <th>1</th>\n",
       "      <td>model_name-station2gridSD--features-pm25--val_...</td>\n",
       "      <td>Tainan</td>\n",
       "      <td>2019-01-01 01:00:00</td>\n",
       "      <td>10.384362</td>\n",
       "      <td>20.0</td>\n",
       "    </tr>\n",
       "    <tr>\n",
       "      <th>2</th>\n",
       "      <td>model_name-station2gridSD--features-pm25--val_...</td>\n",
       "      <td>Tainan</td>\n",
       "      <td>2019-01-01 02:00:00</td>\n",
       "      <td>9.523227</td>\n",
       "      <td>14.0</td>\n",
       "    </tr>\n",
       "    <tr>\n",
       "      <th>3</th>\n",
       "      <td>model_name-station2gridSD--features-pm25--val_...</td>\n",
       "      <td>Tainan</td>\n",
       "      <td>2019-01-01 03:00:00</td>\n",
       "      <td>9.960392</td>\n",
       "      <td>15.0</td>\n",
       "    </tr>\n",
       "    <tr>\n",
       "      <th>4</th>\n",
       "      <td>model_name-station2gridSD--features-pm25--val_...</td>\n",
       "      <td>Tainan</td>\n",
       "      <td>2019-01-01 04:00:00</td>\n",
       "      <td>8.259117</td>\n",
       "      <td>10.0</td>\n",
       "    </tr>\n",
       "  </tbody>\n",
       "</table>\n",
       "</div>"
      ],
      "text/plain": [
       "is_real                                              group station  \\\n",
       "0        model_name-station2gridSD--features-pm25--val_...  Tainan   \n",
       "1        model_name-station2gridSD--features-pm25--val_...  Tainan   \n",
       "2        model_name-station2gridSD--features-pm25--val_...  Tainan   \n",
       "3        model_name-station2gridSD--features-pm25--val_...  Tainan   \n",
       "4        model_name-station2gridSD--features-pm25--val_...  Tainan   \n",
       "\n",
       "is_real                  dt    predict  real  \n",
       "0       2019-01-01 00:00:00   6.679486  17.0  \n",
       "1       2019-01-01 01:00:00  10.384362  20.0  \n",
       "2       2019-01-01 02:00:00   9.523227  14.0  \n",
       "3       2019-01-01 03:00:00   9.960392  15.0  \n",
       "4       2019-01-01 04:00:00   8.259117  10.0  "
      ]
     },
     "execution_count": 22,
     "metadata": {},
     "output_type": "execute_result"
    }
   ],
   "source": [
    "y_true = modelS2GSD.data.x_raw[:,valid_idxs,0]\n",
    "y_hat = grids_sd[:,val_rows,val_cols,0]\n",
    "group = modelS2GSD.group\n",
    "val_station_names = val_stations.split('_')\n",
    "\n",
    "predict_result = get_predict_result(y_true, y_hat, group, val_station_names=val_station_names)\n",
    "predict_result.head()"
   ]
  },
  {
   "cell_type": "code",
   "execution_count": 23,
   "metadata": {
    "ExecuteTime": {
     "end_time": "2020-06-06T11:21:32.377333Z",
     "start_time": "2020-06-06T11:21:32.371807Z"
    }
   },
   "outputs": [
    {
     "data": {
      "text/plain": [
       "31.260582939335354"
      ]
     },
     "execution_count": 23,
     "metadata": {},
     "output_type": "execute_result"
    }
   ],
   "source": [
    "mean_squared_error(predict_result.predict, predict_result.real)"
   ]
  },
  {
   "cell_type": "code",
   "execution_count": 24,
   "metadata": {
    "ExecuteTime": {
     "end_time": "2020-06-06T11:21:32.673102Z",
     "start_time": "2020-06-06T11:21:32.379290Z"
    }
   },
   "outputs": [
    {
     "data": {
      "text/plain": [
       "<matplotlib.axes._subplots.AxesSubplot at 0x7f51d13eb278>"
      ]
     },
     "execution_count": 24,
     "metadata": {},
     "output_type": "execute_result"
    },
    {
     "data": {
      "image/png": "[encoded data removed]",
      "text/plain": [
       "<matplotlib.figure.Figure at 0x7f51d1538898>"
      ]
     },
     "metadata": {},
     "output_type": "display_data"
    }
   ],
   "source": [
    "predict_result.plot(y=['real','predict',])"
   ]
  },
  {
   "cell_type": "code",
   "execution_count": 25,
   "metadata": {
    "ExecuteTime": {
     "end_time": "2020-06-06T11:21:32.683039Z",
     "start_time": "2020-06-06T11:21:32.675957Z"
    },
    "collapsed": true
   },
   "outputs": [],
   "source": [
    "K.clear_session() "
   ]
  },
  {
   "cell_type": "markdown",
   "metadata": {},
   "source": [
    "## s2gmd"
   ]
  },
  {
   "cell_type": "code",
   "execution_count": 26,
   "metadata": {
    "ExecuteTime": {
     "end_time": "2020-06-06T11:21:32.702770Z",
     "start_time": "2020-06-06T11:21:32.685155Z"
    },
    "collapsed": true
   },
   "outputs": [],
   "source": [
    "composite_type = 'c0'\n",
    "\n",
    "optionS2GMD = OptionS2GMD(\n",
    "    features=features,\n",
    "    val_stations=val_stations,\n",
    "    batch_size=50, epochs=10, ### \n",
    "    ae_type='code_length-4576', dnn_type='a1',\n",
    "    domains='air_3_distance~sat_3_distance', \n",
    "    composite_type=composite_type, ###\n",
    ") "
   ]
  },
  {
   "cell_type": "code",
   "execution_count": 27,
   "metadata": {
    "ExecuteTime": {
     "end_time": "2020-06-06T11:21:32.736031Z",
     "start_time": "2020-06-06T11:21:32.705434Z"
    },
    "collapsed": true
   },
   "outputs": [],
   "source": [
    "modelS2GMD = ModelS2GMD(optionS2GMD)"
   ]
  },
  {
   "cell_type": "code",
   "execution_count": 28,
   "metadata": {
    "ExecuteTime": {
     "end_time": "2020-06-06T11:21:32.754025Z",
     "start_time": "2020-06-06T11:21:32.738535Z"
    },
    "collapsed": true,
    "scrolled": true
   },
   "outputs": [],
   "source": [
    "# modelS2GMD.train()"
   ]
  },
  {
   "cell_type": "code",
   "execution_count": 29,
   "metadata": {
    "ExecuteTime": {
     "end_time": "2020-06-06T11:21:32.986611Z",
     "start_time": "2020-06-06T11:21:32.756467Z"
    },
    "scrolled": true
   },
   "outputs": [
    {
     "data": {
      "text/plain": [
       "<matplotlib.axes._subplots.AxesSubplot at 0x7f51d22ce668>"
      ]
     },
     "execution_count": 29,
     "metadata": {},
     "output_type": "execute_result"
    },
    {
     "data": {
      "image/png": "[encoded data removed]",
      "text/plain": [
       "<matplotlib.figure.Figure at 0x7f51d22e20f0>"
      ]
     },
     "metadata": {},
     "output_type": "display_data"
    }
   ],
   "source": [
    "pd.read_csv(modelS2GMD.history_path).plot(y=['loss','val_loss'])"
   ]
  },
  {
   "cell_type": "code",
   "execution_count": 30,
   "metadata": {
    "ExecuteTime": {
     "end_time": "2020-06-06T11:21:49.339866Z",
     "start_time": "2020-06-06T11:21:32.988586Z"
    }
   },
   "outputs": [
    {
     "name": "stdout",
     "output_type": "stream",
     "text": [
      "testing...\n"
     ]
    },
    {
     "name": "stderr",
     "output_type": "stream",
     "text": [
      "/media/disk3/feynman52/.pyenv/versions/3.6.5/lib/python3.6/site-packages/keras/engine/saving.py:327: UserWarning: Error in loading the saved optimizer state. As a result, your model is starting with a freshly initialized optimizer.\n",
      "  warnings.warn('Error in loading the saved optimizer '\n"
     ]
    },
    {
     "name": "stdout",
     "output_type": "stream",
     "text": [
      "finish!\n"
     ]
    }
   ],
   "source": [
    "grids_md = modelS2GMD.test()"
   ]
  },
  {
   "cell_type": "code",
   "execution_count": 31,
   "metadata": {
    "ExecuteTime": {
     "end_time": "2020-06-06T11:21:53.803156Z",
     "start_time": "2020-06-06T11:21:49.341952Z"
    }
   },
   "outputs": [
    {
     "data": {
      "image/png": "[encoded data removed]",
      "text/plain": [
       "<matplotlib.figure.Figure at 0x7f515c7a0a58>"
      ]
     },
     "metadata": {},
     "output_type": "display_data"
    }
   ],
   "source": [
    "nrows, ncols = 1, 1\n",
    "fig, ax = plt.subplots(nrows, ncols, figsize=(8, 4))\n",
    "lats = model_knn.coordinates[:,0]\n",
    "lons = model_knn.coordinates[:,1]\n",
    "vals = grids_md[j,...].reshape(-1)\n",
    "title = 'grids_md'\n",
    "plotMap(ax, lats, lons, vals, title, title_size=30)"
   ]
  },
  {
   "cell_type": "code",
   "execution_count": 32,
   "metadata": {
    "ExecuteTime": {
     "end_time": "2020-06-06T11:21:53.809616Z",
     "start_time": "2020-06-06T11:21:53.805459Z"
    },
    "collapsed": true
   },
   "outputs": [],
   "source": [
    "valid_info = modelS2GMD.data.valid_info\n",
    "valid_idxs = valid_info.index.values\n",
    "val_rows = valid_info.row.values\n",
    "val_cols = valid_info.col.values"
   ]
  },
  {
   "cell_type": "code",
   "execution_count": 33,
   "metadata": {
    "ExecuteTime": {
     "end_time": "2020-06-06T11:21:53.923281Z",
     "start_time": "2020-06-06T11:21:53.811605Z"
    },
    "scrolled": true
   },
   "outputs": [
    {
     "data": {
      "text/html": [
       "<div>\n",
       "<style scoped>\n",
       "    .dataframe tbody tr th:only-of-type {\n",
       "        vertical-align: middle;\n",
       "    }\n",
       "\n",
       "    .dataframe tbody tr th {\n",
       "        vertical-align: top;\n",
       "    }\n",
       "\n",
       "    .dataframe thead th {\n",
       "        text-align: right;\n",
       "    }\n",
       "</style>\n",
       "<table border=\"1\" class=\"dataframe\">\n",
       "  <thead>\n",
       "    <tr style=\"text-align: right;\">\n",
       "      <th>is_real</th>\n",
       "      <th>group</th>\n",
       "      <th>station</th>\n",
       "      <th>dt</th>\n",
       "      <th>predict</th>\n",
       "      <th>real</th>\n",
       "    </tr>\n",
       "  </thead>\n",
       "  <tbody>\n",
       "    <tr>\n",
       "      <th>0</th>\n",
       "      <td>model_name-station2gridMD--features-pm25--val_...</td>\n",
       "      <td>Tainan</td>\n",
       "      <td>2019-01-01 00:00:00</td>\n",
       "      <td>8.411392</td>\n",
       "      <td>17.0</td>\n",
       "    </tr>\n",
       "    <tr>\n",
       "      <th>1</th>\n",
       "      <td>model_name-station2gridMD--features-pm25--val_...</td>\n",
       "      <td>Tainan</td>\n",
       "      <td>2019-01-01 01:00:00</td>\n",
       "      <td>11.652475</td>\n",
       "      <td>20.0</td>\n",
       "    </tr>\n",
       "    <tr>\n",
       "      <th>2</th>\n",
       "      <td>model_name-station2gridMD--features-pm25--val_...</td>\n",
       "      <td>Tainan</td>\n",
       "      <td>2019-01-01 02:00:00</td>\n",
       "      <td>10.540440</td>\n",
       "      <td>14.0</td>\n",
       "    </tr>\n",
       "    <tr>\n",
       "      <th>3</th>\n",
       "      <td>model_name-station2gridMD--features-pm25--val_...</td>\n",
       "      <td>Tainan</td>\n",
       "      <td>2019-01-01 03:00:00</td>\n",
       "      <td>10.146630</td>\n",
       "      <td>15.0</td>\n",
       "    </tr>\n",
       "    <tr>\n",
       "      <th>4</th>\n",
       "      <td>model_name-station2gridMD--features-pm25--val_...</td>\n",
       "      <td>Tainan</td>\n",
       "      <td>2019-01-01 04:00:00</td>\n",
       "      <td>8.514750</td>\n",
       "      <td>10.0</td>\n",
       "    </tr>\n",
       "  </tbody>\n",
       "</table>\n",
       "</div>"
      ],
      "text/plain": [
       "is_real                                              group station  \\\n",
       "0        model_name-station2gridMD--features-pm25--val_...  Tainan   \n",
       "1        model_name-station2gridMD--features-pm25--val_...  Tainan   \n",
       "2        model_name-station2gridMD--features-pm25--val_...  Tainan   \n",
       "3        model_name-station2gridMD--features-pm25--val_...  Tainan   \n",
       "4        model_name-station2gridMD--features-pm25--val_...  Tainan   \n",
       "\n",
       "is_real                  dt    predict  real  \n",
       "0       2019-01-01 00:00:00   8.411392  17.0  \n",
       "1       2019-01-01 01:00:00  11.652475  20.0  \n",
       "2       2019-01-01 02:00:00  10.540440  14.0  \n",
       "3       2019-01-01 03:00:00  10.146630  15.0  \n",
       "4       2019-01-01 04:00:00   8.514750  10.0  "
      ]
     },
     "execution_count": 33,
     "metadata": {},
     "output_type": "execute_result"
    }
   ],
   "source": [
    "y_true = modelS2GMD.data.x_raw[:,valid_idxs,0]\n",
    "y_hat = grids_md[:,val_rows,val_cols,0]\n",
    "group = modelS2GMD.group\n",
    "val_station_names = val_stations.split('_')\n",
    "\n",
    "predict_result = get_predict_result(y_true, y_hat, group, val_station_names=val_station_names)\n",
    "predict_result.head()"
   ]
  },
  {
   "cell_type": "code",
   "execution_count": 34,
   "metadata": {
    "ExecuteTime": {
     "end_time": "2020-06-06T11:21:53.930855Z",
     "start_time": "2020-06-06T11:21:53.925458Z"
    }
   },
   "outputs": [
    {
     "data": {
      "text/plain": [
       "37.877491804508864"
      ]
     },
     "execution_count": 34,
     "metadata": {},
     "output_type": "execute_result"
    }
   ],
   "source": [
    "mean_squared_error(predict_result.predict, predict_result.real)"
   ]
  },
  {
   "cell_type": "code",
   "execution_count": 35,
   "metadata": {
    "ExecuteTime": {
     "end_time": "2020-06-06T11:21:54.243932Z",
     "start_time": "2020-06-06T11:21:53.932916Z"
    }
   },
   "outputs": [
    {
     "data": {
      "text/plain": [
       "<matplotlib.axes._subplots.AxesSubplot at 0x7f515c586f28>"
      ]
     },
     "execution_count": 35,
     "metadata": {},
     "output_type": "execute_result"
    },
    {
     "data": {
      "image/png": "[encoded data removed]",
      "text/plain": [
       "<matplotlib.figure.Figure at 0x7f51d24969b0>"
      ]
     },
     "metadata": {},
     "output_type": "display_data"
    }
   ],
   "source": [
    "predict_result.plot(y=['real','predict',])"
   ]
  },
  {
   "cell_type": "code",
   "execution_count": 36,
   "metadata": {
    "ExecuteTime": {
     "end_time": "2020-06-06T11:21:54.254757Z",
     "start_time": "2020-06-06T11:21:54.246737Z"
    },
    "collapsed": true
   },
   "outputs": [],
   "source": [
    "K.clear_session() "
   ]
  },
  {
   "cell_type": "code",
   "execution_count": null,
   "metadata": {
    "collapsed": true
   },
   "outputs": [],
   "source": []
  },
  {
   "cell_type": "code",
   "execution_count": null,
   "metadata": {
    "collapsed": true
   },
   "outputs": [],
   "source": []
  },
  {
   "cell_type": "code",
   "execution_count": null,
   "metadata": {
    "collapsed": true
   },
   "outputs": [],
   "source": []
  },
  {
   "cell_type": "code",
   "execution_count": null,
   "metadata": {
    "collapsed": true
   },
   "outputs": [],
   "source": []
  },
  {
   "cell_type": "code",
   "execution_count": null,
   "metadata": {
    "collapsed": true
   },
   "outputs": [],
   "source": []
  },
  {
   "cell_type": "code",
   "execution_count": null,
   "metadata": {
    "collapsed": true
   },
   "outputs": [],
   "source": []
  },
  {
   "cell_type": "code",
   "execution_count": null,
   "metadata": {
    "collapsed": true
   },
   "outputs": [],
   "source": []
  },
  {
   "cell_type": "code",
   "execution_count": null,
   "metadata": {
    "collapsed": true
   },
   "outputs": [],
   "source": []
  }
 ],
 "metadata": {
  "kernelspec": {
   "display_name": "Python 3",
   "language": "python",
   "name": "python3"
  },
  "language_info": {
   "codemirror_mode": {
    "name": "ipython",
    "version": 3
   },
   "file_extension": ".py",
   "mimetype": "text/x-python",
   "name": "python",
   "nbconvert_exporter": "python",
   "pygments_lexer": "ipython3",
   "version": "3.6.5"
  },
  "toc": {
   "base_numbering": 1,
   "nav_menu": {},
   "number_sections": true,
   "sideBar": true,
   "skip_h1_title": false,
   "title_cell": "Table of Contents",
   "title_sidebar": "Contents",
   "toc_cell": false,
   "toc_position": {
    "height": "calc(100% - 180px)",
    "left": "10px",
    "top": "150px",
    "width": "165px"
   },
   "toc_section_display": true,
   "toc_window_display": true
  }
 },
 "nbformat": 4,
 "nbformat_minor": 2
}
